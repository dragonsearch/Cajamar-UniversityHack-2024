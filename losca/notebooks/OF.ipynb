{
 "cells": [
  {
   "cell_type": "code",
   "execution_count": 90,
   "metadata": {},
   "outputs": [],
   "source": [
    "import pandas as pd\n",
    "import matplotlib.pyplot as plt"
   ]
  },
  {
   "cell_type": "code",
   "execution_count": 91,
   "metadata": {},
   "outputs": [
    {
     "name": "stdout",
     "output_type": "stream",
     "text": [
      "<class 'pandas.core.frame.DataFrame'>\n",
      "RangeIndex: 205 entries, 0 to 204\n",
      "Data columns (total 8 columns):\n",
      " #   Column                Non-Null Count  Dtype         \n",
      "---  ------                --------------  -----         \n",
      " 0   Orden                 205 non-null    int64         \n",
      " 1   Número material       205 non-null    int64         \n",
      " 2   Texto breve material  205 non-null    object        \n",
      " 3   Lote                  205 non-null    object        \n",
      " 4   Fecha de inicio real  205 non-null    datetime64[ns]\n",
      " 5   Fecha de fin real     205 non-null    datetime64[ns]\n",
      " 6   Cantidad entregada    205 non-null    float64       \n",
      " 7   Unidad de medida      205 non-null    object        \n",
      "dtypes: datetime64[ns](2), float64(1), int64(2), object(3)\n",
      "memory usage: 12.9+ KB\n"
     ]
    }
   ],
   "source": [
    "of = pd.read_excel('../../data/raw/OF 123456.xlsx')\n",
    "\n",
    "of.info()"
   ]
  },
  {
   "cell_type": "code",
   "execution_count": 92,
   "metadata": {},
   "outputs": [
    {
     "data": {
      "text/html": [
       "<div>\n",
       "<style scoped>\n",
       "    .dataframe tbody tr th:only-of-type {\n",
       "        vertical-align: middle;\n",
       "    }\n",
       "\n",
       "    .dataframe tbody tr th {\n",
       "        vertical-align: top;\n",
       "    }\n",
       "\n",
       "    .dataframe thead th {\n",
       "        text-align: right;\n",
       "    }\n",
       "</style>\n",
       "<table border=\"1\" class=\"dataframe\">\n",
       "  <thead>\n",
       "    <tr style=\"text-align: right;\">\n",
       "      <th></th>\n",
       "      <th>Orden</th>\n",
       "      <th>Número material</th>\n",
       "      <th>Texto breve material</th>\n",
       "      <th>Lote</th>\n",
       "      <th>Fecha de inicio real</th>\n",
       "      <th>Fecha de fin real</th>\n",
       "      <th>Cantidad entregada</th>\n",
       "      <th>Unidad de medida</th>\n",
       "    </tr>\n",
       "  </thead>\n",
       "  <tbody>\n",
       "    <tr>\n",
       "      <th>0</th>\n",
       "      <td>200178572</td>\n",
       "      <td>123456</td>\n",
       "      <td>MATERIAL DESCRITION</td>\n",
       "      <td>23/019</td>\n",
       "      <td>2023-04-24</td>\n",
       "      <td>2023-04-24</td>\n",
       "      <td>13.8</td>\n",
       "      <td>L</td>\n",
       "    </tr>\n",
       "    <tr>\n",
       "      <th>1</th>\n",
       "      <td>200179217</td>\n",
       "      <td>123456</td>\n",
       "      <td>MATERIAL DESCRITION</td>\n",
       "      <td>23/020</td>\n",
       "      <td>2023-04-24</td>\n",
       "      <td>2023-04-24</td>\n",
       "      <td>13.6</td>\n",
       "      <td>L</td>\n",
       "    </tr>\n",
       "    <tr>\n",
       "      <th>2</th>\n",
       "      <td>200181620</td>\n",
       "      <td>123456</td>\n",
       "      <td>MATERIAL DESCRITION</td>\n",
       "      <td>23/021</td>\n",
       "      <td>2023-04-25</td>\n",
       "      <td>2023-04-25</td>\n",
       "      <td>13.5</td>\n",
       "      <td>L</td>\n",
       "    </tr>\n",
       "    <tr>\n",
       "      <th>3</th>\n",
       "      <td>200182428</td>\n",
       "      <td>123456</td>\n",
       "      <td>MATERIAL DESCRITION</td>\n",
       "      <td>23/022</td>\n",
       "      <td>2023-04-25</td>\n",
       "      <td>2023-04-25</td>\n",
       "      <td>13.8</td>\n",
       "      <td>L</td>\n",
       "    </tr>\n",
       "    <tr>\n",
       "      <th>4</th>\n",
       "      <td>200182429</td>\n",
       "      <td>123456</td>\n",
       "      <td>MATERIAL DESCRITION</td>\n",
       "      <td>23/023</td>\n",
       "      <td>2023-05-02</td>\n",
       "      <td>2023-05-02</td>\n",
       "      <td>13.7</td>\n",
       "      <td>L</td>\n",
       "    </tr>\n",
       "  </tbody>\n",
       "</table>\n",
       "</div>"
      ],
      "text/plain": [
       "       Orden  Número material Texto breve material    Lote  \\\n",
       "0  200178572           123456  MATERIAL DESCRITION  23/019   \n",
       "1  200179217           123456  MATERIAL DESCRITION  23/020   \n",
       "2  200181620           123456  MATERIAL DESCRITION  23/021   \n",
       "3  200182428           123456  MATERIAL DESCRITION  23/022   \n",
       "4  200182429           123456  MATERIAL DESCRITION  23/023   \n",
       "\n",
       "  Fecha de inicio real Fecha de fin real  Cantidad entregada Unidad de medida  \n",
       "0           2023-04-24        2023-04-24                13.8                L  \n",
       "1           2023-04-24        2023-04-24                13.6                L  \n",
       "2           2023-04-25        2023-04-25                13.5                L  \n",
       "3           2023-04-25        2023-04-25                13.8                L  \n",
       "4           2023-05-02        2023-05-02                13.7                L  "
      ]
     },
     "execution_count": 92,
     "metadata": {},
     "output_type": "execute_result"
    }
   ],
   "source": [
    "of.head()"
   ]
  },
  {
   "cell_type": "markdown",
   "metadata": {},
   "source": [
    "# Sanity checks"
   ]
  },
  {
   "cell_type": "code",
   "execution_count": 93,
   "metadata": {},
   "outputs": [],
   "source": [
    "#Drop column 'Texto breve material' because it is not useful\n",
    "of.drop(columns=['Texto breve material'], inplace=True)"
   ]
  },
  {
   "cell_type": "code",
   "execution_count": 94,
   "metadata": {},
   "outputs": [
    {
     "name": "stdout",
     "output_type": "stream",
     "text": [
      "['L']\n"
     ]
    }
   ],
   "source": [
    "# Check Unidad de medida if it is always L\n",
    "print(of['Unidad de medida'].unique())"
   ]
  },
  {
   "cell_type": "code",
   "execution_count": 95,
   "metadata": {},
   "outputs": [],
   "source": [
    "# Drop column 'Unidad de medida' because it is always L\n",
    "of.drop(columns=['Unidad de medida'], inplace=True)"
   ]
  },
  {
   "cell_type": "code",
   "execution_count": 96,
   "metadata": {},
   "outputs": [
    {
     "name": "stdout",
     "output_type": "stream",
     "text": [
      "Número material\n",
      "123456    205\n",
      "Name: count, dtype: int64\n"
     ]
    }
   ],
   "source": [
    "# Numero material unique values\n",
    "print(of['Número material'].value_counts())"
   ]
  },
  {
   "cell_type": "code",
   "execution_count": 97,
   "metadata": {},
   "outputs": [],
   "source": [
    "# Makes sense there is only one antigen material for our study. Drop column 'Número material' as it does not add any information\n",
    "of.drop(columns=['Número material'], inplace=True)"
   ]
  },
  {
   "cell_type": "markdown",
   "metadata": {},
   "source": [
    "### We end up with 5 columns. 2 Out of them are 2 dates in datetime format, another 2 are identifiers and the last one is a number."
   ]
  },
  {
   "cell_type": "code",
   "execution_count": 98,
   "metadata": {},
   "outputs": [
    {
     "name": "stdout",
     "output_type": "stream",
     "text": [
      "<class 'pandas.core.frame.DataFrame'>\n",
      "RangeIndex: 205 entries, 0 to 204\n",
      "Data columns (total 5 columns):\n",
      " #   Column                Non-Null Count  Dtype         \n",
      "---  ------                --------------  -----         \n",
      " 0   Orden                 205 non-null    int64         \n",
      " 1   Lote                  205 non-null    object        \n",
      " 2   Fecha de inicio real  205 non-null    datetime64[ns]\n",
      " 3   Fecha de fin real     205 non-null    datetime64[ns]\n",
      " 4   Cantidad entregada    205 non-null    float64       \n",
      "dtypes: datetime64[ns](2), float64(1), int64(1), object(1)\n",
      "memory usage: 8.1+ KB\n"
     ]
    }
   ],
   "source": [
    "of.info()"
   ]
  },
  {
   "cell_type": "markdown",
   "metadata": {},
   "source": [
    "# Columns"
   ]
  },
  {
   "cell_type": "markdown",
   "metadata": {},
   "source": [
    "## Orden\n"
   ]
  },
  {
   "cell_type": "code",
   "execution_count": 99,
   "metadata": {},
   "outputs": [
    {
     "name": "stdout",
     "output_type": "stream",
     "text": [
      "True\n"
     ]
    }
   ],
   "source": [
    "# Let's be sure Orden is unique\n",
    "print(of['Orden'].nunique()==of.shape[0])"
   ]
  },
  {
   "cell_type": "code",
   "execution_count": 100,
   "metadata": {},
   "outputs": [],
   "source": [
    "# We dont need Orden as an int for this use case. It is an identifier. Let's convert it to a string\n",
    "of['Orden'] = of['Orden'].astype(str)"
   ]
  },
  {
   "cell_type": "code",
   "execution_count": 101,
   "metadata": {},
   "outputs": [
    {
     "name": "stdout",
     "output_type": "stream",
     "text": [
      "Number of non-word characters: 0\n",
      "Number of non-digit characters: 0\n"
     ]
    }
   ],
   "source": [
    "# Look for weird values with regex\n",
    "print('Number of non-word characters: ' + str(of['Orden'].str.count('\\W').sum()))\n",
    "print('Number of non-digit characters: ' + str(of['Orden'].str.count('\\D').sum()))"
   ]
  },
  {
   "cell_type": "code",
   "execution_count": 102,
   "metadata": {},
   "outputs": [
    {
     "name": "stdout",
     "output_type": "stream",
     "text": [
      "        Orden    Lote Fecha de inicio real Fecha de fin real  \\\n",
      "42   10005176  P23273           2023-07-05        2023-08-08   \n",
      "92   10005233  23/121           2023-11-23        2023-12-26   \n",
      "98   10005235  23/126           2023-11-28        2024-01-02   \n",
      "99   10005236  23/127           2023-11-28        2024-01-02   \n",
      "138  10005271  24/038           2024-02-21        2024-03-26   \n",
      "\n",
      "     Cantidad entregada  \n",
      "42                13.80  \n",
      "92                13.60  \n",
      "98                13.60  \n",
      "99                13.60  \n",
      "138               13.89  \n"
     ]
    }
   ],
   "source": [
    "# Look if the number of digits is consistent\n",
    "print(of[~of['Orden'].str.match('^\\d{9}$')])"
   ]
  },
  {
   "cell_type": "code",
   "execution_count": 103,
   "metadata": {},
   "outputs": [
    {
     "name": "stdout",
     "output_type": "stream",
     "text": [
      "['200' '100']\n",
      "0\n",
      "200    200\n",
      "100      5\n",
      "Name: count, dtype: int64\n",
      "['2001' '1000' '2002']\n",
      "0\n",
      "2001    130\n",
      "2002     70\n",
      "1000      5\n",
      "Name: count, dtype: int64\n",
      "['20017' '20018' '10005' '20019' '20020']\n",
      "0\n",
      "20019    75\n",
      "20020    70\n",
      "20018    53\n",
      "10005     5\n",
      "20017     2\n",
      "Name: count, dtype: int64\n"
     ]
    }
   ],
   "source": [
    "# Prefixes \n",
    "print(of['Orden'].str.extract('(\\d{3})\\d*')[0].unique())\n",
    "print(of['Orden'].str.extract('(\\d{3})\\d*')[0].value_counts())\n",
    "\n",
    "print(of['Orden'].str.extract('(\\d{4})\\d*')[0].unique())\n",
    "print(of['Orden'].str.extract('(\\d{4})\\d*')[0].value_counts())\n",
    "\n",
    "print(of['Orden'].str.extract('(\\d{5})\\d*')[0].unique())\n",
    "print(of['Orden'].str.extract('(\\d{5})\\d*')[0].value_counts())"
   ]
  },
  {
   "cell_type": "code",
   "execution_count": 104,
   "metadata": {},
   "outputs": [
    {
     "name": "stdout",
     "output_type": "stream",
     "text": [
      "['200178' '200179' '200181' '200182' '200185' '200184' '200187' '100051'\n",
      " '200188' '200191' '200195' '200196' '100052' '200197' '200199' '200200'\n",
      " '200202' '200205' '200203']\n",
      "0\n",
      "200196    38\n",
      "200205    30\n",
      "200191    28\n",
      "200200    27\n",
      "200182    18\n",
      "200202    12\n",
      "200188    11\n",
      "200184    11\n",
      "200187    10\n",
      "200195     6\n",
      "100052     4\n",
      "200199     2\n",
      "200185     2\n",
      "200178     1\n",
      "200179     1\n",
      "200181     1\n",
      "100051     1\n",
      "200197     1\n",
      "200203     1\n",
      "Name: count, dtype: int64\n"
     ]
    }
   ],
   "source": [
    "print(of['Orden'].str.extract('(\\d{6})\\d*')[0].unique())\n",
    "print(of['Orden'].str.extract('(\\d{6})\\d*')[0].value_counts())"
   ]
  },
  {
   "cell_type": "markdown",
   "metadata": {},
   "source": [
    "### It is likely Orden is a combination of codes. With likely the first 4(5?) digits being a category of something."
   ]
  },
  {
   "cell_type": "code",
   "execution_count": 105,
   "metadata": {},
   "outputs": [
    {
     "name": "stdout",
     "output_type": "stream",
     "text": [
      "Empty DataFrame\n",
      "Columns: [Orden, Lote, Fecha de inicio real, Fecha de fin real, Cantidad entregada]\n",
      "Index: []\n",
      "0  \n",
      "385    2\n",
      "233    2\n",
      "386    2\n",
      "387    2\n",
      "388    2\n",
      "      ..\n",
      "906    1\n",
      "907    1\n",
      "908    1\n",
      "909    1\n",
      "910    1\n",
      "Name: count, Length: 194, dtype: int64\n"
     ]
    }
   ],
   "source": [
    "# Suffixes\n",
    "#Which do not match this regex? (None)\n",
    "print(of[~of['Orden'].str.match('\\d*(\\d{3})$')])\n",
    "print(of['Orden'].str.extract('\\d*(\\d{3})$').value_counts())"
   ]
  },
  {
   "cell_type": "code",
   "execution_count": 106,
   "metadata": {},
   "outputs": [
    {
     "name": "stdout",
     "output_type": "stream",
     "text": [
      "0    194\n",
      "dtype: int64\n",
      "count\n",
      "1    183\n",
      "2     11\n",
      "Name: count, dtype: int64\n",
      "0  \n",
      "385    2\n",
      "233    2\n",
      "386    2\n",
      "387    2\n",
      "388    2\n",
      "534    2\n",
      "533    2\n",
      "440    2\n",
      "441    2\n",
      "400    2\n",
      "878    2\n",
      "Name: count, dtype: int64\n"
     ]
    }
   ],
   "source": [
    "# Number of unique values\n",
    "print(of['Orden'].str.extract('\\d*(\\d{3})$').nunique())\n",
    "# (SEE ALSO: of['Orden'].str.slice(start=-3) )\n",
    "# How many times are they repeated?\n",
    "print(of['Orden'].str.extract('\\d*(\\d{3})$').value_counts().value_counts())\n",
    "# Which are the ones that are repeated more than once?\n",
    "print(of['Orden'].str.extract('\\d*(\\d{3})$').value_counts()[of['Orden'].str.extract('\\d*(\\d{3})$').value_counts()>1])\n",
    "\n",
    "# Put them on a list\n",
    "repeated_suffixes = of['Orden'].str.extract('\\d*(\\d{3})$').value_counts()[of['Orden'].str.extract('\\d*(\\d{3})$').value_counts()>1].index.tolist()\n",
    "# Flatten the list\n",
    "repeated_suffixes = [item for sublist in repeated_suffixes for item in sublist]"
   ]
  },
  {
   "cell_type": "code",
   "execution_count": 107,
   "metadata": {},
   "outputs": [
    {
     "data": {
      "text/html": [
       "<div>\n",
       "<style scoped>\n",
       "    .dataframe tbody tr th:only-of-type {\n",
       "        vertical-align: middle;\n",
       "    }\n",
       "\n",
       "    .dataframe tbody tr th {\n",
       "        vertical-align: top;\n",
       "    }\n",
       "\n",
       "    .dataframe thead th {\n",
       "        text-align: right;\n",
       "    }\n",
       "</style>\n",
       "<table border=\"1\" class=\"dataframe\">\n",
       "  <thead>\n",
       "    <tr style=\"text-align: right;\">\n",
       "      <th></th>\n",
       "      <th>Orden</th>\n",
       "      <th>Lote</th>\n",
       "      <th>Fecha de inicio real</th>\n",
       "      <th>Fecha de fin real</th>\n",
       "      <th>Cantidad entregada</th>\n",
       "      <th>Last3Digits</th>\n",
       "    </tr>\n",
       "  </thead>\n",
       "  <tbody>\n",
       "    <tr>\n",
       "      <th>92</th>\n",
       "      <td>10005233</td>\n",
       "      <td>23/121</td>\n",
       "      <td>2023-11-23</td>\n",
       "      <td>2023-12-26</td>\n",
       "      <td>13.60</td>\n",
       "      <td>233</td>\n",
       "    </tr>\n",
       "    <tr>\n",
       "      <th>144</th>\n",
       "      <td>200200233</td>\n",
       "      <td>24/044</td>\n",
       "      <td>2024-03-16</td>\n",
       "      <td>2024-04-19</td>\n",
       "      <td>13.75</td>\n",
       "      <td>233</td>\n",
       "    </tr>\n",
       "    <tr>\n",
       "      <th>148</th>\n",
       "      <td>200200385</td>\n",
       "      <td>24/051</td>\n",
       "      <td>2024-03-23</td>\n",
       "      <td>2024-04-26</td>\n",
       "      <td>13.83</td>\n",
       "      <td>385</td>\n",
       "    </tr>\n",
       "    <tr>\n",
       "      <th>67</th>\n",
       "      <td>200191385</td>\n",
       "      <td>23/092</td>\n",
       "      <td>2023-10-03</td>\n",
       "      <td>2023-11-06</td>\n",
       "      <td>13.80</td>\n",
       "      <td>385</td>\n",
       "    </tr>\n",
       "    <tr>\n",
       "      <th>149</th>\n",
       "      <td>200200386</td>\n",
       "      <td>24/053</td>\n",
       "      <td>2024-03-26</td>\n",
       "      <td>2024-05-06</td>\n",
       "      <td>13.75</td>\n",
       "      <td>386</td>\n",
       "    </tr>\n",
       "    <tr>\n",
       "      <th>69</th>\n",
       "      <td>200191386</td>\n",
       "      <td>23/094</td>\n",
       "      <td>2023-10-09</td>\n",
       "      <td>2023-11-13</td>\n",
       "      <td>13.70</td>\n",
       "      <td>386</td>\n",
       "    </tr>\n",
       "    <tr>\n",
       "      <th>70</th>\n",
       "      <td>200191387</td>\n",
       "      <td>23/095</td>\n",
       "      <td>2023-10-09</td>\n",
       "      <td>2023-11-13</td>\n",
       "      <td>13.70</td>\n",
       "      <td>387</td>\n",
       "    </tr>\n",
       "    <tr>\n",
       "      <th>143</th>\n",
       "      <td>200200387</td>\n",
       "      <td>24/046</td>\n",
       "      <td>2024-03-11</td>\n",
       "      <td>2024-04-15</td>\n",
       "      <td>13.71</td>\n",
       "      <td>387</td>\n",
       "    </tr>\n",
       "    <tr>\n",
       "      <th>150</th>\n",
       "      <td>200200388</td>\n",
       "      <td>24/052</td>\n",
       "      <td>2024-03-26</td>\n",
       "      <td>2024-05-03</td>\n",
       "      <td>13.78</td>\n",
       "      <td>388</td>\n",
       "    </tr>\n",
       "    <tr>\n",
       "      <th>71</th>\n",
       "      <td>200191388</td>\n",
       "      <td>23/096</td>\n",
       "      <td>2023-10-16</td>\n",
       "      <td>2023-11-20</td>\n",
       "      <td>13.30</td>\n",
       "      <td>388</td>\n",
       "    </tr>\n",
       "    <tr>\n",
       "      <th>83</th>\n",
       "      <td>200191400</td>\n",
       "      <td>23/108</td>\n",
       "      <td>2023-11-06</td>\n",
       "      <td>2023-12-11</td>\n",
       "      <td>13.60</td>\n",
       "      <td>400</td>\n",
       "    </tr>\n",
       "    <tr>\n",
       "      <th>91</th>\n",
       "      <td>200196400</td>\n",
       "      <td>23/117</td>\n",
       "      <td>2023-11-14</td>\n",
       "      <td>2023-12-18</td>\n",
       "      <td>13.60</td>\n",
       "      <td>400</td>\n",
       "    </tr>\n",
       "    <tr>\n",
       "      <th>13</th>\n",
       "      <td>200182440</td>\n",
       "      <td>23/032</td>\n",
       "      <td>2023-05-22</td>\n",
       "      <td>2023-05-22</td>\n",
       "      <td>13.70</td>\n",
       "      <td>440</td>\n",
       "    </tr>\n",
       "    <tr>\n",
       "      <th>94</th>\n",
       "      <td>200196440</td>\n",
       "      <td>23/119</td>\n",
       "      <td>2023-11-20</td>\n",
       "      <td>2023-12-30</td>\n",
       "      <td>13.60</td>\n",
       "      <td>440</td>\n",
       "    </tr>\n",
       "    <tr>\n",
       "      <th>14</th>\n",
       "      <td>200182441</td>\n",
       "      <td>23/033</td>\n",
       "      <td>2023-05-29</td>\n",
       "      <td>2023-05-29</td>\n",
       "      <td>13.80</td>\n",
       "      <td>441</td>\n",
       "    </tr>\n",
       "    <tr>\n",
       "      <th>95</th>\n",
       "      <td>200196441</td>\n",
       "      <td>23/120</td>\n",
       "      <td>2023-11-21</td>\n",
       "      <td>2023-12-26</td>\n",
       "      <td>13.70</td>\n",
       "      <td>441</td>\n",
       "    </tr>\n",
       "    <tr>\n",
       "      <th>21</th>\n",
       "      <td>200184533</td>\n",
       "      <td>23/041</td>\n",
       "      <td>2023-07-03</td>\n",
       "      <td>2023-07-03</td>\n",
       "      <td>13.80</td>\n",
       "      <td>533</td>\n",
       "    </tr>\n",
       "    <tr>\n",
       "      <th>176</th>\n",
       "      <td>200205533</td>\n",
       "      <td>24/081</td>\n",
       "      <td>2024-05-28</td>\n",
       "      <td>2024-07-01</td>\n",
       "      <td>13.72</td>\n",
       "      <td>533</td>\n",
       "    </tr>\n",
       "    <tr>\n",
       "      <th>22</th>\n",
       "      <td>200184534</td>\n",
       "      <td>23/042</td>\n",
       "      <td>2023-07-04</td>\n",
       "      <td>2023-07-04</td>\n",
       "      <td>13.70</td>\n",
       "      <td>534</td>\n",
       "    </tr>\n",
       "    <tr>\n",
       "      <th>185</th>\n",
       "      <td>200205534</td>\n",
       "      <td>24/090</td>\n",
       "      <td>2024-05-29</td>\n",
       "      <td>2024-07-02</td>\n",
       "      <td>13.73</td>\n",
       "      <td>534</td>\n",
       "    </tr>\n",
       "    <tr>\n",
       "      <th>108</th>\n",
       "      <td>200196878</td>\n",
       "      <td>23/133</td>\n",
       "      <td>2023-12-04</td>\n",
       "      <td>2024-01-08</td>\n",
       "      <td>13.70</td>\n",
       "      <td>878</td>\n",
       "    </tr>\n",
       "    <tr>\n",
       "      <th>179</th>\n",
       "      <td>200203878</td>\n",
       "      <td>24/084</td>\n",
       "      <td>2024-05-25</td>\n",
       "      <td>2024-06-28</td>\n",
       "      <td>13.83</td>\n",
       "      <td>878</td>\n",
       "    </tr>\n",
       "  </tbody>\n",
       "</table>\n",
       "</div>"
      ],
      "text/plain": [
       "         Orden    Lote Fecha de inicio real Fecha de fin real  \\\n",
       "92    10005233  23/121           2023-11-23        2023-12-26   \n",
       "144  200200233  24/044           2024-03-16        2024-04-19   \n",
       "148  200200385  24/051           2024-03-23        2024-04-26   \n",
       "67   200191385  23/092           2023-10-03        2023-11-06   \n",
       "149  200200386  24/053           2024-03-26        2024-05-06   \n",
       "69   200191386  23/094           2023-10-09        2023-11-13   \n",
       "70   200191387  23/095           2023-10-09        2023-11-13   \n",
       "143  200200387  24/046           2024-03-11        2024-04-15   \n",
       "150  200200388  24/052           2024-03-26        2024-05-03   \n",
       "71   200191388  23/096           2023-10-16        2023-11-20   \n",
       "83   200191400  23/108           2023-11-06        2023-12-11   \n",
       "91   200196400  23/117           2023-11-14        2023-12-18   \n",
       "13   200182440  23/032           2023-05-22        2023-05-22   \n",
       "94   200196440  23/119           2023-11-20        2023-12-30   \n",
       "14   200182441  23/033           2023-05-29        2023-05-29   \n",
       "95   200196441  23/120           2023-11-21        2023-12-26   \n",
       "21   200184533  23/041           2023-07-03        2023-07-03   \n",
       "176  200205533  24/081           2024-05-28        2024-07-01   \n",
       "22   200184534  23/042           2023-07-04        2023-07-04   \n",
       "185  200205534  24/090           2024-05-29        2024-07-02   \n",
       "108  200196878  23/133           2023-12-04        2024-01-08   \n",
       "179  200203878  24/084           2024-05-25        2024-06-28   \n",
       "\n",
       "     Cantidad entregada Last3Digits  \n",
       "92                13.60         233  \n",
       "144               13.75         233  \n",
       "148               13.83         385  \n",
       "67                13.80         385  \n",
       "149               13.75         386  \n",
       "69                13.70         386  \n",
       "70                13.70         387  \n",
       "143               13.71         387  \n",
       "150               13.78         388  \n",
       "71                13.30         388  \n",
       "83                13.60         400  \n",
       "91                13.60         400  \n",
       "13                13.70         440  \n",
       "94                13.60         440  \n",
       "14                13.80         441  \n",
       "95                13.70         441  \n",
       "21                13.80         533  \n",
       "176               13.72         533  \n",
       "22                13.70         534  \n",
       "185               13.73         534  \n",
       "108               13.70         878  \n",
       "179               13.83         878  "
      ]
     },
     "execution_count": 107,
     "metadata": {},
     "output_type": "execute_result"
    }
   ],
   "source": [
    "# Filter all the elements in the column that their 3 last digits are in the list\n",
    "\n",
    "of[of['Orden'].str.extract('\\d*(\\d{3})$')[0].isin(repeated_suffixes)]\n",
    "# Sort the values by their last 3 digits\n",
    "#Use lock to avoid the SettingWithCopyWarning\n",
    "filtered_df = of[of['Orden'].str.extract('\\d*(\\d{3})$')[0].isin(repeated_suffixes)].copy()\n",
    "filtered_df['Last3Digits'] = filtered_df['Orden'].str[-3:]\n",
    "\n",
    "filtered_df.sort_values(by='Last3Digits')\n"
   ]
  },
  {
   "cell_type": "markdown",
   "metadata": {},
   "source": [
    "### There is some incremental nature to Orden, and we are obviously missing numbers in between that do not correspond to the material. We cannot conclude that there are other antigens in production between Orders but it is highly likely.\n",
    "\n",
    "### Still there's an strong indication that the first 3/4 digits could mean something else that is not an incremental number, but some kind of category or change in procedures. Could be a potential line for investigation."
   ]
  },
  {
   "cell_type": "code",
   "execution_count": 108,
   "metadata": {},
   "outputs": [
    {
     "data": {
      "text/plain": [
       "Orden\n",
       " 1.0      92\n",
       " 3.0       8\n",
       " 2.0       8\n",
       " 4.0       5\n",
       "-2.0       3\n",
       "          ..\n",
       "-296.0     1\n",
       " 446.0     1\n",
       "-6.0       1\n",
       "-8.0       1\n",
       " 9.0       1\n",
       "Name: count, Length: 75, dtype: int64"
      ]
     },
     "execution_count": 108,
     "metadata": {},
     "output_type": "execute_result"
    }
   ],
   "source": [
    "# Are the last 3 digits in the original dataframe incremental?\n",
    "# Slice orden\n",
    "of['Orden'].str[-3:].astype(int).diff().value_counts()\n"
   ]
  },
  {
   "cell_type": "code",
   "execution_count": 109,
   "metadata": {},
   "outputs": [
    {
     "data": {
      "text/html": [
       "<div>\n",
       "<style scoped>\n",
       "    .dataframe tbody tr th:only-of-type {\n",
       "        vertical-align: middle;\n",
       "    }\n",
       "\n",
       "    .dataframe tbody tr th {\n",
       "        vertical-align: top;\n",
       "    }\n",
       "\n",
       "    .dataframe thead th {\n",
       "        text-align: right;\n",
       "    }\n",
       "</style>\n",
       "<table border=\"1\" class=\"dataframe\">\n",
       "  <thead>\n",
       "    <tr style=\"text-align: right;\">\n",
       "      <th></th>\n",
       "      <th>Orden</th>\n",
       "      <th>Lote</th>\n",
       "      <th>Fecha de inicio real</th>\n",
       "      <th>Fecha de fin real</th>\n",
       "      <th>Cantidad entregada</th>\n",
       "    </tr>\n",
       "  </thead>\n",
       "  <tbody>\n",
       "    <tr>\n",
       "      <th>42</th>\n",
       "      <td>10005176</td>\n",
       "      <td>P23273</td>\n",
       "      <td>2023-07-05</td>\n",
       "      <td>2023-08-08</td>\n",
       "      <td>13.80</td>\n",
       "    </tr>\n",
       "    <tr>\n",
       "      <th>92</th>\n",
       "      <td>10005233</td>\n",
       "      <td>23/121</td>\n",
       "      <td>2023-11-23</td>\n",
       "      <td>2023-12-26</td>\n",
       "      <td>13.60</td>\n",
       "    </tr>\n",
       "    <tr>\n",
       "      <th>98</th>\n",
       "      <td>10005235</td>\n",
       "      <td>23/126</td>\n",
       "      <td>2023-11-28</td>\n",
       "      <td>2024-01-02</td>\n",
       "      <td>13.60</td>\n",
       "    </tr>\n",
       "    <tr>\n",
       "      <th>99</th>\n",
       "      <td>10005236</td>\n",
       "      <td>23/127</td>\n",
       "      <td>2023-11-28</td>\n",
       "      <td>2024-01-02</td>\n",
       "      <td>13.60</td>\n",
       "    </tr>\n",
       "    <tr>\n",
       "      <th>138</th>\n",
       "      <td>10005271</td>\n",
       "      <td>24/038</td>\n",
       "      <td>2024-02-21</td>\n",
       "      <td>2024-03-26</td>\n",
       "      <td>13.89</td>\n",
       "    </tr>\n",
       "    <tr>\n",
       "      <th>0</th>\n",
       "      <td>200178572</td>\n",
       "      <td>23/019</td>\n",
       "      <td>2023-04-24</td>\n",
       "      <td>2023-04-24</td>\n",
       "      <td>13.80</td>\n",
       "    </tr>\n",
       "    <tr>\n",
       "      <th>1</th>\n",
       "      <td>200179217</td>\n",
       "      <td>23/020</td>\n",
       "      <td>2023-04-24</td>\n",
       "      <td>2023-04-24</td>\n",
       "      <td>13.60</td>\n",
       "    </tr>\n",
       "    <tr>\n",
       "      <th>2</th>\n",
       "      <td>200181620</td>\n",
       "      <td>23/021</td>\n",
       "      <td>2023-04-25</td>\n",
       "      <td>2023-04-25</td>\n",
       "      <td>13.50</td>\n",
       "    </tr>\n",
       "    <tr>\n",
       "      <th>3</th>\n",
       "      <td>200182428</td>\n",
       "      <td>23/022</td>\n",
       "      <td>2023-04-25</td>\n",
       "      <td>2023-04-25</td>\n",
       "      <td>13.80</td>\n",
       "    </tr>\n",
       "    <tr>\n",
       "      <th>4</th>\n",
       "      <td>200182429</td>\n",
       "      <td>23/023</td>\n",
       "      <td>2023-05-02</td>\n",
       "      <td>2023-05-02</td>\n",
       "      <td>13.70</td>\n",
       "    </tr>\n",
       "    <tr>\n",
       "      <th>5</th>\n",
       "      <td>200182430</td>\n",
       "      <td>23/024</td>\n",
       "      <td>2023-05-02</td>\n",
       "      <td>2023-05-02</td>\n",
       "      <td>13.70</td>\n",
       "    </tr>\n",
       "    <tr>\n",
       "      <th>6</th>\n",
       "      <td>200182431</td>\n",
       "      <td>23/025</td>\n",
       "      <td>2023-05-02</td>\n",
       "      <td>2023-05-02</td>\n",
       "      <td>13.70</td>\n",
       "    </tr>\n",
       "    <tr>\n",
       "      <th>7</th>\n",
       "      <td>200182432</td>\n",
       "      <td>23/026</td>\n",
       "      <td>2023-05-02</td>\n",
       "      <td>2023-05-02</td>\n",
       "      <td>13.80</td>\n",
       "    </tr>\n",
       "    <tr>\n",
       "      <th>8</th>\n",
       "      <td>200182433</td>\n",
       "      <td>23/027</td>\n",
       "      <td>2023-05-08</td>\n",
       "      <td>2023-05-08</td>\n",
       "      <td>13.70</td>\n",
       "    </tr>\n",
       "    <tr>\n",
       "      <th>9</th>\n",
       "      <td>200182434</td>\n",
       "      <td>23/028</td>\n",
       "      <td>2023-05-08</td>\n",
       "      <td>2023-05-08</td>\n",
       "      <td>13.70</td>\n",
       "    </tr>\n",
       "    <tr>\n",
       "      <th>10</th>\n",
       "      <td>200182435</td>\n",
       "      <td>23/029</td>\n",
       "      <td>2023-05-22</td>\n",
       "      <td>2023-05-22</td>\n",
       "      <td>13.70</td>\n",
       "    </tr>\n",
       "    <tr>\n",
       "      <th>11</th>\n",
       "      <td>200182436</td>\n",
       "      <td>23/030</td>\n",
       "      <td>2023-05-22</td>\n",
       "      <td>2023-05-22</td>\n",
       "      <td>13.90</td>\n",
       "    </tr>\n",
       "    <tr>\n",
       "      <th>12</th>\n",
       "      <td>200182437</td>\n",
       "      <td>23/031</td>\n",
       "      <td>2023-05-22</td>\n",
       "      <td>2023-05-22</td>\n",
       "      <td>13.80</td>\n",
       "    </tr>\n",
       "    <tr>\n",
       "      <th>13</th>\n",
       "      <td>200182440</td>\n",
       "      <td>23/032</td>\n",
       "      <td>2023-05-22</td>\n",
       "      <td>2023-05-22</td>\n",
       "      <td>13.70</td>\n",
       "    </tr>\n",
       "    <tr>\n",
       "      <th>14</th>\n",
       "      <td>200182441</td>\n",
       "      <td>23/033</td>\n",
       "      <td>2023-05-29</td>\n",
       "      <td>2023-05-29</td>\n",
       "      <td>13.80</td>\n",
       "    </tr>\n",
       "  </tbody>\n",
       "</table>\n",
       "</div>"
      ],
      "text/plain": [
       "         Orden    Lote Fecha de inicio real Fecha de fin real  \\\n",
       "42    10005176  P23273           2023-07-05        2023-08-08   \n",
       "92    10005233  23/121           2023-11-23        2023-12-26   \n",
       "98    10005235  23/126           2023-11-28        2024-01-02   \n",
       "99    10005236  23/127           2023-11-28        2024-01-02   \n",
       "138   10005271  24/038           2024-02-21        2024-03-26   \n",
       "0    200178572  23/019           2023-04-24        2023-04-24   \n",
       "1    200179217  23/020           2023-04-24        2023-04-24   \n",
       "2    200181620  23/021           2023-04-25        2023-04-25   \n",
       "3    200182428  23/022           2023-04-25        2023-04-25   \n",
       "4    200182429  23/023           2023-05-02        2023-05-02   \n",
       "5    200182430  23/024           2023-05-02        2023-05-02   \n",
       "6    200182431  23/025           2023-05-02        2023-05-02   \n",
       "7    200182432  23/026           2023-05-02        2023-05-02   \n",
       "8    200182433  23/027           2023-05-08        2023-05-08   \n",
       "9    200182434  23/028           2023-05-08        2023-05-08   \n",
       "10   200182435  23/029           2023-05-22        2023-05-22   \n",
       "11   200182436  23/030           2023-05-22        2023-05-22   \n",
       "12   200182437  23/031           2023-05-22        2023-05-22   \n",
       "13   200182440  23/032           2023-05-22        2023-05-22   \n",
       "14   200182441  23/033           2023-05-29        2023-05-29   \n",
       "\n",
       "     Cantidad entregada  \n",
       "42                13.80  \n",
       "92                13.60  \n",
       "98                13.60  \n",
       "99                13.60  \n",
       "138               13.89  \n",
       "0                 13.80  \n",
       "1                 13.60  \n",
       "2                 13.50  \n",
       "3                 13.80  \n",
       "4                 13.70  \n",
       "5                 13.70  \n",
       "6                 13.70  \n",
       "7                 13.80  \n",
       "8                 13.70  \n",
       "9                 13.70  \n",
       "10                13.70  \n",
       "11                13.90  \n",
       "12                13.80  \n",
       "13                13.70  \n",
       "14                13.80  "
      ]
     },
     "execution_count": 109,
     "metadata": {},
     "output_type": "execute_result"
    }
   ],
   "source": [
    "# Sort of by Orden\n",
    "of = of.sort_values(by='Orden')\n",
    "# Show first 20 rows\n",
    "of.head(20)"
   ]
  },
  {
   "cell_type": "markdown",
   "metadata": {},
   "source": [
    "## Lote"
   ]
  },
  {
   "cell_type": "code",
   "execution_count": 110,
   "metadata": {},
   "outputs": [
    {
     "name": "stdout",
     "output_type": "stream",
     "text": [
      "True\n"
     ]
    }
   ],
   "source": [
    "# Let's be sure Lote is unique\n",
    "print(of['Lote'].nunique()==of.shape[0])"
   ]
  },
  {
   "cell_type": "code",
   "execution_count": 111,
   "metadata": {},
   "outputs": [],
   "source": [
    "# Lote does not follow the same pattern as in the other files. Let's see if we can convert the identifier.\n",
    "# First to string\n",
    "of['Lote'] = of['Lote'].astype(str)"
   ]
  },
  {
   "cell_type": "code",
   "execution_count": 112,
   "metadata": {},
   "outputs": [],
   "source": [
    "# Now remove /\n",
    "of['Lote'] = of['Lote'].apply(lambda x: x.replace(\"/\",\"\"))"
   ]
  },
  {
   "cell_type": "code",
   "execution_count": 113,
   "metadata": {},
   "outputs": [
    {
     "name": "stdout",
     "output_type": "stream",
     "text": [
      "True\n"
     ]
    }
   ],
   "source": [
    "# Check now for unique values\n",
    "print(of['Lote'].nunique()==of.shape[0])"
   ]
  },
  {
   "cell_type": "code",
   "execution_count": 114,
   "metadata": {},
   "outputs": [
    {
     "name": "stdout",
     "output_type": "stream",
     "text": [
      "42     P23273\n",
      "92      23121\n",
      "98      23126\n",
      "99      23127\n",
      "138     24038\n",
      "Name: Lote, dtype: object\n",
      "199    24105\n",
      "201    24106\n",
      "202    24107\n",
      "195    24100\n",
      "197    24101\n",
      "Name: Lote, dtype: object\n",
      "58    23084\n",
      "88    23113\n",
      "33    23054\n",
      "72    23097\n",
      "64    23089\n",
      "Name: Lote, dtype: object\n",
      "Number of non-word characters: 0\n",
      "Number of non-digit characters: 1\n",
      "42    P23273\n",
      "Name: Lote, dtype: object\n"
     ]
    }
   ],
   "source": [
    "# Lets have a final look at the Lote column\n",
    "print(of['Lote'].head())\n",
    "print(of['Lote'].tail())\n",
    "print(of['Lote'].sample(5))\n",
    "# Check for weird values with regex\n",
    "print('Number of non-word characters: ' + str(of['Lote'].str.contains(r'\\W').sum()))\n",
    "print('Number of non-digit characters: ' + str(of['Lote'].str.contains(r'\\D').sum()))\n",
    "#Print the values that contain non-digit characters (FOUND YOU!)\n",
    "print(of['Lote'][of['Lote'].str.contains(r'\\D')])"
   ]
  },
  {
   "cell_type": "markdown",
   "metadata": {},
   "source": [
    "### Lote does look like an index of ordered entries, with 23 as year SLASH ('/') and 019 as number of entry\n",
    "### However there is one concerning entry that does not follow this pattern. It's value is P23273. No slash."
   ]
  },
  {
   "cell_type": "markdown",
   "metadata": {},
   "source": [
    "## Datetimes"
   ]
  },
  {
   "cell_type": "code",
   "execution_count": 115,
   "metadata": {},
   "outputs": [
    {
     "name": "stdout",
     "output_type": "stream",
     "text": [
      "<DatetimeArray>\n",
      "['2023-07-05 00:00:00', '2023-11-23 00:00:00', '2023-11-28 00:00:00',\n",
      " '2024-02-21 00:00:00', '2023-04-24 00:00:00', '2023-04-25 00:00:00',\n",
      " '2023-05-02 00:00:00', '2023-05-08 00:00:00', '2023-05-22 00:00:00',\n",
      " '2023-05-29 00:00:00',\n",
      " ...\n",
      " '2024-06-05 00:00:00', '2024-06-11 00:00:00', '2024-07-06 00:00:00',\n",
      " '2024-07-03 00:00:00', '2024-06-29 00:00:00', '2024-06-15 00:00:00',\n",
      " '2024-07-02 00:00:00', '2024-06-19 00:00:00', '2024-07-01 00:00:00',\n",
      " '2024-06-21 00:00:00']\n",
      "Length: 110, dtype: datetime64[ns]\n",
      "<DatetimeArray>\n",
      "['2023-08-08 00:00:00', '2023-12-26 00:00:00', '2024-01-02 00:00:00',\n",
      " '2024-03-26 00:00:00', '2023-04-24 00:00:00', '2023-04-25 00:00:00',\n",
      " '2023-05-02 00:00:00', '2023-05-08 00:00:00', '2023-05-22 00:00:00',\n",
      " '2023-05-29 00:00:00', '2023-06-26 00:00:00', '2023-07-03 00:00:00',\n",
      " '2023-08-28 00:00:00', '2023-07-04 00:00:00', '2023-07-17 00:00:00',\n",
      " '2023-07-10 00:00:00', '2023-07-24 00:00:00', '2023-07-25 00:00:00',\n",
      " '2023-06-27 00:00:00', '2023-07-31 00:00:00', '2023-08-14 00:00:00',\n",
      " '2023-08-21 00:00:00', '2023-08-29 00:00:00', '2023-09-04 00:00:00',\n",
      " '2023-10-09 00:00:00', '2023-10-17 00:00:00', '2023-10-16 00:00:00',\n",
      " '2023-10-30 00:00:00', '2023-11-06 00:00:00', '2023-11-03 00:00:00',\n",
      " '2023-11-13 00:00:00', '2023-11-20 00:00:00', '2023-11-21 00:00:00',\n",
      " '2023-11-27 00:00:00', '2023-12-04 00:00:00', '2023-11-28 00:00:00',\n",
      " '2023-12-11 00:00:00', '2023-12-18 00:00:00', '2023-12-19 00:00:00',\n",
      " '2023-12-12 00:00:00', '2023-12-30 00:00:00', '2024-01-08 00:00:00',\n",
      " '2024-01-22 00:00:00', '2024-02-26 00:00:00', '2024-03-01 00:00:00',\n",
      " '2024-02-20 00:00:00', '2024-02-23 00:00:00', '2024-03-11 00:00:00',\n",
      " '2024-03-15 00:00:00', '2024-03-08 00:00:00', '2024-03-04 00:00:00',\n",
      " '2024-03-12 00:00:00', '2024-03-18 00:00:00', '2024-05-28 00:00:00',\n",
      " '2024-03-22 00:00:00', '2024-04-05 00:00:00', '2024-03-25 00:00:00',\n",
      " '2024-07-08 00:00:00', '2024-06-21 00:00:00', '2024-04-08 00:00:00',\n",
      " '2024-04-19 00:00:00', '2024-05-20 00:00:00', '2024-04-12 00:00:00',\n",
      " '2024-04-15 00:00:00', '2024-05-23 00:00:00', '2024-05-17 00:00:00',\n",
      " '2024-04-22 00:00:00', '2024-04-26 00:00:00', '2024-05-27 00:00:00',\n",
      " '2024-05-06 00:00:00', '2024-05-03 00:00:00', '2024-05-24 00:00:00',\n",
      " '2024-05-31 00:00:00', '2024-06-03 00:00:00', '2024-06-17 00:00:00',\n",
      " '2024-06-28 00:00:00', '2024-06-25 00:00:00', '2024-07-01 00:00:00',\n",
      " '2024-07-02 00:00:00', '2024-07-05 00:00:00', '2024-07-09 00:00:00',\n",
      " '2024-07-15 00:00:00', '2024-08-09 00:00:00', '2024-08-26 00:00:00',\n",
      " '2024-08-06 00:00:00', '2024-08-01 00:00:00', '2024-07-19 00:00:00',\n",
      " '2024-07-22 00:00:00', '2024-07-23 00:00:00']\n",
      "Length: 89, dtype: datetime64[ns]\n",
      "0\n",
      "0\n"
     ]
    }
   ],
   "source": [
    "#Check if all datetimes are okay and there is no null or wrong values\n",
    "print(of['Fecha de inicio real'].unique())\n",
    "print(of['Fecha de fin real'].unique())\n",
    "print(of['Fecha de inicio real'].isnull().sum())\n",
    "print(of['Fecha de fin real'].isnull().sum())\n"
   ]
  },
  {
   "cell_type": "code",
   "execution_count": 116,
   "metadata": {},
   "outputs": [
    {
     "name": "stdout",
     "output_type": "stream",
     "text": [
      "0     2023-04-24\n",
      "1     2023-04-24\n",
      "2     2023-04-25\n",
      "3     2023-04-25\n",
      "4     2023-05-02\n",
      "         ...    \n",
      "198   2024-07-02\n",
      "199   2024-07-02\n",
      "203   2024-07-03\n",
      "204   2024-07-03\n",
      "200   2024-07-06\n",
      "Name: Fecha de inicio real, Length: 205, dtype: datetime64[ns]\n",
      "0     2023-04-24\n",
      "1     2023-04-24\n",
      "2     2023-04-25\n",
      "3     2023-04-25\n",
      "4     2023-05-02\n",
      "         ...    \n",
      "202   2024-08-06\n",
      "204   2024-08-06\n",
      "198   2024-08-09\n",
      "200   2024-08-09\n",
      "203   2024-08-26\n",
      "Name: Fecha de fin real, Length: 205, dtype: datetime64[ns]\n"
     ]
    }
   ],
   "source": [
    "#Sort datetimes \n",
    "print(of['Fecha de inicio real'].sort_values())\n",
    "print(of['Fecha de fin real'].sort_values())"
   ]
  },
  {
   "cell_type": "code",
   "execution_count": 117,
   "metadata": {},
   "outputs": [
    {
     "data": {
      "image/png": "[encoded data removed]",
      "text/plain": [
       "<Figure size 2000x600 with 1 Axes>"
      ]
     },
     "metadata": {},
     "output_type": "display_data"
    }
   ],
   "source": [
    "# Histogram of fecha de inicio real\n",
    "plt.figure(figsize=(20, 6))\n",
    "plt.hist(of['Fecha de inicio real'], bins=110)\n",
    "plt.show()\n"
   ]
  },
  {
   "cell_type": "code",
   "execution_count": 118,
   "metadata": {},
   "outputs": [
    {
     "data": {
      "image/png": "[encoded data removed]",
      "text/plain": [
       "<Figure size 2000x600 with 1 Axes>"
      ]
     },
     "metadata": {},
     "output_type": "display_data"
    }
   ],
   "source": [
    "# Histogram of fecha de fin real\n",
    "plt.figure(figsize=(20, 6))\n",
    "plt.hist(of['Fecha de fin real'], bins=89)\n",
    "plt.show()"
   ]
  },
  {
   "cell_type": "code",
   "execution_count": 119,
   "metadata": {},
   "outputs": [
    {
     "data": {
      "image/png": "[encoded data removed]",
      "text/plain": [
       "<Figure size 1000x500 with 1 Axes>"
      ]
     },
     "metadata": {},
     "output_type": "display_data"
    }
   ],
   "source": [
    "# Scatter plot of fecha de inicio real vs fecha de fin real\n",
    "plt.figure(figsize=(10, 5))\n",
    "plt.scatter(of['Fecha de inicio real'], of['Fecha de fin real'])\n",
    "plt.xlabel('Fecha de inicio real')\n",
    "plt.ylabel('Fecha de fin real')\n",
    "plt.show()"
   ]
  },
  {
   "cell_type": "code",
   "execution_count": 120,
   "metadata": {},
   "outputs": [
    {
     "data": {
      "image/png": "[encoded data removed]",
      "text/plain": [
       "<Figure size 1000x500 with 1 Axes>"
      ]
     },
     "metadata": {},
     "output_type": "display_data"
    }
   ],
   "source": [
    "# Scatter plot of fecha de inicio real vs fecha de fin real\n",
    "# Whenever the fecha de inicio real is greater than fecha de fin real, the point will be red\n",
    "# Whenever the fecha de inicio real is less than fecha de fin real, the point will be blue\n",
    "# If it is equal, it will be yellow\n",
    "plt.figure(figsize=(10, 5))\n",
    "for index, row in of.iterrows():\n",
    "    if row['Fecha de inicio real'] > row['Fecha de fin real']:\n",
    "        plt.scatter(row['Fecha de inicio real'], row['Fecha de fin real'], color='yellow')\n",
    "    elif row['Fecha de inicio real'] < row['Fecha de fin real']:\n",
    "        plt.scatter(row['Fecha de inicio real'], row['Fecha de fin real'], color='red')\n",
    "    else:\n",
    "        plt.scatter(row['Fecha de inicio real'], row['Fecha de fin real'], color='blue')\n",
    "plt.xlabel('Fecha de inicio real')\n",
    "plt.ylabel('Fecha de fin real')\n",
    "plt.show()\n",
    "\n",
    "\n",
    "\n"
   ]
  },
  {
   "cell_type": "code",
   "execution_count": 121,
   "metadata": {},
   "outputs": [
    {
     "name": "stdout",
     "output_type": "stream",
     "text": [
      "0\n",
      "56\n"
     ]
    }
   ],
   "source": [
    "# Duration of the OF\n",
    "of['Duration'] = (of['Fecha de fin real'] - of['Fecha de inicio real']).dt.days\n",
    "dur_sorted = of['Duration'].sort_values()\n",
    "print(dur_sorted.iloc[0])\n",
    "print(dur_sorted.iloc[-1])\n"
   ]
  },
  {
   "cell_type": "code",
   "execution_count": 122,
   "metadata": {},
   "outputs": [
    {
     "data": {
      "image/png": "[encoded data removed]",
      "text/plain": [
       "<Figure size 2000x600 with 1 Axes>"
      ]
     },
     "metadata": {},
     "output_type": "display_data"
    }
   ],
   "source": [
    "# Histogram of duration\n",
    "plt.figure(figsize=(20, 6))\n",
    "plt.hist(of['Duration'], bins=56)\n",
    "plt.show()"
   ]
  },
  {
   "cell_type": "markdown",
   "metadata": {},
   "source": [
    "## Cantidad entregada"
   ]
  },
  {
   "cell_type": "code",
   "execution_count": 123,
   "metadata": {},
   "outputs": [
    {
     "name": "stdout",
     "output_type": "stream",
     "text": [
      "46\n"
     ]
    }
   ],
   "source": [
    "# Number of unique values\n",
    "print(of['Cantidad entregada'].nunique())"
   ]
  },
  {
   "cell_type": "code",
   "execution_count": 124,
   "metadata": {},
   "outputs": [
    {
     "name": "stdout",
     "output_type": "stream",
     "text": [
      "True\n",
      "False\n",
      "Maximum and minimum of digits after the dot\n",
      "89\n",
      "0\n",
      "Maximum and minimum of digits before the dot\n",
      "14\n",
      "0\n"
     ]
    }
   ],
   "source": [
    "# Does the column follow the same format? (at least 1 digit, 1 dot, at least 1 digit)\n",
    "print(of['Cantidad entregada'].astype(str).str.match('\\d+\\.\\d+$').sum() == of.shape[0])\n",
    "# Does the column use always 2 decimals? (at least 1 digit, 1 dot, 2 digits)\n",
    "print(of['Cantidad entregada'].astype(str).str.match('\\d+\\.\\d{2}$').sum() == of.shape[0])\n",
    "# Whats the maximum number of digits after the dot?\n",
    "print('Maximum and minimum of digits after the dot')\n",
    "print(of['Cantidad entregada'].astype(str).str.extract('\\d+\\.(\\d+)$')[0].astype(int).max())\n",
    "print(of['Cantidad entregada'].astype(str).str.extract('\\d+\\.(\\d+)$')[0].astype(int).min())\n",
    "# Whats the minimum number of digits before the dot?\n",
    "print('Maximum and minimum of digits before the dot')\n",
    "print(of['Cantidad entregada'].astype(str).str.extract('(\\d+)\\.\\d+$')[0].astype(int).max())\n",
    "print(of['Cantidad entregada'].astype(str).str.extract('(\\d+)\\.\\d+$')[0].astype(int).min())"
   ]
  },
  {
   "cell_type": "markdown",
   "metadata": {},
   "source": [
    "### Range and numbers looks OK loaded"
   ]
  },
  {
   "cell_type": "code",
   "execution_count": 125,
   "metadata": {},
   "outputs": [
    {
     "name": "stdout",
     "output_type": "stream",
     "text": [
      "14.0\n",
      "0.0\n"
     ]
    }
   ],
   "source": [
    "# Max and min values\n",
    "print(of['Cantidad entregada'].astype(float).max())\n",
    "print(of['Cantidad entregada'].astype(float).min())"
   ]
  },
  {
   "cell_type": "code",
   "execution_count": 126,
   "metadata": {},
   "outputs": [
    {
     "data": {
      "image/png": "[encoded data removed]",
      "text/plain": [
       "<Figure size 1000x500 with 1 Axes>"
      ]
     },
     "metadata": {},
     "output_type": "display_data"
    }
   ],
   "source": [
    "# Histogram of cantidad entregada\n",
    "plt.figure(figsize=(10, 5))\n",
    "plt.hist(of['Cantidad entregada'].astype(float), bins=100)\n",
    "plt.show()"
   ]
  },
  {
   "cell_type": "markdown",
   "metadata": {},
   "source": [
    "### It seems it follows a normal distribution but some of the values are 0 L . Why is that?"
   ]
  },
  {
   "cell_type": "code",
   "execution_count": 129,
   "metadata": {},
   "outputs": [
    {
     "data": {
      "text/plain": [
       "26    0\n",
       "27    0\n",
       "Name: Duration, dtype: int64"
      ]
     },
     "execution_count": 129,
     "metadata": {},
     "output_type": "execute_result"
    }
   ],
   "source": [
    "# Look at the duration of the OF which have a quantity delivered of 0\n",
    "of[of['Cantidad entregada'].astype(float) == 0]['Duration']"
   ]
  }
 ],
 "metadata": {
  "kernelspec": {
   "display_name": "losca-RpR7jZx6-py3.11",
   "language": "python",
   "name": "python3"
  },
  "language_info": {
   "codemirror_mode": {
    "name": "ipython",
    "version": 3
   },
   "file_extension": ".py",
   "mimetype": "text/x-python",
   "name": "python",
   "nbconvert_exporter": "python",
   "pygments_lexer": "ipython3",
   "version": "3.11.5"
  }
 },
 "nbformat": 4,
 "nbformat_minor": 2
}
