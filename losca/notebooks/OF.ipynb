{
 "cells": [
  {
   "cell_type": "code",
   "execution_count": 34,
   "metadata": {},
   "outputs": [],
   "source": [
    "import pandas as pd\n",
    "import matplotlib.pyplot as plt"
   ]
  },
  {
   "cell_type": "code",
   "execution_count": 35,
   "metadata": {},
   "outputs": [
    {
     "name": "stdout",
     "output_type": "stream",
     "text": [
      "<class 'pandas.core.frame.DataFrame'>\n",
      "RangeIndex: 207 entries, 0 to 206\n",
      "Data columns (total 6 columns):\n",
      " #   Column                Non-Null Count  Dtype  \n",
      "---  ------                --------------  -----  \n",
      " 0   Orden                 207 non-null    object \n",
      " 1   Número material       207 non-null    object \n",
      " 2   Texto breve material  207 non-null    object \n",
      " 3   Lote                  207 non-null    object \n",
      " 4   Cantidad entregada    207 non-null    float64\n",
      " 5   Unidad de medida      207 non-null    object \n",
      "dtypes: float64(1), object(5)\n",
      "memory usage: 9.8+ KB\n"
     ]
    }
   ],
   "source": [
    "dtypes = {'Orden': str, 'Número material': str, 'Texto breve material': str, 'Lote': str, 'Fecha de inicio real': str, 'Fecha de fin real': str, 'Cantidad entregada': float, 'Unidad de medida' : str}\n",
    "parse_dates = ['Fecha de inicio real', 'Fecha de fin real']\n",
    "of = pd.read_excel('../../data/raw/OF 123456 v02.xlsx', dtype=dtypes)\n",
    "#of['Fecha de inicio real'] = pd.to_datetime(of['Fecha de inicio real'])\n",
    "#of['Fecha de fin real'] = pd.to_datetime(of['Fecha de fin real'])\n",
    "\n",
    "of.info()"
   ]
  },
  {
   "cell_type": "code",
   "execution_count": 36,
   "metadata": {},
   "outputs": [
    {
     "data": {
      "text/html": [
       "<div>\n",
       "<style scoped>\n",
       "    .dataframe tbody tr th:only-of-type {\n",
       "        vertical-align: middle;\n",
       "    }\n",
       "\n",
       "    .dataframe tbody tr th {\n",
       "        vertical-align: top;\n",
       "    }\n",
       "\n",
       "    .dataframe thead th {\n",
       "        text-align: right;\n",
       "    }\n",
       "</style>\n",
       "<table border=\"1\" class=\"dataframe\">\n",
       "  <thead>\n",
       "    <tr style=\"text-align: right;\">\n",
       "      <th></th>\n",
       "      <th>Orden</th>\n",
       "      <th>Número material</th>\n",
       "      <th>Texto breve material</th>\n",
       "      <th>Lote</th>\n",
       "      <th>Cantidad entregada</th>\n",
       "      <th>Unidad de medida</th>\n",
       "    </tr>\n",
       "  </thead>\n",
       "  <tbody>\n",
       "    <tr>\n",
       "      <th>0</th>\n",
       "      <td>200178572</td>\n",
       "      <td>123456</td>\n",
       "      <td>MATERIAL DESCRITION</td>\n",
       "      <td>23/019</td>\n",
       "      <td>13.8</td>\n",
       "      <td>L</td>\n",
       "    </tr>\n",
       "    <tr>\n",
       "      <th>1</th>\n",
       "      <td>200179217</td>\n",
       "      <td>123456</td>\n",
       "      <td>MATERIAL DESCRITION</td>\n",
       "      <td>23/020</td>\n",
       "      <td>13.6</td>\n",
       "      <td>L</td>\n",
       "    </tr>\n",
       "    <tr>\n",
       "      <th>2</th>\n",
       "      <td>200181620</td>\n",
       "      <td>123456</td>\n",
       "      <td>MATERIAL DESCRITION</td>\n",
       "      <td>23/021</td>\n",
       "      <td>13.5</td>\n",
       "      <td>L</td>\n",
       "    </tr>\n",
       "    <tr>\n",
       "      <th>3</th>\n",
       "      <td>200182428</td>\n",
       "      <td>123456</td>\n",
       "      <td>MATERIAL DESCRITION</td>\n",
       "      <td>23/022</td>\n",
       "      <td>13.8</td>\n",
       "      <td>L</td>\n",
       "    </tr>\n",
       "    <tr>\n",
       "      <th>4</th>\n",
       "      <td>200182429</td>\n",
       "      <td>123456</td>\n",
       "      <td>MATERIAL DESCRITION</td>\n",
       "      <td>23/023</td>\n",
       "      <td>13.7</td>\n",
       "      <td>L</td>\n",
       "    </tr>\n",
       "  </tbody>\n",
       "</table>\n",
       "</div>"
      ],
      "text/plain": [
       "       Orden Número material Texto breve material    Lote  Cantidad entregada  \\\n",
       "0  200178572          123456  MATERIAL DESCRITION  23/019                13.8   \n",
       "1  200179217          123456  MATERIAL DESCRITION  23/020                13.6   \n",
       "2  200181620          123456  MATERIAL DESCRITION  23/021                13.5   \n",
       "3  200182428          123456  MATERIAL DESCRITION  23/022                13.8   \n",
       "4  200182429          123456  MATERIAL DESCRITION  23/023                13.7   \n",
       "\n",
       "  Unidad de medida  \n",
       "0                L  \n",
       "1                L  \n",
       "2                L  \n",
       "3                L  \n",
       "4                L  "
      ]
     },
     "execution_count": 36,
     "metadata": {},
     "output_type": "execute_result"
    }
   ],
   "source": [
    "of.head()"
   ]
  },
  {
   "cell_type": "markdown",
   "metadata": {},
   "source": [
    "# Sanity checks"
   ]
  },
  {
   "cell_type": "code",
   "execution_count": 37,
   "metadata": {},
   "outputs": [],
   "source": [
    "#Drop column 'Texto breve material' because it is not useful\n",
    "of.drop(columns=['Texto breve material'], inplace=True)"
   ]
  },
  {
   "cell_type": "code",
   "execution_count": 38,
   "metadata": {},
   "outputs": [
    {
     "name": "stdout",
     "output_type": "stream",
     "text": [
      "['L']\n"
     ]
    }
   ],
   "source": [
    "# Check Unidad de medida if it is always L\n",
    "print(of['Unidad de medida'].unique())"
   ]
  },
  {
   "cell_type": "code",
   "execution_count": 39,
   "metadata": {},
   "outputs": [],
   "source": [
    "# Drop column 'Unidad de medida' because it is always L\n",
    "of.drop(columns=['Unidad de medida'], inplace=True)"
   ]
  },
  {
   "cell_type": "code",
   "execution_count": 40,
   "metadata": {},
   "outputs": [
    {
     "name": "stdout",
     "output_type": "stream",
     "text": [
      "Número material\n",
      "123456    207\n",
      "Name: count, dtype: int64\n"
     ]
    }
   ],
   "source": [
    "# Numero material unique values\n",
    "print(of['Número material'].value_counts())"
   ]
  },
  {
   "cell_type": "code",
   "execution_count": 41,
   "metadata": {},
   "outputs": [],
   "source": [
    "# Makes sense there is only one antigen material for our study. Drop column 'Número material' as it does not add any information\n",
    "of.drop(columns=['Número material'], inplace=True)"
   ]
  },
  {
   "cell_type": "markdown",
   "metadata": {},
   "source": [
    "### We end up with 5 columns. 2 Out of them are 2 dates in datetime format, another 2 are identifiers and the last one is a number."
   ]
  },
  {
   "cell_type": "code",
   "execution_count": 42,
   "metadata": {},
   "outputs": [
    {
     "name": "stdout",
     "output_type": "stream",
     "text": [
      "<class 'pandas.core.frame.DataFrame'>\n",
      "RangeIndex: 207 entries, 0 to 206\n",
      "Data columns (total 3 columns):\n",
      " #   Column              Non-Null Count  Dtype  \n",
      "---  ------              --------------  -----  \n",
      " 0   Orden               207 non-null    object \n",
      " 1   Lote                207 non-null    object \n",
      " 2   Cantidad entregada  207 non-null    float64\n",
      "dtypes: float64(1), object(2)\n",
      "memory usage: 5.0+ KB\n"
     ]
    }
   ],
   "source": [
    "of.info()"
   ]
  },
  {
   "cell_type": "code",
   "execution_count": 43,
   "metadata": {},
   "outputs": [
    {
     "name": "stdout",
     "output_type": "stream",
     "text": [
      "0\n"
     ]
    }
   ],
   "source": [
    "# Number of repeated rows\n",
    "print(of.duplicated().sum())"
   ]
  },
  {
   "cell_type": "markdown",
   "metadata": {},
   "source": [
    "# Columns"
   ]
  },
  {
   "cell_type": "markdown",
   "metadata": {},
   "source": [
    "## Orden\n"
   ]
  },
  {
   "cell_type": "code",
   "execution_count": 44,
   "metadata": {},
   "outputs": [
    {
     "name": "stdout",
     "output_type": "stream",
     "text": [
      "True\n"
     ]
    }
   ],
   "source": [
    "# Let's be sure Orden is unique\n",
    "print(of['Orden'].nunique()==of.shape[0])"
   ]
  },
  {
   "cell_type": "code",
   "execution_count": 45,
   "metadata": {},
   "outputs": [],
   "source": [
    "# We dont need Orden as an int for this use case. It is an identifier. Let's convert it to a string\n",
    "of['Orden'] = of['Orden'].astype(str)"
   ]
  },
  {
   "cell_type": "code",
   "execution_count": 46,
   "metadata": {},
   "outputs": [
    {
     "name": "stdout",
     "output_type": "stream",
     "text": [
      "Number of values with non-word characters: 0\n",
      "Number of values with non-digit characters: 0\n"
     ]
    }
   ],
   "source": [
    "# Look for weird values with regex\n",
    "print('Number of values with non-word characters: ' + str(of['Orden'].str.count('\\W').sum()))\n",
    "print('Number of values with non-digit characters: ' + str(of['Orden'].str.count('\\D').sum()))"
   ]
  },
  {
   "cell_type": "code",
   "execution_count": 47,
   "metadata": {},
   "outputs": [
    {
     "name": "stdout",
     "output_type": "stream",
     "text": [
      "        Orden    Lote  Cantidad entregada\n",
      "42   10005176  P23273               13.80\n",
      "93   10005233  23/121               13.60\n",
      "99   10005235  23/126               13.60\n",
      "100  10005236  23/127               13.60\n",
      "139  10005271  24/038               13.89\n"
     ]
    }
   ],
   "source": [
    "# Look if the number of digits is consistent\n",
    "print(of[~of['Orden'].str.match('^\\d{9}$')])"
   ]
  },
  {
   "cell_type": "code",
   "execution_count": 48,
   "metadata": {},
   "outputs": [
    {
     "name": "stdout",
     "output_type": "stream",
     "text": [
      "['200' '100']\n",
      "0\n",
      "200    202\n",
      "100      5\n",
      "Name: count, dtype: int64\n",
      "['2001' '1000' '2002']\n",
      "0\n",
      "2001    131\n",
      "2002     71\n",
      "1000      5\n",
      "Name: count, dtype: int64\n",
      "['20017' '20018' '10005' '20019' '20020']\n",
      "0\n",
      "20019    76\n",
      "20020    71\n",
      "20018    53\n",
      "10005     5\n",
      "20017     2\n",
      "Name: count, dtype: int64\n"
     ]
    }
   ],
   "source": [
    "# Prefixes \n",
    "print(of['Orden'].str.extract('(^\\d{3})\\d*')[0].unique())\n",
    "print(of['Orden'].str.extract('(^\\d{3})\\d*')[0].value_counts())\n",
    "\n",
    "print(of['Orden'].str.extract('(^\\d{4})\\d*')[0].unique())\n",
    "print(of['Orden'].str.extract('(^\\d{4})\\d*')[0].value_counts())\n",
    "\n",
    "print(of['Orden'].str.extract('(^\\d{5})\\d*')[0].unique())\n",
    "print(of['Orden'].str.extract('(^\\d{5})\\d*')[0].value_counts())"
   ]
  },
  {
   "cell_type": "code",
   "execution_count": 49,
   "metadata": {},
   "outputs": [
    {
     "name": "stdout",
     "output_type": "stream",
     "text": [
      "['200178' '200179' '200181' '200182' '200185' '200184' '200187' '100051'\n",
      " '200188' '200191' '200195' '200196' '100052' '200197' '200199' '200200'\n",
      " '200202' '200203' '200205']\n",
      "0\n",
      "200196    39\n",
      "200205    30\n",
      "200191    28\n",
      "200200    27\n",
      "200182    18\n",
      "200202    12\n",
      "200188    11\n",
      "200184    11\n",
      "200187    10\n",
      "200195     6\n",
      "100052     4\n",
      "200203     2\n",
      "200199     2\n",
      "200185     2\n",
      "200178     1\n",
      "200181     1\n",
      "200179     1\n",
      "100051     1\n",
      "200197     1\n",
      "Name: count, dtype: int64\n"
     ]
    }
   ],
   "source": [
    "print(of['Orden'].str.extract('(^\\d{6})\\d*')[0].unique())\n",
    "print(of['Orden'].str.extract('(^\\d{6})\\d*')[0].value_counts())"
   ]
  },
  {
   "cell_type": "markdown",
   "metadata": {},
   "source": [
    "### It is likely Orden is a combination of codes. With likely the first 4(5?) digits being a category of something."
   ]
  },
  {
   "cell_type": "code",
   "execution_count": 50,
   "metadata": {},
   "outputs": [
    {
     "name": "stdout",
     "output_type": "stream",
     "text": [
      "Empty DataFrame\n",
      "Columns: [Orden, Lote, Cantidad entregada]\n",
      "Index: []\n",
      "0  \n",
      "388    2\n",
      "385    2\n",
      "233    2\n",
      "386    2\n",
      "387    2\n",
      "      ..\n",
      "906    1\n",
      "907    1\n",
      "908    1\n",
      "909    1\n",
      "910    1\n",
      "Name: count, Length: 195, dtype: int64\n"
     ]
    }
   ],
   "source": [
    "# Suffixes\n",
    "#Which do not match this regex? (None)\n",
    "print(of[~of['Orden'].str.match('^\\d*(\\d{3})$')])\n",
    "print(of['Orden'].str.extract('^\\d*(\\d{3})$').value_counts())"
   ]
  },
  {
   "cell_type": "code",
   "execution_count": 51,
   "metadata": {},
   "outputs": [
    {
     "name": "stdout",
     "output_type": "stream",
     "text": [
      "0    195\n",
      "dtype: int64\n",
      "count\n",
      "1    183\n",
      "2     12\n",
      "Name: count, dtype: int64\n",
      "0  \n",
      "388    2\n",
      "385    2\n",
      "233    2\n",
      "386    2\n",
      "387    2\n",
      "877    2\n",
      "534    2\n",
      "533    2\n",
      "440    2\n",
      "441    2\n",
      "400    2\n",
      "878    2\n",
      "Name: count, dtype: int64\n"
     ]
    }
   ],
   "source": [
    "# Number of unique values\n",
    "print(of['Orden'].str.extract('^\\d*(\\d{3})$').nunique())\n",
    "# (SEE ALSO: of['Orden'].str.slice(start=-3) )\n",
    "# How many times are they repeated?\n",
    "print(of['Orden'].str.extract('^\\d*(\\d{3})$').value_counts().value_counts())\n",
    "# Which are the ones that are repeated more than once?\n",
    "print(of['Orden'].str.extract('^\\d*(\\d{3})$').value_counts()[of['Orden'].str.extract('^\\d*(\\d{3})$').value_counts()>1])\n",
    "\n",
    "# Put them on a list\n",
    "repeated_suffixes = of['Orden'].str.extract('^\\d*(\\d{3})$').value_counts()[of['Orden'].str.extract('^\\d*(\\d{3})$').value_counts()>1].index.tolist()\n",
    "# Flatten the list\n",
    "repeated_suffixes = [item for sublist in repeated_suffixes for item in sublist]"
   ]
  },
  {
   "cell_type": "code",
   "execution_count": 52,
   "metadata": {},
   "outputs": [
    {
     "data": {
      "text/html": [
       "<div>\n",
       "<style scoped>\n",
       "    .dataframe tbody tr th:only-of-type {\n",
       "        vertical-align: middle;\n",
       "    }\n",
       "\n",
       "    .dataframe tbody tr th {\n",
       "        vertical-align: top;\n",
       "    }\n",
       "\n",
       "    .dataframe thead th {\n",
       "        text-align: right;\n",
       "    }\n",
       "</style>\n",
       "<table border=\"1\" class=\"dataframe\">\n",
       "  <thead>\n",
       "    <tr style=\"text-align: right;\">\n",
       "      <th></th>\n",
       "      <th>Orden</th>\n",
       "      <th>Lote</th>\n",
       "      <th>Cantidad entregada</th>\n",
       "      <th>Last3Digits</th>\n",
       "    </tr>\n",
       "  </thead>\n",
       "  <tbody>\n",
       "    <tr>\n",
       "      <th>93</th>\n",
       "      <td>10005233</td>\n",
       "      <td>23/121</td>\n",
       "      <td>13.60</td>\n",
       "      <td>233</td>\n",
       "    </tr>\n",
       "    <tr>\n",
       "      <th>145</th>\n",
       "      <td>200200233</td>\n",
       "      <td>24/044</td>\n",
       "      <td>13.75</td>\n",
       "      <td>233</td>\n",
       "    </tr>\n",
       "    <tr>\n",
       "      <th>149</th>\n",
       "      <td>200200385</td>\n",
       "      <td>24/051</td>\n",
       "      <td>13.83</td>\n",
       "      <td>385</td>\n",
       "    </tr>\n",
       "    <tr>\n",
       "      <th>67</th>\n",
       "      <td>200191385</td>\n",
       "      <td>23/092</td>\n",
       "      <td>13.80</td>\n",
       "      <td>385</td>\n",
       "    </tr>\n",
       "    <tr>\n",
       "      <th>150</th>\n",
       "      <td>200200386</td>\n",
       "      <td>24/053</td>\n",
       "      <td>13.75</td>\n",
       "      <td>386</td>\n",
       "    </tr>\n",
       "    <tr>\n",
       "      <th>69</th>\n",
       "      <td>200191386</td>\n",
       "      <td>23/094</td>\n",
       "      <td>13.70</td>\n",
       "      <td>386</td>\n",
       "    </tr>\n",
       "    <tr>\n",
       "      <th>70</th>\n",
       "      <td>200191387</td>\n",
       "      <td>23/095</td>\n",
       "      <td>13.70</td>\n",
       "      <td>387</td>\n",
       "    </tr>\n",
       "    <tr>\n",
       "      <th>144</th>\n",
       "      <td>200200387</td>\n",
       "      <td>24/046</td>\n",
       "      <td>13.71</td>\n",
       "      <td>387</td>\n",
       "    </tr>\n",
       "    <tr>\n",
       "      <th>151</th>\n",
       "      <td>200200388</td>\n",
       "      <td>24/052</td>\n",
       "      <td>13.78</td>\n",
       "      <td>388</td>\n",
       "    </tr>\n",
       "    <tr>\n",
       "      <th>71</th>\n",
       "      <td>200191388</td>\n",
       "      <td>23/096</td>\n",
       "      <td>13.30</td>\n",
       "      <td>388</td>\n",
       "    </tr>\n",
       "    <tr>\n",
       "      <th>83</th>\n",
       "      <td>200191400</td>\n",
       "      <td>23/108</td>\n",
       "      <td>13.60</td>\n",
       "      <td>400</td>\n",
       "    </tr>\n",
       "    <tr>\n",
       "      <th>92</th>\n",
       "      <td>200196400</td>\n",
       "      <td>23/117</td>\n",
       "      <td>13.60</td>\n",
       "      <td>400</td>\n",
       "    </tr>\n",
       "    <tr>\n",
       "      <th>13</th>\n",
       "      <td>200182440</td>\n",
       "      <td>23/032</td>\n",
       "      <td>13.70</td>\n",
       "      <td>440</td>\n",
       "    </tr>\n",
       "    <tr>\n",
       "      <th>95</th>\n",
       "      <td>200196440</td>\n",
       "      <td>23/119</td>\n",
       "      <td>13.60</td>\n",
       "      <td>440</td>\n",
       "    </tr>\n",
       "    <tr>\n",
       "      <th>96</th>\n",
       "      <td>200196441</td>\n",
       "      <td>23/120</td>\n",
       "      <td>13.70</td>\n",
       "      <td>441</td>\n",
       "    </tr>\n",
       "    <tr>\n",
       "      <th>14</th>\n",
       "      <td>200182441</td>\n",
       "      <td>23/033</td>\n",
       "      <td>13.80</td>\n",
       "      <td>441</td>\n",
       "    </tr>\n",
       "    <tr>\n",
       "      <th>21</th>\n",
       "      <td>200184533</td>\n",
       "      <td>23/041</td>\n",
       "      <td>13.80</td>\n",
       "      <td>533</td>\n",
       "    </tr>\n",
       "    <tr>\n",
       "      <th>178</th>\n",
       "      <td>200205533</td>\n",
       "      <td>24/081</td>\n",
       "      <td>13.72</td>\n",
       "      <td>533</td>\n",
       "    </tr>\n",
       "    <tr>\n",
       "      <th>22</th>\n",
       "      <td>200184534</td>\n",
       "      <td>23/042</td>\n",
       "      <td>13.70</td>\n",
       "      <td>534</td>\n",
       "    </tr>\n",
       "    <tr>\n",
       "      <th>187</th>\n",
       "      <td>200205534</td>\n",
       "      <td>24/090</td>\n",
       "      <td>13.73</td>\n",
       "      <td>534</td>\n",
       "    </tr>\n",
       "    <tr>\n",
       "      <th>173</th>\n",
       "      <td>200203877</td>\n",
       "      <td>24/075</td>\n",
       "      <td>13.64</td>\n",
       "      <td>877</td>\n",
       "    </tr>\n",
       "    <tr>\n",
       "      <th>106</th>\n",
       "      <td>200196877</td>\n",
       "      <td>23/131</td>\n",
       "      <td>13.60</td>\n",
       "      <td>877</td>\n",
       "    </tr>\n",
       "    <tr>\n",
       "      <th>109</th>\n",
       "      <td>200196878</td>\n",
       "      <td>23/133</td>\n",
       "      <td>13.70</td>\n",
       "      <td>878</td>\n",
       "    </tr>\n",
       "    <tr>\n",
       "      <th>181</th>\n",
       "      <td>200203878</td>\n",
       "      <td>24/084</td>\n",
       "      <td>13.83</td>\n",
       "      <td>878</td>\n",
       "    </tr>\n",
       "  </tbody>\n",
       "</table>\n",
       "</div>"
      ],
      "text/plain": [
       "         Orden    Lote  Cantidad entregada Last3Digits\n",
       "93    10005233  23/121               13.60         233\n",
       "145  200200233  24/044               13.75         233\n",
       "149  200200385  24/051               13.83         385\n",
       "67   200191385  23/092               13.80         385\n",
       "150  200200386  24/053               13.75         386\n",
       "69   200191386  23/094               13.70         386\n",
       "70   200191387  23/095               13.70         387\n",
       "144  200200387  24/046               13.71         387\n",
       "151  200200388  24/052               13.78         388\n",
       "71   200191388  23/096               13.30         388\n",
       "83   200191400  23/108               13.60         400\n",
       "92   200196400  23/117               13.60         400\n",
       "13   200182440  23/032               13.70         440\n",
       "95   200196440  23/119               13.60         440\n",
       "96   200196441  23/120               13.70         441\n",
       "14   200182441  23/033               13.80         441\n",
       "21   200184533  23/041               13.80         533\n",
       "178  200205533  24/081               13.72         533\n",
       "22   200184534  23/042               13.70         534\n",
       "187  200205534  24/090               13.73         534\n",
       "173  200203877  24/075               13.64         877\n",
       "106  200196877  23/131               13.60         877\n",
       "109  200196878  23/133               13.70         878\n",
       "181  200203878  24/084               13.83         878"
      ]
     },
     "execution_count": 52,
     "metadata": {},
     "output_type": "execute_result"
    }
   ],
   "source": [
    "# Filter all the elements in the column that their 3 last digits are in the list\n",
    "\n",
    "of[of['Orden'].str.extract('^\\d*(\\d{3})$')[0].isin(repeated_suffixes)]\n",
    "# Sort the values by their last 3 digits\n",
    "#Use lock to avoid the SettingWithCopyWarning\n",
    "filtered_df = of[of['Orden'].str.extract('^\\d*(\\d{3})$')[0].isin(repeated_suffixes)].copy()\n",
    "filtered_df['Last3Digits'] = filtered_df['Orden'].str[-3:]\n",
    "\n",
    "filtered_df.sort_values(by='Last3Digits')\n"
   ]
  },
  {
   "cell_type": "markdown",
   "metadata": {},
   "source": [
    "### There is some incremental nature to Orden, and we are obviously missing numbers in between that do not correspond to the material. We cannot conclude that there are other antigens in production between Orders but it is highly likely.\n",
    "\n",
    "### Still there's an strong indication that the first 3/4 digits could mean something else that is not an incremental number, but some kind of category or change in procedures. Could be a potential line for investigation."
   ]
  },
  {
   "cell_type": "code",
   "execution_count": 53,
   "metadata": {},
   "outputs": [
    {
     "data": {
      "text/plain": [
       "Orden\n",
       " 1.0      93\n",
       " 3.0       8\n",
       " 2.0       8\n",
       " 4.0       5\n",
       "-3.0       3\n",
       "          ..\n",
       "-296.0     1\n",
       " 446.0     1\n",
       "-6.0       1\n",
       "-8.0       1\n",
       " 9.0       1\n",
       "Name: count, Length: 77, dtype: int64"
      ]
     },
     "execution_count": 53,
     "metadata": {},
     "output_type": "execute_result"
    }
   ],
   "source": [
    "# Are the last 3 digits in the original dataframe incremental?\n",
    "# Slice orden\n",
    "of['Orden'].str[-3:].astype(int).diff().value_counts()\n"
   ]
  },
  {
   "cell_type": "code",
   "execution_count": 54,
   "metadata": {},
   "outputs": [
    {
     "data": {
      "text/html": [
       "<div>\n",
       "<style scoped>\n",
       "    .dataframe tbody tr th:only-of-type {\n",
       "        vertical-align: middle;\n",
       "    }\n",
       "\n",
       "    .dataframe tbody tr th {\n",
       "        vertical-align: top;\n",
       "    }\n",
       "\n",
       "    .dataframe thead th {\n",
       "        text-align: right;\n",
       "    }\n",
       "</style>\n",
       "<table border=\"1\" class=\"dataframe\">\n",
       "  <thead>\n",
       "    <tr style=\"text-align: right;\">\n",
       "      <th></th>\n",
       "      <th>Orden</th>\n",
       "      <th>Lote</th>\n",
       "      <th>Cantidad entregada</th>\n",
       "    </tr>\n",
       "  </thead>\n",
       "  <tbody>\n",
       "    <tr>\n",
       "      <th>42</th>\n",
       "      <td>10005176</td>\n",
       "      <td>P23273</td>\n",
       "      <td>13.80</td>\n",
       "    </tr>\n",
       "    <tr>\n",
       "      <th>93</th>\n",
       "      <td>10005233</td>\n",
       "      <td>23/121</td>\n",
       "      <td>13.60</td>\n",
       "    </tr>\n",
       "    <tr>\n",
       "      <th>99</th>\n",
       "      <td>10005235</td>\n",
       "      <td>23/126</td>\n",
       "      <td>13.60</td>\n",
       "    </tr>\n",
       "    <tr>\n",
       "      <th>100</th>\n",
       "      <td>10005236</td>\n",
       "      <td>23/127</td>\n",
       "      <td>13.60</td>\n",
       "    </tr>\n",
       "    <tr>\n",
       "      <th>139</th>\n",
       "      <td>10005271</td>\n",
       "      <td>24/038</td>\n",
       "      <td>13.89</td>\n",
       "    </tr>\n",
       "    <tr>\n",
       "      <th>0</th>\n",
       "      <td>200178572</td>\n",
       "      <td>23/019</td>\n",
       "      <td>13.80</td>\n",
       "    </tr>\n",
       "    <tr>\n",
       "      <th>1</th>\n",
       "      <td>200179217</td>\n",
       "      <td>23/020</td>\n",
       "      <td>13.60</td>\n",
       "    </tr>\n",
       "    <tr>\n",
       "      <th>2</th>\n",
       "      <td>200181620</td>\n",
       "      <td>23/021</td>\n",
       "      <td>13.50</td>\n",
       "    </tr>\n",
       "    <tr>\n",
       "      <th>3</th>\n",
       "      <td>200182428</td>\n",
       "      <td>23/022</td>\n",
       "      <td>13.80</td>\n",
       "    </tr>\n",
       "    <tr>\n",
       "      <th>4</th>\n",
       "      <td>200182429</td>\n",
       "      <td>23/023</td>\n",
       "      <td>13.70</td>\n",
       "    </tr>\n",
       "    <tr>\n",
       "      <th>5</th>\n",
       "      <td>200182430</td>\n",
       "      <td>23/024</td>\n",
       "      <td>13.70</td>\n",
       "    </tr>\n",
       "    <tr>\n",
       "      <th>6</th>\n",
       "      <td>200182431</td>\n",
       "      <td>23/025</td>\n",
       "      <td>13.70</td>\n",
       "    </tr>\n",
       "    <tr>\n",
       "      <th>7</th>\n",
       "      <td>200182432</td>\n",
       "      <td>23/026</td>\n",
       "      <td>13.80</td>\n",
       "    </tr>\n",
       "    <tr>\n",
       "      <th>8</th>\n",
       "      <td>200182433</td>\n",
       "      <td>23/027</td>\n",
       "      <td>13.70</td>\n",
       "    </tr>\n",
       "    <tr>\n",
       "      <th>9</th>\n",
       "      <td>200182434</td>\n",
       "      <td>23/028</td>\n",
       "      <td>13.70</td>\n",
       "    </tr>\n",
       "    <tr>\n",
       "      <th>10</th>\n",
       "      <td>200182435</td>\n",
       "      <td>23/029</td>\n",
       "      <td>13.70</td>\n",
       "    </tr>\n",
       "    <tr>\n",
       "      <th>11</th>\n",
       "      <td>200182436</td>\n",
       "      <td>23/030</td>\n",
       "      <td>13.90</td>\n",
       "    </tr>\n",
       "    <tr>\n",
       "      <th>12</th>\n",
       "      <td>200182437</td>\n",
       "      <td>23/031</td>\n",
       "      <td>13.80</td>\n",
       "    </tr>\n",
       "    <tr>\n",
       "      <th>13</th>\n",
       "      <td>200182440</td>\n",
       "      <td>23/032</td>\n",
       "      <td>13.70</td>\n",
       "    </tr>\n",
       "    <tr>\n",
       "      <th>14</th>\n",
       "      <td>200182441</td>\n",
       "      <td>23/033</td>\n",
       "      <td>13.80</td>\n",
       "    </tr>\n",
       "  </tbody>\n",
       "</table>\n",
       "</div>"
      ],
      "text/plain": [
       "         Orden    Lote  Cantidad entregada\n",
       "42    10005176  P23273               13.80\n",
       "93    10005233  23/121               13.60\n",
       "99    10005235  23/126               13.60\n",
       "100   10005236  23/127               13.60\n",
       "139   10005271  24/038               13.89\n",
       "0    200178572  23/019               13.80\n",
       "1    200179217  23/020               13.60\n",
       "2    200181620  23/021               13.50\n",
       "3    200182428  23/022               13.80\n",
       "4    200182429  23/023               13.70\n",
       "5    200182430  23/024               13.70\n",
       "6    200182431  23/025               13.70\n",
       "7    200182432  23/026               13.80\n",
       "8    200182433  23/027               13.70\n",
       "9    200182434  23/028               13.70\n",
       "10   200182435  23/029               13.70\n",
       "11   200182436  23/030               13.90\n",
       "12   200182437  23/031               13.80\n",
       "13   200182440  23/032               13.70\n",
       "14   200182441  23/033               13.80"
      ]
     },
     "execution_count": 54,
     "metadata": {},
     "output_type": "execute_result"
    }
   ],
   "source": [
    "# Sort of by Orden\n",
    "of = of.sort_values(by='Orden')\n",
    "# Show first 20 rows\n",
    "of.head(20)"
   ]
  },
  {
   "cell_type": "markdown",
   "metadata": {},
   "source": [
    "## Lote"
   ]
  },
  {
   "cell_type": "code",
   "execution_count": 55,
   "metadata": {},
   "outputs": [
    {
     "name": "stdout",
     "output_type": "stream",
     "text": [
      "True\n"
     ]
    }
   ],
   "source": [
    "# Let's be sure Lote is unique\n",
    "print(of['Lote'].nunique()==of.shape[0])"
   ]
  },
  {
   "cell_type": "code",
   "execution_count": 56,
   "metadata": {},
   "outputs": [],
   "source": [
    "# Lote does not follow the same pattern as in the other files. Let's see if we can convert the identifier.\n",
    "# First to string\n",
    "of['Lote'] = of['Lote'].astype(str)"
   ]
  },
  {
   "cell_type": "code",
   "execution_count": 57,
   "metadata": {},
   "outputs": [],
   "source": [
    "# Now remove /\n",
    "of['Lote'] = of['Lote'].apply(lambda x: x.replace(\"/\",\"\"))"
   ]
  },
  {
   "cell_type": "code",
   "execution_count": 58,
   "metadata": {},
   "outputs": [
    {
     "name": "stdout",
     "output_type": "stream",
     "text": [
      "True\n"
     ]
    }
   ],
   "source": [
    "# Check now for unique values\n",
    "print(of['Lote'].nunique()==of.shape[0])"
   ]
  },
  {
   "cell_type": "code",
   "execution_count": 59,
   "metadata": {},
   "outputs": [
    {
     "name": "stdout",
     "output_type": "stream",
     "text": [
      "False\n"
     ]
    }
   ],
   "source": [
    "# Are all of them digits?\n",
    "print(of['Lote'].str.isdigit().all())"
   ]
  },
  {
   "cell_type": "code",
   "execution_count": 60,
   "metadata": {},
   "outputs": [
    {
     "name": "stdout",
     "output_type": "stream",
     "text": [
      "42     P23273\n",
      "93      23121\n",
      "99      23126\n",
      "100     23127\n",
      "139     24038\n",
      "Name: Lote, dtype: object\n",
      "201    24105\n",
      "203    24106\n",
      "204    24107\n",
      "197    24100\n",
      "199    24101\n",
      "Name: Lote, dtype: object\n",
      "3      23022\n",
      "188    24091\n",
      "91     23116\n",
      "187    24090\n",
      "25     23045\n",
      "Name: Lote, dtype: object\n",
      "Number of non-word characters: 0\n",
      "Number of non-digit characters: 1\n",
      "42    P23273\n",
      "Name: Lote, dtype: object\n"
     ]
    }
   ],
   "source": [
    "# Lets have a final look at the Lote column\n",
    "print(of['Lote'].head())\n",
    "print(of['Lote'].tail())\n",
    "print(of['Lote'].sample(5))\n",
    "# Check for weird values with regex\n",
    "print('Number of non-word characters: ' + str(of['Lote'].str.contains(r'\\W').sum()))\n",
    "print('Number of non-digit characters: ' + str(of['Lote'].str.contains(r'\\D').sum()))\n",
    "#Print the values that contain non-digit characters (FOUND YOU!)\n",
    "print(of['Lote'][of['Lote'].str.contains(r'\\D')])"
   ]
  },
  {
   "cell_type": "markdown",
   "metadata": {},
   "source": [
    "### Lote does look like an index of ordered entries, with 23 as year SLASH ('/') and 019 as number of entry\n",
    "### However there is one concerning entry that does not follow this pattern. It's value is P23273. No slash."
   ]
  },
  {
   "cell_type": "markdown",
   "metadata": {},
   "source": [
    "## Cantidad entregada"
   ]
  },
  {
   "cell_type": "code",
   "execution_count": 61,
   "metadata": {},
   "outputs": [
    {
     "name": "stdout",
     "output_type": "stream",
     "text": [
      "46\n"
     ]
    }
   ],
   "source": [
    "# Number of unique values\n",
    "print(of['Cantidad entregada'].nunique())"
   ]
  },
  {
   "cell_type": "code",
   "execution_count": 62,
   "metadata": {},
   "outputs": [
    {
     "name": "stdout",
     "output_type": "stream",
     "text": [
      "True\n",
      "False\n",
      "Maximum and minimum of digits after the dot\n",
      "89\n",
      "0\n",
      "Maximum and minimum of digits before the dot\n",
      "14\n",
      "0\n"
     ]
    }
   ],
   "source": [
    "# Does the column follow the same format? (at least 1 digit, 1 dot, at least 1 digit)\n",
    "print(of['Cantidad entregada'].astype(str).str.match('\\d+\\.\\d+$').sum() == of.shape[0])\n",
    "# Does the column use always 2 decimals? (at least 1 digit, 1 dot, 2 digits)\n",
    "print(of['Cantidad entregada'].astype(str).str.match('\\d+\\.\\d{2}$').sum() == of.shape[0])\n",
    "# Whats the maximum number of digits after the dot?\n",
    "print('Maximum and minimum of digits after the dot')\n",
    "print(of['Cantidad entregada'].astype(str).str.extract('\\d+\\.(\\d+)$')[0].astype(int).max())\n",
    "print(of['Cantidad entregada'].astype(str).str.extract('\\d+\\.(\\d+)$')[0].astype(int).min())\n",
    "# Whats the minimum number of digits before the dot?\n",
    "print('Maximum and minimum of digits before the dot')\n",
    "print(of['Cantidad entregada'].astype(str).str.extract('(\\d+)\\.\\d+$')[0].astype(int).max())\n",
    "print(of['Cantidad entregada'].astype(str).str.extract('(\\d+)\\.\\d+$')[0].astype(int).min())"
   ]
  },
  {
   "cell_type": "markdown",
   "metadata": {},
   "source": [
    "### Range and numbers looks OK loaded"
   ]
  },
  {
   "cell_type": "code",
   "execution_count": 63,
   "metadata": {},
   "outputs": [
    {
     "name": "stdout",
     "output_type": "stream",
     "text": [
      "14.0\n",
      "0.0\n"
     ]
    }
   ],
   "source": [
    "# Max and min values\n",
    "print(of['Cantidad entregada'].astype(float).max())\n",
    "print(of['Cantidad entregada'].astype(float).min())"
   ]
  },
  {
   "cell_type": "code",
   "execution_count": 64,
   "metadata": {},
   "outputs": [
    {
     "data": {
      "image/png": "[encoded data removed]",
      "text/plain": [
       "<Figure size 1000x500 with 1 Axes>"
      ]
     },
     "metadata": {},
     "output_type": "display_data"
    }
   ],
   "source": [
    "# Histogram of cantidad entregada\n",
    "plt.figure(figsize=(10, 5))\n",
    "plt.hist(of['Cantidad entregada'].astype(float), bins=100)\n",
    "plt.show()"
   ]
  },
  {
   "cell_type": "markdown",
   "metadata": {},
   "source": [
    "### It seems it follows a normal distribution but some of the values are 0 L . Why is that?"
   ]
  },
  {
   "cell_type": "markdown",
   "metadata": {},
   "source": [
    "### Look at the duration of the OF which have a quantity delivered of 0"
   ]
  },
  {
   "cell_type": "markdown",
   "metadata": {},
   "source": [
    "## Save"
   ]
  },
  {
   "cell_type": "code",
   "execution_count": 65,
   "metadata": {},
   "outputs": [],
   "source": [
    "# Save the cleaned file\n",
    "of.to_csv('../../data/processed/of.csv', index=False)"
   ]
  }
 ],
 "metadata": {
  "kernelspec": {
   "display_name": "losca-RpR7jZx6-py3.11",
   "language": "python",
   "name": "python3"
  },
  "language_info": {
   "codemirror_mode": {
    "name": "ipython",
    "version": 3
   },
   "file_extension": ".py",
   "mimetype": "text/x-python",
   "name": "python",
   "nbconvert_exporter": "python",
   "pygments_lexer": "ipython3",
   "version": "3.11.5"
  }
 },
 "nbformat": 4,
 "nbformat_minor": 2
}
