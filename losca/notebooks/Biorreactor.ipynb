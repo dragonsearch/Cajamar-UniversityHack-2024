{
 "cells": [
  {
   "cell_type": "code",
   "execution_count": 1,
   "metadata": {},
   "outputs": [],
   "source": [
    "import pandas as pd\n",
    "import numpy as np"
   ]
  },
  {
   "cell_type": "code",
   "execution_count": 7,
   "metadata": {},
   "outputs": [
    {
     "data": {
      "text/html": [
       "<div>\n",
       "<style scoped>\n",
       "    .dataframe tbody tr th:only-of-type {\n",
       "        vertical-align: middle;\n",
       "    }\n",
       "\n",
       "    .dataframe tbody tr th {\n",
       "        vertical-align: top;\n",
       "    }\n",
       "\n",
       "    .dataframe thead th {\n",
       "        text-align: right;\n",
       "    }\n",
       "</style>\n",
       "<table border=\"1\" class=\"dataframe\">\n",
       "  <thead>\n",
       "    <tr style=\"text-align: right;\">\n",
       "      <th></th>\n",
       "      <th>Orden</th>\n",
       "      <th>Número material</th>\n",
       "      <th>Texto breve material</th>\n",
       "      <th>Lote</th>\n",
       "      <th>Fecha de inicio real</th>\n",
       "      <th>Fecha de fin real</th>\n",
       "      <th>Cantidad entregada</th>\n",
       "      <th>Unidad de medida</th>\n",
       "    </tr>\n",
       "  </thead>\n",
       "  <tbody>\n",
       "    <tr>\n",
       "      <th>200</th>\n",
       "      <td>200205686</td>\n",
       "      <td>123456</td>\n",
       "      <td>MATERIAL DESCRITION</td>\n",
       "      <td>24/108</td>\n",
       "      <td>2024-07-06</td>\n",
       "      <td>2024-08-09</td>\n",
       "      <td>13.63</td>\n",
       "      <td>L</td>\n",
       "    </tr>\n",
       "    <tr>\n",
       "      <th>201</th>\n",
       "      <td>200205695</td>\n",
       "      <td>123456</td>\n",
       "      <td>MATERIAL DESCRITION</td>\n",
       "      <td>24/106</td>\n",
       "      <td>2024-07-01</td>\n",
       "      <td>2024-08-06</td>\n",
       "      <td>13.69</td>\n",
       "      <td>L</td>\n",
       "    </tr>\n",
       "    <tr>\n",
       "      <th>202</th>\n",
       "      <td>200205696</td>\n",
       "      <td>123456</td>\n",
       "      <td>MATERIAL DESCRITION</td>\n",
       "      <td>24/107</td>\n",
       "      <td>2024-07-01</td>\n",
       "      <td>2024-08-06</td>\n",
       "      <td>13.45</td>\n",
       "      <td>L</td>\n",
       "    </tr>\n",
       "    <tr>\n",
       "      <th>203</th>\n",
       "      <td>200205687</td>\n",
       "      <td>123456</td>\n",
       "      <td>MATERIAL DESCRITION</td>\n",
       "      <td>24/109</td>\n",
       "      <td>2024-07-03</td>\n",
       "      <td>2024-08-26</td>\n",
       "      <td>11.35</td>\n",
       "      <td>L</td>\n",
       "    </tr>\n",
       "    <tr>\n",
       "      <th>204</th>\n",
       "      <td>200205688</td>\n",
       "      <td>123456</td>\n",
       "      <td>MATERIAL DESCRITION</td>\n",
       "      <td>24/110</td>\n",
       "      <td>2024-07-03</td>\n",
       "      <td>2024-08-06</td>\n",
       "      <td>13.77</td>\n",
       "      <td>L</td>\n",
       "    </tr>\n",
       "  </tbody>\n",
       "</table>\n",
       "</div>"
      ],
      "text/plain": [
       "         Orden  Número material Texto breve material    Lote  \\\n",
       "200  200205686           123456  MATERIAL DESCRITION  24/108   \n",
       "201  200205695           123456  MATERIAL DESCRITION  24/106   \n",
       "202  200205696           123456  MATERIAL DESCRITION  24/107   \n",
       "203  200205687           123456  MATERIAL DESCRITION  24/109   \n",
       "204  200205688           123456  MATERIAL DESCRITION  24/110   \n",
       "\n",
       "    Fecha de inicio real Fecha de fin real  Cantidad entregada  \\\n",
       "200           2024-07-06        2024-08-09               13.63   \n",
       "201           2024-07-01        2024-08-06               13.69   \n",
       "202           2024-07-01        2024-08-06               13.45   \n",
       "203           2024-07-03        2024-08-26               11.35   \n",
       "204           2024-07-03        2024-08-06               13.77   \n",
       "\n",
       "    Unidad de medida  \n",
       "200                L  \n",
       "201                L  \n",
       "202                L  \n",
       "203                L  \n",
       "204                L  "
      ]
     },
     "execution_count": 7,
     "metadata": {},
     "output_type": "execute_result"
    }
   ],
   "source": [
    "of = pd.read_excel('../data/raw/OF 123456.xlsx')\n",
    "\n",
    "#show rows with missing values\n",
    "\n",
    "\n",
    "\n",
    "of.tail()\n"
   ]
  },
  {
   "cell_type": "code",
   "execution_count": 11,
   "metadata": {},
   "outputs": [
    {
     "data": {
      "text/plain": [
       "0     2023-04-24\n",
       "1     2023-04-24\n",
       "2     2023-04-25\n",
       "3     2023-04-25\n",
       "4     2023-05-02\n",
       "         ...    \n",
       "200   2024-07-06\n",
       "201   2024-07-01\n",
       "202   2024-07-01\n",
       "203   2024-07-03\n",
       "204   2024-07-03\n",
       "Name: Fecha de inicio real, Length: 205, dtype: datetime64[ns]"
      ]
     },
     "execution_count": 11,
     "metadata": {},
     "output_type": "execute_result"
    }
   ],
   "source": [
    "of[\"Fecha de inicio real\"]"
   ]
  },
  {
   "cell_type": "code",
   "execution_count": 16,
   "metadata": {},
   "outputs": [
    {
     "data": {
      "text/html": [
       "<div>\n",
       "<style scoped>\n",
       "    .dataframe tbody tr th:only-of-type {\n",
       "        vertical-align: middle;\n",
       "    }\n",
       "\n",
       "    .dataframe tbody tr th {\n",
       "        vertical-align: top;\n",
       "    }\n",
       "\n",
       "    .dataframe thead th {\n",
       "        text-align: right;\n",
       "    }\n",
       "</style>\n",
       "<table border=\"1\" class=\"dataframe\">\n",
       "  <thead>\n",
       "    <tr style=\"text-align: right;\">\n",
       "      <th></th>\n",
       "      <th>Orden</th>\n",
       "      <th>Número material</th>\n",
       "      <th>Texto breve material</th>\n",
       "      <th>Lote</th>\n",
       "      <th>Fecha de inicio real</th>\n",
       "      <th>Fecha de fin real</th>\n",
       "      <th>Cantidad entregada</th>\n",
       "      <th>Unidad de medida</th>\n",
       "    </tr>\n",
       "  </thead>\n",
       "  <tbody>\n",
       "    <tr>\n",
       "      <th>26</th>\n",
       "      <td>200184606</td>\n",
       "      <td>123456</td>\n",
       "      <td>MATERIAL DESCRITION</td>\n",
       "      <td>23/046</td>\n",
       "      <td>2023-07-17</td>\n",
       "      <td>2023-07-17</td>\n",
       "      <td>0.0</td>\n",
       "      <td>L</td>\n",
       "    </tr>\n",
       "    <tr>\n",
       "      <th>27</th>\n",
       "      <td>200184607</td>\n",
       "      <td>123456</td>\n",
       "      <td>MATERIAL DESCRITION</td>\n",
       "      <td>23/047</td>\n",
       "      <td>2023-07-17</td>\n",
       "      <td>2023-07-17</td>\n",
       "      <td>0.0</td>\n",
       "      <td>L</td>\n",
       "    </tr>\n",
       "  </tbody>\n",
       "</table>\n",
       "</div>"
      ],
      "text/plain": [
       "        Orden  Número material Texto breve material    Lote  \\\n",
       "26  200184606           123456  MATERIAL DESCRITION  23/046   \n",
       "27  200184607           123456  MATERIAL DESCRITION  23/047   \n",
       "\n",
       "   Fecha de inicio real Fecha de fin real  Cantidad entregada Unidad de medida  \n",
       "26           2023-07-17        2023-07-17                 0.0                L  \n",
       "27           2023-07-17        2023-07-17                 0.0                L  "
      ]
     },
     "execution_count": 16,
     "metadata": {},
     "output_type": "execute_result"
    }
   ],
   "source": [
    "#Show rown with min value for cantidad entregada\n",
    "of[of[\"Cantidad entregada\"] == of[\"Cantidad entregada\"].min()]"
   ]
  },
  {
   "cell_type": "code",
   "execution_count": 17,
   "metadata": {},
   "outputs": [
    {
     "name": "stdout",
     "output_type": "stream",
     "text": [
      "13.538829268292684\n",
      "14.0\n"
     ]
    }
   ],
   "source": [
    "print(of[\"Cantidad entregada\"].mean())\n",
    "print(of[\"Cantidad entregada\"].max())"
   ]
  },
  {
   "cell_type": "code",
   "execution_count": 6,
   "metadata": {},
   "outputs": [
    {
     "name": "stdout",
     "output_type": "stream",
     "text": [
      "Empty DataFrame\n",
      "Columns: [Orden, Número material, Texto breve material, Lote, Fecha de inicio real, Fecha de fin real, Cantidad entregada, Unidad de medida]\n",
      "Index: []\n"
     ]
    }
   ],
   "source": [
    "print(of[of.isnull().any(axis=1)])"
   ]
  },
  {
   "cell_type": "code",
   "execution_count": 10,
   "metadata": {},
   "outputs": [
    {
     "data": {
      "text/html": [
       "<div>\n",
       "<style scoped>\n",
       "    .dataframe tbody tr th:only-of-type {\n",
       "        vertical-align: middle;\n",
       "    }\n",
       "\n",
       "    .dataframe tbody tr th {\n",
       "        vertical-align: top;\n",
       "    }\n",
       "\n",
       "    .dataframe thead th {\n",
       "        text-align: right;\n",
       "    }\n",
       "</style>\n",
       "<table border=\"1\" class=\"dataframe\">\n",
       "  <thead>\n",
       "    <tr style=\"text-align: right;\">\n",
       "      <th></th>\n",
       "      <th>Lote</th>\n",
       "      <th>Material</th>\n",
       "      <th>Lote interno</th>\n",
       "      <th>Lote Proveedor</th>\n",
       "      <th>Qty</th>\n",
       "      <th>Fecha recepción</th>\n",
       "      <th>Fecha traslado</th>\n",
       "    </tr>\n",
       "  </thead>\n",
       "  <tbody>\n",
       "    <tr>\n",
       "      <th>0</th>\n",
       "      <td>23019</td>\n",
       "      <td>100001</td>\n",
       "      <td>737133</td>\n",
       "      <td>AM1798471</td>\n",
       "      <td>72.0</td>\n",
       "      <td>2023-01-12 00:00:00</td>\n",
       "      <td>2023-03-22 00:00:00</td>\n",
       "    </tr>\n",
       "    <tr>\n",
       "      <th>1</th>\n",
       "      <td>23019</td>\n",
       "      <td>100002</td>\n",
       "      <td>676155</td>\n",
       "      <td>K53821835</td>\n",
       "      <td>72.0</td>\n",
       "      <td>2022-03-07 00:00:00</td>\n",
       "      <td>2023-03-15 00:00:00</td>\n",
       "    </tr>\n",
       "    <tr>\n",
       "      <th>2</th>\n",
       "      <td>23019</td>\n",
       "      <td>100003</td>\n",
       "      <td>636590</td>\n",
       "      <td>0005065337</td>\n",
       "      <td>4800.0</td>\n",
       "      <td>2021-08-27 00:00:00</td>\n",
       "      <td>2023-03-13 00:00:00</td>\n",
       "    </tr>\n",
       "    <tr>\n",
       "      <th>3</th>\n",
       "      <td>23019</td>\n",
       "      <td>100004</td>\n",
       "      <td>655968</td>\n",
       "      <td>2414150</td>\n",
       "      <td>320.0</td>\n",
       "      <td>2021-11-25 00:00:00</td>\n",
       "      <td>2023-03-10 00:00:00</td>\n",
       "    </tr>\n",
       "    <tr>\n",
       "      <th>4</th>\n",
       "      <td>23019</td>\n",
       "      <td>100005</td>\n",
       "      <td>723171</td>\n",
       "      <td>M3889</td>\n",
       "      <td>96.0</td>\n",
       "      <td>2022-11-04 00:00:00</td>\n",
       "      <td>2023-03-03 00:00:00</td>\n",
       "    </tr>\n",
       "  </tbody>\n",
       "</table>\n",
       "</div>"
      ],
      "text/plain": [
       "    Lote  Material  Lote interno Lote Proveedor     Qty      Fecha recepción  \\\n",
       "0  23019    100001        737133      AM1798471    72.0  2023-01-12 00:00:00   \n",
       "1  23019    100002        676155      K53821835    72.0  2022-03-07 00:00:00   \n",
       "2  23019    100003        636590     0005065337  4800.0  2021-08-27 00:00:00   \n",
       "3  23019    100004        655968        2414150   320.0  2021-11-25 00:00:00   \n",
       "4  23019    100005        723171          M3889    96.0  2022-11-04 00:00:00   \n",
       "\n",
       "        Fecha traslado  \n",
       "0  2023-03-22 00:00:00  \n",
       "1  2023-03-15 00:00:00  \n",
       "2  2023-03-13 00:00:00  \n",
       "3  2023-03-10 00:00:00  \n",
       "4  2023-03-03 00:00:00  "
      ]
     },
     "execution_count": 10,
     "metadata": {},
     "output_type": "execute_result"
    }
   ],
   "source": [
    "mov_comp = pd.read_excel('../data/raw/Movimientos componentes.xlsx')\n",
    "\n",
    "mov_comp.head()"
   ]
  },
  {
   "cell_type": "code",
   "execution_count": 29,
   "metadata": {},
   "outputs": [
    {
     "data": {
      "text/plain": [
       "Index(['LOTE', 'Orden en el encadenado', 'LOTE parental', 'ID Bioreactor',\n",
       "       'Fecha/hora inicio', 'Fecha/hora fin', 'Volumen de inóculo utilizado',\n",
       "       'Turbidez inicio cultivo', 'Turbidez fin cultivo',\n",
       "       'Viabilidad final cultivo', 'ID Centrífuga',\n",
       "       'Centrifugación 1 turbidez', 'Centrifugación 2 turbidez', 'Producto 1',\n",
       "       'Producto 2'],\n",
       "      dtype='object')"
      ]
     },
     "execution_count": 29,
     "metadata": {},
     "output_type": "execute_result"
    }
   ],
   "source": [
    "Fases_prod = pd.read_excel('../data/raw/Fases producción.xlsx', sheet_name='Cultivo final')\n",
    "\n",
    "Fases_prod.columns\n"
   ]
  },
  {
   "cell_type": "code",
   "execution_count": 32,
   "metadata": {},
   "outputs": [
    {
     "data": {
      "text/plain": [
       "np.float64(48510.7872476611)"
      ]
     },
     "execution_count": 32,
     "metadata": {},
     "output_type": "execute_result"
    }
   ],
   "source": [
    "\n",
    "from sklearn.ensemble import RandomForestRegressor\n",
    "from sklearn.model_selection import train_test_split\n",
    "\n",
    "\n",
    "\n",
    "X = Fases_prod[[\"Volumen de inóculo utilizado\", \"Turbidez inicio cultivo\", \"Turbidez fin cultivo\"]]\n",
    "y = Fases_prod[\"Producto 1\"]\n",
    "\n",
    "X_train, X_test, y_train, y_test = train_test_split(X, y, test_size=0.2, random_state=42)\n",
    "\n",
    "rf = RandomForestRegressor(n_estimators=100, random_state=42)\n",
    "\n",
    "rf.fit(X_train, y_train)\n",
    "\n",
    "y_pred = rf.predict(X_test)\n",
    "\n",
    "\n",
    "\n",
    "\n",
    "\n"
   ]
  },
  {
   "cell_type": "code",
   "execution_count": 34,
   "metadata": {},
   "outputs": [
    {
     "data": {
      "text/plain": [
       "220.251645277989"
      ]
     },
     "execution_count": 34,
     "metadata": {},
     "output_type": "execute_result"
    }
   ],
   "source": [
    "import math\n",
    "math.sqrt(mean_squared_error(y_test, y_pred))\n",
    "\n",
    "\n",
    "\n"
   ]
  },
  {
   "cell_type": "code",
   "execution_count": 36,
   "metadata": {},
   "outputs": [
    {
     "data": {
      "text/plain": [
       "0.2755640009287371"
      ]
     },
     "execution_count": 36,
     "metadata": {},
     "output_type": "execute_result"
    }
   ],
   "source": [
    "from sklearn.metrics import mean_squared_error, r2_score\n",
    "r2_score(y_test, y_pred)"
   ]
  }
 ],
 "metadata": {
  "kernelspec": {
   "display_name": "losca-qD-c4Obs-py3.11",
   "language": "python",
   "name": "python3"
  },
  "language_info": {
   "codemirror_mode": {
    "name": "ipython",
    "version": 3
   },
   "file_extension": ".py",
   "mimetype": "text/x-python",
   "name": "python",
   "nbconvert_exporter": "python",
   "pygments_lexer": "ipython3",
   "version": "3.11.5"
  }
 },
 "nbformat": 4,
 "nbformat_minor": 2
}
