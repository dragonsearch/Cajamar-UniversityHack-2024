{
 "cells": [
  {
   "cell_type": "code",
   "execution_count": 3,
   "metadata": {},
   "outputs": [
    {
     "name": "stdout",
     "output_type": "stream",
     "text": [
      "Iniciando lectura de archivos...\n",
      "Leyendo archivo Centrífuga 17825.xlsx...\n",
      "Leyendo archivo...\n",
      "Extrayendo número de centrífuga...\n",
      "Añadiendo columna 'Num_centrífuga'...\n",
      "Eliminando 'XXXXX_' de los nombres de las columnas...\n",
      "Reordenando columnas...\n",
      "Renombrando columnas...\n",
      "Añadiendo dataframe a la lista...\n",
      "Leyendo archivo Centrífuga 12912.xlsx...\n",
      "Leyendo archivo...\n",
      "Extrayendo número de centrífuga...\n",
      "Añadiendo columna 'Num_centrífuga'...\n",
      "Eliminando 'XXXXX_' de los nombres de las columnas...\n",
      "Reordenando columnas...\n",
      "Renombrando columnas...\n",
      "Añadiendo dataframe a la lista...\n",
      "Leyendo archivo Centrífuga 14246.xlsx...\n",
      "Leyendo archivo...\n",
      "Extrayendo número de centrífuga...\n",
      "Añadiendo columna 'Num_centrífuga'...\n",
      "Eliminando 'XXXXX_' de los nombres de las columnas...\n",
      "Reordenando columnas...\n",
      "Renombrando columnas...\n",
      "Añadiendo dataframe a la lista...\n",
      "Concatenando dataframes...\n",
      "Guardando archivo Excel...\n"
     ]
    }
   ],
   "source": [
    "import pandas as pd\n",
    "import numpy as np\n",
    "import os\n",
    "\n",
    "# Ruta de la carpeta que contiene los archivos Excel\n",
    "folder_path = '../../data/raw'\n",
    "\n",
    "# Lista para almacenar los dataframes\n",
    "dfs = []\n",
    "\n",
    "# Iterar sobre los archivos en la carpeta\n",
    "print(\"Iniciando lectura de archivos...\")\n",
    "for filename in os.listdir(folder_path):\n",
    "    # Verificar si el archivo es un archivo Excel de un biorreactor y no acaba con \":Zone.Identifier\"\n",
    "    if filename.startswith(\"Centrífuga\") and filename.endswith(\".xlsx\") and not filename.endswith(\":Zone.Identifier\"):\n",
    "        print(f\"Leyendo archivo {filename}...\")\n",
    "        # Leer el archivo Excel\n",
    "        print(\"Leyendo archivo...\")\n",
    "        df = pd.read_excel(os.path.join(folder_path, filename), sheet_name=\"Datos\")\n",
    "        \n",
    "        # Extraer el número del biorreactor del nombre del archivo\n",
    "        print(\"Extrayendo número de centrífuga...\")\n",
    "        num_centrifuga = filename.split()[1].split('.')[0]\n",
    "        \n",
    "        # Añadir la columna \"Num_biorreactor\"\n",
    "        print(\"Añadiendo columna 'Num_centrífuga'...\")\n",
    "        df['Num_centrifuga'] = float(num_centrifuga)\n",
    "\n",
    "        #Eliminar \"XXXXX_\" de los nombres de las columnas (los 5 primeros números)\n",
    "        print(\"Eliminando 'XXXXX_' de los nombres de las columnas...\")\n",
    "        df.columns = df.columns.str.replace(r'^\\d{5}_', '', regex=True)\n",
    "        \n",
    "        # Reordenar columnas de tal manera: Datetime, EN_parcial, EN_total, D01780551.PV, D01906041.PV, D01916047.PV, D01916503.PV, D01919022.PV, Num_centrifuga\n",
    "        print(\"Reordenando columnas...\")\n",
    "        df = df[['DateTime', 'CTF0101.EN_Parcial', 'CTF0101.EN_Total', 'D01780551.PV', 'D01906041.PV', 'D01916047.PV', 'D01916503.PV', 'D01919022.PV', 'Num_centrifuga']]\n",
    "\n",
    "        #Renombrar columnas\n",
    "        print(\"Renombrando columnas...\")\n",
    "        df.columns = ['DateTime', 'EN_parcial', 'EN_total', 'Apertura valvula agua', 'Caudal', 'Contrapresion', 'Presion agua', 'Velocidad separacion', 'Num_centrifuga']\n",
    "        \n",
    "        # Añadir el dataframe a la lista\n",
    "        print(\"Añadiendo dataframe a la lista...\")\n",
    "        dfs.append(df)\n",
    "\n",
    "# Concatenar todos los dataframes en uno solo (uniendo filas)\n",
    "print(\"Concatenando dataframes...\")\n",
    "df_total = pd.concat(dfs, ignore_index=True)\n",
    "\n",
    "# Guardar el dataframe resultante en un nuevo archivo Excel\n",
    "print(\"Guardando archivo Excel...\")\n",
    "df_total.to_excel('../../data/processed/Centrifuga_Total.xlsx', index=False)"
   ]
  },
  {
   "cell_type": "code",
   "execution_count": 4,
   "metadata": {},
   "outputs": [
    {
     "name": "stdout",
     "output_type": "stream",
     "text": [
      "Tipo de dato de cada columna:\n",
      "DateTime                  object\n",
      "EN_parcial               float64\n",
      "EN_total                 float64\n",
      "Apertura valvula agua    float64\n",
      "Caudal                   float64\n",
      "Contrapresion            float64\n",
      "Presion agua             float64\n",
      "Velocidad separacion     float64\n",
      "Num_centrifuga           float64\n",
      "dtype: object\n"
     ]
    }
   ],
   "source": [
    "#Tipo de dato de cada columna\n",
    "print(\"Tipo de dato de cada columna:\")\n",
    "print(df_total.dtypes)\n"
   ]
  }
 ],
 "metadata": {
  "kernelspec": {
   "display_name": "losca-RpR7jZx6-py3.11",
   "language": "python",
   "name": "python3"
  },
  "language_info": {
   "codemirror_mode": {
    "name": "ipython",
    "version": 3
   },
   "file_extension": ".py",
   "mimetype": "text/x-python",
   "name": "python",
   "nbconvert_exporter": "python",
   "pygments_lexer": "ipython3",
   "version": "3.11.5"
  }
 },
 "nbformat": 4,
 "nbformat_minor": 2
}
