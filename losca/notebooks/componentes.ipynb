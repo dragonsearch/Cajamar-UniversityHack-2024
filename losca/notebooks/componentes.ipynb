{
 "cells": [
  {
   "cell_type": "code",
   "execution_count": 926,
   "metadata": {},
   "outputs": [],
   "source": [
    "import pandas as pd\n",
    "import matplotlib.pyplot as plt"
   ]
  },
  {
   "cell_type": "code",
   "execution_count": 927,
   "metadata": {},
   "outputs": [],
   "source": [
    "dtypes = {'Lote': str, 'Material': str, 'Lote interno': str, 'Lote Proveedor': str, 'Qty': float, 'Fecha recepción': object, 'Fecha traslado': object}"
   ]
  },
  {
   "cell_type": "code",
   "execution_count": 928,
   "metadata": {},
   "outputs": [
    {
     "data": {
      "text/html": [
       "<div>\n",
       "<style scoped>\n",
       "    .dataframe tbody tr th:only-of-type {\n",
       "        vertical-align: middle;\n",
       "    }\n",
       "\n",
       "    .dataframe tbody tr th {\n",
       "        vertical-align: top;\n",
       "    }\n",
       "\n",
       "    .dataframe thead th {\n",
       "        text-align: right;\n",
       "    }\n",
       "</style>\n",
       "<table border=\"1\" class=\"dataframe\">\n",
       "  <thead>\n",
       "    <tr style=\"text-align: right;\">\n",
       "      <th></th>\n",
       "      <th>Lote</th>\n",
       "      <th>Material</th>\n",
       "      <th>Lote interno</th>\n",
       "      <th>Lote Proveedor</th>\n",
       "      <th>Qty</th>\n",
       "      <th>Fecha recepción</th>\n",
       "      <th>Fecha traslado</th>\n",
       "    </tr>\n",
       "  </thead>\n",
       "  <tbody>\n",
       "    <tr>\n",
       "      <th>0</th>\n",
       "      <td>23019</td>\n",
       "      <td>100001</td>\n",
       "      <td>0000737133</td>\n",
       "      <td>AM1798471</td>\n",
       "      <td>72.0</td>\n",
       "      <td>2023-01-12 00:00:00</td>\n",
       "      <td>2023-03-22 00:00:00</td>\n",
       "    </tr>\n",
       "    <tr>\n",
       "      <th>1</th>\n",
       "      <td>23019</td>\n",
       "      <td>100002</td>\n",
       "      <td>0000676155</td>\n",
       "      <td>K53821835</td>\n",
       "      <td>72.0</td>\n",
       "      <td>2022-03-07 00:00:00</td>\n",
       "      <td>2023-03-15 00:00:00</td>\n",
       "    </tr>\n",
       "    <tr>\n",
       "      <th>2</th>\n",
       "      <td>23019</td>\n",
       "      <td>100003</td>\n",
       "      <td>0000636590</td>\n",
       "      <td>0005065337</td>\n",
       "      <td>4800.0</td>\n",
       "      <td>2021-08-27 00:00:00</td>\n",
       "      <td>2023-03-13 00:00:00</td>\n",
       "    </tr>\n",
       "    <tr>\n",
       "      <th>3</th>\n",
       "      <td>23019</td>\n",
       "      <td>100004</td>\n",
       "      <td>0000655968</td>\n",
       "      <td>2414150</td>\n",
       "      <td>320.0</td>\n",
       "      <td>2021-11-25 00:00:00</td>\n",
       "      <td>2023-03-10 00:00:00</td>\n",
       "    </tr>\n",
       "    <tr>\n",
       "      <th>4</th>\n",
       "      <td>23019</td>\n",
       "      <td>100005</td>\n",
       "      <td>0000723171</td>\n",
       "      <td>M3889</td>\n",
       "      <td>96.0</td>\n",
       "      <td>2022-11-04 00:00:00</td>\n",
       "      <td>2023-03-03 00:00:00</td>\n",
       "    </tr>\n",
       "  </tbody>\n",
       "</table>\n",
       "</div>"
      ],
      "text/plain": [
       "    Lote Material Lote interno Lote Proveedor     Qty      Fecha recepción  \\\n",
       "0  23019   100001   0000737133      AM1798471    72.0  2023-01-12 00:00:00   \n",
       "1  23019   100002   0000676155      K53821835    72.0  2022-03-07 00:00:00   \n",
       "2  23019   100003   0000636590     0005065337  4800.0  2021-08-27 00:00:00   \n",
       "3  23019   100004   0000655968        2414150   320.0  2021-11-25 00:00:00   \n",
       "4  23019   100005   0000723171          M3889    96.0  2022-11-04 00:00:00   \n",
       "\n",
       "        Fecha traslado  \n",
       "0  2023-03-22 00:00:00  \n",
       "1  2023-03-15 00:00:00  \n",
       "2  2023-03-13 00:00:00  \n",
       "3  2023-03-10 00:00:00  \n",
       "4  2023-03-03 00:00:00  "
      ]
     },
     "execution_count": 928,
     "metadata": {},
     "output_type": "execute_result"
    }
   ],
   "source": [
    "mc = pd.read_excel('../../data/raw/Movimientos componentes.xlsx', dtype=dtypes)\n",
    "mc.head()"
   ]
  },
  {
   "cell_type": "code",
   "execution_count": 929,
   "metadata": {},
   "outputs": [
    {
     "name": "stdout",
     "output_type": "stream",
     "text": [
      "<class 'pandas.core.frame.DataFrame'>\n",
      "RangeIndex: 5024 entries, 0 to 5023\n",
      "Data columns (total 7 columns):\n",
      " #   Column           Non-Null Count  Dtype  \n",
      "---  ------           --------------  -----  \n",
      " 0   Lote             5024 non-null   object \n",
      " 1   Material         5024 non-null   object \n",
      " 2   Lote interno     5024 non-null   object \n",
      " 3   Lote Proveedor   5024 non-null   object \n",
      " 4   Qty              5024 non-null   float64\n",
      " 5   Fecha recepción  5024 non-null   object \n",
      " 6   Fecha traslado   5024 non-null   object \n",
      "dtypes: float64(1), object(6)\n",
      "memory usage: 274.9+ KB\n"
     ]
    }
   ],
   "source": [
    "mc.info()"
   ]
  },
  {
   "cell_type": "markdown",
   "metadata": {},
   "source": [
    "Fecha recepción y traslado are not datetimes"
   ]
  },
  {
   "cell_type": "code",
   "execution_count": 930,
   "metadata": {},
   "outputs": [
    {
     "data": {
      "text/html": [
       "<div>\n",
       "<style scoped>\n",
       "    .dataframe tbody tr th:only-of-type {\n",
       "        vertical-align: middle;\n",
       "    }\n",
       "\n",
       "    .dataframe tbody tr th {\n",
       "        vertical-align: top;\n",
       "    }\n",
       "\n",
       "    .dataframe thead th {\n",
       "        text-align: right;\n",
       "    }\n",
       "</style>\n",
       "<table border=\"1\" class=\"dataframe\">\n",
       "  <thead>\n",
       "    <tr style=\"text-align: right;\">\n",
       "      <th></th>\n",
       "      <th>Qty</th>\n",
       "    </tr>\n",
       "  </thead>\n",
       "  <tbody>\n",
       "    <tr>\n",
       "      <th>count</th>\n",
       "      <td>5024.000000</td>\n",
       "    </tr>\n",
       "    <tr>\n",
       "      <th>mean</th>\n",
       "      <td>1639.163955</td>\n",
       "    </tr>\n",
       "    <tr>\n",
       "      <th>std</th>\n",
       "      <td>2729.803662</td>\n",
       "    </tr>\n",
       "    <tr>\n",
       "      <th>min</th>\n",
       "      <td>-8352.000000</td>\n",
       "    </tr>\n",
       "    <tr>\n",
       "      <th>25%</th>\n",
       "      <td>67.200000</td>\n",
       "    </tr>\n",
       "    <tr>\n",
       "      <th>50%</th>\n",
       "      <td>144.940000</td>\n",
       "    </tr>\n",
       "    <tr>\n",
       "      <th>75%</th>\n",
       "      <td>2047.200000</td>\n",
       "    </tr>\n",
       "    <tr>\n",
       "      <th>max</th>\n",
       "      <td>9600.000000</td>\n",
       "    </tr>\n",
       "  </tbody>\n",
       "</table>\n",
       "</div>"
      ],
      "text/plain": [
       "               Qty\n",
       "count  5024.000000\n",
       "mean   1639.163955\n",
       "std    2729.803662\n",
       "min   -8352.000000\n",
       "25%      67.200000\n",
       "50%     144.940000\n",
       "75%    2047.200000\n",
       "max    9600.000000"
      ]
     },
     "execution_count": 930,
     "metadata": {},
     "output_type": "execute_result"
    }
   ],
   "source": [
    "mc.describe()"
   ]
  },
  {
   "cell_type": "markdown",
   "metadata": {},
   "source": [
    "It is weird for a quantity to be less than 0 (even 0 is weird!)"
   ]
  },
  {
   "cell_type": "code",
   "execution_count": 931,
   "metadata": {},
   "outputs": [
    {
     "data": {
      "text/plain": [
       "np.int64(104)"
      ]
     },
     "execution_count": 931,
     "metadata": {},
     "output_type": "execute_result"
    }
   ],
   "source": [
    "# Duplicated rows count\n",
    "mc.duplicated().sum()"
   ]
  },
  {
   "cell_type": "code",
   "execution_count": 932,
   "metadata": {},
   "outputs": [
    {
     "name": "stdout",
     "output_type": "stream",
     "text": [
      "202\n"
     ]
    },
    {
     "data": {
      "text/plain": [
       "np.int64(202)"
      ]
     },
     "execution_count": 932,
     "metadata": {},
     "output_type": "execute_result"
    }
   ],
   "source": [
    "# Lets take a look at the duplicated rows how many times they are duplicated\n",
    "df = mc.copy()\n",
    "# For each duplicated row we are going to count the number of times the row is duplicated\n",
    "df['duplicated'] = df.duplicated(keep=False)\n",
    "# Get those which are duplicated\n",
    "df = df[df['duplicated']]\n",
    "print(df[df['duplicated']].shape[0])\n",
    "# Get the row number 1\n",
    "#print(df.loc[df['Lote'] == df.iloc[1]['Lote']])\n",
    "# Count the number of times the row is duplicated using apply, axis = 1\n",
    "\n",
    "df['duplicated_count'] = df.apply(lambda x: df[df.eq(x).all(1)].shape[0], axis=1)\n",
    "df = df.drop_duplicates()\n",
    "df = df.sort_values(by='duplicated_count', ascending=False)\n",
    "# Sum\n",
    "df['duplicated_count'].sum()\n"
   ]
  },
  {
   "cell_type": "code",
   "execution_count": 933,
   "metadata": {},
   "outputs": [
    {
     "data": {
      "text/html": [
       "<div>\n",
       "<style scoped>\n",
       "    .dataframe tbody tr th:only-of-type {\n",
       "        vertical-align: middle;\n",
       "    }\n",
       "\n",
       "    .dataframe tbody tr th {\n",
       "        vertical-align: top;\n",
       "    }\n",
       "\n",
       "    .dataframe thead th {\n",
       "        text-align: right;\n",
       "    }\n",
       "</style>\n",
       "<table border=\"1\" class=\"dataframe\">\n",
       "  <thead>\n",
       "    <tr style=\"text-align: right;\">\n",
       "      <th></th>\n",
       "      <th>Lote</th>\n",
       "      <th>Material</th>\n",
       "      <th>Lote interno</th>\n",
       "      <th>Lote Proveedor</th>\n",
       "      <th>Qty</th>\n",
       "      <th>Fecha recepción</th>\n",
       "      <th>Fecha traslado</th>\n",
       "      <th>duplicated</th>\n",
       "      <th>duplicated_count</th>\n",
       "    </tr>\n",
       "  </thead>\n",
       "  <tbody>\n",
       "    <tr>\n",
       "      <th>4874</th>\n",
       "      <td>24097</td>\n",
       "      <td>100004</td>\n",
       "      <td>0000828959</td>\n",
       "      <td>LA-APS-0303</td>\n",
       "      <td>0.0</td>\n",
       "      <td>45404</td>\n",
       "      <td>45443</td>\n",
       "      <td>True</td>\n",
       "      <td>5</td>\n",
       "    </tr>\n",
       "    <tr>\n",
       "      <th>3377</th>\n",
       "      <td>24034</td>\n",
       "      <td>100006</td>\n",
       "      <td>0000676218</td>\n",
       "      <td>C4837</td>\n",
       "      <td>177.6</td>\n",
       "      <td>2022-03-07 00:00:00</td>\n",
       "      <td>2024-02-01 00:00:00</td>\n",
       "      <td>True</td>\n",
       "      <td>3</td>\n",
       "    </tr>\n",
       "    <tr>\n",
       "      <th>3535</th>\n",
       "      <td>24038</td>\n",
       "      <td>100011</td>\n",
       "      <td>0000804674</td>\n",
       "      <td>0002408591</td>\n",
       "      <td>3200.0</td>\n",
       "      <td>2023-12-19 00:00:00</td>\n",
       "      <td>2024-02-15 00:00:00</td>\n",
       "      <td>True</td>\n",
       "      <td>3</td>\n",
       "    </tr>\n",
       "    <tr>\n",
       "      <th>3524</th>\n",
       "      <td>24038</td>\n",
       "      <td>100003</td>\n",
       "      <td>0000677338</td>\n",
       "      <td>0005645346</td>\n",
       "      <td>4800.0</td>\n",
       "      <td>2022-03-11 00:00:00</td>\n",
       "      <td>2024-02-14 00:00:00</td>\n",
       "      <td>True</td>\n",
       "      <td>3</td>\n",
       "    </tr>\n",
       "    <tr>\n",
       "      <th>1814</th>\n",
       "      <td>23093</td>\n",
       "      <td>100002</td>\n",
       "      <td>0000764791</td>\n",
       "      <td>K54491535</td>\n",
       "      <td>384.0</td>\n",
       "      <td>2023-05-25 00:00:00</td>\n",
       "      <td>2023-07-07 00:00:00</td>\n",
       "      <td>True</td>\n",
       "      <td>2</td>\n",
       "    </tr>\n",
       "    <tr>\n",
       "      <th>2141</th>\n",
       "      <td>23115</td>\n",
       "      <td>100012</td>\n",
       "      <td>0000780017</td>\n",
       "      <td>3178726</td>\n",
       "      <td>7872.0</td>\n",
       "      <td>2023-08-09 00:00:00</td>\n",
       "      <td>2023-10-27 00:00:00</td>\n",
       "      <td>True</td>\n",
       "      <td>2</td>\n",
       "    </tr>\n",
       "    <tr>\n",
       "      <th>1088</th>\n",
       "      <td>23066</td>\n",
       "      <td>100002</td>\n",
       "      <td>0000762483</td>\n",
       "      <td>K54491535</td>\n",
       "      <td>384.0</td>\n",
       "      <td>2023-05-16 00:00:00</td>\n",
       "      <td>2023-06-19 00:00:00</td>\n",
       "      <td>True</td>\n",
       "      <td>2</td>\n",
       "    </tr>\n",
       "    <tr>\n",
       "      <th>1091</th>\n",
       "      <td>23066</td>\n",
       "      <td>100012</td>\n",
       "      <td>0000769202</td>\n",
       "      <td>3121971</td>\n",
       "      <td>7872.0</td>\n",
       "      <td>2023-06-16 00:00:00</td>\n",
       "      <td>2023-07-05 00:00:00</td>\n",
       "      <td>True</td>\n",
       "      <td>2</td>\n",
       "    </tr>\n",
       "    <tr>\n",
       "      <th>2184</th>\n",
       "      <td>23116</td>\n",
       "      <td>100012</td>\n",
       "      <td>0000780017</td>\n",
       "      <td>3178726</td>\n",
       "      <td>7872.0</td>\n",
       "      <td>2023-08-09 00:00:00</td>\n",
       "      <td>2023-10-27 00:00:00</td>\n",
       "      <td>True</td>\n",
       "      <td>2</td>\n",
       "    </tr>\n",
       "    <tr>\n",
       "      <th>2355</th>\n",
       "      <td>23122</td>\n",
       "      <td>100012</td>\n",
       "      <td>0000780018</td>\n",
       "      <td>3178726</td>\n",
       "      <td>7872.0</td>\n",
       "      <td>2023-08-09 00:00:00</td>\n",
       "      <td>2023-11-08 00:00:00</td>\n",
       "      <td>True</td>\n",
       "      <td>2</td>\n",
       "    </tr>\n",
       "  </tbody>\n",
       "</table>\n",
       "</div>"
      ],
      "text/plain": [
       "       Lote Material Lote interno Lote Proveedor     Qty      Fecha recepción  \\\n",
       "4874  24097   100004   0000828959    LA-APS-0303     0.0                45404   \n",
       "3377  24034   100006   0000676218          C4837   177.6  2022-03-07 00:00:00   \n",
       "3535  24038   100011   0000804674     0002408591  3200.0  2023-12-19 00:00:00   \n",
       "3524  24038   100003   0000677338     0005645346  4800.0  2022-03-11 00:00:00   \n",
       "1814  23093   100002   0000764791      K54491535   384.0  2023-05-25 00:00:00   \n",
       "2141  23115   100012   0000780017        3178726  7872.0  2023-08-09 00:00:00   \n",
       "1088  23066   100002   0000762483      K54491535   384.0  2023-05-16 00:00:00   \n",
       "1091  23066   100012   0000769202        3121971  7872.0  2023-06-16 00:00:00   \n",
       "2184  23116   100012   0000780017        3178726  7872.0  2023-08-09 00:00:00   \n",
       "2355  23122   100012   0000780018        3178726  7872.0  2023-08-09 00:00:00   \n",
       "\n",
       "           Fecha traslado  duplicated  duplicated_count  \n",
       "4874                45443        True                 5  \n",
       "3377  2024-02-01 00:00:00        True                 3  \n",
       "3535  2024-02-15 00:00:00        True                 3  \n",
       "3524  2024-02-14 00:00:00        True                 3  \n",
       "1814  2023-07-07 00:00:00        True                 2  \n",
       "2141  2023-10-27 00:00:00        True                 2  \n",
       "1088  2023-06-19 00:00:00        True                 2  \n",
       "1091  2023-07-05 00:00:00        True                 2  \n",
       "2184  2023-10-27 00:00:00        True                 2  \n",
       "2355  2023-11-08 00:00:00        True                 2  "
      ]
     },
     "execution_count": 933,
     "metadata": {},
     "output_type": "execute_result"
    }
   ],
   "source": [
    "df.head(10)"
   ]
  },
  {
   "cell_type": "code",
   "execution_count": 934,
   "metadata": {},
   "outputs": [
    {
     "data": {
      "text/html": [
       "<div>\n",
       "<style scoped>\n",
       "    .dataframe tbody tr th:only-of-type {\n",
       "        vertical-align: middle;\n",
       "    }\n",
       "\n",
       "    .dataframe tbody tr th {\n",
       "        vertical-align: top;\n",
       "    }\n",
       "\n",
       "    .dataframe thead th {\n",
       "        text-align: right;\n",
       "    }\n",
       "</style>\n",
       "<table border=\"1\" class=\"dataframe\">\n",
       "  <thead>\n",
       "    <tr style=\"text-align: right;\">\n",
       "      <th></th>\n",
       "      <th>Lote</th>\n",
       "      <th>Material</th>\n",
       "      <th>Lote interno</th>\n",
       "      <th>Lote Proveedor</th>\n",
       "      <th>Qty</th>\n",
       "      <th>Fecha recepción</th>\n",
       "      <th>Fecha traslado</th>\n",
       "      <th>duplicated</th>\n",
       "      <th>duplicated_count</th>\n",
       "    </tr>\n",
       "  </thead>\n",
       "  <tbody>\n",
       "    <tr>\n",
       "      <th>4213</th>\n",
       "      <td>24059</td>\n",
       "      <td>100001</td>\n",
       "      <td>0000804669</td>\n",
       "      <td>100977</td>\n",
       "      <td>72.0</td>\n",
       "      <td>2023-12-19 00:00:00</td>\n",
       "      <td>2024-03-04 00:00:00</td>\n",
       "      <td>True</td>\n",
       "      <td>2</td>\n",
       "    </tr>\n",
       "    <tr>\n",
       "      <th>4183</th>\n",
       "      <td>24058</td>\n",
       "      <td>100009</td>\n",
       "      <td>0000820609</td>\n",
       "      <td>0002439101</td>\n",
       "      <td>7680.0</td>\n",
       "      <td>2024-03-11 00:00:00</td>\n",
       "      <td>2024-03-28 00:00:00</td>\n",
       "      <td>True</td>\n",
       "      <td>2</td>\n",
       "    </tr>\n",
       "    <tr>\n",
       "      <th>4218</th>\n",
       "      <td>24059</td>\n",
       "      <td>100004</td>\n",
       "      <td>0000738806</td>\n",
       "      <td>2463830</td>\n",
       "      <td>320.0</td>\n",
       "      <td>2023-01-23 00:00:00</td>\n",
       "      <td>2024-03-21 00:00:00</td>\n",
       "      <td>True</td>\n",
       "      <td>2</td>\n",
       "    </tr>\n",
       "    <tr>\n",
       "      <th>4221</th>\n",
       "      <td>24059</td>\n",
       "      <td>100007</td>\n",
       "      <td>0000822448</td>\n",
       "      <td>4045286</td>\n",
       "      <td>8352.0</td>\n",
       "      <td>2024-03-19 00:00:00</td>\n",
       "      <td>2024-04-08 00:00:00</td>\n",
       "      <td>True</td>\n",
       "      <td>2</td>\n",
       "    </tr>\n",
       "    <tr>\n",
       "      <th>4855</th>\n",
       "      <td>24097</td>\n",
       "      <td>100009</td>\n",
       "      <td>0000827435</td>\n",
       "      <td>0002482368</td>\n",
       "      <td>7680.0</td>\n",
       "      <td>45397</td>\n",
       "      <td>45449</td>\n",
       "      <td>True</td>\n",
       "      <td>2</td>\n",
       "    </tr>\n",
       "    <tr>\n",
       "      <th>4846</th>\n",
       "      <td>24097</td>\n",
       "      <td>100011</td>\n",
       "      <td>0000814043</td>\n",
       "      <td>0002408673</td>\n",
       "      <td>3200.0</td>\n",
       "      <td>45329</td>\n",
       "      <td>45446</td>\n",
       "      <td>True</td>\n",
       "      <td>2</td>\n",
       "    </tr>\n",
       "    <tr>\n",
       "      <th>4858</th>\n",
       "      <td>24097</td>\n",
       "      <td>100001</td>\n",
       "      <td>0000826820</td>\n",
       "      <td>101372</td>\n",
       "      <td>57.6</td>\n",
       "      <td>45393</td>\n",
       "      <td>45433</td>\n",
       "      <td>True</td>\n",
       "      <td>2</td>\n",
       "    </tr>\n",
       "    <tr>\n",
       "      <th>4864</th>\n",
       "      <td>24097</td>\n",
       "      <td>100007</td>\n",
       "      <td>0000828650</td>\n",
       "      <td>4073765</td>\n",
       "      <td>8352.0</td>\n",
       "      <td>45401</td>\n",
       "      <td>45447</td>\n",
       "      <td>True</td>\n",
       "      <td>2</td>\n",
       "    </tr>\n",
       "    <tr>\n",
       "      <th>4867</th>\n",
       "      <td>24097</td>\n",
       "      <td>100006</td>\n",
       "      <td>0000819017</td>\n",
       "      <td>C5945</td>\n",
       "      <td>177.6</td>\n",
       "      <td>45352</td>\n",
       "      <td>45442</td>\n",
       "      <td>True</td>\n",
       "      <td>2</td>\n",
       "    </tr>\n",
       "    <tr>\n",
       "      <th>4881</th>\n",
       "      <td>24097</td>\n",
       "      <td>100003</td>\n",
       "      <td>0000826477</td>\n",
       "      <td>0007850532</td>\n",
       "      <td>4800.0</td>\n",
       "      <td>45392</td>\n",
       "      <td>45443</td>\n",
       "      <td>True</td>\n",
       "      <td>2</td>\n",
       "    </tr>\n",
       "  </tbody>\n",
       "</table>\n",
       "</div>"
      ],
      "text/plain": [
       "       Lote Material Lote interno Lote Proveedor     Qty      Fecha recepción  \\\n",
       "4213  24059   100001   0000804669         100977    72.0  2023-12-19 00:00:00   \n",
       "4183  24058   100009   0000820609     0002439101  7680.0  2024-03-11 00:00:00   \n",
       "4218  24059   100004   0000738806        2463830   320.0  2023-01-23 00:00:00   \n",
       "4221  24059   100007   0000822448        4045286  8352.0  2024-03-19 00:00:00   \n",
       "4855  24097   100009   0000827435     0002482368  7680.0                45397   \n",
       "4846  24097   100011   0000814043     0002408673  3200.0                45329   \n",
       "4858  24097   100001   0000826820         101372    57.6                45393   \n",
       "4864  24097   100007   0000828650        4073765  8352.0                45401   \n",
       "4867  24097   100006   0000819017          C5945   177.6                45352   \n",
       "4881  24097   100003   0000826477     0007850532  4800.0                45392   \n",
       "\n",
       "           Fecha traslado  duplicated  duplicated_count  \n",
       "4213  2024-03-04 00:00:00        True                 2  \n",
       "4183  2024-03-28 00:00:00        True                 2  \n",
       "4218  2024-03-21 00:00:00        True                 2  \n",
       "4221  2024-04-08 00:00:00        True                 2  \n",
       "4855                45449        True                 2  \n",
       "4846                45446        True                 2  \n",
       "4858                45433        True                 2  \n",
       "4864                45447        True                 2  \n",
       "4867                45442        True                 2  \n",
       "4881                45443        True                 2  "
      ]
     },
     "execution_count": 934,
     "metadata": {},
     "output_type": "execute_result"
    }
   ],
   "source": [
    "df.tail(10)"
   ]
  },
  {
   "cell_type": "markdown",
   "metadata": {},
   "source": [
    "### Is there a pattern in the duplicated rows?"
   ]
  },
  {
   "cell_type": "code",
   "execution_count": 935,
   "metadata": {},
   "outputs": [],
   "source": [
    "# Drop duplicated rows\n",
    "mc.drop_duplicates(inplace=True)"
   ]
  },
  {
   "cell_type": "markdown",
   "metadata": {},
   "source": [
    "# Columns\n"
   ]
  },
  {
   "cell_type": "markdown",
   "metadata": {},
   "source": [
    "## Qty "
   ]
  },
  {
   "cell_type": "code",
   "execution_count": 936,
   "metadata": {},
   "outputs": [
    {
     "name": "stdout",
     "output_type": "stream",
     "text": [
      "Number of values with digit characters: 4920\n",
      "Number of positive values: 4905\n",
      "Number of negative values: 12\n",
      "Number of zero values: 3\n"
     ]
    }
   ],
   "source": [
    "# Is there any non-alphanumeric character in the 'Qty' column?\n",
    "print('Number of values with digit characters: ' + str(mc['Qty'].astype(str).str.count('^[-0-9.]+').sum()))\n",
    "# Which ones are positive?\n",
    "print('Number of positive values: ' + str(mc[mc['Qty'] > 0]['Qty'].count()))\n",
    "# Which ones are negative?\n",
    "print('Number of negative values: ' + str(mc[mc['Qty'] < 0]['Qty'].count()))\n",
    "# Which ones are zero?\n",
    "print('Number of zero values: ' + str(mc[mc['Qty'] == 0]['Qty'].count()))"
   ]
  },
  {
   "cell_type": "code",
   "execution_count": 937,
   "metadata": {},
   "outputs": [
    {
     "data": {
      "text/html": [
       "<div>\n",
       "<style scoped>\n",
       "    .dataframe tbody tr th:only-of-type {\n",
       "        vertical-align: middle;\n",
       "    }\n",
       "\n",
       "    .dataframe tbody tr th {\n",
       "        vertical-align: top;\n",
       "    }\n",
       "\n",
       "    .dataframe thead th {\n",
       "        text-align: right;\n",
       "    }\n",
       "</style>\n",
       "<table border=\"1\" class=\"dataframe\">\n",
       "  <thead>\n",
       "    <tr style=\"text-align: right;\">\n",
       "      <th></th>\n",
       "      <th>Lote</th>\n",
       "      <th>Material</th>\n",
       "      <th>Lote interno</th>\n",
       "      <th>Lote Proveedor</th>\n",
       "      <th>Qty</th>\n",
       "      <th>Fecha recepción</th>\n",
       "      <th>Fecha traslado</th>\n",
       "    </tr>\n",
       "  </thead>\n",
       "  <tbody>\n",
       "    <tr>\n",
       "      <th>4845</th>\n",
       "      <td>24097</td>\n",
       "      <td>100012</td>\n",
       "      <td>0000800167</td>\n",
       "      <td>3262705</td>\n",
       "      <td>-7872.0</td>\n",
       "      <td>45254</td>\n",
       "      <td>45405</td>\n",
       "    </tr>\n",
       "    <tr>\n",
       "      <th>4847</th>\n",
       "      <td>24097</td>\n",
       "      <td>100011</td>\n",
       "      <td>0000814043</td>\n",
       "      <td>0002408673</td>\n",
       "      <td>-3200.0</td>\n",
       "      <td>45329</td>\n",
       "      <td>45446</td>\n",
       "    </tr>\n",
       "    <tr>\n",
       "      <th>4850</th>\n",
       "      <td>24097</td>\n",
       "      <td>100010</td>\n",
       "      <td>0000821622</td>\n",
       "      <td>0002452145</td>\n",
       "      <td>-96.8</td>\n",
       "      <td>45365</td>\n",
       "      <td>45449</td>\n",
       "    </tr>\n",
       "    <tr>\n",
       "      <th>4853</th>\n",
       "      <td>24097</td>\n",
       "      <td>100002</td>\n",
       "      <td>0000829314</td>\n",
       "      <td>K55514635</td>\n",
       "      <td>-384.8</td>\n",
       "      <td>45405</td>\n",
       "      <td>45446</td>\n",
       "    </tr>\n",
       "    <tr>\n",
       "      <th>4856</th>\n",
       "      <td>24097</td>\n",
       "      <td>100009</td>\n",
       "      <td>0000827435</td>\n",
       "      <td>0002482368</td>\n",
       "      <td>-7680.0</td>\n",
       "      <td>45397</td>\n",
       "      <td>45449</td>\n",
       "    </tr>\n",
       "    <tr>\n",
       "      <th>4859</th>\n",
       "      <td>24097</td>\n",
       "      <td>100001</td>\n",
       "      <td>0000826820</td>\n",
       "      <td>101372</td>\n",
       "      <td>-57.6</td>\n",
       "      <td>45393</td>\n",
       "      <td>45433</td>\n",
       "    </tr>\n",
       "    <tr>\n",
       "      <th>4862</th>\n",
       "      <td>24097</td>\n",
       "      <td>100008</td>\n",
       "      <td>0000821945</td>\n",
       "      <td>A1682579</td>\n",
       "      <td>-144.8</td>\n",
       "      <td>45366</td>\n",
       "      <td>45442</td>\n",
       "    </tr>\n",
       "    <tr>\n",
       "      <th>4865</th>\n",
       "      <td>24097</td>\n",
       "      <td>100007</td>\n",
       "      <td>0000828650</td>\n",
       "      <td>4073765</td>\n",
       "      <td>-8352.0</td>\n",
       "      <td>45401</td>\n",
       "      <td>45447</td>\n",
       "    </tr>\n",
       "    <tr>\n",
       "      <th>4868</th>\n",
       "      <td>24097</td>\n",
       "      <td>100006</td>\n",
       "      <td>0000819017</td>\n",
       "      <td>C5945</td>\n",
       "      <td>-177.6</td>\n",
       "      <td>45352</td>\n",
       "      <td>45442</td>\n",
       "    </tr>\n",
       "    <tr>\n",
       "      <th>4871</th>\n",
       "      <td>24097</td>\n",
       "      <td>100005</td>\n",
       "      <td>0000723171</td>\n",
       "      <td>M3889</td>\n",
       "      <td>-96.8</td>\n",
       "      <td>44869</td>\n",
       "      <td>45355</td>\n",
       "    </tr>\n",
       "    <tr>\n",
       "      <th>4878</th>\n",
       "      <td>24097</td>\n",
       "      <td>100004</td>\n",
       "      <td>0000828959</td>\n",
       "      <td>LA-APS-0303</td>\n",
       "      <td>-187.2</td>\n",
       "      <td>45404</td>\n",
       "      <td>45443</td>\n",
       "    </tr>\n",
       "    <tr>\n",
       "      <th>4882</th>\n",
       "      <td>24097</td>\n",
       "      <td>100003</td>\n",
       "      <td>0000826477</td>\n",
       "      <td>0007850532</td>\n",
       "      <td>-4800.0</td>\n",
       "      <td>45392</td>\n",
       "      <td>45443</td>\n",
       "    </tr>\n",
       "  </tbody>\n",
       "</table>\n",
       "</div>"
      ],
      "text/plain": [
       "       Lote Material Lote interno Lote Proveedor     Qty Fecha recepción  \\\n",
       "4845  24097   100012   0000800167        3262705 -7872.0           45254   \n",
       "4847  24097   100011   0000814043     0002408673 -3200.0           45329   \n",
       "4850  24097   100010   0000821622     0002452145   -96.8           45365   \n",
       "4853  24097   100002   0000829314      K55514635  -384.8           45405   \n",
       "4856  24097   100009   0000827435     0002482368 -7680.0           45397   \n",
       "4859  24097   100001   0000826820         101372   -57.6           45393   \n",
       "4862  24097   100008   0000821945       A1682579  -144.8           45366   \n",
       "4865  24097   100007   0000828650        4073765 -8352.0           45401   \n",
       "4868  24097   100006   0000819017          C5945  -177.6           45352   \n",
       "4871  24097   100005   0000723171          M3889   -96.8           44869   \n",
       "4878  24097   100004   0000828959    LA-APS-0303  -187.2           45404   \n",
       "4882  24097   100003   0000826477     0007850532 -4800.0           45392   \n",
       "\n",
       "     Fecha traslado  \n",
       "4845          45405  \n",
       "4847          45446  \n",
       "4850          45449  \n",
       "4853          45446  \n",
       "4856          45449  \n",
       "4859          45433  \n",
       "4862          45442  \n",
       "4865          45447  \n",
       "4868          45442  \n",
       "4871          45355  \n",
       "4878          45443  \n",
       "4882          45443  "
      ]
     },
     "execution_count": 937,
     "metadata": {},
     "output_type": "execute_result"
    }
   ],
   "source": [
    "# Lets show the negative values\n",
    "mc[mc['Qty'] < 0]"
   ]
  },
  {
   "cell_type": "code",
   "execution_count": 938,
   "metadata": {},
   "outputs": [
    {
     "data": {
      "text/html": [
       "<div>\n",
       "<style scoped>\n",
       "    .dataframe tbody tr th:only-of-type {\n",
       "        vertical-align: middle;\n",
       "    }\n",
       "\n",
       "    .dataframe tbody tr th {\n",
       "        vertical-align: top;\n",
       "    }\n",
       "\n",
       "    .dataframe thead th {\n",
       "        text-align: right;\n",
       "    }\n",
       "</style>\n",
       "<table border=\"1\" class=\"dataframe\">\n",
       "  <thead>\n",
       "    <tr style=\"text-align: right;\">\n",
       "      <th></th>\n",
       "      <th>Lote</th>\n",
       "      <th>Material</th>\n",
       "      <th>Lote interno</th>\n",
       "      <th>Lote Proveedor</th>\n",
       "      <th>Qty</th>\n",
       "      <th>Fecha recepción</th>\n",
       "      <th>Fecha traslado</th>\n",
       "    </tr>\n",
       "  </thead>\n",
       "  <tbody>\n",
       "    <tr>\n",
       "      <th>677</th>\n",
       "      <td>23048</td>\n",
       "      <td>100004</td>\n",
       "      <td>0000655974</td>\n",
       "      <td>2414142</td>\n",
       "      <td>0.0</td>\n",
       "      <td>2021-11-25 00:00:00</td>\n",
       "      <td>2023-03-23 00:00:00</td>\n",
       "    </tr>\n",
       "    <tr>\n",
       "      <th>2214</th>\n",
       "      <td>23117</td>\n",
       "      <td>100004</td>\n",
       "      <td>0000785548</td>\n",
       "      <td>KA-APS-0306</td>\n",
       "      <td>0.0</td>\n",
       "      <td>2023-09-13 00:00:00</td>\n",
       "      <td>2023-11-06 00:00:00</td>\n",
       "    </tr>\n",
       "    <tr>\n",
       "      <th>4874</th>\n",
       "      <td>24097</td>\n",
       "      <td>100004</td>\n",
       "      <td>0000828959</td>\n",
       "      <td>LA-APS-0303</td>\n",
       "      <td>0.0</td>\n",
       "      <td>45404</td>\n",
       "      <td>45443</td>\n",
       "    </tr>\n",
       "  </tbody>\n",
       "</table>\n",
       "</div>"
      ],
      "text/plain": [
       "       Lote Material Lote interno Lote Proveedor  Qty      Fecha recepción  \\\n",
       "677   23048   100004   0000655974        2414142  0.0  2021-11-25 00:00:00   \n",
       "2214  23117   100004   0000785548    KA-APS-0306  0.0  2023-09-13 00:00:00   \n",
       "4874  24097   100004   0000828959    LA-APS-0303  0.0                45404   \n",
       "\n",
       "           Fecha traslado  \n",
       "677   2023-03-23 00:00:00  \n",
       "2214  2023-11-06 00:00:00  \n",
       "4874                45443  "
      ]
     },
     "execution_count": 938,
     "metadata": {},
     "output_type": "execute_result"
    }
   ],
   "source": [
    "# Lets show the zero values\n",
    "mc[mc['Qty'] == 0]"
   ]
  },
  {
   "cell_type": "code",
   "execution_count": 939,
   "metadata": {},
   "outputs": [
    {
     "data": {
      "text/html": [
       "<div>\n",
       "<style scoped>\n",
       "    .dataframe tbody tr th:only-of-type {\n",
       "        vertical-align: middle;\n",
       "    }\n",
       "\n",
       "    .dataframe tbody tr th {\n",
       "        vertical-align: top;\n",
       "    }\n",
       "\n",
       "    .dataframe thead th {\n",
       "        text-align: right;\n",
       "    }\n",
       "</style>\n",
       "<table border=\"1\" class=\"dataframe\">\n",
       "  <thead>\n",
       "    <tr style=\"text-align: right;\">\n",
       "      <th></th>\n",
       "      <th>Lote</th>\n",
       "      <th>Material</th>\n",
       "      <th>Lote interno</th>\n",
       "      <th>Lote Proveedor</th>\n",
       "      <th>Qty</th>\n",
       "      <th>Fecha recepción</th>\n",
       "      <th>Fecha traslado</th>\n",
       "    </tr>\n",
       "  </thead>\n",
       "  <tbody>\n",
       "    <tr>\n",
       "      <th>2152</th>\n",
       "      <td>23115</td>\n",
       "      <td>100010</td>\n",
       "      <td>0000736921</td>\n",
       "      <td>0002235436</td>\n",
       "      <td>13.696</td>\n",
       "      <td>2023-01-11 00:00:00</td>\n",
       "      <td>2023-07-07 00:00:00</td>\n",
       "    </tr>\n",
       "    <tr>\n",
       "      <th>718</th>\n",
       "      <td>23050</td>\n",
       "      <td>100011</td>\n",
       "      <td>0000741497</td>\n",
       "      <td>0002246572</td>\n",
       "      <td>3200.000</td>\n",
       "      <td>2023-02-03 00:00:00</td>\n",
       "      <td>2023-06-19 00:00:00</td>\n",
       "    </tr>\n",
       "    <tr>\n",
       "      <th>3549</th>\n",
       "      <td>24038</td>\n",
       "      <td>100004</td>\n",
       "      <td>0000738450</td>\n",
       "      <td>2463825</td>\n",
       "      <td>188.000</td>\n",
       "      <td>2023-01-19 00:00:00</td>\n",
       "      <td>2024-02-08 00:00:00</td>\n",
       "    </tr>\n",
       "    <tr>\n",
       "      <th>649</th>\n",
       "      <td>23047</td>\n",
       "      <td>100005</td>\n",
       "      <td>0000723171</td>\n",
       "      <td>M3889</td>\n",
       "      <td>95.992</td>\n",
       "      <td>2022-11-04 00:00:00</td>\n",
       "      <td>2023-03-03 00:00:00</td>\n",
       "    </tr>\n",
       "    <tr>\n",
       "      <th>2764</th>\n",
       "      <td>23135</td>\n",
       "      <td>100010</td>\n",
       "      <td>0000736921</td>\n",
       "      <td>0002235436</td>\n",
       "      <td>7.680</td>\n",
       "      <td>2023-01-11 00:00:00</td>\n",
       "      <td>2023-07-07 00:00:00</td>\n",
       "    </tr>\n",
       "    <tr>\n",
       "      <th>2613</th>\n",
       "      <td>23130</td>\n",
       "      <td>100009</td>\n",
       "      <td>0000783722</td>\n",
       "      <td>0002327476</td>\n",
       "      <td>7720.000</td>\n",
       "      <td>2023-09-04 00:00:00</td>\n",
       "      <td>2023-11-13 00:00:00</td>\n",
       "    </tr>\n",
       "    <tr>\n",
       "      <th>1116</th>\n",
       "      <td>23066</td>\n",
       "      <td>100012</td>\n",
       "      <td>0000769202</td>\n",
       "      <td>3121971</td>\n",
       "      <td>2046.720</td>\n",
       "      <td>2023-06-16 00:00:00</td>\n",
       "      <td>2023-07-05 00:00:00</td>\n",
       "    </tr>\n",
       "    <tr>\n",
       "      <th>3838</th>\n",
       "      <td>24047</td>\n",
       "      <td>100004</td>\n",
       "      <td>0000738446</td>\n",
       "      <td>2463785</td>\n",
       "      <td>72.000</td>\n",
       "      <td>2023-01-19 00:00:00</td>\n",
       "      <td>2024-01-24 00:00:00</td>\n",
       "    </tr>\n",
       "    <tr>\n",
       "      <th>4405</th>\n",
       "      <td>24073</td>\n",
       "      <td>100011</td>\n",
       "      <td>0000808869</td>\n",
       "      <td>0002408636</td>\n",
       "      <td>3200.000</td>\n",
       "      <td>45307</td>\n",
       "      <td>45406</td>\n",
       "    </tr>\n",
       "    <tr>\n",
       "      <th>2799</th>\n",
       "      <td>23136</td>\n",
       "      <td>100008</td>\n",
       "      <td>0000778472</td>\n",
       "      <td>A1682479</td>\n",
       "      <td>10.880</td>\n",
       "      <td>2023-07-31 00:00:00</td>\n",
       "      <td>2023-11-28 00:00:00</td>\n",
       "    </tr>\n",
       "  </tbody>\n",
       "</table>\n",
       "</div>"
      ],
      "text/plain": [
       "       Lote Material Lote interno Lote Proveedor       Qty  \\\n",
       "2152  23115   100010   0000736921     0002235436    13.696   \n",
       "718   23050   100011   0000741497     0002246572  3200.000   \n",
       "3549  24038   100004   0000738450        2463825   188.000   \n",
       "649   23047   100005   0000723171          M3889    95.992   \n",
       "2764  23135   100010   0000736921     0002235436     7.680   \n",
       "2613  23130   100009   0000783722     0002327476  7720.000   \n",
       "1116  23066   100012   0000769202        3121971  2046.720   \n",
       "3838  24047   100004   0000738446        2463785    72.000   \n",
       "4405  24073   100011   0000808869     0002408636  3200.000   \n",
       "2799  23136   100008   0000778472       A1682479    10.880   \n",
       "\n",
       "          Fecha recepción       Fecha traslado  \n",
       "2152  2023-01-11 00:00:00  2023-07-07 00:00:00  \n",
       "718   2023-02-03 00:00:00  2023-06-19 00:00:00  \n",
       "3549  2023-01-19 00:00:00  2024-02-08 00:00:00  \n",
       "649   2022-11-04 00:00:00  2023-03-03 00:00:00  \n",
       "2764  2023-01-11 00:00:00  2023-07-07 00:00:00  \n",
       "2613  2023-09-04 00:00:00  2023-11-13 00:00:00  \n",
       "1116  2023-06-16 00:00:00  2023-07-05 00:00:00  \n",
       "3838  2023-01-19 00:00:00  2024-01-24 00:00:00  \n",
       "4405                45307                45406  \n",
       "2799  2023-07-31 00:00:00  2023-11-28 00:00:00  "
      ]
     },
     "execution_count": 939,
     "metadata": {},
     "output_type": "execute_result"
    }
   ],
   "source": [
    "# Lets show 10 of the positive values\n",
    "mc[mc['Qty'] > 0].sample(10)"
   ]
  },
  {
   "cell_type": "markdown",
   "metadata": {},
   "source": [
    "Weird values for recepción y traslado, lets check what else happened with those columns later."
   ]
  },
  {
   "cell_type": "markdown",
   "metadata": {},
   "source": [
    "## Lote"
   ]
  },
  {
   "cell_type": "code",
   "execution_count": 940,
   "metadata": {},
   "outputs": [
    {
     "data": {
      "text/plain": [
       "np.True_"
      ]
     },
     "execution_count": 940,
     "metadata": {},
     "output_type": "execute_result"
    }
   ],
   "source": [
    "### Are all lote chars digits?\n",
    "mc['Lote'].str.isdigit().all()"
   ]
  },
  {
   "cell_type": "code",
   "execution_count": 941,
   "metadata": {},
   "outputs": [
    {
     "name": "stdout",
     "output_type": "stream",
     "text": [
      "Lote max length: 5\n",
      "Lote min length: 5\n"
     ]
    }
   ],
   "source": [
    "# Lote max and min length\n",
    "print('Lote max length: ' + str(mc['Lote'].str.len().max()))\n",
    "print('Lote min length: ' + str(mc['Lote'].str.len().min()))\n"
   ]
  },
  {
   "cell_type": "code",
   "execution_count": 942,
   "metadata": {},
   "outputs": [
    {
     "name": "stdout",
     "output_type": "stream",
     "text": [
      "Number of unique lote values: 194 out of 4920\n"
     ]
    }
   ],
   "source": [
    "#Number of unique lote values\n",
    "print('Number of unique lote values: ' + str(mc['Lote'].nunique()) + ' out of ' + str(mc['Lote'].count()))"
   ]
  },
  {
   "cell_type": "markdown",
   "metadata": {},
   "source": [
    "194 unique values != 205 unique from OF 123456 excel sheet."
   ]
  },
  {
   "cell_type": "markdown",
   "metadata": {},
   "source": [
    "## Lote proveedor"
   ]
  },
  {
   "cell_type": "code",
   "execution_count": 943,
   "metadata": {},
   "outputs": [
    {
     "name": "stdout",
     "output_type": "stream",
     "text": [
      "Number of unique lote proveedor values: 118 out of 4920\n"
     ]
    }
   ],
   "source": [
    "# Lote proveedor unique values\n",
    "print('Number of unique lote proveedor values: ' + str(mc['Lote Proveedor'].nunique()) + \n",
    "      ' out of ' + str(mc['Lote Proveedor'].count()))"
   ]
  },
  {
   "cell_type": "code",
   "execution_count": 944,
   "metadata": {},
   "outputs": [
    {
     "name": "stdout",
     "output_type": "stream",
     "text": [
      "Min lote length: 5\n",
      "Max lote length: 11\n"
     ]
    }
   ],
   "source": [
    "# Min and max length \n",
    "print('Min lote length: ' + str(mc['Lote Proveedor'].str.len().min()))\n",
    "print('Max lote length: ' + str(mc['Lote Proveedor'].str.len().max()))"
   ]
  },
  {
   "cell_type": "code",
   "execution_count": 945,
   "metadata": {},
   "outputs": [
    {
     "data": {
      "text/plain": [
       "<Axes: xlabel='Lote Proveedor'>"
      ]
     },
     "execution_count": 945,
     "metadata": {},
     "output_type": "execute_result"
    },
    {
     "data": {
      "image/png": "[encoded data removed]",
      "text/plain": [
       "<Figure size 640x480 with 1 Axes>"
      ]
     },
     "metadata": {},
     "output_type": "display_data"
    }
   ],
   "source": [
    "# Distribution of lengths\n",
    "mc['Lote Proveedor'].str.len().value_counts().sort_index().plot(kind='bar')"
   ]
  },
  {
   "cell_type": "code",
   "execution_count": 946,
   "metadata": {},
   "outputs": [
    {
     "data": {
      "text/plain": [
       "np.False_"
      ]
     },
     "execution_count": 946,
     "metadata": {},
     "output_type": "execute_result"
    }
   ],
   "source": [
    "# They are not all digits, but they are all alphanumeric\n",
    "mc['Lote Proveedor'].str.isalnum().all()"
   ]
  },
  {
   "cell_type": "code",
   "execution_count": 947,
   "metadata": {},
   "outputs": [
    {
     "data": {
      "text/plain": [
       "array(['KA-APS-0306', 'KA-APS-0305', 'KA-APS-0304', 'LA-APS-0302',\n",
       "       'LA-APS-0303'], dtype=object)"
      ]
     },
     "execution_count": 947,
     "metadata": {},
     "output_type": "execute_result"
    }
   ],
   "source": [
    "# Which is not alphanumeric?\n",
    "mc[~mc['Lote Proveedor'].str.isalnum()]['Lote Proveedor'].unique()"
   ]
  },
  {
   "cell_type": "markdown",
   "metadata": {},
   "source": [
    "There are patterns and groups"
   ]
  },
  {
   "cell_type": "code",
   "execution_count": 948,
   "metadata": {},
   "outputs": [
    {
     "data": {
      "text/plain": [
       "0\n",
       "2    47\n",
       "0    35\n",
       "K     9\n",
       "3     8\n",
       "A     5\n",
       "1     4\n",
       "4     3\n",
       "C     3\n",
       "L     2\n",
       "8     1\n",
       "M     1\n",
       "Name: count, dtype: int64"
      ]
     },
     "execution_count": 948,
     "metadata": {},
     "output_type": "execute_result"
    }
   ],
   "source": [
    "# First values of 'Lote Proveedor' patterns\n",
    "mc['Lote Proveedor'].value_counts().index.str.extract(r'(^.{1})').value_counts()"
   ]
  },
  {
   "cell_type": "code",
   "execution_count": 949,
   "metadata": {},
   "outputs": [
    {
     "data": {
      "text/plain": [
       "0 \n",
       "24    44\n",
       "00    35\n",
       "K5     6\n",
       "31     4\n",
       "A1     4\n",
       "40     3\n",
       "KA     3\n",
       "10     3\n",
       "C5     2\n",
       "LA     2\n",
       "32     2\n",
       "12     1\n",
       "21     1\n",
       "22     1\n",
       "33     1\n",
       "25     1\n",
       "30     1\n",
       "88     1\n",
       "AM     1\n",
       "C4     1\n",
       "M3     1\n",
       "Name: count, dtype: int64"
      ]
     },
     "execution_count": 949,
     "metadata": {},
     "output_type": "execute_result"
    }
   ],
   "source": [
    "mc['Lote Proveedor'].value_counts().index.str.extract(r'(^.{2})').value_counts()"
   ]
  },
  {
   "cell_type": "code",
   "execution_count": 950,
   "metadata": {},
   "outputs": [
    {
     "data": {
      "text/plain": [
       "0  \n",
       "000    35\n",
       "246    13\n",
       "243     9\n",
       "244     9\n",
       "241     8\n",
       "242     5\n",
       "A16     4\n",
       "KA-     3\n",
       "K55     3\n",
       "407     2\n",
       "100     2\n",
       "LA-     2\n",
       "101     1\n",
       "311     1\n",
       "300     1\n",
       "250     1\n",
       "220     1\n",
       "129     1\n",
       "215     1\n",
       "327     1\n",
       "326     1\n",
       "317     1\n",
       "315     1\n",
       "312     1\n",
       "888     1\n",
       "404     1\n",
       "331     1\n",
       "C54     1\n",
       "C48     1\n",
       "AM1     1\n",
       "C59     1\n",
       "K54     1\n",
       "K53     1\n",
       "K52     1\n",
       "M38     1\n",
       "Name: count, dtype: int64"
      ]
     },
     "execution_count": 950,
     "metadata": {},
     "output_type": "execute_result"
    }
   ],
   "source": [
    "mc['Lote Proveedor'].value_counts().index.str.extract(r'(^.{3})').value_counts()"
   ]
  },
  {
   "cell_type": "code",
   "execution_count": 951,
   "metadata": {},
   "outputs": [
    {
     "data": {
      "text/plain": [
       "0   \n",
       "0002    27\n",
       "2463    13\n",
       "2430     9\n",
       "2445     9\n",
       "2414     8\n",
       "0005     6\n",
       "2428     5\n",
       "KA-A     3\n",
       "A168     3\n",
       "1009     2\n",
       "LA-A     2\n",
       "2157     1\n",
       "2202     1\n",
       "1013     1\n",
       "0007     1\n",
       "0001     1\n",
       "1292     1\n",
       "2505     1\n",
       "3159     1\n",
       "3178     1\n",
       "3262     1\n",
       "3277     1\n",
       "3319     1\n",
       "3009     1\n",
       "3114     1\n",
       "3121     1\n",
       "4073     1\n",
       "4072     1\n",
       "4045     1\n",
       "8884     1\n",
       "C483     1\n",
       "C545     1\n",
       "A167     1\n",
       "AM17     1\n",
       "K521     1\n",
       "C594     1\n",
       "K538     1\n",
       "K544     1\n",
       "K551     1\n",
       "K550     1\n",
       "K555     1\n",
       "M388     1\n",
       "Name: count, dtype: int64"
      ]
     },
     "execution_count": 951,
     "metadata": {},
     "output_type": "execute_result"
    }
   ],
   "source": [
    "mc['Lote Proveedor'].value_counts().index.str.extract(r'(^.{4})').value_counts()"
   ]
  },
  {
   "cell_type": "markdown",
   "metadata": {},
   "source": [
    "Could there be any value in splitting the suppliers into several categories for statistical analysis or ML related analysis?"
   ]
  },
  {
   "cell_type": "markdown",
   "metadata": {},
   "source": [
    "## Lote interno"
   ]
  },
  {
   "cell_type": "code",
   "execution_count": 952,
   "metadata": {},
   "outputs": [
    {
     "name": "stdout",
     "output_type": "stream",
     "text": [
      "Number of unique lote interno values: 160 out of 4920\n"
     ]
    }
   ],
   "source": [
    "# lote interno unique values\n",
    "print('Number of unique lote interno values: ' + str(mc['Lote interno'].nunique()) + \n",
    "      ' out of ' + str(mc['Lote interno'].count()))"
   ]
  },
  {
   "cell_type": "markdown",
   "metadata": {},
   "source": [
    "### This looks interesting, one would assume lote interno was an ID for the material transaction but seems it is not true"
   ]
  },
  {
   "cell_type": "code",
   "execution_count": 953,
   "metadata": {},
   "outputs": [
    {
     "data": {
      "text/plain": [
       "np.True_"
      ]
     },
     "execution_count": 953,
     "metadata": {},
     "output_type": "execute_result"
    }
   ],
   "source": [
    "# Are all lote interno chars digits?\n",
    "mc['Lote interno'].str.isdigit().all()"
   ]
  },
  {
   "cell_type": "code",
   "execution_count": 954,
   "metadata": {},
   "outputs": [
    {
     "name": "stdout",
     "output_type": "stream",
     "text": [
      "Minimum length of lote interno: 10\n",
      "Maximum length of lote interno: 10\n"
     ]
    }
   ],
   "source": [
    "# Minimum and max length of lote interno\n",
    "print('Minimum length of lote interno: ' + str(mc['Lote interno'].str.len().min()))\n",
    "print('Maximum length of lote interno: ' + str(mc['Lote interno'].str.len().max()))"
   ]
  },
  {
   "cell_type": "code",
   "execution_count": 955,
   "metadata": {},
   "outputs": [
    {
     "data": {
      "text/plain": [
       "0    \n",
       "00007    90\n",
       "00008    37\n",
       "00006    33\n",
       "Name: count, dtype: int64"
      ]
     },
     "execution_count": 955,
     "metadata": {},
     "output_type": "execute_result"
    }
   ],
   "source": [
    "# Is there any pattern to the unique values?\n",
    "mc['Lote interno'].value_counts().index.str.extract(r'(^.{5})').value_counts()"
   ]
  },
  {
   "cell_type": "code",
   "execution_count": 956,
   "metadata": {},
   "outputs": [
    {
     "data": {
      "text/plain": [
       "0     \n",
       "636590    1\n",
       "637889    1\n",
       "644272    1\n",
       "648033    1\n",
       "652422    1\n",
       "         ..\n",
       "828650    1\n",
       "828957    1\n",
       "828959    1\n",
       "829314    1\n",
       "837299    1\n",
       "Name: count, Length: 160, dtype: int64"
      ]
     },
     "execution_count": 956,
     "metadata": {},
     "output_type": "execute_result"
    }
   ],
   "source": [
    "mc['Lote interno'].value_counts().index.str.extract(r'(.{6}$)').value_counts()"
   ]
  },
  {
   "cell_type": "markdown",
   "metadata": {},
   "source": [
    "### This just looks like a numerical id, but we can't know what it is exactly identifying, it is likely a combination of Lote, Lote interno and Material/ proveedor which makes the row identifiable"
   ]
  },
  {
   "cell_type": "markdown",
   "metadata": {},
   "source": [
    "## Fecha recepcion"
   ]
  },
  {
   "cell_type": "code",
   "execution_count": 957,
   "metadata": {},
   "outputs": [
    {
     "name": "stdout",
     "output_type": "stream",
     "text": [
      "Number of unique fecha recepción values: 110 out of 4920\n"
     ]
    }
   ],
   "source": [
    "# Number of unique values for fecha recepción\n",
    "print('Number of unique fecha recepción values: ' + str(mc['Fecha recepción'].nunique()) + \n",
    "      ' out of ' + str(mc['Fecha recepción'].count()))"
   ]
  },
  {
   "cell_type": "code",
   "execution_count": 958,
   "metadata": {},
   "outputs": [
    {
     "name": "stdout",
     "output_type": "stream",
     "text": [
      "All recepcion datetimes: False\n",
      "All traslado datetimes: False\n",
      "Number of not datetime values in fecha recepción: 760\n",
      "Number of not datetime values in fecha traslado: 760\n",
      "nUnique of fecha recepción: 28\n",
      "nUnique of Lote: 48\n",
      "nUnique of Lote Proveedor: 33\n",
      "nUnique of Material: 12\n",
      "nUnique of Qty: 292\n",
      "nUnique of Fecha traslado: 45\n",
      "nUnique of Lote interno: 40\n",
      "       Lote Material Lote interno Lote Proveedor     Qty Fecha recepción  \\\n",
      "4254  24060   100012   0000795420        3262705  7872.0           45233   \n",
      "4255  24060   100011   0000808869     0002408636  3208.0           45307   \n",
      "4256  24060   100010   0000800462     0002322586    96.0           45257   \n",
      "4257  24060   100002   0000820714      K55125135   384.0           45362   \n",
      "4258  24060   100009   0000820609     0002439101  7688.0           45362   \n",
      "...     ...      ...          ...            ...     ...             ...   \n",
      "5019  24110   100001   0000826820         101372    72.0           45393   \n",
      "5020  24109   100002   0000829314      K55514635    72.0           45405   \n",
      "5021  24109   100001   0000826820         101372    72.0           45393   \n",
      "5022  24108   100002   0000829314      K55514635    72.0           45405   \n",
      "5023  24108   100001   0000826820         101372    72.0           45393   \n",
      "\n",
      "     Fecha traslado  \n",
      "4254          45392  \n",
      "4255          45400  \n",
      "4256          45261  \n",
      "4257          45400  \n",
      "4258          45398  \n",
      "...             ...  \n",
      "5019          45463  \n",
      "5020          45453  \n",
      "5021          45463  \n",
      "5022          45453  \n",
      "5023          45463  \n",
      "\n",
      "[760 rows x 7 columns]\n"
     ]
    }
   ],
   "source": [
    "# Are all datetimes? \n",
    "# Check with type\n",
    "import datetime\n",
    "print('All recepcion datetimes: ' + str(mc['Fecha recepción'].apply(lambda x: type(x)).eq(datetime.datetime).all()))\n",
    "print('All traslado datetimes: ' + str(mc['Fecha traslado'].apply(lambda x: type(x)).eq(datetime.datetime).all()))\n",
    "# Get those which are not datetimes\n",
    "not_dt = mc[~mc['Fecha recepción'].apply(lambda x: type(x)).eq(datetime.datetime)]\n",
    "print('Number of not datetime values in fecha recepción: ' + str(not_dt.shape[0]))\n",
    "not_dt = mc[~mc['Fecha traslado'].apply(lambda x: type(x)).eq(datetime.datetime)]\n",
    "print('Number of not datetime values in fecha traslado: ' + str(not_dt.shape[0]))\n",
    "\n",
    "not_dt.shape[0]\n",
    "#nUnique of fecha recepción\n",
    "print('nUnique of fecha recepción: ' + str(not_dt['Fecha recepción'].nunique()))\n",
    "# nUnique of Lote\n",
    "print('nUnique of Lote: ' + str(not_dt['Lote'].nunique()))  \n",
    "# nUnique of Lote Proveedor\n",
    "print('nUnique of Lote Proveedor: ' + str(not_dt['Lote Proveedor'].nunique()))\n",
    "# nUnique of Material\n",
    "print('nUnique of Material: ' + str(not_dt['Material'].nunique()))\n",
    "# nUnique of Qty\n",
    "print('nUnique of Qty: ' + str(not_dt['Qty'].nunique()))\n",
    "# nUnique of Fecha traslado\n",
    "print('nUnique of Fecha traslado: ' + str(not_dt['Fecha traslado'].nunique()))\n",
    "# nUnique of Lote interno\n",
    "print('nUnique of Lote interno: ' + str(not_dt['Lote interno'].nunique()))\n",
    "print(not_dt)\n"
   ]
  },
  {
   "cell_type": "code",
   "execution_count": 959,
   "metadata": {},
   "outputs": [
    {
     "data": {
      "text/plain": [
       "np.True_"
      ]
     },
     "execution_count": 959,
     "metadata": {},
     "output_type": "execute_result"
    }
   ],
   "source": [
    "# Are non-datetime values in the fecha traslado greater than fecha recepción?\n",
    "(not_dt['Fecha traslado'] > not_dt['Fecha recepción']).all()"
   ]
  },
  {
   "cell_type": "markdown",
   "metadata": {},
   "source": [
    "# Convert Excel Serial to datetime to fix the date values\n"
   ]
  },
  {
   "cell_type": "code",
   "execution_count": 960,
   "metadata": {},
   "outputs": [
    {
     "name": "stdout",
     "output_type": "stream",
     "text": [
      "<class 'pandas.core.frame.DataFrame'>\n",
      "Index: 760 entries, 4254 to 5023\n",
      "Data columns (total 7 columns):\n",
      " #   Column           Non-Null Count  Dtype  \n",
      "---  ------           --------------  -----  \n",
      " 0   Lote             760 non-null    object \n",
      " 1   Material         760 non-null    object \n",
      " 2   Lote interno     760 non-null    object \n",
      " 3   Lote Proveedor   760 non-null    object \n",
      " 4   Qty              760 non-null    float64\n",
      " 5   Fecha recepción  760 non-null    object \n",
      " 6   Fecha traslado   760 non-null    object \n",
      "dtypes: float64(1), object(6)\n",
      "memory usage: 47.5+ KB\n"
     ]
    }
   ],
   "source": [
    "# notdt fecha recepcion and traslado to float\n",
    "# Copy not_dt to avoid SettingWithCopyWarning\n",
    "not_dt = not_dt.copy()\n",
    "not_dt.info()\n"
   ]
  },
  {
   "cell_type": "code",
   "execution_count": 961,
   "metadata": {},
   "outputs": [
    {
     "data": {
      "text/html": [
       "<div>\n",
       "<style scoped>\n",
       "    .dataframe tbody tr th:only-of-type {\n",
       "        vertical-align: middle;\n",
       "    }\n",
       "\n",
       "    .dataframe tbody tr th {\n",
       "        vertical-align: top;\n",
       "    }\n",
       "\n",
       "    .dataframe thead th {\n",
       "        text-align: right;\n",
       "    }\n",
       "</style>\n",
       "<table border=\"1\" class=\"dataframe\">\n",
       "  <thead>\n",
       "    <tr style=\"text-align: right;\">\n",
       "      <th></th>\n",
       "      <th>Lote</th>\n",
       "      <th>Material</th>\n",
       "      <th>Lote interno</th>\n",
       "      <th>Lote Proveedor</th>\n",
       "      <th>Qty</th>\n",
       "      <th>Fecha recepción</th>\n",
       "      <th>Fecha traslado</th>\n",
       "    </tr>\n",
       "  </thead>\n",
       "  <tbody>\n",
       "    <tr>\n",
       "      <th>4254</th>\n",
       "      <td>24060</td>\n",
       "      <td>100012</td>\n",
       "      <td>0000795420</td>\n",
       "      <td>3262705</td>\n",
       "      <td>7872.0</td>\n",
       "      <td>2023-11-03</td>\n",
       "      <td>2024-04-10</td>\n",
       "    </tr>\n",
       "    <tr>\n",
       "      <th>4255</th>\n",
       "      <td>24060</td>\n",
       "      <td>100011</td>\n",
       "      <td>0000808869</td>\n",
       "      <td>0002408636</td>\n",
       "      <td>3208.0</td>\n",
       "      <td>2024-01-16</td>\n",
       "      <td>2024-04-18</td>\n",
       "    </tr>\n",
       "    <tr>\n",
       "      <th>4256</th>\n",
       "      <td>24060</td>\n",
       "      <td>100010</td>\n",
       "      <td>0000800462</td>\n",
       "      <td>0002322586</td>\n",
       "      <td>96.0</td>\n",
       "      <td>2023-11-27</td>\n",
       "      <td>2023-12-01</td>\n",
       "    </tr>\n",
       "    <tr>\n",
       "      <th>4257</th>\n",
       "      <td>24060</td>\n",
       "      <td>100002</td>\n",
       "      <td>0000820714</td>\n",
       "      <td>K55125135</td>\n",
       "      <td>384.0</td>\n",
       "      <td>2024-03-11</td>\n",
       "      <td>2024-04-18</td>\n",
       "    </tr>\n",
       "    <tr>\n",
       "      <th>4258</th>\n",
       "      <td>24060</td>\n",
       "      <td>100009</td>\n",
       "      <td>0000820609</td>\n",
       "      <td>0002439101</td>\n",
       "      <td>7688.0</td>\n",
       "      <td>2024-03-11</td>\n",
       "      <td>2024-04-16</td>\n",
       "    </tr>\n",
       "    <tr>\n",
       "      <th>...</th>\n",
       "      <td>...</td>\n",
       "      <td>...</td>\n",
       "      <td>...</td>\n",
       "      <td>...</td>\n",
       "      <td>...</td>\n",
       "      <td>...</td>\n",
       "      <td>...</td>\n",
       "    </tr>\n",
       "    <tr>\n",
       "      <th>5019</th>\n",
       "      <td>24110</td>\n",
       "      <td>100001</td>\n",
       "      <td>0000826820</td>\n",
       "      <td>101372</td>\n",
       "      <td>72.0</td>\n",
       "      <td>2024-04-11</td>\n",
       "      <td>2024-06-20</td>\n",
       "    </tr>\n",
       "    <tr>\n",
       "      <th>5020</th>\n",
       "      <td>24109</td>\n",
       "      <td>100002</td>\n",
       "      <td>0000829314</td>\n",
       "      <td>K55514635</td>\n",
       "      <td>72.0</td>\n",
       "      <td>2024-04-23</td>\n",
       "      <td>2024-06-10</td>\n",
       "    </tr>\n",
       "    <tr>\n",
       "      <th>5021</th>\n",
       "      <td>24109</td>\n",
       "      <td>100001</td>\n",
       "      <td>0000826820</td>\n",
       "      <td>101372</td>\n",
       "      <td>72.0</td>\n",
       "      <td>2024-04-11</td>\n",
       "      <td>2024-06-20</td>\n",
       "    </tr>\n",
       "    <tr>\n",
       "      <th>5022</th>\n",
       "      <td>24108</td>\n",
       "      <td>100002</td>\n",
       "      <td>0000829314</td>\n",
       "      <td>K55514635</td>\n",
       "      <td>72.0</td>\n",
       "      <td>2024-04-23</td>\n",
       "      <td>2024-06-10</td>\n",
       "    </tr>\n",
       "    <tr>\n",
       "      <th>5023</th>\n",
       "      <td>24108</td>\n",
       "      <td>100001</td>\n",
       "      <td>0000826820</td>\n",
       "      <td>101372</td>\n",
       "      <td>72.0</td>\n",
       "      <td>2024-04-11</td>\n",
       "      <td>2024-06-20</td>\n",
       "    </tr>\n",
       "  </tbody>\n",
       "</table>\n",
       "<p>760 rows × 7 columns</p>\n",
       "</div>"
      ],
      "text/plain": [
       "       Lote Material Lote interno Lote Proveedor     Qty Fecha recepción  \\\n",
       "4254  24060   100012   0000795420        3262705  7872.0      2023-11-03   \n",
       "4255  24060   100011   0000808869     0002408636  3208.0      2024-01-16   \n",
       "4256  24060   100010   0000800462     0002322586    96.0      2023-11-27   \n",
       "4257  24060   100002   0000820714      K55125135   384.0      2024-03-11   \n",
       "4258  24060   100009   0000820609     0002439101  7688.0      2024-03-11   \n",
       "...     ...      ...          ...            ...     ...             ...   \n",
       "5019  24110   100001   0000826820         101372    72.0      2024-04-11   \n",
       "5020  24109   100002   0000829314      K55514635    72.0      2024-04-23   \n",
       "5021  24109   100001   0000826820         101372    72.0      2024-04-11   \n",
       "5022  24108   100002   0000829314      K55514635    72.0      2024-04-23   \n",
       "5023  24108   100001   0000826820         101372    72.0      2024-04-11   \n",
       "\n",
       "     Fecha traslado  \n",
       "4254     2024-04-10  \n",
       "4255     2024-04-18  \n",
       "4256     2023-12-01  \n",
       "4257     2024-04-18  \n",
       "4258     2024-04-16  \n",
       "...             ...  \n",
       "5019     2024-06-20  \n",
       "5020     2024-06-10  \n",
       "5021     2024-06-20  \n",
       "5022     2024-06-10  \n",
       "5023     2024-06-20  \n",
       "\n",
       "[760 rows x 7 columns]"
      ]
     },
     "execution_count": 961,
     "metadata": {},
     "output_type": "execute_result"
    }
   ],
   "source": [
    "# Convert ints from Excel Serial Date to datetime\n",
    "from datetime import datetime, timedelta\n",
    "\n",
    "def from_excel_ordinal(ordinal: float, _epoch0=datetime(1899, 12, 31)) -> datetime:\n",
    "    if ordinal >= 60:\n",
    "        ordinal -= 1  # Excel leap year bug, 1900 is not a leap year!\n",
    "    return (_epoch0 + timedelta(days=ordinal)).replace(microsecond=0)\n",
    "\n",
    "not_dt['Fecha recepción'] = not_dt['Fecha recepción'].apply(from_excel_ordinal)\n",
    "not_dt['Fecha traslado'] = not_dt['Fecha traslado'].apply(from_excel_ordinal)\n",
    "not_dt"
   ]
  },
  {
   "cell_type": "code",
   "execution_count": 962,
   "metadata": {},
   "outputs": [
    {
     "data": {
      "text/plain": [
       "True    760\n",
       "Name: count, dtype: int64"
      ]
     },
     "execution_count": 962,
     "metadata": {},
     "output_type": "execute_result"
    }
   ],
   "source": [
    "# do they make sense?\n",
    "(not_dt['Fecha traslado'] > not_dt['Fecha recepción']).value_counts()"
   ]
  },
  {
   "cell_type": "code",
   "execution_count": 963,
   "metadata": {},
   "outputs": [
    {
     "data": {
      "text/plain": [
       "np.int64(0)"
      ]
     },
     "execution_count": 963,
     "metadata": {},
     "output_type": "execute_result"
    }
   ],
   "source": [
    "# Are there any duplicated rows?\n",
    "not_dt.duplicated().sum()"
   ]
  },
  {
   "cell_type": "code",
   "execution_count": 964,
   "metadata": {},
   "outputs": [
    {
     "data": {
      "text/plain": [
       "count                              760\n",
       "mean     2024-01-04 14:48:37.894736896\n",
       "min                2022-11-04 00:00:00\n",
       "25%                2024-02-02 00:00:00\n",
       "50%                2024-03-11 00:00:00\n",
       "75%                2024-04-10 00:00:00\n",
       "max                2024-06-03 00:00:00\n",
       "Name: Fecha recepción, dtype: object"
      ]
     },
     "execution_count": 964,
     "metadata": {},
     "output_type": "execute_result"
    }
   ],
   "source": [
    "# DESCRIBE\n",
    "not_dt['Fecha recepción'].describe()"
   ]
  },
  {
   "cell_type": "code",
   "execution_count": 965,
   "metadata": {},
   "outputs": [
    {
     "data": {
      "text/plain": [
       "count                              760\n",
       "mean     2024-05-03 22:25:15.789473792\n",
       "min                2023-12-01 00:00:00\n",
       "25%                2024-04-16 00:00:00\n",
       "50%                2024-05-10 00:00:00\n",
       "75%                2024-06-03 00:00:00\n",
       "max                2024-07-04 00:00:00\n",
       "Name: Fecha traslado, dtype: object"
      ]
     },
     "execution_count": 965,
     "metadata": {},
     "output_type": "execute_result"
    }
   ],
   "source": [
    "not_dt['Fecha traslado'].describe()"
   ]
  },
  {
   "cell_type": "code",
   "execution_count": 966,
   "metadata": {},
   "outputs": [
    {
     "data": {
      "text/html": [
       "<div>\n",
       "<style scoped>\n",
       "    .dataframe tbody tr th:only-of-type {\n",
       "        vertical-align: middle;\n",
       "    }\n",
       "\n",
       "    .dataframe tbody tr th {\n",
       "        vertical-align: top;\n",
       "    }\n",
       "\n",
       "    .dataframe thead th {\n",
       "        text-align: right;\n",
       "    }\n",
       "</style>\n",
       "<table border=\"1\" class=\"dataframe\">\n",
       "  <thead>\n",
       "    <tr style=\"text-align: right;\">\n",
       "      <th></th>\n",
       "      <th>Qty</th>\n",
       "    </tr>\n",
       "  </thead>\n",
       "  <tbody>\n",
       "    <tr>\n",
       "      <th>count</th>\n",
       "      <td>4920.000000</td>\n",
       "    </tr>\n",
       "    <tr>\n",
       "      <th>mean</th>\n",
       "      <td>1601.472037</td>\n",
       "    </tr>\n",
       "    <tr>\n",
       "      <th>std</th>\n",
       "      <td>2700.787580</td>\n",
       "    </tr>\n",
       "    <tr>\n",
       "      <th>min</th>\n",
       "      <td>-8352.000000</td>\n",
       "    </tr>\n",
       "    <tr>\n",
       "      <th>25%</th>\n",
       "      <td>59.760000</td>\n",
       "    </tr>\n",
       "    <tr>\n",
       "      <th>50%</th>\n",
       "      <td>144.800000</td>\n",
       "    </tr>\n",
       "    <tr>\n",
       "      <th>75%</th>\n",
       "      <td>1968.000000</td>\n",
       "    </tr>\n",
       "    <tr>\n",
       "      <th>max</th>\n",
       "      <td>9600.000000</td>\n",
       "    </tr>\n",
       "  </tbody>\n",
       "</table>\n",
       "</div>"
      ],
      "text/plain": [
       "               Qty\n",
       "count  4920.000000\n",
       "mean   1601.472037\n",
       "std    2700.787580\n",
       "min   -8352.000000\n",
       "25%      59.760000\n",
       "50%     144.800000\n",
       "75%    1968.000000\n",
       "max    9600.000000"
      ]
     },
     "execution_count": 966,
     "metadata": {},
     "output_type": "execute_result"
    }
   ],
   "source": [
    "mc.describe()"
   ]
  },
  {
   "cell_type": "code",
   "execution_count": 967,
   "metadata": {},
   "outputs": [
    {
     "name": "stdout",
     "output_type": "stream",
     "text": [
      "               Qty\n",
      "count  4920.000000\n",
      "mean   1601.472037\n",
      "std    2700.787580\n",
      "min   -8352.000000\n",
      "25%      59.760000\n",
      "50%     144.800000\n",
      "75%    1968.000000\n",
      "max    9600.000000\n"
     ]
    }
   ],
   "source": [
    "# Replace mc not_dt by index\n",
    "mc.loc[not_dt.index] = not_dt\n",
    "print(mc.describe())"
   ]
  },
  {
   "cell_type": "code",
   "execution_count": 968,
   "metadata": {},
   "outputs": [],
   "source": [
    "mc['Fecha recepción'] = pd.to_datetime(mc['Fecha recepción'])\n",
    "mc['Fecha traslado'] = pd.to_datetime(mc['Fecha traslado'])\n"
   ]
  },
  {
   "cell_type": "markdown",
   "metadata": {},
   "source": [
    "## Duration"
   ]
  },
  {
   "cell_type": "code",
   "execution_count": 969,
   "metadata": {},
   "outputs": [
    {
     "data": {
      "text/html": [
       "<div>\n",
       "<style scoped>\n",
       "    .dataframe tbody tr th:only-of-type {\n",
       "        vertical-align: middle;\n",
       "    }\n",
       "\n",
       "    .dataframe tbody tr th {\n",
       "        vertical-align: top;\n",
       "    }\n",
       "\n",
       "    .dataframe thead th {\n",
       "        text-align: right;\n",
       "    }\n",
       "</style>\n",
       "<table border=\"1\" class=\"dataframe\">\n",
       "  <thead>\n",
       "    <tr style=\"text-align: right;\">\n",
       "      <th></th>\n",
       "      <th>Lote</th>\n",
       "      <th>Material</th>\n",
       "      <th>Lote interno</th>\n",
       "      <th>Lote Proveedor</th>\n",
       "      <th>Qty</th>\n",
       "      <th>Fecha recepción</th>\n",
       "      <th>Fecha traslado</th>\n",
       "      <th>Duration</th>\n",
       "    </tr>\n",
       "  </thead>\n",
       "  <tbody>\n",
       "    <tr>\n",
       "      <th>0</th>\n",
       "      <td>23019</td>\n",
       "      <td>100001</td>\n",
       "      <td>0000737133</td>\n",
       "      <td>AM1798471</td>\n",
       "      <td>72.0</td>\n",
       "      <td>2023-01-12</td>\n",
       "      <td>2023-03-22</td>\n",
       "      <td>69 days</td>\n",
       "    </tr>\n",
       "    <tr>\n",
       "      <th>1</th>\n",
       "      <td>23019</td>\n",
       "      <td>100002</td>\n",
       "      <td>0000676155</td>\n",
       "      <td>K53821835</td>\n",
       "      <td>72.0</td>\n",
       "      <td>2022-03-07</td>\n",
       "      <td>2023-03-15</td>\n",
       "      <td>373 days</td>\n",
       "    </tr>\n",
       "    <tr>\n",
       "      <th>2</th>\n",
       "      <td>23019</td>\n",
       "      <td>100003</td>\n",
       "      <td>0000636590</td>\n",
       "      <td>0005065337</td>\n",
       "      <td>4800.0</td>\n",
       "      <td>2021-08-27</td>\n",
       "      <td>2023-03-13</td>\n",
       "      <td>563 days</td>\n",
       "    </tr>\n",
       "    <tr>\n",
       "      <th>3</th>\n",
       "      <td>23019</td>\n",
       "      <td>100004</td>\n",
       "      <td>0000655968</td>\n",
       "      <td>2414150</td>\n",
       "      <td>320.0</td>\n",
       "      <td>2021-11-25</td>\n",
       "      <td>2023-03-10</td>\n",
       "      <td>470 days</td>\n",
       "    </tr>\n",
       "    <tr>\n",
       "      <th>4</th>\n",
       "      <td>23019</td>\n",
       "      <td>100005</td>\n",
       "      <td>0000723171</td>\n",
       "      <td>M3889</td>\n",
       "      <td>96.0</td>\n",
       "      <td>2022-11-04</td>\n",
       "      <td>2023-03-03</td>\n",
       "      <td>119 days</td>\n",
       "    </tr>\n",
       "    <tr>\n",
       "      <th>...</th>\n",
       "      <td>...</td>\n",
       "      <td>...</td>\n",
       "      <td>...</td>\n",
       "      <td>...</td>\n",
       "      <td>...</td>\n",
       "      <td>...</td>\n",
       "      <td>...</td>\n",
       "      <td>...</td>\n",
       "    </tr>\n",
       "    <tr>\n",
       "      <th>5019</th>\n",
       "      <td>24110</td>\n",
       "      <td>100001</td>\n",
       "      <td>0000826820</td>\n",
       "      <td>101372</td>\n",
       "      <td>72.0</td>\n",
       "      <td>2024-04-11</td>\n",
       "      <td>2024-06-20</td>\n",
       "      <td>70 days</td>\n",
       "    </tr>\n",
       "    <tr>\n",
       "      <th>5020</th>\n",
       "      <td>24109</td>\n",
       "      <td>100002</td>\n",
       "      <td>0000829314</td>\n",
       "      <td>K55514635</td>\n",
       "      <td>72.0</td>\n",
       "      <td>2024-04-23</td>\n",
       "      <td>2024-06-10</td>\n",
       "      <td>48 days</td>\n",
       "    </tr>\n",
       "    <tr>\n",
       "      <th>5021</th>\n",
       "      <td>24109</td>\n",
       "      <td>100001</td>\n",
       "      <td>0000826820</td>\n",
       "      <td>101372</td>\n",
       "      <td>72.0</td>\n",
       "      <td>2024-04-11</td>\n",
       "      <td>2024-06-20</td>\n",
       "      <td>70 days</td>\n",
       "    </tr>\n",
       "    <tr>\n",
       "      <th>5022</th>\n",
       "      <td>24108</td>\n",
       "      <td>100002</td>\n",
       "      <td>0000829314</td>\n",
       "      <td>K55514635</td>\n",
       "      <td>72.0</td>\n",
       "      <td>2024-04-23</td>\n",
       "      <td>2024-06-10</td>\n",
       "      <td>48 days</td>\n",
       "    </tr>\n",
       "    <tr>\n",
       "      <th>5023</th>\n",
       "      <td>24108</td>\n",
       "      <td>100001</td>\n",
       "      <td>0000826820</td>\n",
       "      <td>101372</td>\n",
       "      <td>72.0</td>\n",
       "      <td>2024-04-11</td>\n",
       "      <td>2024-06-20</td>\n",
       "      <td>70 days</td>\n",
       "    </tr>\n",
       "  </tbody>\n",
       "</table>\n",
       "<p>4920 rows × 8 columns</p>\n",
       "</div>"
      ],
      "text/plain": [
       "       Lote Material Lote interno Lote Proveedor     Qty Fecha recepción  \\\n",
       "0     23019   100001   0000737133      AM1798471    72.0      2023-01-12   \n",
       "1     23019   100002   0000676155      K53821835    72.0      2022-03-07   \n",
       "2     23019   100003   0000636590     0005065337  4800.0      2021-08-27   \n",
       "3     23019   100004   0000655968        2414150   320.0      2021-11-25   \n",
       "4     23019   100005   0000723171          M3889    96.0      2022-11-04   \n",
       "...     ...      ...          ...            ...     ...             ...   \n",
       "5019  24110   100001   0000826820         101372    72.0      2024-04-11   \n",
       "5020  24109   100002   0000829314      K55514635    72.0      2024-04-23   \n",
       "5021  24109   100001   0000826820         101372    72.0      2024-04-11   \n",
       "5022  24108   100002   0000829314      K55514635    72.0      2024-04-23   \n",
       "5023  24108   100001   0000826820         101372    72.0      2024-04-11   \n",
       "\n",
       "     Fecha traslado Duration  \n",
       "0        2023-03-22  69 days  \n",
       "1        2023-03-15 373 days  \n",
       "2        2023-03-13 563 days  \n",
       "3        2023-03-10 470 days  \n",
       "4        2023-03-03 119 days  \n",
       "...             ...      ...  \n",
       "5019     2024-06-20  70 days  \n",
       "5020     2024-06-10  48 days  \n",
       "5021     2024-06-20  70 days  \n",
       "5022     2024-06-10  48 days  \n",
       "5023     2024-06-20  70 days  \n",
       "\n",
       "[4920 rows x 8 columns]"
      ]
     },
     "execution_count": 969,
     "metadata": {},
     "output_type": "execute_result"
    }
   ],
   "source": [
    "# Create a column for duration in mc\n",
    "mc['Duration'] = mc['Fecha traslado'] - mc['Fecha recepción']\n",
    "#mc['Duration'] = mc['Duration'].apply(dur_map)\n",
    "mc\n"
   ]
  },
  {
   "cell_type": "code",
   "execution_count": 970,
   "metadata": {},
   "outputs": [
    {
     "name": "stdout",
     "output_type": "stream",
     "text": [
      "Mean duration: 186 days 12:56:25.384615384\n",
      "Median duration: 118 days 00:00:00\n",
      "Std duration: 184 days 02:02:42.058699578\n"
     ]
    },
    {
     "data": {
      "image/png": "[encoded data removed]",
      "text/plain": [
       "<Figure size 640x480 with 1 Axes>"
      ]
     },
     "metadata": {},
     "output_type": "display_data"
    }
   ],
   "source": [
    "# Plot histogram of duration\n",
    "mc['Duration'].dt.days.hist(bins=100)\n",
    "# Print mean\n",
    "print('Mean duration: ' + str(mc[~mc.index.isin(not_dt.index)]['Duration'].mean()))\n",
    "# Print median\n",
    "print('Median duration: ' + str(mc[~mc.index.isin(not_dt.index)]['Duration'].median()))\n",
    "# Print std\n",
    "print('Std duration: ' + str(mc[~mc.index.isin(not_dt.index)]['Duration'].std()))"
   ]
  },
  {
   "cell_type": "markdown",
   "metadata": {},
   "source": [
    "## Fecha traslado\n"
   ]
  },
  {
   "cell_type": "code",
   "execution_count": 971,
   "metadata": {},
   "outputs": [
    {
     "name": "stdout",
     "output_type": "stream",
     "text": [
      "Unique values of Fecha traslado: 211 out of 4920\n"
     ]
    }
   ],
   "source": [
    "# Unique values of Fecha traslado\n",
    "print('Unique values of Fecha traslado: ' + str(mc['Fecha traslado'].nunique()) + ' out of '\n",
    "                                                 + str(mc['Fecha traslado'].count()))"
   ]
  },
  {
   "cell_type": "markdown",
   "metadata": {},
   "source": [
    "## Material"
   ]
  },
  {
   "cell_type": "code",
   "execution_count": 972,
   "metadata": {},
   "outputs": [
    {
     "name": "stdout",
     "output_type": "stream",
     "text": [
      "13\n"
     ]
    },
    {
     "data": {
      "text/plain": [
       "Material\n",
       "100002    603\n",
       "100001    590\n",
       "100004    468\n",
       "100007    411\n",
       "100009    389\n",
       "100011    381\n",
       "100008    376\n",
       "100006    368\n",
       "100010    366\n",
       "100005    365\n",
       "100012    326\n",
       "100003    221\n",
       "100013     56\n",
       "Name: count, dtype: int64"
      ]
     },
     "execution_count": 972,
     "metadata": {},
     "output_type": "execute_result"
    }
   ],
   "source": [
    "print(mc['Material'].nunique())\n",
    "mc['Material'].value_counts()"
   ]
  },
  {
   "cell_type": "code",
   "execution_count": 973,
   "metadata": {},
   "outputs": [
    {
     "data": {
      "text/plain": [
       "<Axes: xlabel='Material'>"
      ]
     },
     "execution_count": 973,
     "metadata": {},
     "output_type": "execute_result"
    },
    {
     "data": {
      "image/png": "[encoded data removed]",
      "text/plain": [
       "<Figure size 640x480 with 1 Axes>"
      ]
     },
     "metadata": {},
     "output_type": "display_data"
    }
   ],
   "source": [
    "# Plot histogram of Material\n",
    "mc['Material'].value_counts().plot(kind='bar')"
   ]
  },
  {
   "cell_type": "markdown",
   "metadata": {},
   "source": [
    "### Note: 100003 and 100013 as the least frequent"
   ]
  },
  {
   "cell_type": "code",
   "execution_count": null,
   "metadata": {},
   "outputs": [],
   "source": []
  },
  {
   "cell_type": "code",
   "execution_count": 974,
   "metadata": {},
   "outputs": [
    {
     "data": {
      "text/plain": [
       "Lote\n",
       "23115    13\n",
       "23110    13\n",
       "23116    13\n",
       "23111    13\n",
       "23024    12\n",
       "         ..\n",
       "23077    11\n",
       "23087    11\n",
       "23083    11\n",
       "23074    11\n",
       "23096    11\n",
       "Name: Material, Length: 194, dtype: int64"
      ]
     },
     "execution_count": 974,
     "metadata": {},
     "output_type": "execute_result"
    }
   ],
   "source": [
    "## How many materials are there for each lote?\n",
    "mc.groupby('Lote')['Material'].nunique().sort_values(ascending=False)"
   ]
  },
  {
   "cell_type": "code",
   "execution_count": 975,
   "metadata": {},
   "outputs": [
    {
     "data": {
      "text/plain": [
       "Lote   Material\n",
       "23019  100001      3\n",
       "       100002      3\n",
       "       100003      1\n",
       "       100004      2\n",
       "       100005      2\n",
       "                  ..\n",
       "24110  100008      1\n",
       "       100009      1\n",
       "       100010      1\n",
       "       100011      1\n",
       "       100012      1\n",
       "Length: 2327, dtype: int64"
      ]
     },
     "execution_count": 975,
     "metadata": {},
     "output_type": "execute_result"
    }
   ],
   "source": [
    "# Does the combination of material and lote uniquely identify a row?\n",
    "mc.groupby(['Lote', 'Material']).size()\n",
    "\n"
   ]
  },
  {
   "cell_type": "code",
   "execution_count": 976,
   "metadata": {},
   "outputs": [
    {
     "data": {
      "text/html": [
       "<div>\n",
       "<style scoped>\n",
       "    .dataframe tbody tr th:only-of-type {\n",
       "        vertical-align: middle;\n",
       "    }\n",
       "\n",
       "    .dataframe tbody tr th {\n",
       "        vertical-align: top;\n",
       "    }\n",
       "\n",
       "    .dataframe thead th {\n",
       "        text-align: right;\n",
       "    }\n",
       "</style>\n",
       "<table border=\"1\" class=\"dataframe\">\n",
       "  <thead>\n",
       "    <tr style=\"text-align: right;\">\n",
       "      <th></th>\n",
       "      <th>Lote</th>\n",
       "      <th>Material</th>\n",
       "      <th>Lote interno</th>\n",
       "      <th>Lote Proveedor</th>\n",
       "      <th>Qty</th>\n",
       "      <th>Fecha recepción</th>\n",
       "      <th>Fecha traslado</th>\n",
       "      <th>Duration</th>\n",
       "    </tr>\n",
       "  </thead>\n",
       "  <tbody>\n",
       "    <tr>\n",
       "      <th>0</th>\n",
       "      <td>23019</td>\n",
       "      <td>100001</td>\n",
       "      <td>0000737133</td>\n",
       "      <td>AM1798471</td>\n",
       "      <td>72.000</td>\n",
       "      <td>2023-01-12</td>\n",
       "      <td>2023-03-22</td>\n",
       "      <td>69 days</td>\n",
       "    </tr>\n",
       "    <tr>\n",
       "      <th>8</th>\n",
       "      <td>23019</td>\n",
       "      <td>100001</td>\n",
       "      <td>0000737133</td>\n",
       "      <td>AM1798471</td>\n",
       "      <td>57.600</td>\n",
       "      <td>2023-01-12</td>\n",
       "      <td>2023-03-02</td>\n",
       "      <td>49 days</td>\n",
       "    </tr>\n",
       "    <tr>\n",
       "      <th>19</th>\n",
       "      <td>23019</td>\n",
       "      <td>100001</td>\n",
       "      <td>0000737133</td>\n",
       "      <td>AM1798471</td>\n",
       "      <td>7.248</td>\n",
       "      <td>2023-01-12</td>\n",
       "      <td>2023-03-02</td>\n",
       "      <td>49 days</td>\n",
       "    </tr>\n",
       "  </tbody>\n",
       "</table>\n",
       "</div>"
      ],
      "text/plain": [
       "     Lote Material Lote interno Lote Proveedor     Qty Fecha recepción  \\\n",
       "0   23019   100001   0000737133      AM1798471  72.000      2023-01-12   \n",
       "8   23019   100001   0000737133      AM1798471  57.600      2023-01-12   \n",
       "19  23019   100001   0000737133      AM1798471   7.248      2023-01-12   \n",
       "\n",
       "   Fecha traslado Duration  \n",
       "0      2023-03-22  69 days  \n",
       "8      2023-03-02  49 days  \n",
       "19     2023-03-02  49 days  "
      ]
     },
     "execution_count": 976,
     "metadata": {},
     "output_type": "execute_result"
    }
   ],
   "source": [
    "# Select those which Lote and material has more than one row\n",
    "# Get lote 23019 and material 100001\n",
    "mc[(mc['Lote'] == '23019') & (mc['Material'] == '100001')]"
   ]
  },
  {
   "cell_type": "markdown",
   "metadata": {},
   "source": [
    "This example marks well what is happening here: We need all values to identify a row of this dataset.\n",
    "We could make a new ID here to simplify it probably?"
   ]
  },
  {
   "cell_type": "markdown",
   "metadata": {},
   "source": [
    "## Saving\n"
   ]
  },
  {
   "cell_type": "code",
   "execution_count": 977,
   "metadata": {},
   "outputs": [
    {
     "name": "stdout",
     "output_type": "stream",
     "text": [
      "<class 'pandas.core.frame.DataFrame'>\n",
      "Index: 4920 entries, 0 to 5023\n",
      "Data columns (total 8 columns):\n",
      " #   Column           Non-Null Count  Dtype          \n",
      "---  ------           --------------  -----          \n",
      " 0   Lote             4920 non-null   object         \n",
      " 1   Material         4920 non-null   object         \n",
      " 2   Lote interno     4920 non-null   object         \n",
      " 3   Lote Proveedor   4920 non-null   object         \n",
      " 4   Qty              4920 non-null   float64        \n",
      " 5   Fecha recepción  4920 non-null   datetime64[ns] \n",
      " 6   Fecha traslado   4920 non-null   datetime64[ns] \n",
      " 7   Duration         4920 non-null   timedelta64[ns]\n",
      "dtypes: datetime64[ns](2), float64(1), object(4), timedelta64[ns](1)\n",
      "memory usage: 475.0+ KB\n"
     ]
    }
   ],
   "source": [
    "mc.info()"
   ]
  },
  {
   "cell_type": "code",
   "execution_count": 978,
   "metadata": {},
   "outputs": [],
   "source": [
    "mc.to_csv('../../data/processed/mov_componentes.csv', index=False)"
   ]
  }
 ],
 "metadata": {
  "kernelspec": {
   "display_name": "losca-RpR7jZx6-py3.11",
   "language": "python",
   "name": "python3"
  },
  "language_info": {
   "codemirror_mode": {
    "name": "ipython",
    "version": 3
   },
   "file_extension": ".py",
   "mimetype": "text/x-python",
   "name": "python",
   "nbconvert_exporter": "python",
   "pygments_lexer": "ipython3",
   "version": "3.11.5"
  }
 },
 "nbformat": 4,
 "nbformat_minor": 2
}
