{
 "cells": [
  {
   "cell_type": "code",
   "execution_count": 544,
   "metadata": {},
   "outputs": [],
   "source": [
    "import pandas as pd\n",
    "import matplotlib.pyplot as plt"
   ]
  },
  {
   "cell_type": "code",
   "execution_count": 545,
   "metadata": {},
   "outputs": [],
   "source": [
    "dtypes = {'Lote': str, 'Material': str, 'Lote interno': str, 'Lote Proveedor': str, 'Qty': float, 'Fecha recepción': object, 'Fecha traslado': object}"
   ]
  },
  {
   "cell_type": "code",
   "execution_count": null,
   "metadata": {},
   "outputs": [],
   "source": [
    "mc = pd.read_excel('../../data/raw/Movimientos componentes.xlsx', dtype=dtypes)\n",
    "mc.head()"
   ]
  },
  {
   "cell_type": "code",
   "execution_count": null,
   "metadata": {},
   "outputs": [],
   "source": [
    "mc.info()"
   ]
  },
  {
   "cell_type": "markdown",
   "metadata": {},
   "source": [
    "Fecha recepción y traslado are not datetimes"
   ]
  },
  {
   "cell_type": "code",
   "execution_count": null,
   "metadata": {},
   "outputs": [],
   "source": [
    "mc.describe()"
   ]
  },
  {
   "cell_type": "markdown",
   "metadata": {},
   "source": [
    "It is weird for a quantity to be less than 0 (even 0 is weird!)"
   ]
  },
  {
   "cell_type": "code",
   "execution_count": null,
   "metadata": {},
   "outputs": [],
   "source": [
    "# Duplicated rows count\n",
    "mc.duplicated().sum()"
   ]
  },
  {
   "cell_type": "code",
   "execution_count": null,
   "metadata": {},
   "outputs": [],
   "source": [
    "# Lets take a look at the duplicated rows how many times they are duplicated\n",
    "df = mc.copy()\n",
    "# For each duplicated row we are going to count the number of times the row is duplicated\n",
    "df['duplicated'] = df.duplicated(keep=False)\n",
    "# Get those which are duplicated\n",
    "df = df[df['duplicated']]\n",
    "print(df[df['duplicated']].shape[0])\n",
    "# Get the row number 1\n",
    "#print(df.loc[df['Lote'] == df.iloc[1]['Lote']])\n",
    "# Count the number of times the row is duplicated using apply, axis = 1\n",
    "\n",
    "df['duplicated_count'] = df.apply(lambda x: df[df.eq(x).all(1)].shape[0], axis=1)\n",
    "df = df.drop_duplicates()\n",
    "df = df.sort_values(by='duplicated_count', ascending=False)\n",
    "# Sum\n",
    "df['duplicated_count'].sum()\n"
   ]
  },
  {
   "cell_type": "code",
   "execution_count": null,
   "metadata": {},
   "outputs": [],
   "source": [
    "df.head(10)"
   ]
  },
  {
   "cell_type": "code",
   "execution_count": null,
   "metadata": {},
   "outputs": [],
   "source": [
    "df.tail(10)"
   ]
  },
  {
   "cell_type": "markdown",
   "metadata": {},
   "source": [
    "### Is there a pattern in the duplicated rows?"
   ]
  },
  {
   "cell_type": "code",
   "execution_count": 553,
   "metadata": {},
   "outputs": [],
   "source": [
    "# Drop duplicated rows\n",
    "mc.drop_duplicates(inplace=True)"
   ]
  },
  {
   "cell_type": "markdown",
   "metadata": {},
   "source": [
    "# Columns\n"
   ]
  },
  {
   "cell_type": "markdown",
   "metadata": {},
   "source": [
    "## Qty "
   ]
  },
  {
   "cell_type": "code",
   "execution_count": null,
   "metadata": {},
   "outputs": [],
   "source": [
    "# Is there any non-alphanumeric character in the 'Qty' column?\n",
    "print('Number of values with digit characters: ' + str(mc['Qty'].astype(str).str.count('^[-0-9.]+').sum()))\n",
    "# Which ones are positive?\n",
    "print('Number of positive values: ' + str(mc[mc['Qty'] > 0]['Qty'].count()))\n",
    "# Which ones are negative?\n",
    "print('Number of negative values: ' + str(mc[mc['Qty'] < 0]['Qty'].count()))\n",
    "# Which ones are zero?\n",
    "print('Number of zero values: ' + str(mc[mc['Qty'] == 0]['Qty'].count()))"
   ]
  },
  {
   "cell_type": "code",
   "execution_count": null,
   "metadata": {},
   "outputs": [],
   "source": [
    "# Lets show the negative values\n",
    "mc[mc['Qty'] < 0]"
   ]
  },
  {
   "cell_type": "code",
   "execution_count": null,
   "metadata": {},
   "outputs": [],
   "source": [
    "# Lets show the zero values\n",
    "mc[mc['Qty'] == 0]"
   ]
  },
  {
   "cell_type": "code",
   "execution_count": null,
   "metadata": {},
   "outputs": [],
   "source": [
    "# Lets show 10 of the positive values\n",
    "mc[mc['Qty'] > 0].sample(10)"
   ]
  },
  {
   "cell_type": "markdown",
   "metadata": {},
   "source": [
    "Weird values for recepción y traslado, lets check what else happened with those columns later."
   ]
  },
  {
   "cell_type": "markdown",
   "metadata": {},
   "source": [
    "## Lote"
   ]
  },
  {
   "cell_type": "code",
   "execution_count": null,
   "metadata": {},
   "outputs": [],
   "source": [
    "### Are all lote chars digits?\n",
    "mc['Lote'].str.isdigit().all()"
   ]
  },
  {
   "cell_type": "code",
   "execution_count": null,
   "metadata": {},
   "outputs": [],
   "source": [
    "# Lote max and min length\n",
    "print('Lote max length: ' + str(mc['Lote'].str.len().max()))\n",
    "print('Lote min length: ' + str(mc['Lote'].str.len().min()))\n"
   ]
  },
  {
   "cell_type": "code",
   "execution_count": null,
   "metadata": {},
   "outputs": [],
   "source": [
    "#Number of unique lote values\n",
    "print('Number of unique lote values: ' + str(mc['Lote'].nunique()) + ' out of ' + str(mc['Lote'].count()))"
   ]
  },
  {
   "cell_type": "markdown",
   "metadata": {},
   "source": [
    "194 unique values != 205 unique from OF 123456 excel sheet."
   ]
  },
  {
   "cell_type": "markdown",
   "metadata": {},
   "source": [
    "## Lote proveedor"
   ]
  },
  {
   "cell_type": "code",
   "execution_count": null,
   "metadata": {},
   "outputs": [],
   "source": [
    "# Lote proveedor unique values\n",
    "print('Number of unique lote proveedor values: ' + str(mc['Lote Proveedor'].nunique()) + \n",
    "      ' out of ' + str(mc['Lote Proveedor'].count()))"
   ]
  },
  {
   "cell_type": "code",
   "execution_count": null,
   "metadata": {},
   "outputs": [],
   "source": [
    "# Min and max length \n",
    "print('Min lote length: ' + str(mc['Lote Proveedor'].str.len().min()))\n",
    "print('Max lote length: ' + str(mc['Lote Proveedor'].str.len().max()))"
   ]
  },
  {
   "cell_type": "code",
   "execution_count": null,
   "metadata": {},
   "outputs": [],
   "source": [
    "# Distribution of lengths\n",
    "mc['Lote Proveedor'].str.len().value_counts().sort_index().plot(kind='bar')"
   ]
  },
  {
   "cell_type": "code",
   "execution_count": null,
   "metadata": {},
   "outputs": [],
   "source": [
    "# They are not all digits, but they are all alphanumeric\n",
    "mc['Lote Proveedor'].str.isalnum().all()"
   ]
  },
  {
   "cell_type": "code",
   "execution_count": null,
   "metadata": {},
   "outputs": [],
   "source": [
    "# Which is not alphanumeric?\n",
    "mc[~mc['Lote Proveedor'].str.isalnum()]['Lote Proveedor'].unique()"
   ]
  },
  {
   "cell_type": "markdown",
   "metadata": {},
   "source": [
    "There are patterns and groups"
   ]
  },
  {
   "cell_type": "code",
   "execution_count": null,
   "metadata": {},
   "outputs": [],
   "source": [
    "# First values of 'Lote Proveedor' patterns\n",
    "mc['Lote Proveedor'].value_counts().index.str.extract(r'(^.{1})').value_counts()"
   ]
  },
  {
   "cell_type": "code",
   "execution_count": null,
   "metadata": {},
   "outputs": [],
   "source": [
    "mc['Lote Proveedor'].value_counts().index.str.extract(r'(^.{2})').value_counts()"
   ]
  },
  {
   "cell_type": "code",
   "execution_count": null,
   "metadata": {},
   "outputs": [],
   "source": [
    "mc['Lote Proveedor'].value_counts().index.str.extract(r'(^.{3})').value_counts()"
   ]
  },
  {
   "cell_type": "code",
   "execution_count": null,
   "metadata": {},
   "outputs": [],
   "source": [
    "mc['Lote Proveedor'].value_counts().index.str.extract(r'(^.{4})').value_counts()"
   ]
  },
  {
   "cell_type": "markdown",
   "metadata": {},
   "source": [
    "Could there be any value in splitting the suppliers into several categories for statistical analysis or ML related analysis?"
   ]
  },
  {
   "cell_type": "markdown",
   "metadata": {},
   "source": [
    "## Lote interno"
   ]
  },
  {
   "cell_type": "code",
   "execution_count": null,
   "metadata": {},
   "outputs": [],
   "source": [
    "# lote interno unique values\n",
    "print('Number of unique lote interno values: ' + str(mc['Lote interno'].nunique()) + \n",
    "      ' out of ' + str(mc['Lote interno'].count()))"
   ]
  },
  {
   "cell_type": "markdown",
   "metadata": {},
   "source": [
    "### This looks interesting, one would assume lote interno was an ID for the material transaction but seems it is not true"
   ]
  },
  {
   "cell_type": "code",
   "execution_count": null,
   "metadata": {},
   "outputs": [],
   "source": [
    "# Are all lote interno chars digits?\n",
    "mc['Lote interno'].str.isdigit().all()"
   ]
  },
  {
   "cell_type": "code",
   "execution_count": null,
   "metadata": {},
   "outputs": [],
   "source": [
    "# Minimum and max length of lote interno\n",
    "print('Minimum length of lote interno: ' + str(mc['Lote interno'].str.len().min()))\n",
    "print('Maximum length of lote interno: ' + str(mc['Lote interno'].str.len().max()))"
   ]
  },
  {
   "cell_type": "code",
   "execution_count": null,
   "metadata": {},
   "outputs": [],
   "source": [
    "# Is there any pattern to the unique values?\n",
    "mc['Lote interno'].value_counts().index.str.extract(r'(^.{5})').value_counts()"
   ]
  },
  {
   "cell_type": "code",
   "execution_count": null,
   "metadata": {},
   "outputs": [],
   "source": [
    "mc['Lote interno'].value_counts().index.str.extract(r'(.{6}$)').value_counts()"
   ]
  },
  {
   "cell_type": "markdown",
   "metadata": {},
   "source": [
    "### This just looks like a numerical id, but we can't know what it is exactly identifying, it is likely a combination of Lote, Lote interno and Material/ proveedor which makes the row identifiable"
   ]
  },
  {
   "cell_type": "markdown",
   "metadata": {},
   "source": [
    "## Fecha recepcion"
   ]
  },
  {
   "cell_type": "code",
   "execution_count": null,
   "metadata": {},
   "outputs": [],
   "source": [
    "# Number of unique values for fecha recepción\n",
    "print('Number of unique fecha recepción values: ' + str(mc['Fecha recepción'].nunique()) + \n",
    "      ' out of ' + str(mc['Fecha recepción'].count()))"
   ]
  },
  {
   "cell_type": "code",
   "execution_count": null,
   "metadata": {},
   "outputs": [],
   "source": [
    "# Are all datetimes? \n",
    "# Check with type\n",
    "import datetime\n",
    "print('All recepcion datetimes: ' + str(mc['Fecha recepción'].apply(lambda x: type(x)).eq(datetime.datetime).all()))\n",
    "print('All traslado datetimes: ' + str(mc['Fecha traslado'].apply(lambda x: type(x)).eq(datetime.datetime).all()))\n",
    "# Get those which are not datetimes\n",
    "not_dt = mc[~mc['Fecha recepción'].apply(lambda x: type(x)).eq(datetime.datetime)]\n",
    "print('Number of not datetime values in fecha recepción: ' + str(not_dt.shape[0]))\n",
    "not_dt = mc[~mc['Fecha traslado'].apply(lambda x: type(x)).eq(datetime.datetime)]\n",
    "print('Number of not datetime values in fecha traslado: ' + str(not_dt.shape[0]))\n",
    "\n",
    "not_dt.shape[0]\n",
    "#nUnique of fecha recepción\n",
    "print('nUnique of fecha recepción: ' + str(not_dt['Fecha recepción'].nunique()))\n",
    "# nUnique of Lote\n",
    "print('nUnique of Lote: ' + str(not_dt['Lote'].nunique()))  \n",
    "# nUnique of Lote Proveedor\n",
    "print('nUnique of Lote Proveedor: ' + str(not_dt['Lote Proveedor'].nunique()))\n",
    "# nUnique of Material\n",
    "print('nUnique of Material: ' + str(not_dt['Material'].nunique()))\n",
    "# nUnique of Qty\n",
    "print('nUnique of Qty: ' + str(not_dt['Qty'].nunique()))\n",
    "# nUnique of Fecha traslado\n",
    "print('nUnique of Fecha traslado: ' + str(not_dt['Fecha traslado'].nunique()))\n",
    "# nUnique of Lote interno\n",
    "print('nUnique of Lote interno: ' + str(not_dt['Lote interno'].nunique()))\n",
    "print(not_dt)\n"
   ]
  },
  {
   "cell_type": "code",
   "execution_count": null,
   "metadata": {},
   "outputs": [],
   "source": [
    "# Are non-datetime values in the fecha traslado greater than fecha recepción?\n",
    "(not_dt['Fecha traslado'] > not_dt['Fecha recepción']).all()"
   ]
  },
  {
   "cell_type": "markdown",
   "metadata": {},
   "source": [
    "## Duration"
   ]
  },
  {
   "cell_type": "code",
   "execution_count": 565,
   "metadata": {},
   "outputs": [],
   "source": [
    "def dur_map(x):\n",
    "    if type(x) == datetime.timedelta:\n",
    "        # get days as int\n",
    "        return x.days\n",
    "    else:\n",
    "        return x"
   ]
  },
  {
   "cell_type": "code",
   "execution_count": null,
   "metadata": {},
   "outputs": [],
   "source": [
    "# Create a column for duration in mc\n",
    "mc['Duration'] = mc['Fecha traslado'] - mc['Fecha recepción']\n",
    "mc['Duration'] = mc['Duration'].apply(dur_map)\n",
    "mc\n"
   ]
  },
  {
   "cell_type": "code",
   "execution_count": null,
   "metadata": {},
   "outputs": [],
   "source": [
    "# Plot histogram of duration\n",
    "mc[~mc.index.isin(not_dt.index)]['Duration'].hist(bins=100)\n",
    "# Print mean\n",
    "print('Mean duration: ' + str(mc[~mc.index.isin(not_dt.index)]['Duration'].mean()))\n",
    "# Print median\n",
    "print('Median duration: ' + str(mc[~mc.index.isin(not_dt.index)]['Duration'].median()))\n",
    "# Print std\n",
    "print('Std duration: ' + str(mc[~mc.index.isin(not_dt.index)]['Duration'].std()))"
   ]
  },
  {
   "cell_type": "code",
   "execution_count": null,
   "metadata": {},
   "outputs": [],
   "source": [
    "# Plot histogram of duration\n",
    "mc[mc.index.isin(not_dt.index)]['Duration'].hist(bins=100)\n",
    "# Print mean\n",
    "print('Mean duration: ' + str(mc[mc.index.isin(not_dt.index)]['Duration'].mean()))\n",
    "# Print median\n",
    "print('Median duration: ' + str(mc[mc.index.isin(not_dt.index)]['Duration'].median()))\n",
    "# Print std\n",
    "print('Std duration: ' + str(mc[mc.index.isin(not_dt.index)]['Duration'].std()))"
   ]
  },
  {
   "cell_type": "code",
   "execution_count": null,
   "metadata": {},
   "outputs": [],
   "source": [
    "mc['Duration'].hist(bins=100)\n",
    "# Print mean\n",
    "print('Mean duration: ' + str(mc['Duration'].mean()))\n",
    "# Print median\n",
    "print('Median duration: ' + str(mc['Duration'].median()))\n",
    "# Print std\n",
    "print('Std duration: ' + str(mc['Duration'].std()))\n"
   ]
  },
  {
   "cell_type": "code",
   "execution_count": null,
   "metadata": {},
   "outputs": [],
   "source": []
  },
  {
   "cell_type": "markdown",
   "metadata": {},
   "source": []
  },
  {
   "cell_type": "markdown",
   "metadata": {},
   "source": [
    "## Fecha traslado\n"
   ]
  },
  {
   "cell_type": "code",
   "execution_count": null,
   "metadata": {},
   "outputs": [],
   "source": [
    "# Unique values of Fecha traslado\n",
    "print('Unique values of Fecha traslado: ' + str(mc['Fecha traslado'].nunique()) + ' out of '\n",
    "                                                 + str(mc['Fecha traslado'].count()))"
   ]
  },
  {
   "cell_type": "markdown",
   "metadata": {},
   "source": [
    "## Material"
   ]
  },
  {
   "cell_type": "code",
   "execution_count": null,
   "metadata": {},
   "outputs": [],
   "source": [
    "print(mc['Material'].nunique())\n",
    "mc['Material'].value_counts()"
   ]
  },
  {
   "cell_type": "code",
   "execution_count": null,
   "metadata": {},
   "outputs": [],
   "source": [
    "# Plot histogram of Material\n",
    "mc['Material'].value_counts().plot(kind='bar')"
   ]
  },
  {
   "cell_type": "markdown",
   "metadata": {},
   "source": [
    "### Note: 100003 and 100013 as the least frequent"
   ]
  },
  {
   "cell_type": "code",
   "execution_count": null,
   "metadata": {},
   "outputs": [],
   "source": []
  },
  {
   "cell_type": "code",
   "execution_count": null,
   "metadata": {},
   "outputs": [],
   "source": [
    "## How many materials are there for each lote?\n",
    "mc.groupby('Lote')['Material'].nunique().sort_values(ascending=False)"
   ]
  },
  {
   "cell_type": "code",
   "execution_count": 644,
   "metadata": {},
   "outputs": [
    {
     "data": {
      "text/plain": [
       "Lote   Material\n",
       "23019  100001      3\n",
       "       100002      3\n",
       "       100003      1\n",
       "       100004      2\n",
       "       100005      2\n",
       "                  ..\n",
       "24110  100008      1\n",
       "       100009      1\n",
       "       100010      1\n",
       "       100011      1\n",
       "       100012      1\n",
       "Length: 2327, dtype: int64"
      ]
     },
     "execution_count": 644,
     "metadata": {},
     "output_type": "execute_result"
    }
   ],
   "source": [
    "# Does the combination of material and lote uniquely identify a row?\n",
    "mc.groupby(['Lote', 'Material']).size()\n",
    "\n"
   ]
  },
  {
   "cell_type": "code",
   "execution_count": 645,
   "metadata": {},
   "outputs": [
    {
     "data": {
      "text/html": [
       "<div>\n",
       "<style scoped>\n",
       "    .dataframe tbody tr th:only-of-type {\n",
       "        vertical-align: middle;\n",
       "    }\n",
       "\n",
       "    .dataframe tbody tr th {\n",
       "        vertical-align: top;\n",
       "    }\n",
       "\n",
       "    .dataframe thead th {\n",
       "        text-align: right;\n",
       "    }\n",
       "</style>\n",
       "<table border=\"1\" class=\"dataframe\">\n",
       "  <thead>\n",
       "    <tr style=\"text-align: right;\">\n",
       "      <th></th>\n",
       "      <th>Lote</th>\n",
       "      <th>Material</th>\n",
       "      <th>Lote interno</th>\n",
       "      <th>Lote Proveedor</th>\n",
       "      <th>Qty</th>\n",
       "      <th>Fecha recepción</th>\n",
       "      <th>Fecha traslado</th>\n",
       "      <th>Duration</th>\n",
       "    </tr>\n",
       "  </thead>\n",
       "  <tbody>\n",
       "    <tr>\n",
       "      <th>0</th>\n",
       "      <td>23019</td>\n",
       "      <td>100001</td>\n",
       "      <td>0000737133</td>\n",
       "      <td>AM1798471</td>\n",
       "      <td>72.000</td>\n",
       "      <td>2023-01-12 00:00:00</td>\n",
       "      <td>2023-03-22 00:00:00</td>\n",
       "      <td>69</td>\n",
       "    </tr>\n",
       "    <tr>\n",
       "      <th>8</th>\n",
       "      <td>23019</td>\n",
       "      <td>100001</td>\n",
       "      <td>0000737133</td>\n",
       "      <td>AM1798471</td>\n",
       "      <td>57.600</td>\n",
       "      <td>2023-01-12 00:00:00</td>\n",
       "      <td>2023-03-02 00:00:00</td>\n",
       "      <td>49</td>\n",
       "    </tr>\n",
       "    <tr>\n",
       "      <th>19</th>\n",
       "      <td>23019</td>\n",
       "      <td>100001</td>\n",
       "      <td>0000737133</td>\n",
       "      <td>AM1798471</td>\n",
       "      <td>7.248</td>\n",
       "      <td>2023-01-12 00:00:00</td>\n",
       "      <td>2023-03-02 00:00:00</td>\n",
       "      <td>49</td>\n",
       "    </tr>\n",
       "  </tbody>\n",
       "</table>\n",
       "</div>"
      ],
      "text/plain": [
       "     Lote Material Lote interno Lote Proveedor     Qty      Fecha recepción  \\\n",
       "0   23019   100001   0000737133      AM1798471  72.000  2023-01-12 00:00:00   \n",
       "8   23019   100001   0000737133      AM1798471  57.600  2023-01-12 00:00:00   \n",
       "19  23019   100001   0000737133      AM1798471   7.248  2023-01-12 00:00:00   \n",
       "\n",
       "         Fecha traslado  Duration  \n",
       "0   2023-03-22 00:00:00        69  \n",
       "8   2023-03-02 00:00:00        49  \n",
       "19  2023-03-02 00:00:00        49  "
      ]
     },
     "execution_count": 645,
     "metadata": {},
     "output_type": "execute_result"
    }
   ],
   "source": [
    "# Select those which Lote and material has more than one row\n",
    "# Get lote 23019 and material 100001\n",
    "mc[(mc['Lote'] == '23019') & (mc['Material'] == '100001')]"
   ]
  },
  {
   "cell_type": "markdown",
   "metadata": {},
   "source": [
    "This example marks well what is happening here: We need all values to identify a row of this dataset.\n",
    "We could make a new ID here to simplify it probably?"
   ]
  }
 ],
 "metadata": {
  "kernelspec": {
   "display_name": "losca-RpR7jZx6-py3.11",
   "language": "python",
   "name": "python3"
  },
  "language_info": {
   "codemirror_mode": {
    "name": "ipython",
    "version": 3
   },
   "file_extension": ".py",
   "mimetype": "text/x-python",
   "name": "python",
   "nbconvert_exporter": "python",
   "pygments_lexer": "ipython3",
   "version": "3.11.5"
  }
 },
 "nbformat": 4,
 "nbformat_minor": 2
}
