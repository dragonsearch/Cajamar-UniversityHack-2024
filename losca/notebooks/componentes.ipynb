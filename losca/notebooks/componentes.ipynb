{
 "cells": [
  {
   "cell_type": "code",
   "execution_count": 544,
   "metadata": {},
   "outputs": [],
   "source": [
    "import pandas as pd\n",
    "import matplotlib.pyplot as plt"
   ]
  },
  {
   "cell_type": "code",
   "execution_count": 545,
   "metadata": {},
   "outputs": [],
   "source": [
    "dtypes = {'Lote': str, 'Material': str, 'Lote interno': str, 'Lote Proveedor': str, 'Qty': float, 'Fecha recepción': object, 'Fecha traslado': object}"
   ]
  },
  {
   "cell_type": "code",
   "execution_count": 546,
   "metadata": {},
   "outputs": [
    {
     "data": {
      "text/html": [
       "<div>\n",
       "<style scoped>\n",
       "    .dataframe tbody tr th:only-of-type {\n",
       "        vertical-align: middle;\n",
       "    }\n",
       "\n",
       "    .dataframe tbody tr th {\n",
       "        vertical-align: top;\n",
       "    }\n",
       "\n",
       "    .dataframe thead th {\n",
       "        text-align: right;\n",
       "    }\n",
       "</style>\n",
       "<table border=\"1\" class=\"dataframe\">\n",
       "  <thead>\n",
       "    <tr style=\"text-align: right;\">\n",
       "      <th></th>\n",
       "      <th>Lote</th>\n",
       "      <th>Material</th>\n",
       "      <th>Lote interno</th>\n",
       "      <th>Lote Proveedor</th>\n",
       "      <th>Qty</th>\n",
       "      <th>Fecha recepción</th>\n",
       "      <th>Fecha traslado</th>\n",
       "    </tr>\n",
       "  </thead>\n",
       "  <tbody>\n",
       "    <tr>\n",
       "      <th>0</th>\n",
       "      <td>23019</td>\n",
       "      <td>100001</td>\n",
       "      <td>0000737133</td>\n",
       "      <td>AM1798471</td>\n",
       "      <td>72.0</td>\n",
       "      <td>2023-01-12 00:00:00</td>\n",
       "      <td>2023-03-22 00:00:00</td>\n",
       "    </tr>\n",
       "    <tr>\n",
       "      <th>1</th>\n",
       "      <td>23019</td>\n",
       "      <td>100002</td>\n",
       "      <td>0000676155</td>\n",
       "      <td>K53821835</td>\n",
       "      <td>72.0</td>\n",
       "      <td>2022-03-07 00:00:00</td>\n",
       "      <td>2023-03-15 00:00:00</td>\n",
       "    </tr>\n",
       "    <tr>\n",
       "      <th>2</th>\n",
       "      <td>23019</td>\n",
       "      <td>100003</td>\n",
       "      <td>0000636590</td>\n",
       "      <td>0005065337</td>\n",
       "      <td>4800.0</td>\n",
       "      <td>2021-08-27 00:00:00</td>\n",
       "      <td>2023-03-13 00:00:00</td>\n",
       "    </tr>\n",
       "    <tr>\n",
       "      <th>3</th>\n",
       "      <td>23019</td>\n",
       "      <td>100004</td>\n",
       "      <td>0000655968</td>\n",
       "      <td>2414150</td>\n",
       "      <td>320.0</td>\n",
       "      <td>2021-11-25 00:00:00</td>\n",
       "      <td>2023-03-10 00:00:00</td>\n",
       "    </tr>\n",
       "    <tr>\n",
       "      <th>4</th>\n",
       "      <td>23019</td>\n",
       "      <td>100005</td>\n",
       "      <td>0000723171</td>\n",
       "      <td>M3889</td>\n",
       "      <td>96.0</td>\n",
       "      <td>2022-11-04 00:00:00</td>\n",
       "      <td>2023-03-03 00:00:00</td>\n",
       "    </tr>\n",
       "  </tbody>\n",
       "</table>\n",
       "</div>"
      ],
      "text/plain": [
       "    Lote Material Lote interno Lote Proveedor     Qty      Fecha recepción  \\\n",
       "0  23019   100001   0000737133      AM1798471    72.0  2023-01-12 00:00:00   \n",
       "1  23019   100002   0000676155      K53821835    72.0  2022-03-07 00:00:00   \n",
       "2  23019   100003   0000636590     0005065337  4800.0  2021-08-27 00:00:00   \n",
       "3  23019   100004   0000655968        2414150   320.0  2021-11-25 00:00:00   \n",
       "4  23019   100005   0000723171          M3889    96.0  2022-11-04 00:00:00   \n",
       "\n",
       "        Fecha traslado  \n",
       "0  2023-03-22 00:00:00  \n",
       "1  2023-03-15 00:00:00  \n",
       "2  2023-03-13 00:00:00  \n",
       "3  2023-03-10 00:00:00  \n",
       "4  2023-03-03 00:00:00  "
      ]
     },
     "execution_count": 546,
     "metadata": {},
     "output_type": "execute_result"
    }
   ],
   "source": [
    "mc = pd.read_excel('../../data/raw/Movimientos componentes.xlsx', dtype=dtypes)\n",
    "mc.head()"
   ]
  },
  {
   "cell_type": "code",
   "execution_count": 547,
   "metadata": {},
   "outputs": [
    {
     "name": "stdout",
     "output_type": "stream",
     "text": [
      "<class 'pandas.core.frame.DataFrame'>\n",
      "RangeIndex: 5024 entries, 0 to 5023\n",
      "Data columns (total 7 columns):\n",
      " #   Column           Non-Null Count  Dtype  \n",
      "---  ------           --------------  -----  \n",
      " 0   Lote             5024 non-null   object \n",
      " 1   Material         5024 non-null   object \n",
      " 2   Lote interno     5024 non-null   object \n",
      " 3   Lote Proveedor   5024 non-null   object \n",
      " 4   Qty              5024 non-null   float64\n",
      " 5   Fecha recepción  5024 non-null   object \n",
      " 6   Fecha traslado   5024 non-null   object \n",
      "dtypes: float64(1), object(6)\n",
      "memory usage: 274.9+ KB\n"
     ]
    }
   ],
   "source": [
    "mc.info()"
   ]
  },
  {
   "cell_type": "markdown",
   "metadata": {},
   "source": [
    "Fecha recepción y traslado are not datetimes"
   ]
  },
  {
   "cell_type": "code",
   "execution_count": 548,
   "metadata": {},
   "outputs": [
    {
     "data": {
      "text/html": [
       "<div>\n",
       "<style scoped>\n",
       "    .dataframe tbody tr th:only-of-type {\n",
       "        vertical-align: middle;\n",
       "    }\n",
       "\n",
       "    .dataframe tbody tr th {\n",
       "        vertical-align: top;\n",
       "    }\n",
       "\n",
       "    .dataframe thead th {\n",
       "        text-align: right;\n",
       "    }\n",
       "</style>\n",
       "<table border=\"1\" class=\"dataframe\">\n",
       "  <thead>\n",
       "    <tr style=\"text-align: right;\">\n",
       "      <th></th>\n",
       "      <th>Qty</th>\n",
       "    </tr>\n",
       "  </thead>\n",
       "  <tbody>\n",
       "    <tr>\n",
       "      <th>count</th>\n",
       "      <td>5024.000000</td>\n",
       "    </tr>\n",
       "    <tr>\n",
       "      <th>mean</th>\n",
       "      <td>1639.163955</td>\n",
       "    </tr>\n",
       "    <tr>\n",
       "      <th>std</th>\n",
       "      <td>2729.803662</td>\n",
       "    </tr>\n",
       "    <tr>\n",
       "      <th>min</th>\n",
       "      <td>-8352.000000</td>\n",
       "    </tr>\n",
       "    <tr>\n",
       "      <th>25%</th>\n",
       "      <td>67.200000</td>\n",
       "    </tr>\n",
       "    <tr>\n",
       "      <th>50%</th>\n",
       "      <td>144.940000</td>\n",
       "    </tr>\n",
       "    <tr>\n",
       "      <th>75%</th>\n",
       "      <td>2047.200000</td>\n",
       "    </tr>\n",
       "    <tr>\n",
       "      <th>max</th>\n",
       "      <td>9600.000000</td>\n",
       "    </tr>\n",
       "  </tbody>\n",
       "</table>\n",
       "</div>"
      ],
      "text/plain": [
       "               Qty\n",
       "count  5024.000000\n",
       "mean   1639.163955\n",
       "std    2729.803662\n",
       "min   -8352.000000\n",
       "25%      67.200000\n",
       "50%     144.940000\n",
       "75%    2047.200000\n",
       "max    9600.000000"
      ]
     },
     "execution_count": 548,
     "metadata": {},
     "output_type": "execute_result"
    }
   ],
   "source": [
    "mc.describe()"
   ]
  },
  {
   "cell_type": "markdown",
   "metadata": {},
   "source": [
    "It is weird for a quantity to be less than 0 (even 0 is weird!)"
   ]
  },
  {
   "cell_type": "code",
   "execution_count": 549,
   "metadata": {},
   "outputs": [
    {
     "data": {
      "text/plain": [
       "np.int64(104)"
      ]
     },
     "execution_count": 549,
     "metadata": {},
     "output_type": "execute_result"
    }
   ],
   "source": [
    "# Duplicated rows count\n",
    "mc.duplicated().sum()"
   ]
  },
  {
   "cell_type": "code",
   "execution_count": 550,
   "metadata": {},
   "outputs": [
    {
     "name": "stdout",
     "output_type": "stream",
     "text": [
      "202\n"
     ]
    },
    {
     "data": {
      "text/plain": [
       "np.int64(202)"
      ]
     },
     "execution_count": 550,
     "metadata": {},
     "output_type": "execute_result"
    }
   ],
   "source": [
    "# Lets take a look at the duplicated rows how many times they are duplicated\n",
    "df = mc.copy()\n",
    "# For each duplicated row we are going to count the number of times the row is duplicated\n",
    "df['duplicated'] = df.duplicated(keep=False)\n",
    "# Get those which are duplicated\n",
    "df = df[df['duplicated']]\n",
    "print(df[df['duplicated']].shape[0])\n",
    "# Get the row number 1\n",
    "#print(df.loc[df['Lote'] == df.iloc[1]['Lote']])\n",
    "# Count the number of times the row is duplicated using apply, axis = 1\n",
    "\n",
    "df['duplicated_count'] = df.apply(lambda x: df[df.eq(x).all(1)].shape[0], axis=1)\n",
    "df = df.drop_duplicates()\n",
    "df = df.sort_values(by='duplicated_count', ascending=False)\n",
    "# Sum\n",
    "df['duplicated_count'].sum()\n"
   ]
  },
  {
   "cell_type": "code",
   "execution_count": 551,
   "metadata": {},
   "outputs": [
    {
     "data": {
      "text/html": [
       "<div>\n",
       "<style scoped>\n",
       "    .dataframe tbody tr th:only-of-type {\n",
       "        vertical-align: middle;\n",
       "    }\n",
       "\n",
       "    .dataframe tbody tr th {\n",
       "        vertical-align: top;\n",
       "    }\n",
       "\n",
       "    .dataframe thead th {\n",
       "        text-align: right;\n",
       "    }\n",
       "</style>\n",
       "<table border=\"1\" class=\"dataframe\">\n",
       "  <thead>\n",
       "    <tr style=\"text-align: right;\">\n",
       "      <th></th>\n",
       "      <th>Lote</th>\n",
       "      <th>Material</th>\n",
       "      <th>Lote interno</th>\n",
       "      <th>Lote Proveedor</th>\n",
       "      <th>Qty</th>\n",
       "      <th>Fecha recepción</th>\n",
       "      <th>Fecha traslado</th>\n",
       "      <th>duplicated</th>\n",
       "      <th>duplicated_count</th>\n",
       "    </tr>\n",
       "  </thead>\n",
       "  <tbody>\n",
       "    <tr>\n",
       "      <th>4874</th>\n",
       "      <td>24097</td>\n",
       "      <td>100004</td>\n",
       "      <td>0000828959</td>\n",
       "      <td>LA-APS-0303</td>\n",
       "      <td>0.0</td>\n",
       "      <td>45404</td>\n",
       "      <td>45443</td>\n",
       "      <td>True</td>\n",
       "      <td>5</td>\n",
       "    </tr>\n",
       "    <tr>\n",
       "      <th>3377</th>\n",
       "      <td>24034</td>\n",
       "      <td>100006</td>\n",
       "      <td>0000676218</td>\n",
       "      <td>C4837</td>\n",
       "      <td>177.6</td>\n",
       "      <td>2022-03-07 00:00:00</td>\n",
       "      <td>2024-02-01 00:00:00</td>\n",
       "      <td>True</td>\n",
       "      <td>3</td>\n",
       "    </tr>\n",
       "    <tr>\n",
       "      <th>3535</th>\n",
       "      <td>24038</td>\n",
       "      <td>100011</td>\n",
       "      <td>0000804674</td>\n",
       "      <td>0002408591</td>\n",
       "      <td>3200.0</td>\n",
       "      <td>2023-12-19 00:00:00</td>\n",
       "      <td>2024-02-15 00:00:00</td>\n",
       "      <td>True</td>\n",
       "      <td>3</td>\n",
       "    </tr>\n",
       "    <tr>\n",
       "      <th>3524</th>\n",
       "      <td>24038</td>\n",
       "      <td>100003</td>\n",
       "      <td>0000677338</td>\n",
       "      <td>0005645346</td>\n",
       "      <td>4800.0</td>\n",
       "      <td>2022-03-11 00:00:00</td>\n",
       "      <td>2024-02-14 00:00:00</td>\n",
       "      <td>True</td>\n",
       "      <td>3</td>\n",
       "    </tr>\n",
       "    <tr>\n",
       "      <th>1814</th>\n",
       "      <td>23093</td>\n",
       "      <td>100002</td>\n",
       "      <td>0000764791</td>\n",
       "      <td>K54491535</td>\n",
       "      <td>384.0</td>\n",
       "      <td>2023-05-25 00:00:00</td>\n",
       "      <td>2023-07-07 00:00:00</td>\n",
       "      <td>True</td>\n",
       "      <td>2</td>\n",
       "    </tr>\n",
       "    <tr>\n",
       "      <th>2141</th>\n",
       "      <td>23115</td>\n",
       "      <td>100012</td>\n",
       "      <td>0000780017</td>\n",
       "      <td>3178726</td>\n",
       "      <td>7872.0</td>\n",
       "      <td>2023-08-09 00:00:00</td>\n",
       "      <td>2023-10-27 00:00:00</td>\n",
       "      <td>True</td>\n",
       "      <td>2</td>\n",
       "    </tr>\n",
       "    <tr>\n",
       "      <th>1088</th>\n",
       "      <td>23066</td>\n",
       "      <td>100002</td>\n",
       "      <td>0000762483</td>\n",
       "      <td>K54491535</td>\n",
       "      <td>384.0</td>\n",
       "      <td>2023-05-16 00:00:00</td>\n",
       "      <td>2023-06-19 00:00:00</td>\n",
       "      <td>True</td>\n",
       "      <td>2</td>\n",
       "    </tr>\n",
       "    <tr>\n",
       "      <th>1091</th>\n",
       "      <td>23066</td>\n",
       "      <td>100012</td>\n",
       "      <td>0000769202</td>\n",
       "      <td>3121971</td>\n",
       "      <td>7872.0</td>\n",
       "      <td>2023-06-16 00:00:00</td>\n",
       "      <td>2023-07-05 00:00:00</td>\n",
       "      <td>True</td>\n",
       "      <td>2</td>\n",
       "    </tr>\n",
       "    <tr>\n",
       "      <th>2184</th>\n",
       "      <td>23116</td>\n",
       "      <td>100012</td>\n",
       "      <td>0000780017</td>\n",
       "      <td>3178726</td>\n",
       "      <td>7872.0</td>\n",
       "      <td>2023-08-09 00:00:00</td>\n",
       "      <td>2023-10-27 00:00:00</td>\n",
       "      <td>True</td>\n",
       "      <td>2</td>\n",
       "    </tr>\n",
       "    <tr>\n",
       "      <th>2355</th>\n",
       "      <td>23122</td>\n",
       "      <td>100012</td>\n",
       "      <td>0000780018</td>\n",
       "      <td>3178726</td>\n",
       "      <td>7872.0</td>\n",
       "      <td>2023-08-09 00:00:00</td>\n",
       "      <td>2023-11-08 00:00:00</td>\n",
       "      <td>True</td>\n",
       "      <td>2</td>\n",
       "    </tr>\n",
       "  </tbody>\n",
       "</table>\n",
       "</div>"
      ],
      "text/plain": [
       "       Lote Material Lote interno Lote Proveedor     Qty      Fecha recepción  \\\n",
       "4874  24097   100004   0000828959    LA-APS-0303     0.0                45404   \n",
       "3377  24034   100006   0000676218          C4837   177.6  2022-03-07 00:00:00   \n",
       "3535  24038   100011   0000804674     0002408591  3200.0  2023-12-19 00:00:00   \n",
       "3524  24038   100003   0000677338     0005645346  4800.0  2022-03-11 00:00:00   \n",
       "1814  23093   100002   0000764791      K54491535   384.0  2023-05-25 00:00:00   \n",
       "2141  23115   100012   0000780017        3178726  7872.0  2023-08-09 00:00:00   \n",
       "1088  23066   100002   0000762483      K54491535   384.0  2023-05-16 00:00:00   \n",
       "1091  23066   100012   0000769202        3121971  7872.0  2023-06-16 00:00:00   \n",
       "2184  23116   100012   0000780017        3178726  7872.0  2023-08-09 00:00:00   \n",
       "2355  23122   100012   0000780018        3178726  7872.0  2023-08-09 00:00:00   \n",
       "\n",
       "           Fecha traslado  duplicated  duplicated_count  \n",
       "4874                45443        True                 5  \n",
       "3377  2024-02-01 00:00:00        True                 3  \n",
       "3535  2024-02-15 00:00:00        True                 3  \n",
       "3524  2024-02-14 00:00:00        True                 3  \n",
       "1814  2023-07-07 00:00:00        True                 2  \n",
       "2141  2023-10-27 00:00:00        True                 2  \n",
       "1088  2023-06-19 00:00:00        True                 2  \n",
       "1091  2023-07-05 00:00:00        True                 2  \n",
       "2184  2023-10-27 00:00:00        True                 2  \n",
       "2355  2023-11-08 00:00:00        True                 2  "
      ]
     },
     "execution_count": 551,
     "metadata": {},
     "output_type": "execute_result"
    }
   ],
   "source": [
    "df.head(10)"
   ]
  },
  {
   "cell_type": "code",
   "execution_count": 552,
   "metadata": {},
   "outputs": [
    {
     "data": {
      "text/html": [
       "<div>\n",
       "<style scoped>\n",
       "    .dataframe tbody tr th:only-of-type {\n",
       "        vertical-align: middle;\n",
       "    }\n",
       "\n",
       "    .dataframe tbody tr th {\n",
       "        vertical-align: top;\n",
       "    }\n",
       "\n",
       "    .dataframe thead th {\n",
       "        text-align: right;\n",
       "    }\n",
       "</style>\n",
       "<table border=\"1\" class=\"dataframe\">\n",
       "  <thead>\n",
       "    <tr style=\"text-align: right;\">\n",
       "      <th></th>\n",
       "      <th>Lote</th>\n",
       "      <th>Material</th>\n",
       "      <th>Lote interno</th>\n",
       "      <th>Lote Proveedor</th>\n",
       "      <th>Qty</th>\n",
       "      <th>Fecha recepción</th>\n",
       "      <th>Fecha traslado</th>\n",
       "      <th>duplicated</th>\n",
       "      <th>duplicated_count</th>\n",
       "    </tr>\n",
       "  </thead>\n",
       "  <tbody>\n",
       "    <tr>\n",
       "      <th>4213</th>\n",
       "      <td>24059</td>\n",
       "      <td>100001</td>\n",
       "      <td>0000804669</td>\n",
       "      <td>100977</td>\n",
       "      <td>72.0</td>\n",
       "      <td>2023-12-19 00:00:00</td>\n",
       "      <td>2024-03-04 00:00:00</td>\n",
       "      <td>True</td>\n",
       "      <td>2</td>\n",
       "    </tr>\n",
       "    <tr>\n",
       "      <th>4183</th>\n",
       "      <td>24058</td>\n",
       "      <td>100009</td>\n",
       "      <td>0000820609</td>\n",
       "      <td>0002439101</td>\n",
       "      <td>7680.0</td>\n",
       "      <td>2024-03-11 00:00:00</td>\n",
       "      <td>2024-03-28 00:00:00</td>\n",
       "      <td>True</td>\n",
       "      <td>2</td>\n",
       "    </tr>\n",
       "    <tr>\n",
       "      <th>4218</th>\n",
       "      <td>24059</td>\n",
       "      <td>100004</td>\n",
       "      <td>0000738806</td>\n",
       "      <td>2463830</td>\n",
       "      <td>320.0</td>\n",
       "      <td>2023-01-23 00:00:00</td>\n",
       "      <td>2024-03-21 00:00:00</td>\n",
       "      <td>True</td>\n",
       "      <td>2</td>\n",
       "    </tr>\n",
       "    <tr>\n",
       "      <th>4221</th>\n",
       "      <td>24059</td>\n",
       "      <td>100007</td>\n",
       "      <td>0000822448</td>\n",
       "      <td>4045286</td>\n",
       "      <td>8352.0</td>\n",
       "      <td>2024-03-19 00:00:00</td>\n",
       "      <td>2024-04-08 00:00:00</td>\n",
       "      <td>True</td>\n",
       "      <td>2</td>\n",
       "    </tr>\n",
       "    <tr>\n",
       "      <th>4855</th>\n",
       "      <td>24097</td>\n",
       "      <td>100009</td>\n",
       "      <td>0000827435</td>\n",
       "      <td>0002482368</td>\n",
       "      <td>7680.0</td>\n",
       "      <td>45397</td>\n",
       "      <td>45449</td>\n",
       "      <td>True</td>\n",
       "      <td>2</td>\n",
       "    </tr>\n",
       "    <tr>\n",
       "      <th>4846</th>\n",
       "      <td>24097</td>\n",
       "      <td>100011</td>\n",
       "      <td>0000814043</td>\n",
       "      <td>0002408673</td>\n",
       "      <td>3200.0</td>\n",
       "      <td>45329</td>\n",
       "      <td>45446</td>\n",
       "      <td>True</td>\n",
       "      <td>2</td>\n",
       "    </tr>\n",
       "    <tr>\n",
       "      <th>4858</th>\n",
       "      <td>24097</td>\n",
       "      <td>100001</td>\n",
       "      <td>0000826820</td>\n",
       "      <td>101372</td>\n",
       "      <td>57.6</td>\n",
       "      <td>45393</td>\n",
       "      <td>45433</td>\n",
       "      <td>True</td>\n",
       "      <td>2</td>\n",
       "    </tr>\n",
       "    <tr>\n",
       "      <th>4864</th>\n",
       "      <td>24097</td>\n",
       "      <td>100007</td>\n",
       "      <td>0000828650</td>\n",
       "      <td>4073765</td>\n",
       "      <td>8352.0</td>\n",
       "      <td>45401</td>\n",
       "      <td>45447</td>\n",
       "      <td>True</td>\n",
       "      <td>2</td>\n",
       "    </tr>\n",
       "    <tr>\n",
       "      <th>4867</th>\n",
       "      <td>24097</td>\n",
       "      <td>100006</td>\n",
       "      <td>0000819017</td>\n",
       "      <td>C5945</td>\n",
       "      <td>177.6</td>\n",
       "      <td>45352</td>\n",
       "      <td>45442</td>\n",
       "      <td>True</td>\n",
       "      <td>2</td>\n",
       "    </tr>\n",
       "    <tr>\n",
       "      <th>4881</th>\n",
       "      <td>24097</td>\n",
       "      <td>100003</td>\n",
       "      <td>0000826477</td>\n",
       "      <td>0007850532</td>\n",
       "      <td>4800.0</td>\n",
       "      <td>45392</td>\n",
       "      <td>45443</td>\n",
       "      <td>True</td>\n",
       "      <td>2</td>\n",
       "    </tr>\n",
       "  </tbody>\n",
       "</table>\n",
       "</div>"
      ],
      "text/plain": [
       "       Lote Material Lote interno Lote Proveedor     Qty      Fecha recepción  \\\n",
       "4213  24059   100001   0000804669         100977    72.0  2023-12-19 00:00:00   \n",
       "4183  24058   100009   0000820609     0002439101  7680.0  2024-03-11 00:00:00   \n",
       "4218  24059   100004   0000738806        2463830   320.0  2023-01-23 00:00:00   \n",
       "4221  24059   100007   0000822448        4045286  8352.0  2024-03-19 00:00:00   \n",
       "4855  24097   100009   0000827435     0002482368  7680.0                45397   \n",
       "4846  24097   100011   0000814043     0002408673  3200.0                45329   \n",
       "4858  24097   100001   0000826820         101372    57.6                45393   \n",
       "4864  24097   100007   0000828650        4073765  8352.0                45401   \n",
       "4867  24097   100006   0000819017          C5945   177.6                45352   \n",
       "4881  24097   100003   0000826477     0007850532  4800.0                45392   \n",
       "\n",
       "           Fecha traslado  duplicated  duplicated_count  \n",
       "4213  2024-03-04 00:00:00        True                 2  \n",
       "4183  2024-03-28 00:00:00        True                 2  \n",
       "4218  2024-03-21 00:00:00        True                 2  \n",
       "4221  2024-04-08 00:00:00        True                 2  \n",
       "4855                45449        True                 2  \n",
       "4846                45446        True                 2  \n",
       "4858                45433        True                 2  \n",
       "4864                45447        True                 2  \n",
       "4867                45442        True                 2  \n",
       "4881                45443        True                 2  "
      ]
     },
     "execution_count": 552,
     "metadata": {},
     "output_type": "execute_result"
    }
   ],
   "source": [
    "df.tail(10)"
   ]
  },
  {
   "cell_type": "markdown",
   "metadata": {},
   "source": [
    "### Is there a pattern in the duplicated rows?"
   ]
  },
  {
   "cell_type": "code",
   "execution_count": 553,
   "metadata": {},
   "outputs": [],
   "source": [
    "# Drop duplicated rows\n",
    "mc.drop_duplicates(inplace=True)"
   ]
  },
  {
   "cell_type": "markdown",
   "metadata": {},
   "source": [
    "# Columns\n"
   ]
  },
  {
   "cell_type": "markdown",
   "metadata": {},
   "source": [
    "## Qty "
   ]
  },
  {
   "cell_type": "code",
   "execution_count": 554,
   "metadata": {},
   "outputs": [
    {
     "name": "stdout",
     "output_type": "stream",
     "text": [
      "Number of values with digit characters: 4920\n",
      "Number of positive values: 4905\n",
      "Number of negative values: 12\n",
      "Number of zero values: 3\n"
     ]
    }
   ],
   "source": [
    "# Is there any non-alphanumeric character in the 'Qty' column?\n",
    "print('Number of values with digit characters: ' + str(mc['Qty'].astype(str).str.count('^[-0-9.]+').sum()))\n",
    "# Which ones are positive?\n",
    "print('Number of positive values: ' + str(mc[mc['Qty'] > 0]['Qty'].count()))\n",
    "# Which ones are negative?\n",
    "print('Number of negative values: ' + str(mc[mc['Qty'] < 0]['Qty'].count()))\n",
    "# Which ones are zero?\n",
    "print('Number of zero values: ' + str(mc[mc['Qty'] == 0]['Qty'].count()))"
   ]
  },
  {
   "cell_type": "code",
   "execution_count": 555,
   "metadata": {},
   "outputs": [
    {
     "data": {
      "text/html": [
       "<div>\n",
       "<style scoped>\n",
       "    .dataframe tbody tr th:only-of-type {\n",
       "        vertical-align: middle;\n",
       "    }\n",
       "\n",
       "    .dataframe tbody tr th {\n",
       "        vertical-align: top;\n",
       "    }\n",
       "\n",
       "    .dataframe thead th {\n",
       "        text-align: right;\n",
       "    }\n",
       "</style>\n",
       "<table border=\"1\" class=\"dataframe\">\n",
       "  <thead>\n",
       "    <tr style=\"text-align: right;\">\n",
       "      <th></th>\n",
       "      <th>Lote</th>\n",
       "      <th>Material</th>\n",
       "      <th>Lote interno</th>\n",
       "      <th>Lote Proveedor</th>\n",
       "      <th>Qty</th>\n",
       "      <th>Fecha recepción</th>\n",
       "      <th>Fecha traslado</th>\n",
       "    </tr>\n",
       "  </thead>\n",
       "  <tbody>\n",
       "    <tr>\n",
       "      <th>4845</th>\n",
       "      <td>24097</td>\n",
       "      <td>100012</td>\n",
       "      <td>0000800167</td>\n",
       "      <td>3262705</td>\n",
       "      <td>-7872.0</td>\n",
       "      <td>45254</td>\n",
       "      <td>45405</td>\n",
       "    </tr>\n",
       "    <tr>\n",
       "      <th>4847</th>\n",
       "      <td>24097</td>\n",
       "      <td>100011</td>\n",
       "      <td>0000814043</td>\n",
       "      <td>0002408673</td>\n",
       "      <td>-3200.0</td>\n",
       "      <td>45329</td>\n",
       "      <td>45446</td>\n",
       "    </tr>\n",
       "    <tr>\n",
       "      <th>4850</th>\n",
       "      <td>24097</td>\n",
       "      <td>100010</td>\n",
       "      <td>0000821622</td>\n",
       "      <td>0002452145</td>\n",
       "      <td>-96.8</td>\n",
       "      <td>45365</td>\n",
       "      <td>45449</td>\n",
       "    </tr>\n",
       "    <tr>\n",
       "      <th>4853</th>\n",
       "      <td>24097</td>\n",
       "      <td>100002</td>\n",
       "      <td>0000829314</td>\n",
       "      <td>K55514635</td>\n",
       "      <td>-384.8</td>\n",
       "      <td>45405</td>\n",
       "      <td>45446</td>\n",
       "    </tr>\n",
       "    <tr>\n",
       "      <th>4856</th>\n",
       "      <td>24097</td>\n",
       "      <td>100009</td>\n",
       "      <td>0000827435</td>\n",
       "      <td>0002482368</td>\n",
       "      <td>-7680.0</td>\n",
       "      <td>45397</td>\n",
       "      <td>45449</td>\n",
       "    </tr>\n",
       "    <tr>\n",
       "      <th>4859</th>\n",
       "      <td>24097</td>\n",
       "      <td>100001</td>\n",
       "      <td>0000826820</td>\n",
       "      <td>101372</td>\n",
       "      <td>-57.6</td>\n",
       "      <td>45393</td>\n",
       "      <td>45433</td>\n",
       "    </tr>\n",
       "    <tr>\n",
       "      <th>4862</th>\n",
       "      <td>24097</td>\n",
       "      <td>100008</td>\n",
       "      <td>0000821945</td>\n",
       "      <td>A1682579</td>\n",
       "      <td>-144.8</td>\n",
       "      <td>45366</td>\n",
       "      <td>45442</td>\n",
       "    </tr>\n",
       "    <tr>\n",
       "      <th>4865</th>\n",
       "      <td>24097</td>\n",
       "      <td>100007</td>\n",
       "      <td>0000828650</td>\n",
       "      <td>4073765</td>\n",
       "      <td>-8352.0</td>\n",
       "      <td>45401</td>\n",
       "      <td>45447</td>\n",
       "    </tr>\n",
       "    <tr>\n",
       "      <th>4868</th>\n",
       "      <td>24097</td>\n",
       "      <td>100006</td>\n",
       "      <td>0000819017</td>\n",
       "      <td>C5945</td>\n",
       "      <td>-177.6</td>\n",
       "      <td>45352</td>\n",
       "      <td>45442</td>\n",
       "    </tr>\n",
       "    <tr>\n",
       "      <th>4871</th>\n",
       "      <td>24097</td>\n",
       "      <td>100005</td>\n",
       "      <td>0000723171</td>\n",
       "      <td>M3889</td>\n",
       "      <td>-96.8</td>\n",
       "      <td>44869</td>\n",
       "      <td>45355</td>\n",
       "    </tr>\n",
       "    <tr>\n",
       "      <th>4878</th>\n",
       "      <td>24097</td>\n",
       "      <td>100004</td>\n",
       "      <td>0000828959</td>\n",
       "      <td>LA-APS-0303</td>\n",
       "      <td>-187.2</td>\n",
       "      <td>45404</td>\n",
       "      <td>45443</td>\n",
       "    </tr>\n",
       "    <tr>\n",
       "      <th>4882</th>\n",
       "      <td>24097</td>\n",
       "      <td>100003</td>\n",
       "      <td>0000826477</td>\n",
       "      <td>0007850532</td>\n",
       "      <td>-4800.0</td>\n",
       "      <td>45392</td>\n",
       "      <td>45443</td>\n",
       "    </tr>\n",
       "  </tbody>\n",
       "</table>\n",
       "</div>"
      ],
      "text/plain": [
       "       Lote Material Lote interno Lote Proveedor     Qty Fecha recepción  \\\n",
       "4845  24097   100012   0000800167        3262705 -7872.0           45254   \n",
       "4847  24097   100011   0000814043     0002408673 -3200.0           45329   \n",
       "4850  24097   100010   0000821622     0002452145   -96.8           45365   \n",
       "4853  24097   100002   0000829314      K55514635  -384.8           45405   \n",
       "4856  24097   100009   0000827435     0002482368 -7680.0           45397   \n",
       "4859  24097   100001   0000826820         101372   -57.6           45393   \n",
       "4862  24097   100008   0000821945       A1682579  -144.8           45366   \n",
       "4865  24097   100007   0000828650        4073765 -8352.0           45401   \n",
       "4868  24097   100006   0000819017          C5945  -177.6           45352   \n",
       "4871  24097   100005   0000723171          M3889   -96.8           44869   \n",
       "4878  24097   100004   0000828959    LA-APS-0303  -187.2           45404   \n",
       "4882  24097   100003   0000826477     0007850532 -4800.0           45392   \n",
       "\n",
       "     Fecha traslado  \n",
       "4845          45405  \n",
       "4847          45446  \n",
       "4850          45449  \n",
       "4853          45446  \n",
       "4856          45449  \n",
       "4859          45433  \n",
       "4862          45442  \n",
       "4865          45447  \n",
       "4868          45442  \n",
       "4871          45355  \n",
       "4878          45443  \n",
       "4882          45443  "
      ]
     },
     "execution_count": 555,
     "metadata": {},
     "output_type": "execute_result"
    }
   ],
   "source": [
    "# Lets show the negative values\n",
    "mc[mc['Qty'] < 0]"
   ]
  },
  {
   "cell_type": "code",
   "execution_count": 556,
   "metadata": {},
   "outputs": [
    {
     "data": {
      "text/html": [
       "<div>\n",
       "<style scoped>\n",
       "    .dataframe tbody tr th:only-of-type {\n",
       "        vertical-align: middle;\n",
       "    }\n",
       "\n",
       "    .dataframe tbody tr th {\n",
       "        vertical-align: top;\n",
       "    }\n",
       "\n",
       "    .dataframe thead th {\n",
       "        text-align: right;\n",
       "    }\n",
       "</style>\n",
       "<table border=\"1\" class=\"dataframe\">\n",
       "  <thead>\n",
       "    <tr style=\"text-align: right;\">\n",
       "      <th></th>\n",
       "      <th>Lote</th>\n",
       "      <th>Material</th>\n",
       "      <th>Lote interno</th>\n",
       "      <th>Lote Proveedor</th>\n",
       "      <th>Qty</th>\n",
       "      <th>Fecha recepción</th>\n",
       "      <th>Fecha traslado</th>\n",
       "    </tr>\n",
       "  </thead>\n",
       "  <tbody>\n",
       "    <tr>\n",
       "      <th>677</th>\n",
       "      <td>23048</td>\n",
       "      <td>100004</td>\n",
       "      <td>0000655974</td>\n",
       "      <td>2414142</td>\n",
       "      <td>0.0</td>\n",
       "      <td>2021-11-25 00:00:00</td>\n",
       "      <td>2023-03-23 00:00:00</td>\n",
       "    </tr>\n",
       "    <tr>\n",
       "      <th>2214</th>\n",
       "      <td>23117</td>\n",
       "      <td>100004</td>\n",
       "      <td>0000785548</td>\n",
       "      <td>KA-APS-0306</td>\n",
       "      <td>0.0</td>\n",
       "      <td>2023-09-13 00:00:00</td>\n",
       "      <td>2023-11-06 00:00:00</td>\n",
       "    </tr>\n",
       "    <tr>\n",
       "      <th>4874</th>\n",
       "      <td>24097</td>\n",
       "      <td>100004</td>\n",
       "      <td>0000828959</td>\n",
       "      <td>LA-APS-0303</td>\n",
       "      <td>0.0</td>\n",
       "      <td>45404</td>\n",
       "      <td>45443</td>\n",
       "    </tr>\n",
       "  </tbody>\n",
       "</table>\n",
       "</div>"
      ],
      "text/plain": [
       "       Lote Material Lote interno Lote Proveedor  Qty      Fecha recepción  \\\n",
       "677   23048   100004   0000655974        2414142  0.0  2021-11-25 00:00:00   \n",
       "2214  23117   100004   0000785548    KA-APS-0306  0.0  2023-09-13 00:00:00   \n",
       "4874  24097   100004   0000828959    LA-APS-0303  0.0                45404   \n",
       "\n",
       "           Fecha traslado  \n",
       "677   2023-03-23 00:00:00  \n",
       "2214  2023-11-06 00:00:00  \n",
       "4874                45443  "
      ]
     },
     "execution_count": 556,
     "metadata": {},
     "output_type": "execute_result"
    }
   ],
   "source": [
    "# Lets show the zero values\n",
    "mc[mc['Qty'] == 0]"
   ]
  },
  {
   "cell_type": "code",
   "execution_count": 557,
   "metadata": {},
   "outputs": [
    {
     "data": {
      "text/html": [
       "<div>\n",
       "<style scoped>\n",
       "    .dataframe tbody tr th:only-of-type {\n",
       "        vertical-align: middle;\n",
       "    }\n",
       "\n",
       "    .dataframe tbody tr th {\n",
       "        vertical-align: top;\n",
       "    }\n",
       "\n",
       "    .dataframe thead th {\n",
       "        text-align: right;\n",
       "    }\n",
       "</style>\n",
       "<table border=\"1\" class=\"dataframe\">\n",
       "  <thead>\n",
       "    <tr style=\"text-align: right;\">\n",
       "      <th></th>\n",
       "      <th>Lote</th>\n",
       "      <th>Material</th>\n",
       "      <th>Lote interno</th>\n",
       "      <th>Lote Proveedor</th>\n",
       "      <th>Qty</th>\n",
       "      <th>Fecha recepción</th>\n",
       "      <th>Fecha traslado</th>\n",
       "    </tr>\n",
       "  </thead>\n",
       "  <tbody>\n",
       "    <tr>\n",
       "      <th>2137</th>\n",
       "      <td>23115</td>\n",
       "      <td>100002</td>\n",
       "      <td>0000772206</td>\n",
       "      <td>K55094235</td>\n",
       "      <td>380.8000</td>\n",
       "      <td>2023-06-30 00:00:00</td>\n",
       "      <td>2023-10-09 00:00:00</td>\n",
       "    </tr>\n",
       "    <tr>\n",
       "      <th>2280</th>\n",
       "      <td>23119</td>\n",
       "      <td>100006</td>\n",
       "      <td>0000773656</td>\n",
       "      <td>C5457</td>\n",
       "      <td>15.6800</td>\n",
       "      <td>2023-07-06 00:00:00</td>\n",
       "      <td>2023-10-09 00:00:00</td>\n",
       "    </tr>\n",
       "    <tr>\n",
       "      <th>4650</th>\n",
       "      <td>24094</td>\n",
       "      <td>100002</td>\n",
       "      <td>0000829314</td>\n",
       "      <td>K55514635</td>\n",
       "      <td>384.5200</td>\n",
       "      <td>45405</td>\n",
       "      <td>45446</td>\n",
       "    </tr>\n",
       "    <tr>\n",
       "      <th>1792</th>\n",
       "      <td>23092</td>\n",
       "      <td>100013</td>\n",
       "      <td>0000776545</td>\n",
       "      <td>2157422</td>\n",
       "      <td>2046.7200</td>\n",
       "      <td>2023-07-21 00:00:00</td>\n",
       "      <td>2023-09-26 00:00:00</td>\n",
       "    </tr>\n",
       "    <tr>\n",
       "      <th>1317</th>\n",
       "      <td>23074</td>\n",
       "      <td>100008</td>\n",
       "      <td>0000761698</td>\n",
       "      <td>A1682479</td>\n",
       "      <td>144.0000</td>\n",
       "      <td>2023-05-11 00:00:00</td>\n",
       "      <td>2023-07-07 00:00:00</td>\n",
       "    </tr>\n",
       "    <tr>\n",
       "      <th>351</th>\n",
       "      <td>23034</td>\n",
       "      <td>100009</td>\n",
       "      <td>0000719593</td>\n",
       "      <td>0002231404</td>\n",
       "      <td>7680.0000</td>\n",
       "      <td>2022-10-17 00:00:00</td>\n",
       "      <td>2023-04-18 00:00:00</td>\n",
       "    </tr>\n",
       "    <tr>\n",
       "      <th>1855</th>\n",
       "      <td>23094</td>\n",
       "      <td>100002</td>\n",
       "      <td>0000772206</td>\n",
       "      <td>K55094235</td>\n",
       "      <td>384.4560</td>\n",
       "      <td>2023-06-30 00:00:00</td>\n",
       "      <td>2023-10-05 00:00:00</td>\n",
       "    </tr>\n",
       "    <tr>\n",
       "      <th>140</th>\n",
       "      <td>23025</td>\n",
       "      <td>100012</td>\n",
       "      <td>0000746149</td>\n",
       "      <td>3009264</td>\n",
       "      <td>7839.8336</td>\n",
       "      <td>2023-02-27 00:00:00</td>\n",
       "      <td>2023-03-24 00:00:00</td>\n",
       "    </tr>\n",
       "    <tr>\n",
       "      <th>2769</th>\n",
       "      <td>23135</td>\n",
       "      <td>100005</td>\n",
       "      <td>0000723171</td>\n",
       "      <td>M3889</td>\n",
       "      <td>96.8000</td>\n",
       "      <td>2022-11-04 00:00:00</td>\n",
       "      <td>2023-03-03 00:00:00</td>\n",
       "    </tr>\n",
       "    <tr>\n",
       "      <th>646</th>\n",
       "      <td>23047</td>\n",
       "      <td>100002</td>\n",
       "      <td>0000676155</td>\n",
       "      <td>K53821835</td>\n",
       "      <td>72.7200</td>\n",
       "      <td>2022-03-07 00:00:00</td>\n",
       "      <td>2023-04-06 00:00:00</td>\n",
       "    </tr>\n",
       "  </tbody>\n",
       "</table>\n",
       "</div>"
      ],
      "text/plain": [
       "       Lote Material Lote interno Lote Proveedor        Qty  \\\n",
       "2137  23115   100002   0000772206      K55094235   380.8000   \n",
       "2280  23119   100006   0000773656          C5457    15.6800   \n",
       "4650  24094   100002   0000829314      K55514635   384.5200   \n",
       "1792  23092   100013   0000776545        2157422  2046.7200   \n",
       "1317  23074   100008   0000761698       A1682479   144.0000   \n",
       "351   23034   100009   0000719593     0002231404  7680.0000   \n",
       "1855  23094   100002   0000772206      K55094235   384.4560   \n",
       "140   23025   100012   0000746149        3009264  7839.8336   \n",
       "2769  23135   100005   0000723171          M3889    96.8000   \n",
       "646   23047   100002   0000676155      K53821835    72.7200   \n",
       "\n",
       "          Fecha recepción       Fecha traslado  \n",
       "2137  2023-06-30 00:00:00  2023-10-09 00:00:00  \n",
       "2280  2023-07-06 00:00:00  2023-10-09 00:00:00  \n",
       "4650                45405                45446  \n",
       "1792  2023-07-21 00:00:00  2023-09-26 00:00:00  \n",
       "1317  2023-05-11 00:00:00  2023-07-07 00:00:00  \n",
       "351   2022-10-17 00:00:00  2023-04-18 00:00:00  \n",
       "1855  2023-06-30 00:00:00  2023-10-05 00:00:00  \n",
       "140   2023-02-27 00:00:00  2023-03-24 00:00:00  \n",
       "2769  2022-11-04 00:00:00  2023-03-03 00:00:00  \n",
       "646   2022-03-07 00:00:00  2023-04-06 00:00:00  "
      ]
     },
     "execution_count": 557,
     "metadata": {},
     "output_type": "execute_result"
    }
   ],
   "source": [
    "# Lets show 10 of the positive values\n",
    "mc[mc['Qty'] > 0].sample(10)"
   ]
  },
  {
   "cell_type": "markdown",
   "metadata": {},
   "source": [
    "Weird values for recepción y traslado, lets check what else happened with those columns later."
   ]
  },
  {
   "cell_type": "markdown",
   "metadata": {},
   "source": [
    "## Lote"
   ]
  },
  {
   "cell_type": "code",
   "execution_count": 558,
   "metadata": {},
   "outputs": [
    {
     "data": {
      "text/plain": [
       "np.True_"
      ]
     },
     "execution_count": 558,
     "metadata": {},
     "output_type": "execute_result"
    }
   ],
   "source": [
    "### Are all lote chars digits?\n",
    "mc['Lote'].str.isdigit().all()"
   ]
  },
  {
   "cell_type": "code",
   "execution_count": 627,
   "metadata": {},
   "outputs": [
    {
     "name": "stdout",
     "output_type": "stream",
     "text": [
      "Lote max length: 5\n",
      "Lote min length: 5\n"
     ]
    }
   ],
   "source": [
    "# Lote max and min length\n",
    "print('Lote max length: ' + str(mc['Lote'].str.len().max()))\n",
    "print('Lote min length: ' + str(mc['Lote'].str.len().min()))\n"
   ]
  },
  {
   "cell_type": "code",
   "execution_count": 559,
   "metadata": {},
   "outputs": [
    {
     "name": "stdout",
     "output_type": "stream",
     "text": [
      "Number of unique lote values: 194 out of 4920\n"
     ]
    }
   ],
   "source": [
    "#Number of unique lote values\n",
    "print('Number of unique lote values: ' + str(mc['Lote'].nunique()) + ' out of ' + str(mc['Lote'].count()))"
   ]
  },
  {
   "cell_type": "markdown",
   "metadata": {},
   "source": [
    "194 unique values != 205 unique from OF 123456 excel sheet."
   ]
  },
  {
   "cell_type": "markdown",
   "metadata": {},
   "source": [
    "## Lote proveedor"
   ]
  },
  {
   "cell_type": "code",
   "execution_count": 560,
   "metadata": {},
   "outputs": [
    {
     "name": "stdout",
     "output_type": "stream",
     "text": [
      "Number of unique lote proveedor values: 118 out of 4920\n"
     ]
    }
   ],
   "source": [
    "# Lote proveedor unique values\n",
    "print('Number of unique lote proveedor values: ' + str(mc['Lote Proveedor'].nunique()) + \n",
    "      ' out of ' + str(mc['Lote Proveedor'].count()))"
   ]
  },
  {
   "cell_type": "code",
   "execution_count": 620,
   "metadata": {},
   "outputs": [
    {
     "name": "stdout",
     "output_type": "stream",
     "text": [
      "Min lote length: 5\n",
      "Max lote length: 11\n"
     ]
    }
   ],
   "source": [
    "# Min and max length \n",
    "print('Min lote length: ' + str(mc['Lote Proveedor'].str.len().min()))\n",
    "print('Max lote length: ' + str(mc['Lote Proveedor'].str.len().max()))"
   ]
  },
  {
   "cell_type": "code",
   "execution_count": 626,
   "metadata": {},
   "outputs": [
    {
     "data": {
      "text/plain": [
       "<Axes: xlabel='Lote Proveedor'>"
      ]
     },
     "execution_count": 626,
     "metadata": {},
     "output_type": "execute_result"
    },
    {
     "data": {
      "image/png": "[encoded data removed]",
      "text/plain": [
       "<Figure size 640x480 with 1 Axes>"
      ]
     },
     "metadata": {},
     "output_type": "display_data"
    }
   ],
   "source": [
    "# Distribution of lengths\n",
    "mc['Lote Proveedor'].str.len().value_counts().sort_index().plot(kind='bar')"
   ]
  },
  {
   "cell_type": "code",
   "execution_count": 575,
   "metadata": {},
   "outputs": [
    {
     "data": {
      "text/plain": [
       "np.False_"
      ]
     },
     "execution_count": 575,
     "metadata": {},
     "output_type": "execute_result"
    }
   ],
   "source": [
    "# They are not all digits, but they are all alphanumeric\n",
    "mc['Lote Proveedor'].str.isalnum().all()"
   ]
  },
  {
   "cell_type": "code",
   "execution_count": 579,
   "metadata": {},
   "outputs": [
    {
     "data": {
      "text/plain": [
       "array(['KA-APS-0306', 'KA-APS-0305', 'KA-APS-0304', 'LA-APS-0302',\n",
       "       'LA-APS-0303'], dtype=object)"
      ]
     },
     "execution_count": 579,
     "metadata": {},
     "output_type": "execute_result"
    }
   ],
   "source": [
    "# Which is not alphanumeric?\n",
    "mc[~mc['Lote Proveedor'].str.isalnum()]['Lote Proveedor'].unique()"
   ]
  },
  {
   "cell_type": "markdown",
   "metadata": {},
   "source": [
    "There are patterns and groups"
   ]
  },
  {
   "cell_type": "code",
   "execution_count": 608,
   "metadata": {},
   "outputs": [
    {
     "data": {
      "text/plain": [
       "0\n",
       "2    47\n",
       "0    35\n",
       "K     9\n",
       "3     8\n",
       "A     5\n",
       "1     4\n",
       "4     3\n",
       "C     3\n",
       "L     2\n",
       "8     1\n",
       "M     1\n",
       "Name: count, dtype: int64"
      ]
     },
     "execution_count": 608,
     "metadata": {},
     "output_type": "execute_result"
    }
   ],
   "source": [
    "# First values of 'Lote Proveedor' patterns\n",
    "mc['Lote Proveedor'].value_counts().index.str.extract(r'(^.{1})').value_counts()"
   ]
  },
  {
   "cell_type": "code",
   "execution_count": 595,
   "metadata": {},
   "outputs": [
    {
     "data": {
      "text/plain": [
       "0 \n",
       "00    1357\n",
       "K5     603\n",
       "10     442\n",
       "24     432\n",
       "A1     376\n",
       "M3     365\n",
       "31     293\n",
       "C5     189\n",
       "C4     179\n",
       "22     136\n",
       "AM     120\n",
       "32      99\n",
       "40      77\n",
       "21      70\n",
       "30      55\n",
       "12      40\n",
       "88      28\n",
       "KA      23\n",
       "33      23\n",
       "LA      12\n",
       "25       1\n",
       "Name: count, dtype: int64"
      ]
     },
     "execution_count": 595,
     "metadata": {},
     "output_type": "execute_result"
    }
   ],
   "source": [
    "mc['Lote Proveedor'].value_counts().index.str.extract(r'(^.{2})').value_counts()"
   ]
  },
  {
   "cell_type": "code",
   "execution_count": 609,
   "metadata": {},
   "outputs": [
    {
     "data": {
      "text/plain": [
       "0  \n",
       "000    35\n",
       "246    13\n",
       "243     9\n",
       "244     9\n",
       "241     8\n",
       "242     5\n",
       "A16     4\n",
       "KA-     3\n",
       "K55     3\n",
       "407     2\n",
       "100     2\n",
       "LA-     2\n",
       "101     1\n",
       "311     1\n",
       "300     1\n",
       "250     1\n",
       "220     1\n",
       "129     1\n",
       "215     1\n",
       "327     1\n",
       "326     1\n",
       "317     1\n",
       "315     1\n",
       "312     1\n",
       "888     1\n",
       "404     1\n",
       "331     1\n",
       "C54     1\n",
       "C48     1\n",
       "AM1     1\n",
       "C59     1\n",
       "K54     1\n",
       "K53     1\n",
       "K52     1\n",
       "M38     1\n",
       "Name: count, dtype: int64"
      ]
     },
     "execution_count": 609,
     "metadata": {},
     "output_type": "execute_result"
    }
   ],
   "source": [
    "mc['Lote Proveedor'].value_counts().index.str.extract(r'(^.{3})').value_counts()"
   ]
  },
  {
   "cell_type": "code",
   "execution_count": 610,
   "metadata": {},
   "outputs": [
    {
     "data": {
      "text/plain": [
       "0   \n",
       "0002    27\n",
       "2463    13\n",
       "2430     9\n",
       "2445     9\n",
       "2414     8\n",
       "0005     6\n",
       "2428     5\n",
       "KA-A     3\n",
       "A168     3\n",
       "1009     2\n",
       "LA-A     2\n",
       "2157     1\n",
       "2202     1\n",
       "1013     1\n",
       "0007     1\n",
       "0001     1\n",
       "1292     1\n",
       "2505     1\n",
       "3159     1\n",
       "3178     1\n",
       "3262     1\n",
       "3277     1\n",
       "3319     1\n",
       "3009     1\n",
       "3114     1\n",
       "3121     1\n",
       "4073     1\n",
       "4072     1\n",
       "4045     1\n",
       "8884     1\n",
       "C483     1\n",
       "C545     1\n",
       "A167     1\n",
       "AM17     1\n",
       "K521     1\n",
       "C594     1\n",
       "K538     1\n",
       "K544     1\n",
       "K551     1\n",
       "K550     1\n",
       "K555     1\n",
       "M388     1\n",
       "Name: count, dtype: int64"
      ]
     },
     "execution_count": 610,
     "metadata": {},
     "output_type": "execute_result"
    }
   ],
   "source": [
    "mc['Lote Proveedor'].value_counts().index.str.extract(r'(^.{4})').value_counts()"
   ]
  },
  {
   "cell_type": "markdown",
   "metadata": {},
   "source": [
    "Could there be any value in splitting the suppliers into several categories for statistical analysis or ML related analysis?"
   ]
  },
  {
   "cell_type": "markdown",
   "metadata": {},
   "source": [
    "## Lote interno"
   ]
  },
  {
   "cell_type": "code",
   "execution_count": 611,
   "metadata": {},
   "outputs": [
    {
     "name": "stdout",
     "output_type": "stream",
     "text": [
      "Number of unique lote interno values: 160 out of 4920\n"
     ]
    }
   ],
   "source": [
    "# lote interno unique values\n",
    "print('Number of unique lote interno values: ' + str(mc['Lote interno'].nunique()) + \n",
    "      ' out of ' + str(mc['Lote interno'].count()))"
   ]
  },
  {
   "cell_type": "markdown",
   "metadata": {},
   "source": [
    "### This looks interesting, one would assume lote interno was an ID for the material transaction but seems it is not true"
   ]
  },
  {
   "cell_type": "code",
   "execution_count": 612,
   "metadata": {},
   "outputs": [
    {
     "data": {
      "text/plain": [
       "np.True_"
      ]
     },
     "execution_count": 612,
     "metadata": {},
     "output_type": "execute_result"
    }
   ],
   "source": [
    "# Are all lote interno chars digits?\n",
    "mc['Lote interno'].str.isdigit().all()"
   ]
  },
  {
   "cell_type": "code",
   "execution_count": 618,
   "metadata": {},
   "outputs": [
    {
     "name": "stdout",
     "output_type": "stream",
     "text": [
      "Minimum length of lote interno: 10\n",
      "Maximum length of lote interno: 10\n"
     ]
    }
   ],
   "source": [
    "# Minimum and max length of lote interno\n",
    "print('Minimum length of lote interno: ' + str(mc['Lote interno'].str.len().min()))\n",
    "print('Maximum length of lote interno: ' + str(mc['Lote interno'].str.len().max()))"
   ]
  },
  {
   "cell_type": "code",
   "execution_count": 615,
   "metadata": {},
   "outputs": [
    {
     "data": {
      "text/plain": [
       "0    \n",
       "00007    90\n",
       "00008    37\n",
       "00006    33\n",
       "Name: count, dtype: int64"
      ]
     },
     "execution_count": 615,
     "metadata": {},
     "output_type": "execute_result"
    }
   ],
   "source": [
    "# Is there any pattern to the unique values?\n",
    "mc['Lote interno'].value_counts().index.str.extract(r'(^.{5})').value_counts()"
   ]
  },
  {
   "cell_type": "code",
   "execution_count": 616,
   "metadata": {},
   "outputs": [
    {
     "data": {
      "text/plain": [
       "0     \n",
       "636590    1\n",
       "637889    1\n",
       "644272    1\n",
       "648033    1\n",
       "652422    1\n",
       "         ..\n",
       "828650    1\n",
       "828957    1\n",
       "828959    1\n",
       "829314    1\n",
       "837299    1\n",
       "Name: count, Length: 160, dtype: int64"
      ]
     },
     "execution_count": 616,
     "metadata": {},
     "output_type": "execute_result"
    }
   ],
   "source": [
    "mc['Lote interno'].value_counts().index.str.extract(r'(.{6}$)').value_counts()"
   ]
  },
  {
   "cell_type": "markdown",
   "metadata": {},
   "source": [
    "### This just looks like a numerical id, but we can't know what it is exactly identifying, it is likely a combination of Lote, Lote interno and Material/ proveedor which makes the row identifiable"
   ]
  },
  {
   "cell_type": "markdown",
   "metadata": {},
   "source": [
    "## Fecha recepcion"
   ]
  },
  {
   "cell_type": "code",
   "execution_count": 562,
   "metadata": {},
   "outputs": [
    {
     "name": "stdout",
     "output_type": "stream",
     "text": [
      "Number of unique fecha recepción values: 110 out of 4920\n"
     ]
    }
   ],
   "source": [
    "# Number of unique values for fecha recepción\n",
    "print('Number of unique fecha recepción values: ' + str(mc['Fecha recepción'].nunique()) + \n",
    "      ' out of ' + str(mc['Fecha recepción'].count()))"
   ]
  },
  {
   "cell_type": "code",
   "execution_count": 563,
   "metadata": {},
   "outputs": [
    {
     "name": "stdout",
     "output_type": "stream",
     "text": [
      "All recepcion datetimes: False\n",
      "All traslado datetimes: False\n",
      "Number of not datetime values in fecha recepción: 760\n",
      "Number of not datetime values in fecha traslado: 760\n",
      "nUnique of fecha recepción: 28\n",
      "nUnique of Lote: 48\n",
      "nUnique of Lote Proveedor: 33\n",
      "nUnique of Material: 12\n",
      "nUnique of Qty: 292\n",
      "nUnique of Fecha traslado: 45\n",
      "nUnique of Lote interno: 40\n",
      "       Lote Material Lote interno Lote Proveedor     Qty Fecha recepción  \\\n",
      "4254  24060   100012   0000795420        3262705  7872.0           45233   \n",
      "4255  24060   100011   0000808869     0002408636  3208.0           45307   \n",
      "4256  24060   100010   0000800462     0002322586    96.0           45257   \n",
      "4257  24060   100002   0000820714      K55125135   384.0           45362   \n",
      "4258  24060   100009   0000820609     0002439101  7688.0           45362   \n",
      "...     ...      ...          ...            ...     ...             ...   \n",
      "5019  24110   100001   0000826820         101372    72.0           45393   \n",
      "5020  24109   100002   0000829314      K55514635    72.0           45405   \n",
      "5021  24109   100001   0000826820         101372    72.0           45393   \n",
      "5022  24108   100002   0000829314      K55514635    72.0           45405   \n",
      "5023  24108   100001   0000826820         101372    72.0           45393   \n",
      "\n",
      "     Fecha traslado  \n",
      "4254          45392  \n",
      "4255          45400  \n",
      "4256          45261  \n",
      "4257          45400  \n",
      "4258          45398  \n",
      "...             ...  \n",
      "5019          45463  \n",
      "5020          45453  \n",
      "5021          45463  \n",
      "5022          45453  \n",
      "5023          45463  \n",
      "\n",
      "[760 rows x 7 columns]\n"
     ]
    }
   ],
   "source": [
    "# Are all datetimes? \n",
    "# Check with type\n",
    "import datetime\n",
    "print('All recepcion datetimes: ' + str(mc['Fecha recepción'].apply(lambda x: type(x)).eq(datetime.datetime).all()))\n",
    "print('All traslado datetimes: ' + str(mc['Fecha traslado'].apply(lambda x: type(x)).eq(datetime.datetime).all()))\n",
    "# Get those which are not datetimes\n",
    "not_dt = mc[~mc['Fecha recepción'].apply(lambda x: type(x)).eq(datetime.datetime)]\n",
    "print('Number of not datetime values in fecha recepción: ' + str(not_dt.shape[0]))\n",
    "not_dt = mc[~mc['Fecha traslado'].apply(lambda x: type(x)).eq(datetime.datetime)]\n",
    "print('Number of not datetime values in fecha traslado: ' + str(not_dt.shape[0]))\n",
    "\n",
    "not_dt.shape[0]\n",
    "#nUnique of fecha recepción\n",
    "print('nUnique of fecha recepción: ' + str(not_dt['Fecha recepción'].nunique()))\n",
    "# nUnique of Lote\n",
    "print('nUnique of Lote: ' + str(not_dt['Lote'].nunique()))  \n",
    "# nUnique of Lote Proveedor\n",
    "print('nUnique of Lote Proveedor: ' + str(not_dt['Lote Proveedor'].nunique()))\n",
    "# nUnique of Material\n",
    "print('nUnique of Material: ' + str(not_dt['Material'].nunique()))\n",
    "# nUnique of Qty\n",
    "print('nUnique of Qty: ' + str(not_dt['Qty'].nunique()))\n",
    "# nUnique of Fecha traslado\n",
    "print('nUnique of Fecha traslado: ' + str(not_dt['Fecha traslado'].nunique()))\n",
    "# nUnique of Lote interno\n",
    "print('nUnique of Lote interno: ' + str(not_dt['Lote interno'].nunique()))\n",
    "print(not_dt)\n"
   ]
  },
  {
   "cell_type": "code",
   "execution_count": 564,
   "metadata": {},
   "outputs": [
    {
     "data": {
      "text/plain": [
       "np.True_"
      ]
     },
     "execution_count": 564,
     "metadata": {},
     "output_type": "execute_result"
    }
   ],
   "source": [
    "# Are non-datetime values in the fecha traslado greater than fecha recepción?\n",
    "(not_dt['Fecha traslado'] > not_dt['Fecha recepción']).all()"
   ]
  },
  {
   "cell_type": "markdown",
   "metadata": {},
   "source": [
    "## Duration"
   ]
  },
  {
   "cell_type": "code",
   "execution_count": 565,
   "metadata": {},
   "outputs": [],
   "source": [
    "def dur_map(x):\n",
    "    if type(x) == datetime.timedelta:\n",
    "        # get days as int\n",
    "        return x.days\n",
    "    else:\n",
    "        return x"
   ]
  },
  {
   "cell_type": "code",
   "execution_count": 566,
   "metadata": {},
   "outputs": [
    {
     "data": {
      "text/html": [
       "<div>\n",
       "<style scoped>\n",
       "    .dataframe tbody tr th:only-of-type {\n",
       "        vertical-align: middle;\n",
       "    }\n",
       "\n",
       "    .dataframe tbody tr th {\n",
       "        vertical-align: top;\n",
       "    }\n",
       "\n",
       "    .dataframe thead th {\n",
       "        text-align: right;\n",
       "    }\n",
       "</style>\n",
       "<table border=\"1\" class=\"dataframe\">\n",
       "  <thead>\n",
       "    <tr style=\"text-align: right;\">\n",
       "      <th></th>\n",
       "      <th>Lote</th>\n",
       "      <th>Material</th>\n",
       "      <th>Lote interno</th>\n",
       "      <th>Lote Proveedor</th>\n",
       "      <th>Qty</th>\n",
       "      <th>Fecha recepción</th>\n",
       "      <th>Fecha traslado</th>\n",
       "      <th>Duration</th>\n",
       "    </tr>\n",
       "  </thead>\n",
       "  <tbody>\n",
       "    <tr>\n",
       "      <th>0</th>\n",
       "      <td>23019</td>\n",
       "      <td>100001</td>\n",
       "      <td>0000737133</td>\n",
       "      <td>AM1798471</td>\n",
       "      <td>72.0</td>\n",
       "      <td>2023-01-12 00:00:00</td>\n",
       "      <td>2023-03-22 00:00:00</td>\n",
       "      <td>69</td>\n",
       "    </tr>\n",
       "    <tr>\n",
       "      <th>1</th>\n",
       "      <td>23019</td>\n",
       "      <td>100002</td>\n",
       "      <td>0000676155</td>\n",
       "      <td>K53821835</td>\n",
       "      <td>72.0</td>\n",
       "      <td>2022-03-07 00:00:00</td>\n",
       "      <td>2023-03-15 00:00:00</td>\n",
       "      <td>373</td>\n",
       "    </tr>\n",
       "    <tr>\n",
       "      <th>2</th>\n",
       "      <td>23019</td>\n",
       "      <td>100003</td>\n",
       "      <td>0000636590</td>\n",
       "      <td>0005065337</td>\n",
       "      <td>4800.0</td>\n",
       "      <td>2021-08-27 00:00:00</td>\n",
       "      <td>2023-03-13 00:00:00</td>\n",
       "      <td>563</td>\n",
       "    </tr>\n",
       "    <tr>\n",
       "      <th>3</th>\n",
       "      <td>23019</td>\n",
       "      <td>100004</td>\n",
       "      <td>0000655968</td>\n",
       "      <td>2414150</td>\n",
       "      <td>320.0</td>\n",
       "      <td>2021-11-25 00:00:00</td>\n",
       "      <td>2023-03-10 00:00:00</td>\n",
       "      <td>470</td>\n",
       "    </tr>\n",
       "    <tr>\n",
       "      <th>4</th>\n",
       "      <td>23019</td>\n",
       "      <td>100005</td>\n",
       "      <td>0000723171</td>\n",
       "      <td>M3889</td>\n",
       "      <td>96.0</td>\n",
       "      <td>2022-11-04 00:00:00</td>\n",
       "      <td>2023-03-03 00:00:00</td>\n",
       "      <td>119</td>\n",
       "    </tr>\n",
       "    <tr>\n",
       "      <th>...</th>\n",
       "      <td>...</td>\n",
       "      <td>...</td>\n",
       "      <td>...</td>\n",
       "      <td>...</td>\n",
       "      <td>...</td>\n",
       "      <td>...</td>\n",
       "      <td>...</td>\n",
       "      <td>...</td>\n",
       "    </tr>\n",
       "    <tr>\n",
       "      <th>5019</th>\n",
       "      <td>24110</td>\n",
       "      <td>100001</td>\n",
       "      <td>0000826820</td>\n",
       "      <td>101372</td>\n",
       "      <td>72.0</td>\n",
       "      <td>45393</td>\n",
       "      <td>45463</td>\n",
       "      <td>70</td>\n",
       "    </tr>\n",
       "    <tr>\n",
       "      <th>5020</th>\n",
       "      <td>24109</td>\n",
       "      <td>100002</td>\n",
       "      <td>0000829314</td>\n",
       "      <td>K55514635</td>\n",
       "      <td>72.0</td>\n",
       "      <td>45405</td>\n",
       "      <td>45453</td>\n",
       "      <td>48</td>\n",
       "    </tr>\n",
       "    <tr>\n",
       "      <th>5021</th>\n",
       "      <td>24109</td>\n",
       "      <td>100001</td>\n",
       "      <td>0000826820</td>\n",
       "      <td>101372</td>\n",
       "      <td>72.0</td>\n",
       "      <td>45393</td>\n",
       "      <td>45463</td>\n",
       "      <td>70</td>\n",
       "    </tr>\n",
       "    <tr>\n",
       "      <th>5022</th>\n",
       "      <td>24108</td>\n",
       "      <td>100002</td>\n",
       "      <td>0000829314</td>\n",
       "      <td>K55514635</td>\n",
       "      <td>72.0</td>\n",
       "      <td>45405</td>\n",
       "      <td>45453</td>\n",
       "      <td>48</td>\n",
       "    </tr>\n",
       "    <tr>\n",
       "      <th>5023</th>\n",
       "      <td>24108</td>\n",
       "      <td>100001</td>\n",
       "      <td>0000826820</td>\n",
       "      <td>101372</td>\n",
       "      <td>72.0</td>\n",
       "      <td>45393</td>\n",
       "      <td>45463</td>\n",
       "      <td>70</td>\n",
       "    </tr>\n",
       "  </tbody>\n",
       "</table>\n",
       "<p>4920 rows × 8 columns</p>\n",
       "</div>"
      ],
      "text/plain": [
       "       Lote Material Lote interno Lote Proveedor     Qty      Fecha recepción  \\\n",
       "0     23019   100001   0000737133      AM1798471    72.0  2023-01-12 00:00:00   \n",
       "1     23019   100002   0000676155      K53821835    72.0  2022-03-07 00:00:00   \n",
       "2     23019   100003   0000636590     0005065337  4800.0  2021-08-27 00:00:00   \n",
       "3     23019   100004   0000655968        2414150   320.0  2021-11-25 00:00:00   \n",
       "4     23019   100005   0000723171          M3889    96.0  2022-11-04 00:00:00   \n",
       "...     ...      ...          ...            ...     ...                  ...   \n",
       "5019  24110   100001   0000826820         101372    72.0                45393   \n",
       "5020  24109   100002   0000829314      K55514635    72.0                45405   \n",
       "5021  24109   100001   0000826820         101372    72.0                45393   \n",
       "5022  24108   100002   0000829314      K55514635    72.0                45405   \n",
       "5023  24108   100001   0000826820         101372    72.0                45393   \n",
       "\n",
       "           Fecha traslado  Duration  \n",
       "0     2023-03-22 00:00:00        69  \n",
       "1     2023-03-15 00:00:00       373  \n",
       "2     2023-03-13 00:00:00       563  \n",
       "3     2023-03-10 00:00:00       470  \n",
       "4     2023-03-03 00:00:00       119  \n",
       "...                   ...       ...  \n",
       "5019                45463        70  \n",
       "5020                45453        48  \n",
       "5021                45463        70  \n",
       "5022                45453        48  \n",
       "5023                45463        70  \n",
       "\n",
       "[4920 rows x 8 columns]"
      ]
     },
     "execution_count": 566,
     "metadata": {},
     "output_type": "execute_result"
    }
   ],
   "source": [
    "# Create a column for duration in mc\n",
    "mc['Duration'] = mc['Fecha traslado'] - mc['Fecha recepción']\n",
    "mc['Duration'] = mc['Duration'].apply(dur_map)\n",
    "mc\n"
   ]
  },
  {
   "cell_type": "code",
   "execution_count": 567,
   "metadata": {},
   "outputs": [
    {
     "name": "stdout",
     "output_type": "stream",
     "text": [
      "Mean duration: 186.5391826923077\n",
      "Median duration: 118.0\n",
      "Std duration: 184.0852090127266\n"
     ]
    },
    {
     "data": {
      "image/png": "[encoded data removed]",
      "text/plain": [
       "<Figure size 640x480 with 1 Axes>"
      ]
     },
     "metadata": {},
     "output_type": "display_data"
    }
   ],
   "source": [
    "# Plot histogram of duration\n",
    "mc[~mc.index.isin(not_dt.index)]['Duration'].hist(bins=100)\n",
    "# Print mean\n",
    "print('Mean duration: ' + str(mc[~mc.index.isin(not_dt.index)]['Duration'].mean()))\n",
    "# Print median\n",
    "print('Median duration: ' + str(mc[~mc.index.isin(not_dt.index)]['Duration'].median()))\n",
    "# Print std\n",
    "print('Std duration: ' + str(mc[~mc.index.isin(not_dt.index)]['Duration'].std()))"
   ]
  },
  {
   "cell_type": "code",
   "execution_count": 568,
   "metadata": {},
   "outputs": [
    {
     "name": "stdout",
     "output_type": "stream",
     "text": [
      "Mean duration: 120.3171052631579\n",
      "Median duration: 70.0\n",
      "Std duration: 146.1362845865765\n"
     ]
    },
    {
     "data": {
      "image/png": "[encoded data removed]",
      "text/plain": [
       "<Figure size 640x480 with 1 Axes>"
      ]
     },
     "metadata": {},
     "output_type": "display_data"
    }
   ],
   "source": [
    "# Plot histogram of duration\n",
    "mc[mc.index.isin(not_dt.index)]['Duration'].hist(bins=100)\n",
    "# Print mean\n",
    "print('Mean duration: ' + str(mc[mc.index.isin(not_dt.index)]['Duration'].mean()))\n",
    "# Print median\n",
    "print('Median duration: ' + str(mc[mc.index.isin(not_dt.index)]['Duration'].median()))\n",
    "# Print std\n",
    "print('Std duration: ' + str(mc[mc.index.isin(not_dt.index)]['Duration'].std()))"
   ]
  },
  {
   "cell_type": "code",
   "execution_count": 569,
   "metadata": {},
   "outputs": [
    {
     "name": "stdout",
     "output_type": "stream",
     "text": [
      "Mean duration: 176.30975609756098\n",
      "Median duration: 105.0\n",
      "Std duration: 180.33233304618426\n"
     ]
    },
    {
     "data": {
      "image/png": "[encoded data removed]",
      "text/plain": [
       "<Figure size 640x480 with 1 Axes>"
      ]
     },
     "metadata": {},
     "output_type": "display_data"
    }
   ],
   "source": [
    "mc['Duration'].hist(bins=100)\n",
    "# Print mean\n",
    "print('Mean duration: ' + str(mc['Duration'].mean()))\n",
    "# Print median\n",
    "print('Median duration: ' + str(mc['Duration'].median()))\n",
    "# Print std\n",
    "print('Std duration: ' + str(mc['Duration'].std()))\n"
   ]
  },
  {
   "cell_type": "code",
   "execution_count": null,
   "metadata": {},
   "outputs": [],
   "source": []
  },
  {
   "cell_type": "markdown",
   "metadata": {},
   "source": []
  },
  {
   "cell_type": "markdown",
   "metadata": {},
   "source": [
    "## Fecha traslado\n"
   ]
  },
  {
   "cell_type": "code",
   "execution_count": 570,
   "metadata": {},
   "outputs": [
    {
     "name": "stdout",
     "output_type": "stream",
     "text": [
      "Unique values of Fecha traslado: 216 out of 4920\n"
     ]
    }
   ],
   "source": [
    "# Unique values of Fecha traslado\n",
    "print('Unique values of Fecha traslado: ' + str(mc['Fecha traslado'].nunique()) + ' out of '\n",
    "                                                 + str(mc['Fecha traslado'].count()))"
   ]
  },
  {
   "cell_type": "markdown",
   "metadata": {},
   "source": [
    "## Material"
   ]
  },
  {
   "cell_type": "code",
   "execution_count": 573,
   "metadata": {},
   "outputs": [
    {
     "name": "stdout",
     "output_type": "stream",
     "text": [
      "13\n"
     ]
    },
    {
     "data": {
      "text/plain": [
       "Material\n",
       "100002    603\n",
       "100001    590\n",
       "100004    468\n",
       "100007    411\n",
       "100009    389\n",
       "100011    381\n",
       "100008    376\n",
       "100006    368\n",
       "100010    366\n",
       "100005    365\n",
       "100012    326\n",
       "100003    221\n",
       "100013     56\n",
       "Name: count, dtype: int64"
      ]
     },
     "execution_count": 573,
     "metadata": {},
     "output_type": "execute_result"
    }
   ],
   "source": [
    "print(mc['Material'].nunique())\n",
    "mc['Material'].value_counts()"
   ]
  },
  {
   "cell_type": "code",
   "execution_count": 574,
   "metadata": {},
   "outputs": [
    {
     "data": {
      "text/plain": [
       "<Axes: xlabel='Material'>"
      ]
     },
     "execution_count": 574,
     "metadata": {},
     "output_type": "execute_result"
    },
    {
     "data": {
      "image/png": "[encoded data removed]",
      "text/plain": [
       "<Figure size 640x480 with 1 Axes>"
      ]
     },
     "metadata": {},
     "output_type": "display_data"
    }
   ],
   "source": [
    "# Plot histogram of Material\n",
    "mc['Material'].value_counts().plot(kind='bar')"
   ]
  },
  {
   "cell_type": "markdown",
   "metadata": {},
   "source": [
    "### Note: 100003 and 100013 as the least frequent"
   ]
  },
  {
   "cell_type": "code",
   "execution_count": null,
   "metadata": {},
   "outputs": [],
   "source": []
  }
 ],
 "metadata": {
  "kernelspec": {
   "display_name": "losca-RpR7jZx6-py3.11",
   "language": "python",
   "name": "python3"
  },
  "language_info": {
   "codemirror_mode": {
    "name": "ipython",
    "version": 3
   },
   "file_extension": ".py",
   "mimetype": "text/x-python",
   "name": "python",
   "nbconvert_exporter": "python",
   "pygments_lexer": "ipython3",
   "version": "3.11.5"
  }
 },
 "nbformat": 4,
 "nbformat_minor": 2
}
