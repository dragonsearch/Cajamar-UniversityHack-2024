{
 "cells": [
  {
   "cell_type": "markdown",
   "metadata": {},
   "source": [
    "# Fases producción: anomalies detection and analysis"
   ]
  },
  {
   "cell_type": "code",
   "execution_count": 1,
   "metadata": {},
   "outputs": [],
   "source": [
    "import pandas as pd \n",
    "import matplotlib.pyplot as plt"
   ]
  },
  {
   "cell_type": "markdown",
   "metadata": {},
   "source": [
    "## Preinóculo"
   ]
  },
  {
   "cell_type": "markdown",
   "metadata": {},
   "source": [
    "### Load and anomalies checks"
   ]
  },
  {
   "cell_type": "code",
   "execution_count": 2,
   "metadata": {},
   "outputs": [],
   "source": [
    "\n",
    "pino = pd.read_excel('../../data/raw/Fases producción v02.xlsx', sheet_name='Preinóculo', skiprows=1)\n"
   ]
  },
  {
   "cell_type": "code",
   "execution_count": 3,
   "metadata": {},
   "outputs": [
    {
     "name": "stdout",
     "output_type": "stream",
     "text": [
      "<class 'pandas.core.frame.DataFrame'>\n",
      "RangeIndex: 165 entries, 0 to 164\n",
      "Data columns (total 12 columns):\n",
      " #   Column             Non-Null Count  Dtype         \n",
      "---  ------             --------------  -----         \n",
      " 0   LOTE               165 non-null    object        \n",
      " 1   Fecha/hora inicio  165 non-null    datetime64[ns]\n",
      " 2   Fecha/hora fin     165 non-null    datetime64[ns]\n",
      " 3   línea 1            163 non-null    float64       \n",
      " 4   línea 2            152 non-null    float64       \n",
      " 5   línea 3            138 non-null    object        \n",
      " 6   línea 1.1          163 non-null    float64       \n",
      " 7   línea 2.1          152 non-null    float64       \n",
      " 8   línea 3.1          139 non-null    object        \n",
      " 9   línea 1.2          165 non-null    int64         \n",
      " 10  línea 2.2          165 non-null    int64         \n",
      " 11  línea 3.2          165 non-null    int64         \n",
      "dtypes: datetime64[ns](2), float64(4), int64(3), object(3)\n",
      "memory usage: 15.6+ KB\n"
     ]
    }
   ],
   "source": [
    "pino.info()"
   ]
  },
  {
   "cell_type": "code",
   "execution_count": 4,
   "metadata": {},
   "outputs": [],
   "source": [
    "columns = ['Lote',\n",
    "           'f_h_inicio',\n",
    "              'f_h_fin',\n",
    "              'ph_1',\n",
    "               'ph_2',\n",
    "               'ph_3',\n",
    "               'turb_1',\n",
    "               'turb_2',\n",
    "               'turb_3',\n",
    "               'usada_1',\n",
    "               'usada_2',\n",
    "               'usada_3'\n",
    "\n",
    "           ]\n",
    "pino.columns = columns"
   ]
  },
  {
   "cell_type": "code",
   "execution_count": 5,
   "metadata": {},
   "outputs": [
    {
     "name": "stdout",
     "output_type": "stream",
     "text": [
      "<class 'pandas.core.frame.DataFrame'>\n",
      "RangeIndex: 165 entries, 0 to 164\n",
      "Data columns (total 12 columns):\n",
      " #   Column      Non-Null Count  Dtype         \n",
      "---  ------      --------------  -----         \n",
      " 0   Lote        165 non-null    object        \n",
      " 1   f_h_inicio  165 non-null    datetime64[ns]\n",
      " 2   f_h_fin     165 non-null    datetime64[ns]\n",
      " 3   ph_1        163 non-null    float64       \n",
      " 4   ph_2        152 non-null    float64       \n",
      " 5   ph_3        138 non-null    object        \n",
      " 6   turb_1      163 non-null    float64       \n",
      " 7   turb_2      152 non-null    float64       \n",
      " 8   turb_3      139 non-null    object        \n",
      " 9   usada_1     165 non-null    int64         \n",
      " 10  usada_2     165 non-null    int64         \n",
      " 11  usada_3     165 non-null    int64         \n",
      "dtypes: datetime64[ns](2), float64(4), int64(3), object(3)\n",
      "memory usage: 15.6+ KB\n"
     ]
    }
   ],
   "source": [
    "pino.info()"
   ]
  },
  {
   "cell_type": "markdown",
   "metadata": {},
   "source": [
    "#### Duplicated checks"
   ]
  },
  {
   "cell_type": "code",
   "execution_count": 6,
   "metadata": {},
   "outputs": [
    {
     "name": "stdout",
     "output_type": "stream",
     "text": [
      "1\n"
     ]
    }
   ],
   "source": [
    "# Number of dupe rows\n",
    "print(pino.duplicated().sum())"
   ]
  },
  {
   "cell_type": "code",
   "execution_count": 7,
   "metadata": {},
   "outputs": [
    {
     "name": "stdout",
     "output_type": "stream",
     "text": [
      "      Lote          f_h_inicio             f_h_fin   ph_1   ph_2   ph_3  \\\n",
      "115  24020 2024-01-25 00:30:00 2024-01-26 07:00:00  5.448  5.504  5.528   \n",
      "\n",
      "     turb_1  turb_2 turb_3  usada_1  usada_2  usada_3  \n",
      "115   35.04   24.16  25.44        1        0        1  \n"
     ]
    }
   ],
   "source": [
    "# Print dupe row\n",
    "print(pino[pino.duplicated()])"
   ]
  },
  {
   "cell_type": "code",
   "execution_count": 8,
   "metadata": {},
   "outputs": [],
   "source": [
    "# Drop dupe row\n",
    "pino = pino.drop_duplicates()"
   ]
  },
  {
   "cell_type": "markdown",
   "metadata": {},
   "source": [
    "### Lote"
   ]
  },
  {
   "cell_type": "code",
   "execution_count": 9,
   "metadata": {},
   "outputs": [
    {
     "data": {
      "text/html": [
       "<div>\n",
       "<style scoped>\n",
       "    .dataframe tbody tr th:only-of-type {\n",
       "        vertical-align: middle;\n",
       "    }\n",
       "\n",
       "    .dataframe tbody tr th {\n",
       "        vertical-align: top;\n",
       "    }\n",
       "\n",
       "    .dataframe thead th {\n",
       "        text-align: right;\n",
       "    }\n",
       "</style>\n",
       "<table border=\"1\" class=\"dataframe\">\n",
       "  <thead>\n",
       "    <tr style=\"text-align: right;\">\n",
       "      <th></th>\n",
       "      <th>Lote</th>\n",
       "      <th>f_h_inicio</th>\n",
       "      <th>f_h_fin</th>\n",
       "      <th>ph_1</th>\n",
       "      <th>ph_2</th>\n",
       "      <th>ph_3</th>\n",
       "      <th>turb_1</th>\n",
       "      <th>turb_2</th>\n",
       "      <th>turb_3</th>\n",
       "      <th>usada_1</th>\n",
       "      <th>usada_2</th>\n",
       "      <th>usada_3</th>\n",
       "    </tr>\n",
       "  </thead>\n",
       "  <tbody>\n",
       "    <tr>\n",
       "      <th>86</th>\n",
       "      <td>P23462</td>\n",
       "      <td>2023-11-12 00:30:00</td>\n",
       "      <td>2023-11-13 07:25:00</td>\n",
       "      <td>5.432</td>\n",
       "      <td>5.352</td>\n",
       "      <td>NaN</td>\n",
       "      <td>28.64</td>\n",
       "      <td>26.8</td>\n",
       "      <td>NaN</td>\n",
       "      <td>0</td>\n",
       "      <td>1</td>\n",
       "      <td>0</td>\n",
       "    </tr>\n",
       "  </tbody>\n",
       "</table>\n",
       "</div>"
      ],
      "text/plain": [
       "      Lote          f_h_inicio             f_h_fin   ph_1   ph_2 ph_3  turb_1  \\\n",
       "86  P23462 2023-11-12 00:30:00 2023-11-13 07:25:00  5.432  5.352  NaN   28.64   \n",
       "\n",
       "    turb_2 turb_3  usada_1  usada_2  usada_3  \n",
       "86    26.8    NaN        0        1        0  "
      ]
     },
     "execution_count": 9,
     "metadata": {},
     "output_type": "execute_result"
    }
   ],
   "source": [
    "# Lote is an object. Which values are non-digits?\n",
    "# First to str\n",
    "pino['Lote'] = pino['Lote'].astype(str)\n",
    "# Then find non-digit values\n",
    "pino[pino['Lote'].str.contains('[\\D]')]\n"
   ]
  },
  {
   "cell_type": "markdown",
   "metadata": {},
   "source": [
    "### Ph_3 and turb_3"
   ]
  },
  {
   "cell_type": "code",
   "execution_count": 10,
   "metadata": {},
   "outputs": [
    {
     "data": {
      "text/html": [
       "<div>\n",
       "<style scoped>\n",
       "    .dataframe tbody tr th:only-of-type {\n",
       "        vertical-align: middle;\n",
       "    }\n",
       "\n",
       "    .dataframe tbody tr th {\n",
       "        vertical-align: top;\n",
       "    }\n",
       "\n",
       "    .dataframe thead th {\n",
       "        text-align: right;\n",
       "    }\n",
       "</style>\n",
       "<table border=\"1\" class=\"dataframe\">\n",
       "  <thead>\n",
       "    <tr style=\"text-align: right;\">\n",
       "      <th></th>\n",
       "      <th>Lote</th>\n",
       "      <th>f_h_inicio</th>\n",
       "      <th>f_h_fin</th>\n",
       "      <th>ph_1</th>\n",
       "      <th>ph_2</th>\n",
       "      <th>ph_3</th>\n",
       "      <th>turb_1</th>\n",
       "      <th>turb_2</th>\n",
       "      <th>turb_3</th>\n",
       "      <th>usada_1</th>\n",
       "      <th>usada_2</th>\n",
       "      <th>usada_3</th>\n",
       "    </tr>\n",
       "  </thead>\n",
       "  <tbody>\n",
       "    <tr>\n",
       "      <th>6</th>\n",
       "      <td>23029</td>\n",
       "      <td>2023-04-15 05:30:00</td>\n",
       "      <td>2023-04-16 06:30:00</td>\n",
       "      <td>5.52</td>\n",
       "      <td>5.520</td>\n",
       "      <td>N.A</td>\n",
       "      <td>30.00</td>\n",
       "      <td>30.32</td>\n",
       "      <td>N.A</td>\n",
       "      <td>1</td>\n",
       "      <td>1</td>\n",
       "      <td>0</td>\n",
       "    </tr>\n",
       "    <tr>\n",
       "      <th>7</th>\n",
       "      <td>23030</td>\n",
       "      <td>2023-04-15 05:30:00</td>\n",
       "      <td>2023-04-16 06:30:00</td>\n",
       "      <td>5.52</td>\n",
       "      <td>5.520</td>\n",
       "      <td>N.A</td>\n",
       "      <td>30.00</td>\n",
       "      <td>30.32</td>\n",
       "      <td>N.A</td>\n",
       "      <td>1</td>\n",
       "      <td>1</td>\n",
       "      <td>0</td>\n",
       "    </tr>\n",
       "    <tr>\n",
       "      <th>8</th>\n",
       "      <td>23031</td>\n",
       "      <td>2023-04-15 05:30:00</td>\n",
       "      <td>2023-04-16 06:30:00</td>\n",
       "      <td>5.52</td>\n",
       "      <td>5.512</td>\n",
       "      <td>N.A</td>\n",
       "      <td>32.08</td>\n",
       "      <td>32.96</td>\n",
       "      <td>N.A</td>\n",
       "      <td>1</td>\n",
       "      <td>1</td>\n",
       "      <td>0</td>\n",
       "    </tr>\n",
       "    <tr>\n",
       "      <th>9</th>\n",
       "      <td>23032</td>\n",
       "      <td>2023-04-15 05:30:00</td>\n",
       "      <td>2023-04-16 06:30:00</td>\n",
       "      <td>5.52</td>\n",
       "      <td>5.512</td>\n",
       "      <td>N.A</td>\n",
       "      <td>32.08</td>\n",
       "      <td>32.96</td>\n",
       "      <td>N.A</td>\n",
       "      <td>1</td>\n",
       "      <td>1</td>\n",
       "      <td>0</td>\n",
       "    </tr>\n",
       "    <tr>\n",
       "      <th>12</th>\n",
       "      <td>23035</td>\n",
       "      <td>2023-04-23 05:00:00</td>\n",
       "      <td>2023-03-24 07:30:00</td>\n",
       "      <td>5.52</td>\n",
       "      <td>5.520</td>\n",
       "      <td>N.A</td>\n",
       "      <td>25.68</td>\n",
       "      <td>26.56</td>\n",
       "      <td>N.A</td>\n",
       "      <td>1</td>\n",
       "      <td>0</td>\n",
       "      <td>0</td>\n",
       "    </tr>\n",
       "  </tbody>\n",
       "</table>\n",
       "</div>"
      ],
      "text/plain": [
       "     Lote          f_h_inicio             f_h_fin  ph_1   ph_2 ph_3  turb_1  \\\n",
       "6   23029 2023-04-15 05:30:00 2023-04-16 06:30:00  5.52  5.520  N.A   30.00   \n",
       "7   23030 2023-04-15 05:30:00 2023-04-16 06:30:00  5.52  5.520  N.A   30.00   \n",
       "8   23031 2023-04-15 05:30:00 2023-04-16 06:30:00  5.52  5.512  N.A   32.08   \n",
       "9   23032 2023-04-15 05:30:00 2023-04-16 06:30:00  5.52  5.512  N.A   32.08   \n",
       "12  23035 2023-04-23 05:00:00 2023-03-24 07:30:00  5.52  5.520  N.A   25.68   \n",
       "\n",
       "    turb_2 turb_3  usada_1  usada_2  usada_3  \n",
       "6    30.32    N.A        1        1        0  \n",
       "7    30.32    N.A        1        1        0  \n",
       "8    32.96    N.A        1        1        0  \n",
       "9    32.96    N.A        1        1        0  \n",
       "12   26.56    N.A        1        0        0  "
      ]
     },
     "execution_count": 10,
     "metadata": {},
     "output_type": "execute_result"
    }
   ],
   "source": [
    "# ph_3 is an object. Which values are non-digits?\n",
    "# First to str\n",
    "pino['ph_3'] = pino['ph_3'].astype(str)\n",
    "# Then find non-digit values\n",
    "pino[pino['ph_3'].str.contains('[\\D][.]')]"
   ]
  },
  {
   "cell_type": "code",
   "execution_count": 11,
   "metadata": {},
   "outputs": [],
   "source": [
    "# Change to NaN and then to float\n",
    "pino['ph_3'] = pino['ph_3'].replace('N.A', 'NaN').astype(float)"
   ]
  },
  {
   "cell_type": "code",
   "execution_count": 12,
   "metadata": {},
   "outputs": [
    {
     "name": "stdout",
     "output_type": "stream",
     "text": [
      "<class 'pandas.core.frame.DataFrame'>\n",
      "Index: 164 entries, 0 to 164\n",
      "Data columns (total 12 columns):\n",
      " #   Column      Non-Null Count  Dtype         \n",
      "---  ------      --------------  -----         \n",
      " 0   Lote        164 non-null    object        \n",
      " 1   f_h_inicio  164 non-null    datetime64[ns]\n",
      " 2   f_h_fin     164 non-null    datetime64[ns]\n",
      " 3   ph_1        162 non-null    float64       \n",
      " 4   ph_2        151 non-null    float64       \n",
      " 5   ph_3        132 non-null    float64       \n",
      " 6   turb_1      162 non-null    float64       \n",
      " 7   turb_2      151 non-null    float64       \n",
      " 8   turb_3      138 non-null    object        \n",
      " 9   usada_1     164 non-null    int64         \n",
      " 10  usada_2     164 non-null    int64         \n",
      " 11  usada_3     164 non-null    int64         \n",
      "dtypes: datetime64[ns](2), float64(5), int64(3), object(2)\n",
      "memory usage: 16.7+ KB\n"
     ]
    }
   ],
   "source": [
    "pino.info()"
   ]
  },
  {
   "cell_type": "markdown",
   "metadata": {},
   "source": [
    "#### Looks like NA is typed as N.A instead"
   ]
  },
  {
   "cell_type": "code",
   "execution_count": 13,
   "metadata": {},
   "outputs": [
    {
     "data": {
      "text/html": [
       "<div>\n",
       "<style scoped>\n",
       "    .dataframe tbody tr th:only-of-type {\n",
       "        vertical-align: middle;\n",
       "    }\n",
       "\n",
       "    .dataframe tbody tr th {\n",
       "        vertical-align: top;\n",
       "    }\n",
       "\n",
       "    .dataframe thead th {\n",
       "        text-align: right;\n",
       "    }\n",
       "</style>\n",
       "<table border=\"1\" class=\"dataframe\">\n",
       "  <thead>\n",
       "    <tr style=\"text-align: right;\">\n",
       "      <th></th>\n",
       "      <th>Lote</th>\n",
       "      <th>f_h_inicio</th>\n",
       "      <th>f_h_fin</th>\n",
       "      <th>ph_1</th>\n",
       "      <th>ph_2</th>\n",
       "      <th>ph_3</th>\n",
       "      <th>turb_1</th>\n",
       "      <th>turb_2</th>\n",
       "      <th>turb_3</th>\n",
       "      <th>usada_1</th>\n",
       "      <th>usada_2</th>\n",
       "      <th>usada_3</th>\n",
       "    </tr>\n",
       "  </thead>\n",
       "  <tbody>\n",
       "    <tr>\n",
       "      <th>6</th>\n",
       "      <td>23029</td>\n",
       "      <td>2023-04-15 05:30:00</td>\n",
       "      <td>2023-04-16 06:30:00</td>\n",
       "      <td>5.52</td>\n",
       "      <td>5.520</td>\n",
       "      <td>NaN</td>\n",
       "      <td>30.00</td>\n",
       "      <td>30.32</td>\n",
       "      <td>N.A</td>\n",
       "      <td>1</td>\n",
       "      <td>1</td>\n",
       "      <td>0</td>\n",
       "    </tr>\n",
       "    <tr>\n",
       "      <th>7</th>\n",
       "      <td>23030</td>\n",
       "      <td>2023-04-15 05:30:00</td>\n",
       "      <td>2023-04-16 06:30:00</td>\n",
       "      <td>5.52</td>\n",
       "      <td>5.520</td>\n",
       "      <td>NaN</td>\n",
       "      <td>30.00</td>\n",
       "      <td>30.32</td>\n",
       "      <td>N.A</td>\n",
       "      <td>1</td>\n",
       "      <td>1</td>\n",
       "      <td>0</td>\n",
       "    </tr>\n",
       "    <tr>\n",
       "      <th>8</th>\n",
       "      <td>23031</td>\n",
       "      <td>2023-04-15 05:30:00</td>\n",
       "      <td>2023-04-16 06:30:00</td>\n",
       "      <td>5.52</td>\n",
       "      <td>5.512</td>\n",
       "      <td>NaN</td>\n",
       "      <td>32.08</td>\n",
       "      <td>32.96</td>\n",
       "      <td>N.A</td>\n",
       "      <td>1</td>\n",
       "      <td>1</td>\n",
       "      <td>0</td>\n",
       "    </tr>\n",
       "    <tr>\n",
       "      <th>9</th>\n",
       "      <td>23032</td>\n",
       "      <td>2023-04-15 05:30:00</td>\n",
       "      <td>2023-04-16 06:30:00</td>\n",
       "      <td>5.52</td>\n",
       "      <td>5.512</td>\n",
       "      <td>NaN</td>\n",
       "      <td>32.08</td>\n",
       "      <td>32.96</td>\n",
       "      <td>N.A</td>\n",
       "      <td>1</td>\n",
       "      <td>1</td>\n",
       "      <td>0</td>\n",
       "    </tr>\n",
       "    <tr>\n",
       "      <th>12</th>\n",
       "      <td>23035</td>\n",
       "      <td>2023-04-23 05:00:00</td>\n",
       "      <td>2023-03-24 07:30:00</td>\n",
       "      <td>5.52</td>\n",
       "      <td>5.520</td>\n",
       "      <td>NaN</td>\n",
       "      <td>25.68</td>\n",
       "      <td>26.56</td>\n",
       "      <td>N.A</td>\n",
       "      <td>1</td>\n",
       "      <td>0</td>\n",
       "      <td>0</td>\n",
       "    </tr>\n",
       "  </tbody>\n",
       "</table>\n",
       "</div>"
      ],
      "text/plain": [
       "     Lote          f_h_inicio             f_h_fin  ph_1   ph_2  ph_3  turb_1  \\\n",
       "6   23029 2023-04-15 05:30:00 2023-04-16 06:30:00  5.52  5.520   NaN   30.00   \n",
       "7   23030 2023-04-15 05:30:00 2023-04-16 06:30:00  5.52  5.520   NaN   30.00   \n",
       "8   23031 2023-04-15 05:30:00 2023-04-16 06:30:00  5.52  5.512   NaN   32.08   \n",
       "9   23032 2023-04-15 05:30:00 2023-04-16 06:30:00  5.52  5.512   NaN   32.08   \n",
       "12  23035 2023-04-23 05:00:00 2023-03-24 07:30:00  5.52  5.520   NaN   25.68   \n",
       "\n",
       "    turb_2 turb_3  usada_1  usada_2  usada_3  \n",
       "6    30.32    N.A        1        1        0  \n",
       "7    30.32    N.A        1        1        0  \n",
       "8    32.96    N.A        1        1        0  \n",
       "9    32.96    N.A        1        1        0  \n",
       "12   26.56    N.A        1        0        0  "
      ]
     },
     "execution_count": 13,
     "metadata": {},
     "output_type": "execute_result"
    }
   ],
   "source": [
    "# turb_3 is an object. Which values are non-digits?\n",
    "# First to str\n",
    "pino['turb_3'] = pino['turb_3'].astype(str)\n",
    "# Then find non-digit values\n",
    "pino[pino['turb_3'].str.contains('[\\D][.]')]\n"
   ]
  },
  {
   "cell_type": "code",
   "execution_count": 14,
   "metadata": {},
   "outputs": [],
   "source": [
    "# Change to NaN and then to float\n",
    "pino['turb_3'] = pino['turb_3'].replace('N.A', 'NaN').astype(float)"
   ]
  },
  {
   "cell_type": "code",
   "execution_count": 15,
   "metadata": {},
   "outputs": [
    {
     "name": "stdout",
     "output_type": "stream",
     "text": [
      "<class 'pandas.core.frame.DataFrame'>\n",
      "Index: 164 entries, 0 to 164\n",
      "Data columns (total 12 columns):\n",
      " #   Column      Non-Null Count  Dtype         \n",
      "---  ------      --------------  -----         \n",
      " 0   Lote        164 non-null    object        \n",
      " 1   f_h_inicio  164 non-null    datetime64[ns]\n",
      " 2   f_h_fin     164 non-null    datetime64[ns]\n",
      " 3   ph_1        162 non-null    float64       \n",
      " 4   ph_2        151 non-null    float64       \n",
      " 5   ph_3        132 non-null    float64       \n",
      " 6   turb_1      162 non-null    float64       \n",
      " 7   turb_2      151 non-null    float64       \n",
      " 8   turb_3      133 non-null    float64       \n",
      " 9   usada_1     164 non-null    int64         \n",
      " 10  usada_2     164 non-null    int64         \n",
      " 11  usada_3     164 non-null    int64         \n",
      "dtypes: datetime64[ns](2), float64(6), int64(3), object(1)\n",
      "memory usage: 16.7+ KB\n"
     ]
    }
   ],
   "source": [
    "pino.info()"
   ]
  },
  {
   "cell_type": "code",
   "execution_count": 16,
   "metadata": {},
   "outputs": [
    {
     "data": {
      "text/html": [
       "<div>\n",
       "<style scoped>\n",
       "    .dataframe tbody tr th:only-of-type {\n",
       "        vertical-align: middle;\n",
       "    }\n",
       "\n",
       "    .dataframe tbody tr th {\n",
       "        vertical-align: top;\n",
       "    }\n",
       "\n",
       "    .dataframe thead th {\n",
       "        text-align: right;\n",
       "    }\n",
       "</style>\n",
       "<table border=\"1\" class=\"dataframe\">\n",
       "  <thead>\n",
       "    <tr style=\"text-align: right;\">\n",
       "      <th></th>\n",
       "      <th>Lote</th>\n",
       "      <th>f_h_inicio</th>\n",
       "      <th>f_h_fin</th>\n",
       "      <th>ph_1</th>\n",
       "      <th>ph_2</th>\n",
       "      <th>ph_3</th>\n",
       "      <th>turb_1</th>\n",
       "      <th>turb_2</th>\n",
       "      <th>turb_3</th>\n",
       "      <th>usada_1</th>\n",
       "      <th>usada_2</th>\n",
       "      <th>usada_3</th>\n",
       "    </tr>\n",
       "  </thead>\n",
       "  <tbody>\n",
       "    <tr>\n",
       "      <th>6</th>\n",
       "      <td>23029</td>\n",
       "      <td>2023-04-15 05:30:00</td>\n",
       "      <td>2023-04-16 06:30:00</td>\n",
       "      <td>5.520</td>\n",
       "      <td>5.520</td>\n",
       "      <td>NaN</td>\n",
       "      <td>30.00</td>\n",
       "      <td>30.32</td>\n",
       "      <td>NaN</td>\n",
       "      <td>1</td>\n",
       "      <td>1</td>\n",
       "      <td>0</td>\n",
       "    </tr>\n",
       "    <tr>\n",
       "      <th>7</th>\n",
       "      <td>23030</td>\n",
       "      <td>2023-04-15 05:30:00</td>\n",
       "      <td>2023-04-16 06:30:00</td>\n",
       "      <td>5.520</td>\n",
       "      <td>5.520</td>\n",
       "      <td>NaN</td>\n",
       "      <td>30.00</td>\n",
       "      <td>30.32</td>\n",
       "      <td>NaN</td>\n",
       "      <td>1</td>\n",
       "      <td>1</td>\n",
       "      <td>0</td>\n",
       "    </tr>\n",
       "    <tr>\n",
       "      <th>8</th>\n",
       "      <td>23031</td>\n",
       "      <td>2023-04-15 05:30:00</td>\n",
       "      <td>2023-04-16 06:30:00</td>\n",
       "      <td>5.520</td>\n",
       "      <td>5.512</td>\n",
       "      <td>NaN</td>\n",
       "      <td>32.08</td>\n",
       "      <td>32.96</td>\n",
       "      <td>NaN</td>\n",
       "      <td>1</td>\n",
       "      <td>1</td>\n",
       "      <td>0</td>\n",
       "    </tr>\n",
       "    <tr>\n",
       "      <th>9</th>\n",
       "      <td>23032</td>\n",
       "      <td>2023-04-15 05:30:00</td>\n",
       "      <td>2023-04-16 06:30:00</td>\n",
       "      <td>5.520</td>\n",
       "      <td>5.512</td>\n",
       "      <td>NaN</td>\n",
       "      <td>32.08</td>\n",
       "      <td>32.96</td>\n",
       "      <td>NaN</td>\n",
       "      <td>1</td>\n",
       "      <td>1</td>\n",
       "      <td>0</td>\n",
       "    </tr>\n",
       "    <tr>\n",
       "      <th>12</th>\n",
       "      <td>23035</td>\n",
       "      <td>2023-04-23 05:00:00</td>\n",
       "      <td>2023-03-24 07:30:00</td>\n",
       "      <td>5.520</td>\n",
       "      <td>5.520</td>\n",
       "      <td>NaN</td>\n",
       "      <td>25.68</td>\n",
       "      <td>26.56</td>\n",
       "      <td>NaN</td>\n",
       "      <td>1</td>\n",
       "      <td>0</td>\n",
       "      <td>0</td>\n",
       "    </tr>\n",
       "    <tr>\n",
       "      <th>19</th>\n",
       "      <td>23042</td>\n",
       "      <td>2023-05-29 05:00:00</td>\n",
       "      <td>2023-05-30 07:30:00</td>\n",
       "      <td>5.512</td>\n",
       "      <td>5.472</td>\n",
       "      <td>NaN</td>\n",
       "      <td>24.80</td>\n",
       "      <td>27.12</td>\n",
       "      <td>NaN</td>\n",
       "      <td>0</td>\n",
       "      <td>1</td>\n",
       "      <td>0</td>\n",
       "    </tr>\n",
       "    <tr>\n",
       "      <th>20</th>\n",
       "      <td>23044</td>\n",
       "      <td>2023-06-04 05:00:00</td>\n",
       "      <td>2023-06-05 08:00:00</td>\n",
       "      <td>5.488</td>\n",
       "      <td>5.552</td>\n",
       "      <td>NaN</td>\n",
       "      <td>30.48</td>\n",
       "      <td>26.80</td>\n",
       "      <td>NaN</td>\n",
       "      <td>1</td>\n",
       "      <td>1</td>\n",
       "      <td>0</td>\n",
       "    </tr>\n",
       "    <tr>\n",
       "      <th>49</th>\n",
       "      <td>23075</td>\n",
       "      <td>2023-07-29 05:00:00</td>\n",
       "      <td>2023-07-31 07:15:00</td>\n",
       "      <td>5.464</td>\n",
       "      <td>NaN</td>\n",
       "      <td>NaN</td>\n",
       "      <td>42.56</td>\n",
       "      <td>NaN</td>\n",
       "      <td>NaN</td>\n",
       "      <td>1</td>\n",
       "      <td>0</td>\n",
       "      <td>0</td>\n",
       "    </tr>\n",
       "    <tr>\n",
       "      <th>51</th>\n",
       "      <td>23076</td>\n",
       "      <td>2023-07-30 05:00:00</td>\n",
       "      <td>2023-07-31 07:00:00</td>\n",
       "      <td>5.376</td>\n",
       "      <td>NaN</td>\n",
       "      <td>NaN</td>\n",
       "      <td>34.88</td>\n",
       "      <td>NaN</td>\n",
       "      <td>NaN</td>\n",
       "      <td>1</td>\n",
       "      <td>0</td>\n",
       "      <td>0</td>\n",
       "    </tr>\n",
       "    <tr>\n",
       "      <th>52</th>\n",
       "      <td>23077</td>\n",
       "      <td>2023-09-02 05:00:00</td>\n",
       "      <td>2023-09-03 07:45:00</td>\n",
       "      <td>5.424</td>\n",
       "      <td>5.440</td>\n",
       "      <td>NaN</td>\n",
       "      <td>30.96</td>\n",
       "      <td>32.16</td>\n",
       "      <td>NaN</td>\n",
       "      <td>1</td>\n",
       "      <td>1</td>\n",
       "      <td>0</td>\n",
       "    </tr>\n",
       "    <tr>\n",
       "      <th>53</th>\n",
       "      <td>23078</td>\n",
       "      <td>2023-09-02 05:00:00</td>\n",
       "      <td>2023-09-03 07:45:00</td>\n",
       "      <td>5.424</td>\n",
       "      <td>5.440</td>\n",
       "      <td>NaN</td>\n",
       "      <td>30.96</td>\n",
       "      <td>32.16</td>\n",
       "      <td>NaN</td>\n",
       "      <td>1</td>\n",
       "      <td>1</td>\n",
       "      <td>0</td>\n",
       "    </tr>\n",
       "    <tr>\n",
       "      <th>70</th>\n",
       "      <td>23096</td>\n",
       "      <td>2023-10-15 00:30:00</td>\n",
       "      <td>2023-10-16 07:30:00</td>\n",
       "      <td>5.472</td>\n",
       "      <td>5.440</td>\n",
       "      <td>NaN</td>\n",
       "      <td>31.92</td>\n",
       "      <td>32.40</td>\n",
       "      <td>NaN</td>\n",
       "      <td>1</td>\n",
       "      <td>1</td>\n",
       "      <td>0</td>\n",
       "    </tr>\n",
       "    <tr>\n",
       "      <th>71</th>\n",
       "      <td>23097</td>\n",
       "      <td>2023-10-15 00:30:00</td>\n",
       "      <td>2023-10-16 07:30:00</td>\n",
       "      <td>5.352</td>\n",
       "      <td>NaN</td>\n",
       "      <td>NaN</td>\n",
       "      <td>34.08</td>\n",
       "      <td>NaN</td>\n",
       "      <td>NaN</td>\n",
       "      <td>1</td>\n",
       "      <td>0</td>\n",
       "      <td>0</td>\n",
       "    </tr>\n",
       "    <tr>\n",
       "      <th>72</th>\n",
       "      <td>23098</td>\n",
       "      <td>2023-10-15 00:30:00</td>\n",
       "      <td>2023-10-16 07:30:00</td>\n",
       "      <td>5.472</td>\n",
       "      <td>5.440</td>\n",
       "      <td>NaN</td>\n",
       "      <td>31.92</td>\n",
       "      <td>32.40</td>\n",
       "      <td>NaN</td>\n",
       "      <td>1</td>\n",
       "      <td>1</td>\n",
       "      <td>0</td>\n",
       "    </tr>\n",
       "    <tr>\n",
       "      <th>78</th>\n",
       "      <td>23104</td>\n",
       "      <td>2023-10-29 00:30:00</td>\n",
       "      <td>2023-10-30 09:45:00</td>\n",
       "      <td>5.376</td>\n",
       "      <td>5.336</td>\n",
       "      <td>NaN</td>\n",
       "      <td>32.16</td>\n",
       "      <td>36.08</td>\n",
       "      <td>NaN</td>\n",
       "      <td>0</td>\n",
       "      <td>1</td>\n",
       "      <td>0</td>\n",
       "    </tr>\n",
       "    <tr>\n",
       "      <th>86</th>\n",
       "      <td>P23462</td>\n",
       "      <td>2023-11-12 00:30:00</td>\n",
       "      <td>2023-11-13 07:25:00</td>\n",
       "      <td>5.432</td>\n",
       "      <td>5.352</td>\n",
       "      <td>NaN</td>\n",
       "      <td>28.64</td>\n",
       "      <td>26.80</td>\n",
       "      <td>NaN</td>\n",
       "      <td>0</td>\n",
       "      <td>1</td>\n",
       "      <td>0</td>\n",
       "    </tr>\n",
       "    <tr>\n",
       "      <th>87</th>\n",
       "      <td>23114</td>\n",
       "      <td>2023-11-12 00:30:00</td>\n",
       "      <td>2023-11-13 07:25:00</td>\n",
       "      <td>5.448</td>\n",
       "      <td>5.368</td>\n",
       "      <td>NaN</td>\n",
       "      <td>26.64</td>\n",
       "      <td>29.20</td>\n",
       "      <td>NaN</td>\n",
       "      <td>1</td>\n",
       "      <td>1</td>\n",
       "      <td>0</td>\n",
       "    </tr>\n",
       "    <tr>\n",
       "      <th>88</th>\n",
       "      <td>23117</td>\n",
       "      <td>2023-11-12 00:30:00</td>\n",
       "      <td>2023-11-13 07:25:00</td>\n",
       "      <td>5.448</td>\n",
       "      <td>5.368</td>\n",
       "      <td>NaN</td>\n",
       "      <td>26.64</td>\n",
       "      <td>29.20</td>\n",
       "      <td>NaN</td>\n",
       "      <td>1</td>\n",
       "      <td>1</td>\n",
       "      <td>0</td>\n",
       "    </tr>\n",
       "    <tr>\n",
       "      <th>91</th>\n",
       "      <td>23120</td>\n",
       "      <td>2023-11-19 00:30:00</td>\n",
       "      <td>2023-11-20 07:45:00</td>\n",
       "      <td>5.320</td>\n",
       "      <td>5.384</td>\n",
       "      <td>NaN</td>\n",
       "      <td>32.16</td>\n",
       "      <td>31.44</td>\n",
       "      <td>NaN</td>\n",
       "      <td>1</td>\n",
       "      <td>0</td>\n",
       "      <td>0</td>\n",
       "    </tr>\n",
       "    <tr>\n",
       "      <th>92</th>\n",
       "      <td>23121</td>\n",
       "      <td>2023-11-19 00:30:00</td>\n",
       "      <td>2023-11-20 07:50:00</td>\n",
       "      <td>5.232</td>\n",
       "      <td>5.408</td>\n",
       "      <td>NaN</td>\n",
       "      <td>28.72</td>\n",
       "      <td>25.76</td>\n",
       "      <td>NaN</td>\n",
       "      <td>1</td>\n",
       "      <td>0</td>\n",
       "      <td>0</td>\n",
       "    </tr>\n",
       "    <tr>\n",
       "      <th>97</th>\n",
       "      <td>23131</td>\n",
       "      <td>2023-12-02 00:30:00</td>\n",
       "      <td>2023-12-03 06:55:00</td>\n",
       "      <td>5.376</td>\n",
       "      <td>5.424</td>\n",
       "      <td>NaN</td>\n",
       "      <td>35.12</td>\n",
       "      <td>35.52</td>\n",
       "      <td>NaN</td>\n",
       "      <td>1</td>\n",
       "      <td>0</td>\n",
       "      <td>0</td>\n",
       "    </tr>\n",
       "    <tr>\n",
       "      <th>98</th>\n",
       "      <td>23132</td>\n",
       "      <td>2023-12-02 00:30:00</td>\n",
       "      <td>2023-12-03 07:00:00</td>\n",
       "      <td>5.440</td>\n",
       "      <td>5.488</td>\n",
       "      <td>NaN</td>\n",
       "      <td>34.08</td>\n",
       "      <td>32.48</td>\n",
       "      <td>NaN</td>\n",
       "      <td>1</td>\n",
       "      <td>1</td>\n",
       "      <td>0</td>\n",
       "    </tr>\n",
       "    <tr>\n",
       "      <th>99</th>\n",
       "      <td>23133</td>\n",
       "      <td>2023-12-02 00:30:00</td>\n",
       "      <td>2023-12-03 07:00:00</td>\n",
       "      <td>5.440</td>\n",
       "      <td>5.488</td>\n",
       "      <td>NaN</td>\n",
       "      <td>34.08</td>\n",
       "      <td>32.48</td>\n",
       "      <td>NaN</td>\n",
       "      <td>1</td>\n",
       "      <td>1</td>\n",
       "      <td>0</td>\n",
       "    </tr>\n",
       "    <tr>\n",
       "      <th>107</th>\n",
       "      <td>24005</td>\n",
       "      <td>2024-01-18 00:30:00</td>\n",
       "      <td>2024-01-19 07:15:00</td>\n",
       "      <td>5.360</td>\n",
       "      <td>5.440</td>\n",
       "      <td>NaN</td>\n",
       "      <td>28.96</td>\n",
       "      <td>26.48</td>\n",
       "      <td>NaN</td>\n",
       "      <td>1</td>\n",
       "      <td>0</td>\n",
       "      <td>0</td>\n",
       "    </tr>\n",
       "    <tr>\n",
       "      <th>114</th>\n",
       "      <td>24019</td>\n",
       "      <td>2024-02-01 00:30:00</td>\n",
       "      <td>2024-02-02 07:20:00</td>\n",
       "      <td>5.520</td>\n",
       "      <td>5.360</td>\n",
       "      <td>NaN</td>\n",
       "      <td>35.20</td>\n",
       "      <td>37.04</td>\n",
       "      <td>NaN</td>\n",
       "      <td>0</td>\n",
       "      <td>1</td>\n",
       "      <td>0</td>\n",
       "    </tr>\n",
       "    <tr>\n",
       "      <th>116</th>\n",
       "      <td>24021</td>\n",
       "      <td>2024-02-01 00:30:00</td>\n",
       "      <td>2024-02-02 07:10:00</td>\n",
       "      <td>5.280</td>\n",
       "      <td>5.440</td>\n",
       "      <td>NaN</td>\n",
       "      <td>37.68</td>\n",
       "      <td>26.72</td>\n",
       "      <td>NaN</td>\n",
       "      <td>1</td>\n",
       "      <td>0</td>\n",
       "      <td>0</td>\n",
       "    </tr>\n",
       "    <tr>\n",
       "      <th>119</th>\n",
       "      <td>24031</td>\n",
       "      <td>2024-02-15 00:30:00</td>\n",
       "      <td>2024-02-16 07:30:00</td>\n",
       "      <td>5.768</td>\n",
       "      <td>5.488</td>\n",
       "      <td>NaN</td>\n",
       "      <td>24.48</td>\n",
       "      <td>32.96</td>\n",
       "      <td>NaN</td>\n",
       "      <td>0</td>\n",
       "      <td>1</td>\n",
       "      <td>0</td>\n",
       "    </tr>\n",
       "    <tr>\n",
       "      <th>136</th>\n",
       "      <td>24063</td>\n",
       "      <td>2024-04-21 00:30:00</td>\n",
       "      <td>2024-04-22 07:19:00</td>\n",
       "      <td>5.360</td>\n",
       "      <td>5.376</td>\n",
       "      <td>NaN</td>\n",
       "      <td>25.84</td>\n",
       "      <td>27.84</td>\n",
       "      <td>NaN</td>\n",
       "      <td>1</td>\n",
       "      <td>1</td>\n",
       "      <td>0</td>\n",
       "    </tr>\n",
       "    <tr>\n",
       "      <th>137</th>\n",
       "      <td>24064</td>\n",
       "      <td>2024-04-21 00:30:00</td>\n",
       "      <td>2024-04-22 07:19:00</td>\n",
       "      <td>5.360</td>\n",
       "      <td>5.376</td>\n",
       "      <td>NaN</td>\n",
       "      <td>25.84</td>\n",
       "      <td>27.84</td>\n",
       "      <td>NaN</td>\n",
       "      <td>1</td>\n",
       "      <td>1</td>\n",
       "      <td>0</td>\n",
       "    </tr>\n",
       "    <tr>\n",
       "      <th>140</th>\n",
       "      <td>24071</td>\n",
       "      <td>2024-04-28 00:30:00</td>\n",
       "      <td>2024-04-29 07:45:00</td>\n",
       "      <td>6.280</td>\n",
       "      <td>5.488</td>\n",
       "      <td>NaN</td>\n",
       "      <td>27.36</td>\n",
       "      <td>24.88</td>\n",
       "      <td>NaN</td>\n",
       "      <td>0</td>\n",
       "      <td>1</td>\n",
       "      <td>0</td>\n",
       "    </tr>\n",
       "    <tr>\n",
       "      <th>141</th>\n",
       "      <td>24072</td>\n",
       "      <td>2024-05-12 00:30:00</td>\n",
       "      <td>2024-05-13 08:16:00</td>\n",
       "      <td>5.424</td>\n",
       "      <td>5.424</td>\n",
       "      <td>NaN</td>\n",
       "      <td>25.36</td>\n",
       "      <td>30.96</td>\n",
       "      <td>NaN</td>\n",
       "      <td>0</td>\n",
       "      <td>1</td>\n",
       "      <td>0</td>\n",
       "    </tr>\n",
       "    <tr>\n",
       "      <th>144</th>\n",
       "      <td>24075</td>\n",
       "      <td>2024-05-12 00:30:00</td>\n",
       "      <td>2024-05-13 07:54:00</td>\n",
       "      <td>5.424</td>\n",
       "      <td>5.424</td>\n",
       "      <td>NaN</td>\n",
       "      <td>25.12</td>\n",
       "      <td>26.96</td>\n",
       "      <td>27.84</td>\n",
       "      <td>0</td>\n",
       "      <td>1</td>\n",
       "      <td>1</td>\n",
       "    </tr>\n",
       "  </tbody>\n",
       "</table>\n",
       "</div>"
      ],
      "text/plain": [
       "       Lote          f_h_inicio             f_h_fin   ph_1   ph_2  ph_3  \\\n",
       "6     23029 2023-04-15 05:30:00 2023-04-16 06:30:00  5.520  5.520   NaN   \n",
       "7     23030 2023-04-15 05:30:00 2023-04-16 06:30:00  5.520  5.520   NaN   \n",
       "8     23031 2023-04-15 05:30:00 2023-04-16 06:30:00  5.520  5.512   NaN   \n",
       "9     23032 2023-04-15 05:30:00 2023-04-16 06:30:00  5.520  5.512   NaN   \n",
       "12    23035 2023-04-23 05:00:00 2023-03-24 07:30:00  5.520  5.520   NaN   \n",
       "19    23042 2023-05-29 05:00:00 2023-05-30 07:30:00  5.512  5.472   NaN   \n",
       "20    23044 2023-06-04 05:00:00 2023-06-05 08:00:00  5.488  5.552   NaN   \n",
       "49    23075 2023-07-29 05:00:00 2023-07-31 07:15:00  5.464    NaN   NaN   \n",
       "51    23076 2023-07-30 05:00:00 2023-07-31 07:00:00  5.376    NaN   NaN   \n",
       "52    23077 2023-09-02 05:00:00 2023-09-03 07:45:00  5.424  5.440   NaN   \n",
       "53    23078 2023-09-02 05:00:00 2023-09-03 07:45:00  5.424  5.440   NaN   \n",
       "70    23096 2023-10-15 00:30:00 2023-10-16 07:30:00  5.472  5.440   NaN   \n",
       "71    23097 2023-10-15 00:30:00 2023-10-16 07:30:00  5.352    NaN   NaN   \n",
       "72    23098 2023-10-15 00:30:00 2023-10-16 07:30:00  5.472  5.440   NaN   \n",
       "78    23104 2023-10-29 00:30:00 2023-10-30 09:45:00  5.376  5.336   NaN   \n",
       "86   P23462 2023-11-12 00:30:00 2023-11-13 07:25:00  5.432  5.352   NaN   \n",
       "87    23114 2023-11-12 00:30:00 2023-11-13 07:25:00  5.448  5.368   NaN   \n",
       "88    23117 2023-11-12 00:30:00 2023-11-13 07:25:00  5.448  5.368   NaN   \n",
       "91    23120 2023-11-19 00:30:00 2023-11-20 07:45:00  5.320  5.384   NaN   \n",
       "92    23121 2023-11-19 00:30:00 2023-11-20 07:50:00  5.232  5.408   NaN   \n",
       "97    23131 2023-12-02 00:30:00 2023-12-03 06:55:00  5.376  5.424   NaN   \n",
       "98    23132 2023-12-02 00:30:00 2023-12-03 07:00:00  5.440  5.488   NaN   \n",
       "99    23133 2023-12-02 00:30:00 2023-12-03 07:00:00  5.440  5.488   NaN   \n",
       "107   24005 2024-01-18 00:30:00 2024-01-19 07:15:00  5.360  5.440   NaN   \n",
       "114   24019 2024-02-01 00:30:00 2024-02-02 07:20:00  5.520  5.360   NaN   \n",
       "116   24021 2024-02-01 00:30:00 2024-02-02 07:10:00  5.280  5.440   NaN   \n",
       "119   24031 2024-02-15 00:30:00 2024-02-16 07:30:00  5.768  5.488   NaN   \n",
       "136   24063 2024-04-21 00:30:00 2024-04-22 07:19:00  5.360  5.376   NaN   \n",
       "137   24064 2024-04-21 00:30:00 2024-04-22 07:19:00  5.360  5.376   NaN   \n",
       "140   24071 2024-04-28 00:30:00 2024-04-29 07:45:00  6.280  5.488   NaN   \n",
       "141   24072 2024-05-12 00:30:00 2024-05-13 08:16:00  5.424  5.424   NaN   \n",
       "144   24075 2024-05-12 00:30:00 2024-05-13 07:54:00  5.424  5.424   NaN   \n",
       "\n",
       "     turb_1  turb_2  turb_3  usada_1  usada_2  usada_3  \n",
       "6     30.00   30.32     NaN        1        1        0  \n",
       "7     30.00   30.32     NaN        1        1        0  \n",
       "8     32.08   32.96     NaN        1        1        0  \n",
       "9     32.08   32.96     NaN        1        1        0  \n",
       "12    25.68   26.56     NaN        1        0        0  \n",
       "19    24.80   27.12     NaN        0        1        0  \n",
       "20    30.48   26.80     NaN        1        1        0  \n",
       "49    42.56     NaN     NaN        1        0        0  \n",
       "51    34.88     NaN     NaN        1        0        0  \n",
       "52    30.96   32.16     NaN        1        1        0  \n",
       "53    30.96   32.16     NaN        1        1        0  \n",
       "70    31.92   32.40     NaN        1        1        0  \n",
       "71    34.08     NaN     NaN        1        0        0  \n",
       "72    31.92   32.40     NaN        1        1        0  \n",
       "78    32.16   36.08     NaN        0        1        0  \n",
       "86    28.64   26.80     NaN        0        1        0  \n",
       "87    26.64   29.20     NaN        1        1        0  \n",
       "88    26.64   29.20     NaN        1        1        0  \n",
       "91    32.16   31.44     NaN        1        0        0  \n",
       "92    28.72   25.76     NaN        1        0        0  \n",
       "97    35.12   35.52     NaN        1        0        0  \n",
       "98    34.08   32.48     NaN        1        1        0  \n",
       "99    34.08   32.48     NaN        1        1        0  \n",
       "107   28.96   26.48     NaN        1        0        0  \n",
       "114   35.20   37.04     NaN        0        1        0  \n",
       "116   37.68   26.72     NaN        1        0        0  \n",
       "119   24.48   32.96     NaN        0        1        0  \n",
       "136   25.84   27.84     NaN        1        1        0  \n",
       "137   25.84   27.84     NaN        1        1        0  \n",
       "140   27.36   24.88     NaN        0        1        0  \n",
       "141   25.36   30.96     NaN        0        1        0  \n",
       "144   25.12   26.96   27.84        0        1        1  "
      ]
     },
     "execution_count": 16,
     "metadata": {},
     "output_type": "execute_result"
    }
   ],
   "source": [
    "# Null values for ph_3\n",
    "pino[pino['ph_3'].isnull()]"
   ]
  },
  {
   "cell_type": "code",
   "execution_count": 17,
   "metadata": {},
   "outputs": [
    {
     "data": {
      "text/html": [
       "<div>\n",
       "<style scoped>\n",
       "    .dataframe tbody tr th:only-of-type {\n",
       "        vertical-align: middle;\n",
       "    }\n",
       "\n",
       "    .dataframe tbody tr th {\n",
       "        vertical-align: top;\n",
       "    }\n",
       "\n",
       "    .dataframe thead th {\n",
       "        text-align: right;\n",
       "    }\n",
       "</style>\n",
       "<table border=\"1\" class=\"dataframe\">\n",
       "  <thead>\n",
       "    <tr style=\"text-align: right;\">\n",
       "      <th></th>\n",
       "      <th>Lote</th>\n",
       "      <th>f_h_inicio</th>\n",
       "      <th>f_h_fin</th>\n",
       "      <th>ph_1</th>\n",
       "      <th>ph_2</th>\n",
       "      <th>ph_3</th>\n",
       "      <th>turb_1</th>\n",
       "      <th>turb_2</th>\n",
       "      <th>turb_3</th>\n",
       "      <th>usada_1</th>\n",
       "      <th>usada_2</th>\n",
       "      <th>usada_3</th>\n",
       "    </tr>\n",
       "  </thead>\n",
       "  <tbody>\n",
       "    <tr>\n",
       "      <th>144</th>\n",
       "      <td>24075</td>\n",
       "      <td>2024-05-12 00:30:00</td>\n",
       "      <td>2024-05-13 07:54:00</td>\n",
       "      <td>5.424</td>\n",
       "      <td>5.424</td>\n",
       "      <td>NaN</td>\n",
       "      <td>25.12</td>\n",
       "      <td>26.96</td>\n",
       "      <td>27.84</td>\n",
       "      <td>0</td>\n",
       "      <td>1</td>\n",
       "      <td>1</td>\n",
       "    </tr>\n",
       "  </tbody>\n",
       "</table>\n",
       "</div>"
      ],
      "text/plain": [
       "      Lote          f_h_inicio             f_h_fin   ph_1   ph_2  ph_3  \\\n",
       "144  24075 2024-05-12 00:30:00 2024-05-13 07:54:00  5.424  5.424   NaN   \n",
       "\n",
       "     turb_1  turb_2  turb_3  usada_1  usada_2  usada_3  \n",
       "144   25.12   26.96   27.84        0        1        1  "
      ]
     },
     "execution_count": 17,
     "metadata": {},
     "output_type": "execute_result"
    }
   ],
   "source": [
    "# Values that arenull for ph_3 and not for turb_3\n",
    "pino[pino['ph_3'].isnull() & pino['turb_3'].notnull()]\n"
   ]
  },
  {
   "cell_type": "markdown",
   "metadata": {},
   "source": [
    "#### This linea 3 value is used, despite NaN values. We should drop this later"
   ]
  },
  {
   "cell_type": "code",
   "execution_count": 18,
   "metadata": {},
   "outputs": [],
   "source": [
    "# Drop row pino[pino['ph_3'].isnull() & pino['turb_3'].notnull()]\n",
    "#pino = pino.drop(pino[pino['ph_3'].isnull() & pino['turb_3'].notnull()].index)"
   ]
  },
  {
   "cell_type": "markdown",
   "metadata": {},
   "source": [
    "### Fechas y duracion"
   ]
  },
  {
   "cell_type": "code",
   "execution_count": 19,
   "metadata": {},
   "outputs": [],
   "source": [
    "## Make new column with Duracion\n",
    "pino['duracion'] = pino['f_h_fin'] - pino['f_h_inicio']\n"
   ]
  },
  {
   "cell_type": "code",
   "execution_count": 20,
   "metadata": {},
   "outputs": [
    {
     "data": {
      "text/plain": [
       "count                          164\n",
       "mean     0 days 19:10:03.292682926\n",
       "std      4 days 07:43:24.666420264\n",
       "min             -30 days +02:30:00\n",
       "25%                1 days 02:45:00\n",
       "50%                1 days 06:45:00\n",
       "75%                1 days 07:05:00\n",
       "max               11 days 01:42:00\n",
       "Name: duracion, dtype: object"
      ]
     },
     "execution_count": 20,
     "metadata": {},
     "output_type": "execute_result"
    }
   ],
   "source": [
    "pino['duracion'].describe()"
   ]
  },
  {
   "cell_type": "markdown",
   "metadata": {},
   "source": [
    "#### Something is weird with the dates"
   ]
  },
  {
   "cell_type": "code",
   "execution_count": 21,
   "metadata": {},
   "outputs": [
    {
     "data": {
      "image/png": "[encoded data removed]",
      "text/plain": [
       "<Figure size 1000x500 with 1 Axes>"
      ]
     },
     "metadata": {},
     "output_type": "display_data"
    }
   ],
   "source": [
    "def plot_fechas(df, col1, col2):\n",
    "    # Scatter plot of col1 vs fecha de fin real\n",
    "    # Whenever the col1 is greater than fecha de fin real, the point will be red\n",
    "    # Whenever the col1 is less than fecha de fin real, the point will be blue\n",
    "    # If it is equal, it will be yellow\n",
    "    plt.figure(figsize=(10, 5))\n",
    "    for index, row in df.iterrows():\n",
    "        if row[col1] > row[col2]:\n",
    "            plt.scatter(row[col1], row[col2], color='red')\n",
    "        elif row[col1] < row[col2]:\n",
    "            plt.scatter(row[col1], row[col2], color='blue')\n",
    "        else:\n",
    "            plt.scatter(row[col1], row[col2], color='yellow')\n",
    "    plt.xlabel(col1)\n",
    "    plt.ylabel(col2)\n",
    "    plt.show()\n",
    "\n",
    "plot_fechas(pino, 'f_h_inicio', 'f_h_fin')"
   ]
  },
  {
   "cell_type": "code",
   "execution_count": 22,
   "metadata": {},
   "outputs": [
    {
     "data": {
      "text/html": [
       "<div>\n",
       "<style scoped>\n",
       "    .dataframe tbody tr th:only-of-type {\n",
       "        vertical-align: middle;\n",
       "    }\n",
       "\n",
       "    .dataframe tbody tr th {\n",
       "        vertical-align: top;\n",
       "    }\n",
       "\n",
       "    .dataframe thead th {\n",
       "        text-align: right;\n",
       "    }\n",
       "</style>\n",
       "<table border=\"1\" class=\"dataframe\">\n",
       "  <thead>\n",
       "    <tr style=\"text-align: right;\">\n",
       "      <th></th>\n",
       "      <th>Lote</th>\n",
       "      <th>f_h_inicio</th>\n",
       "      <th>f_h_fin</th>\n",
       "      <th>ph_1</th>\n",
       "      <th>ph_2</th>\n",
       "      <th>ph_3</th>\n",
       "      <th>turb_1</th>\n",
       "      <th>turb_2</th>\n",
       "      <th>turb_3</th>\n",
       "      <th>usada_1</th>\n",
       "      <th>usada_2</th>\n",
       "      <th>usada_3</th>\n",
       "      <th>duracion</th>\n",
       "    </tr>\n",
       "  </thead>\n",
       "  <tbody>\n",
       "    <tr>\n",
       "      <th>10</th>\n",
       "      <td>23033</td>\n",
       "      <td>2023-04-23 05:00:00</td>\n",
       "      <td>2023-03-24 13:30:00</td>\n",
       "      <td>5.448</td>\n",
       "      <td>5.456</td>\n",
       "      <td>5.392</td>\n",
       "      <td>28.08</td>\n",
       "      <td>28.24</td>\n",
       "      <td>29.44</td>\n",
       "      <td>1</td>\n",
       "      <td>0</td>\n",
       "      <td>1</td>\n",
       "      <td>-30 days +08:30:00</td>\n",
       "    </tr>\n",
       "    <tr>\n",
       "      <th>11</th>\n",
       "      <td>23034</td>\n",
       "      <td>2023-04-23 05:00:00</td>\n",
       "      <td>2023-03-24 13:30:00</td>\n",
       "      <td>5.448</td>\n",
       "      <td>5.456</td>\n",
       "      <td>5.392</td>\n",
       "      <td>28.08</td>\n",
       "      <td>28.24</td>\n",
       "      <td>29.44</td>\n",
       "      <td>1</td>\n",
       "      <td>0</td>\n",
       "      <td>1</td>\n",
       "      <td>-30 days +08:30:00</td>\n",
       "    </tr>\n",
       "    <tr>\n",
       "      <th>12</th>\n",
       "      <td>23035</td>\n",
       "      <td>2023-04-23 05:00:00</td>\n",
       "      <td>2023-03-24 07:30:00</td>\n",
       "      <td>5.520</td>\n",
       "      <td>5.520</td>\n",
       "      <td>NaN</td>\n",
       "      <td>25.68</td>\n",
       "      <td>26.56</td>\n",
       "      <td>NaN</td>\n",
       "      <td>1</td>\n",
       "      <td>0</td>\n",
       "      <td>0</td>\n",
       "      <td>-30 days +02:30:00</td>\n",
       "    </tr>\n",
       "  </tbody>\n",
       "</table>\n",
       "</div>"
      ],
      "text/plain": [
       "     Lote          f_h_inicio             f_h_fin   ph_1   ph_2   ph_3  \\\n",
       "10  23033 2023-04-23 05:00:00 2023-03-24 13:30:00  5.448  5.456  5.392   \n",
       "11  23034 2023-04-23 05:00:00 2023-03-24 13:30:00  5.448  5.456  5.392   \n",
       "12  23035 2023-04-23 05:00:00 2023-03-24 07:30:00  5.520  5.520    NaN   \n",
       "\n",
       "    turb_1  turb_2  turb_3  usada_1  usada_2  usada_3           duracion  \n",
       "10   28.08   28.24   29.44        1        0        1 -30 days +08:30:00  \n",
       "11   28.08   28.24   29.44        1        0        1 -30 days +08:30:00  \n",
       "12   25.68   26.56     NaN        1        0        0 -30 days +02:30:00  "
      ]
     },
     "execution_count": 22,
     "metadata": {},
     "output_type": "execute_result"
    }
   ],
   "source": [
    "# Is it only an isolated datapoint that is wrong?\n",
    "pino[pino['f_h_inicio'] > pino['f_h_fin']]"
   ]
  },
  {
   "cell_type": "markdown",
   "metadata": {},
   "source": [
    "#### Given that most of the times it is around 0 or 1 days to complete\n",
    "#### It is likely that this date was 2023-03-23 but it was written as 2023-04-23 by human error.\n",
    "#### We should drop it for now"
   ]
  },
  {
   "cell_type": "code",
   "execution_count": 23,
   "metadata": {},
   "outputs": [],
   "source": [
    "# Remove the row\n",
    "pino = pino[pino['f_h_inicio'] < pino['f_h_fin']]"
   ]
  },
  {
   "cell_type": "code",
   "execution_count": 24,
   "metadata": {},
   "outputs": [],
   "source": [
    "# Make duracion again\n",
    "pino['duracion'] = pino['f_h_fin'] - pino['f_h_inicio']"
   ]
  },
  {
   "cell_type": "code",
   "execution_count": 25,
   "metadata": {},
   "outputs": [
    {
     "data": {
      "text/plain": [
       "count                          161\n",
       "mean     1 days 08:49:11.180124223\n",
       "std      1 days 02:36:00.051739875\n",
       "min                0 days 02:10:00\n",
       "25%                1 days 02:45:00\n",
       "50%                1 days 06:45:00\n",
       "75%                1 days 07:05:00\n",
       "max               11 days 01:42:00\n",
       "Name: duracion, dtype: object"
      ]
     },
     "execution_count": 25,
     "metadata": {},
     "output_type": "execute_result"
    }
   ],
   "source": [
    "pino['duracion'].describe()"
   ]
  },
  {
   "cell_type": "markdown",
   "metadata": {},
   "source": [
    "### ph_2"
   ]
  },
  {
   "cell_type": "code",
   "execution_count": 26,
   "metadata": {},
   "outputs": [
    {
     "data": {
      "text/html": [
       "<div>\n",
       "<style scoped>\n",
       "    .dataframe tbody tr th:only-of-type {\n",
       "        vertical-align: middle;\n",
       "    }\n",
       "\n",
       "    .dataframe tbody tr th {\n",
       "        vertical-align: top;\n",
       "    }\n",
       "\n",
       "    .dataframe thead th {\n",
       "        text-align: right;\n",
       "    }\n",
       "</style>\n",
       "<table border=\"1\" class=\"dataframe\">\n",
       "  <thead>\n",
       "    <tr style=\"text-align: right;\">\n",
       "      <th></th>\n",
       "      <th>Lote</th>\n",
       "      <th>f_h_inicio</th>\n",
       "      <th>f_h_fin</th>\n",
       "      <th>ph_1</th>\n",
       "      <th>ph_2</th>\n",
       "      <th>ph_3</th>\n",
       "      <th>turb_1</th>\n",
       "      <th>turb_2</th>\n",
       "      <th>turb_3</th>\n",
       "      <th>usada_1</th>\n",
       "      <th>usada_2</th>\n",
       "      <th>usada_3</th>\n",
       "      <th>duracion</th>\n",
       "    </tr>\n",
       "  </thead>\n",
       "  <tbody>\n",
       "  </tbody>\n",
       "</table>\n",
       "</div>"
      ],
      "text/plain": [
       "Empty DataFrame\n",
       "Columns: [Lote, f_h_inicio, f_h_fin, ph_1, ph_2, ph_3, turb_1, turb_2, turb_3, usada_1, usada_2, usada_3, duracion]\n",
       "Index: []"
      ]
     },
     "execution_count": 26,
     "metadata": {},
     "output_type": "execute_result"
    }
   ],
   "source": [
    "# is ph2 loaded correctly?\n",
    "pino[pino['ph_2'].astype(str).str.contains('[\\D][.]')]"
   ]
  },
  {
   "cell_type": "code",
   "execution_count": 27,
   "metadata": {},
   "outputs": [
    {
     "data": {
      "text/html": [
       "<div>\n",
       "<style scoped>\n",
       "    .dataframe tbody tr th:only-of-type {\n",
       "        vertical-align: middle;\n",
       "    }\n",
       "\n",
       "    .dataframe tbody tr th {\n",
       "        vertical-align: top;\n",
       "    }\n",
       "\n",
       "    .dataframe thead th {\n",
       "        text-align: right;\n",
       "    }\n",
       "</style>\n",
       "<table border=\"1\" class=\"dataframe\">\n",
       "  <thead>\n",
       "    <tr style=\"text-align: right;\">\n",
       "      <th></th>\n",
       "      <th>Lote</th>\n",
       "      <th>f_h_inicio</th>\n",
       "      <th>f_h_fin</th>\n",
       "      <th>ph_1</th>\n",
       "      <th>ph_2</th>\n",
       "      <th>ph_3</th>\n",
       "      <th>turb_1</th>\n",
       "      <th>turb_2</th>\n",
       "      <th>turb_3</th>\n",
       "      <th>usada_1</th>\n",
       "      <th>usada_2</th>\n",
       "      <th>usada_3</th>\n",
       "      <th>duracion</th>\n",
       "    </tr>\n",
       "  </thead>\n",
       "  <tbody>\n",
       "    <tr>\n",
       "      <th>49</th>\n",
       "      <td>23075</td>\n",
       "      <td>2023-07-29 05:00:00</td>\n",
       "      <td>2023-07-31 07:15:00</td>\n",
       "      <td>5.464</td>\n",
       "      <td>NaN</td>\n",
       "      <td>NaN</td>\n",
       "      <td>42.56</td>\n",
       "      <td>NaN</td>\n",
       "      <td>NaN</td>\n",
       "      <td>1</td>\n",
       "      <td>0</td>\n",
       "      <td>0</td>\n",
       "      <td>2 days 02:15:00</td>\n",
       "    </tr>\n",
       "    <tr>\n",
       "      <th>51</th>\n",
       "      <td>23076</td>\n",
       "      <td>2023-07-30 05:00:00</td>\n",
       "      <td>2023-07-31 07:00:00</td>\n",
       "      <td>5.376</td>\n",
       "      <td>NaN</td>\n",
       "      <td>NaN</td>\n",
       "      <td>34.88</td>\n",
       "      <td>NaN</td>\n",
       "      <td>NaN</td>\n",
       "      <td>1</td>\n",
       "      <td>0</td>\n",
       "      <td>0</td>\n",
       "      <td>1 days 02:00:00</td>\n",
       "    </tr>\n",
       "    <tr>\n",
       "      <th>56</th>\n",
       "      <td>23081</td>\n",
       "      <td>2023-09-10 05:00:00</td>\n",
       "      <td>2023-09-11 08:00:00</td>\n",
       "      <td>5.496</td>\n",
       "      <td>NaN</td>\n",
       "      <td>5.504</td>\n",
       "      <td>28.40</td>\n",
       "      <td>NaN</td>\n",
       "      <td>28.00</td>\n",
       "      <td>1</td>\n",
       "      <td>0</td>\n",
       "      <td>1</td>\n",
       "      <td>1 days 03:00:00</td>\n",
       "    </tr>\n",
       "    <tr>\n",
       "      <th>57</th>\n",
       "      <td>23082</td>\n",
       "      <td>2023-09-10 05:00:00</td>\n",
       "      <td>2023-09-11 08:00:00</td>\n",
       "      <td>5.496</td>\n",
       "      <td>NaN</td>\n",
       "      <td>5.504</td>\n",
       "      <td>28.40</td>\n",
       "      <td>NaN</td>\n",
       "      <td>28.00</td>\n",
       "      <td>1</td>\n",
       "      <td>0</td>\n",
       "      <td>1</td>\n",
       "      <td>1 days 03:00:00</td>\n",
       "    </tr>\n",
       "    <tr>\n",
       "      <th>58</th>\n",
       "      <td>23083</td>\n",
       "      <td>2023-09-11 05:00:00</td>\n",
       "      <td>2023-09-12 07:45:00</td>\n",
       "      <td>5.424</td>\n",
       "      <td>NaN</td>\n",
       "      <td>5.448</td>\n",
       "      <td>29.20</td>\n",
       "      <td>NaN</td>\n",
       "      <td>30.48</td>\n",
       "      <td>1</td>\n",
       "      <td>0</td>\n",
       "      <td>1</td>\n",
       "      <td>1 days 02:45:00</td>\n",
       "    </tr>\n",
       "    <tr>\n",
       "      <th>59</th>\n",
       "      <td>23084</td>\n",
       "      <td>2023-09-11 05:00:00</td>\n",
       "      <td>2023-09-12 07:45:00</td>\n",
       "      <td>5.424</td>\n",
       "      <td>NaN</td>\n",
       "      <td>5.448</td>\n",
       "      <td>29.20</td>\n",
       "      <td>NaN</td>\n",
       "      <td>30.48</td>\n",
       "      <td>1</td>\n",
       "      <td>0</td>\n",
       "      <td>1</td>\n",
       "      <td>1 days 02:45:00</td>\n",
       "    </tr>\n",
       "    <tr>\n",
       "      <th>71</th>\n",
       "      <td>23097</td>\n",
       "      <td>2023-10-15 00:30:00</td>\n",
       "      <td>2023-10-16 07:30:00</td>\n",
       "      <td>5.352</td>\n",
       "      <td>NaN</td>\n",
       "      <td>NaN</td>\n",
       "      <td>34.08</td>\n",
       "      <td>NaN</td>\n",
       "      <td>NaN</td>\n",
       "      <td>1</td>\n",
       "      <td>0</td>\n",
       "      <td>0</td>\n",
       "      <td>1 days 07:00:00</td>\n",
       "    </tr>\n",
       "    <tr>\n",
       "      <th>89</th>\n",
       "      <td>23118</td>\n",
       "      <td>2023-11-18 00:30:00</td>\n",
       "      <td>2023-11-19 07:30:00</td>\n",
       "      <td>5.352</td>\n",
       "      <td>NaN</td>\n",
       "      <td>5.368</td>\n",
       "      <td>39.92</td>\n",
       "      <td>NaN</td>\n",
       "      <td>37.68</td>\n",
       "      <td>1</td>\n",
       "      <td>0</td>\n",
       "      <td>1</td>\n",
       "      <td>1 days 07:00:00</td>\n",
       "    </tr>\n",
       "    <tr>\n",
       "      <th>90</th>\n",
       "      <td>23119</td>\n",
       "      <td>2023-11-18 00:30:00</td>\n",
       "      <td>2023-11-19 07:30:00</td>\n",
       "      <td>5.352</td>\n",
       "      <td>NaN</td>\n",
       "      <td>5.368</td>\n",
       "      <td>39.92</td>\n",
       "      <td>NaN</td>\n",
       "      <td>37.68</td>\n",
       "      <td>1</td>\n",
       "      <td>0</td>\n",
       "      <td>1</td>\n",
       "      <td>1 days 07:00:00</td>\n",
       "    </tr>\n",
       "    <tr>\n",
       "      <th>95</th>\n",
       "      <td>23126</td>\n",
       "      <td>2023-11-26 00:30:00</td>\n",
       "      <td>2023-11-27 07:15:00</td>\n",
       "      <td>5.432</td>\n",
       "      <td>NaN</td>\n",
       "      <td>5.384</td>\n",
       "      <td>29.20</td>\n",
       "      <td>NaN</td>\n",
       "      <td>27.04</td>\n",
       "      <td>1</td>\n",
       "      <td>0</td>\n",
       "      <td>1</td>\n",
       "      <td>1 days 06:45:00</td>\n",
       "    </tr>\n",
       "    <tr>\n",
       "      <th>96</th>\n",
       "      <td>23127</td>\n",
       "      <td>2023-11-26 00:30:00</td>\n",
       "      <td>2023-11-27 07:15:00</td>\n",
       "      <td>5.432</td>\n",
       "      <td>NaN</td>\n",
       "      <td>5.384</td>\n",
       "      <td>29.20</td>\n",
       "      <td>NaN</td>\n",
       "      <td>27.04</td>\n",
       "      <td>1</td>\n",
       "      <td>0</td>\n",
       "      <td>1</td>\n",
       "      <td>1 days 06:45:00</td>\n",
       "    </tr>\n",
       "    <tr>\n",
       "      <th>100</th>\n",
       "      <td>23136</td>\n",
       "      <td>2023-12-16 00:30:00</td>\n",
       "      <td>2023-12-17 07:45:00</td>\n",
       "      <td>5.520</td>\n",
       "      <td>NaN</td>\n",
       "      <td>5.520</td>\n",
       "      <td>40.80</td>\n",
       "      <td>NaN</td>\n",
       "      <td>35.68</td>\n",
       "      <td>1</td>\n",
       "      <td>0</td>\n",
       "      <td>1</td>\n",
       "      <td>1 days 07:15:00</td>\n",
       "    </tr>\n",
       "    <tr>\n",
       "      <th>101</th>\n",
       "      <td>23137</td>\n",
       "      <td>2023-12-16 00:30:00</td>\n",
       "      <td>2023-12-17 07:45:00</td>\n",
       "      <td>5.520</td>\n",
       "      <td>NaN</td>\n",
       "      <td>5.520</td>\n",
       "      <td>40.80</td>\n",
       "      <td>NaN</td>\n",
       "      <td>35.68</td>\n",
       "      <td>1</td>\n",
       "      <td>0</td>\n",
       "      <td>1</td>\n",
       "      <td>1 days 07:15:00</td>\n",
       "    </tr>\n",
       "  </tbody>\n",
       "</table>\n",
       "</div>"
      ],
      "text/plain": [
       "      Lote          f_h_inicio             f_h_fin   ph_1  ph_2   ph_3  \\\n",
       "49   23075 2023-07-29 05:00:00 2023-07-31 07:15:00  5.464   NaN    NaN   \n",
       "51   23076 2023-07-30 05:00:00 2023-07-31 07:00:00  5.376   NaN    NaN   \n",
       "56   23081 2023-09-10 05:00:00 2023-09-11 08:00:00  5.496   NaN  5.504   \n",
       "57   23082 2023-09-10 05:00:00 2023-09-11 08:00:00  5.496   NaN  5.504   \n",
       "58   23083 2023-09-11 05:00:00 2023-09-12 07:45:00  5.424   NaN  5.448   \n",
       "59   23084 2023-09-11 05:00:00 2023-09-12 07:45:00  5.424   NaN  5.448   \n",
       "71   23097 2023-10-15 00:30:00 2023-10-16 07:30:00  5.352   NaN    NaN   \n",
       "89   23118 2023-11-18 00:30:00 2023-11-19 07:30:00  5.352   NaN  5.368   \n",
       "90   23119 2023-11-18 00:30:00 2023-11-19 07:30:00  5.352   NaN  5.368   \n",
       "95   23126 2023-11-26 00:30:00 2023-11-27 07:15:00  5.432   NaN  5.384   \n",
       "96   23127 2023-11-26 00:30:00 2023-11-27 07:15:00  5.432   NaN  5.384   \n",
       "100  23136 2023-12-16 00:30:00 2023-12-17 07:45:00  5.520   NaN  5.520   \n",
       "101  23137 2023-12-16 00:30:00 2023-12-17 07:45:00  5.520   NaN  5.520   \n",
       "\n",
       "     turb_1  turb_2  turb_3  usada_1  usada_2  usada_3        duracion  \n",
       "49    42.56     NaN     NaN        1        0        0 2 days 02:15:00  \n",
       "51    34.88     NaN     NaN        1        0        0 1 days 02:00:00  \n",
       "56    28.40     NaN   28.00        1        0        1 1 days 03:00:00  \n",
       "57    28.40     NaN   28.00        1        0        1 1 days 03:00:00  \n",
       "58    29.20     NaN   30.48        1        0        1 1 days 02:45:00  \n",
       "59    29.20     NaN   30.48        1        0        1 1 days 02:45:00  \n",
       "71    34.08     NaN     NaN        1        0        0 1 days 07:00:00  \n",
       "89    39.92     NaN   37.68        1        0        1 1 days 07:00:00  \n",
       "90    39.92     NaN   37.68        1        0        1 1 days 07:00:00  \n",
       "95    29.20     NaN   27.04        1        0        1 1 days 06:45:00  \n",
       "96    29.20     NaN   27.04        1        0        1 1 days 06:45:00  \n",
       "100   40.80     NaN   35.68        1        0        1 1 days 07:15:00  \n",
       "101   40.80     NaN   35.68        1        0        1 1 days 07:15:00  "
      ]
     },
     "execution_count": 27,
     "metadata": {},
     "output_type": "execute_result"
    }
   ],
   "source": [
    "# ph2 null values\n",
    "pino[pino['ph_2'].isnull()]"
   ]
  },
  {
   "cell_type": "code",
   "execution_count": 28,
   "metadata": {},
   "outputs": [
    {
     "data": {
      "text/html": [
       "<div>\n",
       "<style scoped>\n",
       "    .dataframe tbody tr th:only-of-type {\n",
       "        vertical-align: middle;\n",
       "    }\n",
       "\n",
       "    .dataframe tbody tr th {\n",
       "        vertical-align: top;\n",
       "    }\n",
       "\n",
       "    .dataframe thead th {\n",
       "        text-align: right;\n",
       "    }\n",
       "</style>\n",
       "<table border=\"1\" class=\"dataframe\">\n",
       "  <thead>\n",
       "    <tr style=\"text-align: right;\">\n",
       "      <th></th>\n",
       "      <th>Lote</th>\n",
       "      <th>f_h_inicio</th>\n",
       "      <th>f_h_fin</th>\n",
       "      <th>ph_1</th>\n",
       "      <th>ph_2</th>\n",
       "      <th>ph_3</th>\n",
       "      <th>turb_1</th>\n",
       "      <th>turb_2</th>\n",
       "      <th>turb_3</th>\n",
       "      <th>usada_1</th>\n",
       "      <th>usada_2</th>\n",
       "      <th>usada_3</th>\n",
       "      <th>duracion</th>\n",
       "    </tr>\n",
       "  </thead>\n",
       "  <tbody>\n",
       "  </tbody>\n",
       "</table>\n",
       "</div>"
      ],
      "text/plain": [
       "Empty DataFrame\n",
       "Columns: [Lote, f_h_inicio, f_h_fin, ph_1, ph_2, ph_3, turb_1, turb_2, turb_3, usada_1, usada_2, usada_3, duracion]\n",
       "Index: []"
      ]
     },
     "execution_count": 28,
     "metadata": {},
     "output_type": "execute_result"
    }
   ],
   "source": [
    "# Whenever ph_2 is null, turb_2 is also null and viceversa\n",
    "pino[pino['ph_2'].isnull() & pino['turb_2'].notnull()]\n"
   ]
  },
  {
   "cell_type": "code",
   "execution_count": 29,
   "metadata": {},
   "outputs": [
    {
     "data": {
      "text/html": [
       "<div>\n",
       "<style scoped>\n",
       "    .dataframe tbody tr th:only-of-type {\n",
       "        vertical-align: middle;\n",
       "    }\n",
       "\n",
       "    .dataframe tbody tr th {\n",
       "        vertical-align: top;\n",
       "    }\n",
       "\n",
       "    .dataframe thead th {\n",
       "        text-align: right;\n",
       "    }\n",
       "</style>\n",
       "<table border=\"1\" class=\"dataframe\">\n",
       "  <thead>\n",
       "    <tr style=\"text-align: right;\">\n",
       "      <th></th>\n",
       "      <th>Lote</th>\n",
       "      <th>f_h_inicio</th>\n",
       "      <th>f_h_fin</th>\n",
       "      <th>ph_1</th>\n",
       "      <th>ph_2</th>\n",
       "      <th>ph_3</th>\n",
       "      <th>turb_1</th>\n",
       "      <th>turb_2</th>\n",
       "      <th>turb_3</th>\n",
       "      <th>usada_1</th>\n",
       "      <th>usada_2</th>\n",
       "      <th>usada_3</th>\n",
       "      <th>duracion</th>\n",
       "    </tr>\n",
       "  </thead>\n",
       "  <tbody>\n",
       "  </tbody>\n",
       "</table>\n",
       "</div>"
      ],
      "text/plain": [
       "Empty DataFrame\n",
       "Columns: [Lote, f_h_inicio, f_h_fin, ph_1, ph_2, ph_3, turb_1, turb_2, turb_3, usada_1, usada_2, usada_3, duracion]\n",
       "Index: []"
      ]
     },
     "execution_count": 29,
     "metadata": {},
     "output_type": "execute_result"
    }
   ],
   "source": [
    "# Whenever ph_2 is null, turb_2 is also null and viceversa\n",
    "pino[pino['ph_2'].notnull() & pino['turb_2'].isnull()]"
   ]
  },
  {
   "cell_type": "code",
   "execution_count": 30,
   "metadata": {},
   "outputs": [
    {
     "data": {
      "text/html": [
       "<div>\n",
       "<style scoped>\n",
       "    .dataframe tbody tr th:only-of-type {\n",
       "        vertical-align: middle;\n",
       "    }\n",
       "\n",
       "    .dataframe tbody tr th {\n",
       "        vertical-align: top;\n",
       "    }\n",
       "\n",
       "    .dataframe thead th {\n",
       "        text-align: right;\n",
       "    }\n",
       "</style>\n",
       "<table border=\"1\" class=\"dataframe\">\n",
       "  <thead>\n",
       "    <tr style=\"text-align: right;\">\n",
       "      <th></th>\n",
       "      <th>Lote</th>\n",
       "      <th>f_h_inicio</th>\n",
       "      <th>f_h_fin</th>\n",
       "      <th>ph_1</th>\n",
       "      <th>ph_2</th>\n",
       "      <th>ph_3</th>\n",
       "      <th>turb_1</th>\n",
       "      <th>turb_2</th>\n",
       "      <th>turb_3</th>\n",
       "      <th>usada_1</th>\n",
       "      <th>usada_2</th>\n",
       "      <th>usada_3</th>\n",
       "      <th>duracion</th>\n",
       "    </tr>\n",
       "  </thead>\n",
       "  <tbody>\n",
       "  </tbody>\n",
       "</table>\n",
       "</div>"
      ],
      "text/plain": [
       "Empty DataFrame\n",
       "Columns: [Lote, f_h_inicio, f_h_fin, ph_1, ph_2, ph_3, turb_1, turb_2, turb_3, usada_1, usada_2, usada_3, duracion]\n",
       "Index: []"
      ]
     },
     "execution_count": 30,
     "metadata": {},
     "output_type": "execute_result"
    }
   ],
   "source": [
    "# Whenever ph_2 or turb_2 is null, usada_2 is 0\n",
    "pino[(pino['ph_2'].isnull() | pino['turb_2'].isnull())  & pino['usada_2'] != 0]"
   ]
  },
  {
   "cell_type": "markdown",
   "metadata": {},
   "source": [
    "### ph_3"
   ]
  },
  {
   "cell_type": "code",
   "execution_count": 31,
   "metadata": {},
   "outputs": [
    {
     "data": {
      "text/html": [
       "<div>\n",
       "<style scoped>\n",
       "    .dataframe tbody tr th:only-of-type {\n",
       "        vertical-align: middle;\n",
       "    }\n",
       "\n",
       "    .dataframe tbody tr th {\n",
       "        vertical-align: top;\n",
       "    }\n",
       "\n",
       "    .dataframe thead th {\n",
       "        text-align: right;\n",
       "    }\n",
       "</style>\n",
       "<table border=\"1\" class=\"dataframe\">\n",
       "  <thead>\n",
       "    <tr style=\"text-align: right;\">\n",
       "      <th></th>\n",
       "      <th>Lote</th>\n",
       "      <th>f_h_inicio</th>\n",
       "      <th>f_h_fin</th>\n",
       "      <th>ph_1</th>\n",
       "      <th>ph_2</th>\n",
       "      <th>ph_3</th>\n",
       "      <th>turb_1</th>\n",
       "      <th>turb_2</th>\n",
       "      <th>turb_3</th>\n",
       "      <th>usada_1</th>\n",
       "      <th>usada_2</th>\n",
       "      <th>usada_3</th>\n",
       "      <th>duracion</th>\n",
       "    </tr>\n",
       "  </thead>\n",
       "  <tbody>\n",
       "    <tr>\n",
       "      <th>144</th>\n",
       "      <td>24075</td>\n",
       "      <td>2024-05-12 00:30:00</td>\n",
       "      <td>2024-05-13 07:54:00</td>\n",
       "      <td>5.424</td>\n",
       "      <td>5.424</td>\n",
       "      <td>NaN</td>\n",
       "      <td>25.12</td>\n",
       "      <td>26.96</td>\n",
       "      <td>27.84</td>\n",
       "      <td>0</td>\n",
       "      <td>1</td>\n",
       "      <td>1</td>\n",
       "      <td>1 days 07:24:00</td>\n",
       "    </tr>\n",
       "  </tbody>\n",
       "</table>\n",
       "</div>"
      ],
      "text/plain": [
       "      Lote          f_h_inicio             f_h_fin   ph_1   ph_2  ph_3  \\\n",
       "144  24075 2024-05-12 00:30:00 2024-05-13 07:54:00  5.424  5.424   NaN   \n",
       "\n",
       "     turb_1  turb_2  turb_3  usada_1  usada_2  usada_3        duracion  \n",
       "144   25.12   26.96   27.84        0        1        1 1 days 07:24:00  "
      ]
     },
     "execution_count": 31,
     "metadata": {},
     "output_type": "execute_result"
    }
   ],
   "source": [
    "# whenever ph_3 is null, turb_3 is also null and viceversa\n",
    "pino[pino['ph_3'].isnull() & pino['turb_3'].notnull()]"
   ]
  },
  {
   "cell_type": "code",
   "execution_count": 32,
   "metadata": {},
   "outputs": [
    {
     "data": {
      "text/html": [
       "<div>\n",
       "<style scoped>\n",
       "    .dataframe tbody tr th:only-of-type {\n",
       "        vertical-align: middle;\n",
       "    }\n",
       "\n",
       "    .dataframe tbody tr th {\n",
       "        vertical-align: top;\n",
       "    }\n",
       "\n",
       "    .dataframe thead th {\n",
       "        text-align: right;\n",
       "    }\n",
       "</style>\n",
       "<table border=\"1\" class=\"dataframe\">\n",
       "  <thead>\n",
       "    <tr style=\"text-align: right;\">\n",
       "      <th></th>\n",
       "      <th>Lote</th>\n",
       "      <th>f_h_inicio</th>\n",
       "      <th>f_h_fin</th>\n",
       "      <th>ph_1</th>\n",
       "      <th>ph_2</th>\n",
       "      <th>ph_3</th>\n",
       "      <th>turb_1</th>\n",
       "      <th>turb_2</th>\n",
       "      <th>turb_3</th>\n",
       "      <th>usada_1</th>\n",
       "      <th>usada_2</th>\n",
       "      <th>usada_3</th>\n",
       "      <th>duracion</th>\n",
       "    </tr>\n",
       "  </thead>\n",
       "  <tbody>\n",
       "  </tbody>\n",
       "</table>\n",
       "</div>"
      ],
      "text/plain": [
       "Empty DataFrame\n",
       "Columns: [Lote, f_h_inicio, f_h_fin, ph_1, ph_2, ph_3, turb_1, turb_2, turb_3, usada_1, usada_2, usada_3, duracion]\n",
       "Index: []"
      ]
     },
     "execution_count": 32,
     "metadata": {},
     "output_type": "execute_result"
    }
   ],
   "source": [
    "# whenever ph_3 is null, turb_3 is also null and viceversa\n",
    "pino[pino['ph_3'].notnull() & pino['turb_3'].isnull()]"
   ]
  },
  {
   "cell_type": "code",
   "execution_count": 33,
   "metadata": {},
   "outputs": [
    {
     "data": {
      "text/html": [
       "<div>\n",
       "<style scoped>\n",
       "    .dataframe tbody tr th:only-of-type {\n",
       "        vertical-align: middle;\n",
       "    }\n",
       "\n",
       "    .dataframe tbody tr th {\n",
       "        vertical-align: top;\n",
       "    }\n",
       "\n",
       "    .dataframe thead th {\n",
       "        text-align: right;\n",
       "    }\n",
       "</style>\n",
       "<table border=\"1\" class=\"dataframe\">\n",
       "  <thead>\n",
       "    <tr style=\"text-align: right;\">\n",
       "      <th></th>\n",
       "      <th>Lote</th>\n",
       "      <th>f_h_inicio</th>\n",
       "      <th>f_h_fin</th>\n",
       "      <th>ph_1</th>\n",
       "      <th>ph_2</th>\n",
       "      <th>ph_3</th>\n",
       "      <th>turb_1</th>\n",
       "      <th>turb_2</th>\n",
       "      <th>turb_3</th>\n",
       "      <th>usada_1</th>\n",
       "      <th>usada_2</th>\n",
       "      <th>usada_3</th>\n",
       "      <th>duracion</th>\n",
       "    </tr>\n",
       "  </thead>\n",
       "  <tbody>\n",
       "    <tr>\n",
       "      <th>144</th>\n",
       "      <td>24075</td>\n",
       "      <td>2024-05-12 00:30:00</td>\n",
       "      <td>2024-05-13 07:54:00</td>\n",
       "      <td>5.424</td>\n",
       "      <td>5.424</td>\n",
       "      <td>NaN</td>\n",
       "      <td>25.12</td>\n",
       "      <td>26.96</td>\n",
       "      <td>27.84</td>\n",
       "      <td>0</td>\n",
       "      <td>1</td>\n",
       "      <td>1</td>\n",
       "      <td>1 days 07:24:00</td>\n",
       "    </tr>\n",
       "  </tbody>\n",
       "</table>\n",
       "</div>"
      ],
      "text/plain": [
       "      Lote          f_h_inicio             f_h_fin   ph_1   ph_2  ph_3  \\\n",
       "144  24075 2024-05-12 00:30:00 2024-05-13 07:54:00  5.424  5.424   NaN   \n",
       "\n",
       "     turb_1  turb_2  turb_3  usada_1  usada_2  usada_3        duracion  \n",
       "144   25.12   26.96   27.84        0        1        1 1 days 07:24:00  "
      ]
     },
     "execution_count": 33,
     "metadata": {},
     "output_type": "execute_result"
    }
   ],
   "source": [
    "# whenever ph_3 or turb_3 is null, usada_3 is 0\n",
    "pino[(pino['ph_3'].isnull() | pino['turb_3'].isnull())  & pino['usada_3'] != 0]"
   ]
  },
  {
   "cell_type": "markdown",
   "metadata": {},
   "source": [
    "### ph_1"
   ]
  },
  {
   "cell_type": "code",
   "execution_count": 34,
   "metadata": {},
   "outputs": [
    {
     "data": {
      "text/html": [
       "<div>\n",
       "<style scoped>\n",
       "    .dataframe tbody tr th:only-of-type {\n",
       "        vertical-align: middle;\n",
       "    }\n",
       "\n",
       "    .dataframe tbody tr th {\n",
       "        vertical-align: top;\n",
       "    }\n",
       "\n",
       "    .dataframe thead th {\n",
       "        text-align: right;\n",
       "    }\n",
       "</style>\n",
       "<table border=\"1\" class=\"dataframe\">\n",
       "  <thead>\n",
       "    <tr style=\"text-align: right;\">\n",
       "      <th></th>\n",
       "      <th>Lote</th>\n",
       "      <th>f_h_inicio</th>\n",
       "      <th>f_h_fin</th>\n",
       "      <th>ph_1</th>\n",
       "      <th>ph_2</th>\n",
       "      <th>ph_3</th>\n",
       "      <th>turb_1</th>\n",
       "      <th>turb_2</th>\n",
       "      <th>turb_3</th>\n",
       "      <th>usada_1</th>\n",
       "      <th>usada_2</th>\n",
       "      <th>usada_3</th>\n",
       "      <th>duracion</th>\n",
       "    </tr>\n",
       "  </thead>\n",
       "  <tbody>\n",
       "    <tr>\n",
       "      <th>80</th>\n",
       "      <td>23108</td>\n",
       "      <td>2023-11-04 00:30:00</td>\n",
       "      <td>2023-11-05 09:45:00</td>\n",
       "      <td>NaN</td>\n",
       "      <td>5.416</td>\n",
       "      <td>5.4</td>\n",
       "      <td>NaN</td>\n",
       "      <td>35.6</td>\n",
       "      <td>34.4</td>\n",
       "      <td>0</td>\n",
       "      <td>1</td>\n",
       "      <td>1</td>\n",
       "      <td>1 days 09:15:00</td>\n",
       "    </tr>\n",
       "    <tr>\n",
       "      <th>81</th>\n",
       "      <td>23109</td>\n",
       "      <td>2023-11-04 00:30:00</td>\n",
       "      <td>2023-11-05 09:45:00</td>\n",
       "      <td>NaN</td>\n",
       "      <td>5.416</td>\n",
       "      <td>5.4</td>\n",
       "      <td>NaN</td>\n",
       "      <td>35.6</td>\n",
       "      <td>34.4</td>\n",
       "      <td>0</td>\n",
       "      <td>1</td>\n",
       "      <td>1</td>\n",
       "      <td>1 days 09:15:00</td>\n",
       "    </tr>\n",
       "  </tbody>\n",
       "</table>\n",
       "</div>"
      ],
      "text/plain": [
       "     Lote          f_h_inicio             f_h_fin  ph_1   ph_2  ph_3  turb_1  \\\n",
       "80  23108 2023-11-04 00:30:00 2023-11-05 09:45:00   NaN  5.416   5.4     NaN   \n",
       "81  23109 2023-11-04 00:30:00 2023-11-05 09:45:00   NaN  5.416   5.4     NaN   \n",
       "\n",
       "    turb_2  turb_3  usada_1  usada_2  usada_3        duracion  \n",
       "80    35.6    34.4        0        1        1 1 days 09:15:00  \n",
       "81    35.6    34.4        0        1        1 1 days 09:15:00  "
      ]
     },
     "execution_count": 34,
     "metadata": {},
     "output_type": "execute_result"
    }
   ],
   "source": [
    "# ph_1 null values\n",
    "pino[pino['ph_1'].isnull()]"
   ]
  },
  {
   "cell_type": "code",
   "execution_count": 35,
   "metadata": {},
   "outputs": [
    {
     "data": {
      "text/html": [
       "<div>\n",
       "<style scoped>\n",
       "    .dataframe tbody tr th:only-of-type {\n",
       "        vertical-align: middle;\n",
       "    }\n",
       "\n",
       "    .dataframe tbody tr th {\n",
       "        vertical-align: top;\n",
       "    }\n",
       "\n",
       "    .dataframe thead th {\n",
       "        text-align: right;\n",
       "    }\n",
       "</style>\n",
       "<table border=\"1\" class=\"dataframe\">\n",
       "  <thead>\n",
       "    <tr style=\"text-align: right;\">\n",
       "      <th></th>\n",
       "      <th>Lote</th>\n",
       "      <th>f_h_inicio</th>\n",
       "      <th>f_h_fin</th>\n",
       "      <th>ph_1</th>\n",
       "      <th>ph_2</th>\n",
       "      <th>ph_3</th>\n",
       "      <th>turb_1</th>\n",
       "      <th>turb_2</th>\n",
       "      <th>turb_3</th>\n",
       "      <th>usada_1</th>\n",
       "      <th>usada_2</th>\n",
       "      <th>usada_3</th>\n",
       "      <th>duracion</th>\n",
       "    </tr>\n",
       "  </thead>\n",
       "  <tbody>\n",
       "  </tbody>\n",
       "</table>\n",
       "</div>"
      ],
      "text/plain": [
       "Empty DataFrame\n",
       "Columns: [Lote, f_h_inicio, f_h_fin, ph_1, ph_2, ph_3, turb_1, turb_2, turb_3, usada_1, usada_2, usada_3, duracion]\n",
       "Index: []"
      ]
     },
     "execution_count": 35,
     "metadata": {},
     "output_type": "execute_result"
    }
   ],
   "source": [
    "# whenever ph_1 is null, turb_1 is also null and viceversa\n",
    "pino[pino['ph_1'].isnull() & pino['turb_1'].notnull()]"
   ]
  },
  {
   "cell_type": "code",
   "execution_count": 36,
   "metadata": {},
   "outputs": [
    {
     "data": {
      "text/html": [
       "<div>\n",
       "<style scoped>\n",
       "    .dataframe tbody tr th:only-of-type {\n",
       "        vertical-align: middle;\n",
       "    }\n",
       "\n",
       "    .dataframe tbody tr th {\n",
       "        vertical-align: top;\n",
       "    }\n",
       "\n",
       "    .dataframe thead th {\n",
       "        text-align: right;\n",
       "    }\n",
       "</style>\n",
       "<table border=\"1\" class=\"dataframe\">\n",
       "  <thead>\n",
       "    <tr style=\"text-align: right;\">\n",
       "      <th></th>\n",
       "      <th>Lote</th>\n",
       "      <th>f_h_inicio</th>\n",
       "      <th>f_h_fin</th>\n",
       "      <th>ph_1</th>\n",
       "      <th>ph_2</th>\n",
       "      <th>ph_3</th>\n",
       "      <th>turb_1</th>\n",
       "      <th>turb_2</th>\n",
       "      <th>turb_3</th>\n",
       "      <th>usada_1</th>\n",
       "      <th>usada_2</th>\n",
       "      <th>usada_3</th>\n",
       "      <th>duracion</th>\n",
       "    </tr>\n",
       "  </thead>\n",
       "  <tbody>\n",
       "  </tbody>\n",
       "</table>\n",
       "</div>"
      ],
      "text/plain": [
       "Empty DataFrame\n",
       "Columns: [Lote, f_h_inicio, f_h_fin, ph_1, ph_2, ph_3, turb_1, turb_2, turb_3, usada_1, usada_2, usada_3, duracion]\n",
       "Index: []"
      ]
     },
     "execution_count": 36,
     "metadata": {},
     "output_type": "execute_result"
    }
   ],
   "source": [
    "# whenever ph_1 is null, turb_1 is also null and viceversa\n",
    "pino[pino['ph_1'].notnull() & pino['turb_1'].isnull()]"
   ]
  },
  {
   "cell_type": "code",
   "execution_count": 37,
   "metadata": {},
   "outputs": [
    {
     "data": {
      "text/html": [
       "<div>\n",
       "<style scoped>\n",
       "    .dataframe tbody tr th:only-of-type {\n",
       "        vertical-align: middle;\n",
       "    }\n",
       "\n",
       "    .dataframe tbody tr th {\n",
       "        vertical-align: top;\n",
       "    }\n",
       "\n",
       "    .dataframe thead th {\n",
       "        text-align: right;\n",
       "    }\n",
       "</style>\n",
       "<table border=\"1\" class=\"dataframe\">\n",
       "  <thead>\n",
       "    <tr style=\"text-align: right;\">\n",
       "      <th></th>\n",
       "      <th>Lote</th>\n",
       "      <th>f_h_inicio</th>\n",
       "      <th>f_h_fin</th>\n",
       "      <th>ph_1</th>\n",
       "      <th>ph_2</th>\n",
       "      <th>ph_3</th>\n",
       "      <th>turb_1</th>\n",
       "      <th>turb_2</th>\n",
       "      <th>turb_3</th>\n",
       "      <th>usada_1</th>\n",
       "      <th>usada_2</th>\n",
       "      <th>usada_3</th>\n",
       "      <th>duracion</th>\n",
       "    </tr>\n",
       "  </thead>\n",
       "  <tbody>\n",
       "  </tbody>\n",
       "</table>\n",
       "</div>"
      ],
      "text/plain": [
       "Empty DataFrame\n",
       "Columns: [Lote, f_h_inicio, f_h_fin, ph_1, ph_2, ph_3, turb_1, turb_2, turb_3, usada_1, usada_2, usada_3, duracion]\n",
       "Index: []"
      ]
     },
     "execution_count": 37,
     "metadata": {},
     "output_type": "execute_result"
    }
   ],
   "source": [
    "# whenever ph_1 or turb_1 is null, usada_1 is 0\n",
    "pino[(pino['ph_1'].isnull() | pino['turb_1'].isnull())  & pino['usada_1'] != 0]"
   ]
  },
  {
   "cell_type": "markdown",
   "metadata": {},
   "source": [
    "### Usadas\n"
   ]
  },
  {
   "cell_type": "code",
   "execution_count": 38,
   "metadata": {},
   "outputs": [
    {
     "name": "stdout",
     "output_type": "stream",
     "text": [
      "[1 0]\n",
      "[1 0]\n",
      "[0 1]\n"
     ]
    }
   ],
   "source": [
    "# Lineas usadas, are they all 1 values\n",
    "print(pino['usada_1'].unique())\n",
    "print(pino['usada_2'].unique())\n",
    "print(pino['usada_3'].unique())\n"
   ]
  },
  {
   "cell_type": "code",
   "execution_count": 39,
   "metadata": {},
   "outputs": [
    {
     "data": {
      "text/html": [
       "<div>\n",
       "<style scoped>\n",
       "    .dataframe tbody tr th:only-of-type {\n",
       "        vertical-align: middle;\n",
       "    }\n",
       "\n",
       "    .dataframe tbody tr th {\n",
       "        vertical-align: top;\n",
       "    }\n",
       "\n",
       "    .dataframe thead th {\n",
       "        text-align: right;\n",
       "    }\n",
       "</style>\n",
       "<table border=\"1\" class=\"dataframe\">\n",
       "  <thead>\n",
       "    <tr style=\"text-align: right;\">\n",
       "      <th></th>\n",
       "      <th>Lote</th>\n",
       "      <th>f_h_inicio</th>\n",
       "      <th>f_h_fin</th>\n",
       "      <th>ph_1</th>\n",
       "      <th>ph_2</th>\n",
       "      <th>ph_3</th>\n",
       "      <th>turb_1</th>\n",
       "      <th>turb_2</th>\n",
       "      <th>turb_3</th>\n",
       "      <th>usada_1</th>\n",
       "      <th>usada_2</th>\n",
       "      <th>usada_3</th>\n",
       "      <th>duracion</th>\n",
       "    </tr>\n",
       "  </thead>\n",
       "  <tbody>\n",
       "  </tbody>\n",
       "</table>\n",
       "</div>"
      ],
      "text/plain": [
       "Empty DataFrame\n",
       "Columns: [Lote, f_h_inicio, f_h_fin, ph_1, ph_2, ph_3, turb_1, turb_2, turb_3, usada_1, usada_2, usada_3, duracion]\n",
       "Index: []"
      ]
     },
     "execution_count": 39,
     "metadata": {},
     "output_type": "execute_result"
    }
   ],
   "source": [
    "# Are there rows with all 0 values?\n",
    "pino[(pino['usada_1'] == 0) & (pino['usada_2'] == 0) & (pino['usada_3'] == 0)]"
   ]
  },
  {
   "cell_type": "code",
   "execution_count": 40,
   "metadata": {},
   "outputs": [
    {
     "data": {
      "text/html": [
       "<div>\n",
       "<style scoped>\n",
       "    .dataframe tbody tr th:only-of-type {\n",
       "        vertical-align: middle;\n",
       "    }\n",
       "\n",
       "    .dataframe tbody tr th {\n",
       "        vertical-align: top;\n",
       "    }\n",
       "\n",
       "    .dataframe thead th {\n",
       "        text-align: right;\n",
       "    }\n",
       "</style>\n",
       "<table border=\"1\" class=\"dataframe\">\n",
       "  <thead>\n",
       "    <tr style=\"text-align: right;\">\n",
       "      <th></th>\n",
       "      <th>Lote</th>\n",
       "      <th>f_h_inicio</th>\n",
       "      <th>f_h_fin</th>\n",
       "      <th>ph_1</th>\n",
       "      <th>ph_2</th>\n",
       "      <th>ph_3</th>\n",
       "      <th>turb_1</th>\n",
       "      <th>turb_2</th>\n",
       "      <th>turb_3</th>\n",
       "      <th>usada_1</th>\n",
       "      <th>usada_2</th>\n",
       "      <th>usada_3</th>\n",
       "      <th>duracion</th>\n",
       "    </tr>\n",
       "  </thead>\n",
       "  <tbody>\n",
       "  </tbody>\n",
       "</table>\n",
       "</div>"
      ],
      "text/plain": [
       "Empty DataFrame\n",
       "Columns: [Lote, f_h_inicio, f_h_fin, ph_1, ph_2, ph_3, turb_1, turb_2, turb_3, usada_1, usada_2, usada_3, duracion]\n",
       "Index: []"
      ]
     },
     "execution_count": 40,
     "metadata": {},
     "output_type": "execute_result"
    }
   ],
   "source": [
    "# Are there rows with all 1 values?\n",
    "pino[(pino['usada_1'] == 1) & (pino['usada_2'] == 1) & (pino['usada_3'] == 1)]"
   ]
  },
  {
   "cell_type": "code",
   "execution_count": 41,
   "metadata": {},
   "outputs": [
    {
     "data": {
      "text/html": [
       "<div>\n",
       "<style scoped>\n",
       "    .dataframe tbody tr th:only-of-type {\n",
       "        vertical-align: middle;\n",
       "    }\n",
       "\n",
       "    .dataframe tbody tr th {\n",
       "        vertical-align: top;\n",
       "    }\n",
       "\n",
       "    .dataframe thead th {\n",
       "        text-align: right;\n",
       "    }\n",
       "</style>\n",
       "<table border=\"1\" class=\"dataframe\">\n",
       "  <thead>\n",
       "    <tr style=\"text-align: right;\">\n",
       "      <th></th>\n",
       "      <th>Lote</th>\n",
       "      <th>f_h_inicio</th>\n",
       "      <th>f_h_fin</th>\n",
       "      <th>ph_1</th>\n",
       "      <th>ph_2</th>\n",
       "      <th>ph_3</th>\n",
       "      <th>turb_1</th>\n",
       "      <th>turb_2</th>\n",
       "      <th>turb_3</th>\n",
       "      <th>usada_1</th>\n",
       "      <th>usada_2</th>\n",
       "      <th>usada_3</th>\n",
       "      <th>duracion</th>\n",
       "    </tr>\n",
       "  </thead>\n",
       "  <tbody>\n",
       "    <tr>\n",
       "      <th>49</th>\n",
       "      <td>23075</td>\n",
       "      <td>2023-07-29 05:00:00</td>\n",
       "      <td>2023-07-31 07:15:00</td>\n",
       "      <td>5.464</td>\n",
       "      <td>NaN</td>\n",
       "      <td>NaN</td>\n",
       "      <td>42.56</td>\n",
       "      <td>NaN</td>\n",
       "      <td>NaN</td>\n",
       "      <td>1</td>\n",
       "      <td>0</td>\n",
       "      <td>0</td>\n",
       "      <td>2 days 02:15:00</td>\n",
       "    </tr>\n",
       "    <tr>\n",
       "      <th>51</th>\n",
       "      <td>23076</td>\n",
       "      <td>2023-07-30 05:00:00</td>\n",
       "      <td>2023-07-31 07:00:00</td>\n",
       "      <td>5.376</td>\n",
       "      <td>NaN</td>\n",
       "      <td>NaN</td>\n",
       "      <td>34.88</td>\n",
       "      <td>NaN</td>\n",
       "      <td>NaN</td>\n",
       "      <td>1</td>\n",
       "      <td>0</td>\n",
       "      <td>0</td>\n",
       "      <td>1 days 02:00:00</td>\n",
       "    </tr>\n",
       "    <tr>\n",
       "      <th>71</th>\n",
       "      <td>23097</td>\n",
       "      <td>2023-10-15 00:30:00</td>\n",
       "      <td>2023-10-16 07:30:00</td>\n",
       "      <td>5.352</td>\n",
       "      <td>NaN</td>\n",
       "      <td>NaN</td>\n",
       "      <td>34.08</td>\n",
       "      <td>NaN</td>\n",
       "      <td>NaN</td>\n",
       "      <td>1</td>\n",
       "      <td>0</td>\n",
       "      <td>0</td>\n",
       "      <td>1 days 07:00:00</td>\n",
       "    </tr>\n",
       "    <tr>\n",
       "      <th>91</th>\n",
       "      <td>23120</td>\n",
       "      <td>2023-11-19 00:30:00</td>\n",
       "      <td>2023-11-20 07:45:00</td>\n",
       "      <td>5.320</td>\n",
       "      <td>5.384</td>\n",
       "      <td>NaN</td>\n",
       "      <td>32.16</td>\n",
       "      <td>31.44</td>\n",
       "      <td>NaN</td>\n",
       "      <td>1</td>\n",
       "      <td>0</td>\n",
       "      <td>0</td>\n",
       "      <td>1 days 07:15:00</td>\n",
       "    </tr>\n",
       "    <tr>\n",
       "      <th>92</th>\n",
       "      <td>23121</td>\n",
       "      <td>2023-11-19 00:30:00</td>\n",
       "      <td>2023-11-20 07:50:00</td>\n",
       "      <td>5.232</td>\n",
       "      <td>5.408</td>\n",
       "      <td>NaN</td>\n",
       "      <td>28.72</td>\n",
       "      <td>25.76</td>\n",
       "      <td>NaN</td>\n",
       "      <td>1</td>\n",
       "      <td>0</td>\n",
       "      <td>0</td>\n",
       "      <td>1 days 07:20:00</td>\n",
       "    </tr>\n",
       "    <tr>\n",
       "      <th>97</th>\n",
       "      <td>23131</td>\n",
       "      <td>2023-12-02 00:30:00</td>\n",
       "      <td>2023-12-03 06:55:00</td>\n",
       "      <td>5.376</td>\n",
       "      <td>5.424</td>\n",
       "      <td>NaN</td>\n",
       "      <td>35.12</td>\n",
       "      <td>35.52</td>\n",
       "      <td>NaN</td>\n",
       "      <td>1</td>\n",
       "      <td>0</td>\n",
       "      <td>0</td>\n",
       "      <td>1 days 06:25:00</td>\n",
       "    </tr>\n",
       "    <tr>\n",
       "      <th>107</th>\n",
       "      <td>24005</td>\n",
       "      <td>2024-01-18 00:30:00</td>\n",
       "      <td>2024-01-19 07:15:00</td>\n",
       "      <td>5.360</td>\n",
       "      <td>5.440</td>\n",
       "      <td>NaN</td>\n",
       "      <td>28.96</td>\n",
       "      <td>26.48</td>\n",
       "      <td>NaN</td>\n",
       "      <td>1</td>\n",
       "      <td>0</td>\n",
       "      <td>0</td>\n",
       "      <td>1 days 06:45:00</td>\n",
       "    </tr>\n",
       "    <tr>\n",
       "      <th>116</th>\n",
       "      <td>24021</td>\n",
       "      <td>2024-02-01 00:30:00</td>\n",
       "      <td>2024-02-02 07:10:00</td>\n",
       "      <td>5.280</td>\n",
       "      <td>5.440</td>\n",
       "      <td>NaN</td>\n",
       "      <td>37.68</td>\n",
       "      <td>26.72</td>\n",
       "      <td>NaN</td>\n",
       "      <td>1</td>\n",
       "      <td>0</td>\n",
       "      <td>0</td>\n",
       "      <td>1 days 06:40:00</td>\n",
       "    </tr>\n",
       "    <tr>\n",
       "      <th>158</th>\n",
       "      <td>24098</td>\n",
       "      <td>2024-06-13 00:30:00</td>\n",
       "      <td>2024-06-14 08:00:00</td>\n",
       "      <td>5.672</td>\n",
       "      <td>5.608</td>\n",
       "      <td>5.608</td>\n",
       "      <td>23.04</td>\n",
       "      <td>22.56</td>\n",
       "      <td>20.96</td>\n",
       "      <td>1</td>\n",
       "      <td>0</td>\n",
       "      <td>0</td>\n",
       "      <td>1 days 07:30:00</td>\n",
       "    </tr>\n",
       "  </tbody>\n",
       "</table>\n",
       "</div>"
      ],
      "text/plain": [
       "      Lote          f_h_inicio             f_h_fin   ph_1   ph_2   ph_3  \\\n",
       "49   23075 2023-07-29 05:00:00 2023-07-31 07:15:00  5.464    NaN    NaN   \n",
       "51   23076 2023-07-30 05:00:00 2023-07-31 07:00:00  5.376    NaN    NaN   \n",
       "71   23097 2023-10-15 00:30:00 2023-10-16 07:30:00  5.352    NaN    NaN   \n",
       "91   23120 2023-11-19 00:30:00 2023-11-20 07:45:00  5.320  5.384    NaN   \n",
       "92   23121 2023-11-19 00:30:00 2023-11-20 07:50:00  5.232  5.408    NaN   \n",
       "97   23131 2023-12-02 00:30:00 2023-12-03 06:55:00  5.376  5.424    NaN   \n",
       "107  24005 2024-01-18 00:30:00 2024-01-19 07:15:00  5.360  5.440    NaN   \n",
       "116  24021 2024-02-01 00:30:00 2024-02-02 07:10:00  5.280  5.440    NaN   \n",
       "158  24098 2024-06-13 00:30:00 2024-06-14 08:00:00  5.672  5.608  5.608   \n",
       "\n",
       "     turb_1  turb_2  turb_3  usada_1  usada_2  usada_3        duracion  \n",
       "49    42.56     NaN     NaN        1        0        0 2 days 02:15:00  \n",
       "51    34.88     NaN     NaN        1        0        0 1 days 02:00:00  \n",
       "71    34.08     NaN     NaN        1        0        0 1 days 07:00:00  \n",
       "91    32.16   31.44     NaN        1        0        0 1 days 07:15:00  \n",
       "92    28.72   25.76     NaN        1        0        0 1 days 07:20:00  \n",
       "97    35.12   35.52     NaN        1        0        0 1 days 06:25:00  \n",
       "107   28.96   26.48     NaN        1        0        0 1 days 06:45:00  \n",
       "116   37.68   26.72     NaN        1        0        0 1 days 06:40:00  \n",
       "158   23.04   22.56   20.96        1        0        0 1 days 07:30:00  "
      ]
     },
     "execution_count": 41,
     "metadata": {},
     "output_type": "execute_result"
    }
   ],
   "source": [
    "# Are there rows with only 1 value?\n",
    "pino[(pino['usada_1'] == 1) & (pino['usada_2'] == 0) & (pino['usada_3'] == 0)]"
   ]
  },
  {
   "cell_type": "code",
   "execution_count": 42,
   "metadata": {},
   "outputs": [
    {
     "data": {
      "text/html": [
       "<div>\n",
       "<style scoped>\n",
       "    .dataframe tbody tr th:only-of-type {\n",
       "        vertical-align: middle;\n",
       "    }\n",
       "\n",
       "    .dataframe tbody tr th {\n",
       "        vertical-align: top;\n",
       "    }\n",
       "\n",
       "    .dataframe thead th {\n",
       "        text-align: right;\n",
       "    }\n",
       "</style>\n",
       "<table border=\"1\" class=\"dataframe\">\n",
       "  <thead>\n",
       "    <tr style=\"text-align: right;\">\n",
       "      <th></th>\n",
       "      <th>Lote</th>\n",
       "      <th>f_h_inicio</th>\n",
       "      <th>f_h_fin</th>\n",
       "      <th>ph_1</th>\n",
       "      <th>ph_2</th>\n",
       "      <th>ph_3</th>\n",
       "      <th>turb_1</th>\n",
       "      <th>turb_2</th>\n",
       "      <th>turb_3</th>\n",
       "      <th>usada_1</th>\n",
       "      <th>usada_2</th>\n",
       "      <th>usada_3</th>\n",
       "      <th>duracion</th>\n",
       "    </tr>\n",
       "  </thead>\n",
       "  <tbody>\n",
       "    <tr>\n",
       "      <th>19</th>\n",
       "      <td>23042</td>\n",
       "      <td>2023-05-29 05:00:00</td>\n",
       "      <td>2023-05-30 07:30:00</td>\n",
       "      <td>5.512</td>\n",
       "      <td>5.472</td>\n",
       "      <td>NaN</td>\n",
       "      <td>24.80</td>\n",
       "      <td>27.12</td>\n",
       "      <td>NaN</td>\n",
       "      <td>0</td>\n",
       "      <td>1</td>\n",
       "      <td>0</td>\n",
       "      <td>1 days 02:30:00</td>\n",
       "    </tr>\n",
       "    <tr>\n",
       "      <th>78</th>\n",
       "      <td>23104</td>\n",
       "      <td>2023-10-29 00:30:00</td>\n",
       "      <td>2023-10-30 09:45:00</td>\n",
       "      <td>5.376</td>\n",
       "      <td>5.336</td>\n",
       "      <td>NaN</td>\n",
       "      <td>32.16</td>\n",
       "      <td>36.08</td>\n",
       "      <td>NaN</td>\n",
       "      <td>0</td>\n",
       "      <td>1</td>\n",
       "      <td>0</td>\n",
       "      <td>1 days 09:15:00</td>\n",
       "    </tr>\n",
       "    <tr>\n",
       "      <th>86</th>\n",
       "      <td>P23462</td>\n",
       "      <td>2023-11-12 00:30:00</td>\n",
       "      <td>2023-11-13 07:25:00</td>\n",
       "      <td>5.432</td>\n",
       "      <td>5.352</td>\n",
       "      <td>NaN</td>\n",
       "      <td>28.64</td>\n",
       "      <td>26.80</td>\n",
       "      <td>NaN</td>\n",
       "      <td>0</td>\n",
       "      <td>1</td>\n",
       "      <td>0</td>\n",
       "      <td>1 days 06:55:00</td>\n",
       "    </tr>\n",
       "    <tr>\n",
       "      <th>114</th>\n",
       "      <td>24019</td>\n",
       "      <td>2024-02-01 00:30:00</td>\n",
       "      <td>2024-02-02 07:20:00</td>\n",
       "      <td>5.520</td>\n",
       "      <td>5.360</td>\n",
       "      <td>NaN</td>\n",
       "      <td>35.20</td>\n",
       "      <td>37.04</td>\n",
       "      <td>NaN</td>\n",
       "      <td>0</td>\n",
       "      <td>1</td>\n",
       "      <td>0</td>\n",
       "      <td>1 days 06:50:00</td>\n",
       "    </tr>\n",
       "    <tr>\n",
       "      <th>119</th>\n",
       "      <td>24031</td>\n",
       "      <td>2024-02-15 00:30:00</td>\n",
       "      <td>2024-02-16 07:30:00</td>\n",
       "      <td>5.768</td>\n",
       "      <td>5.488</td>\n",
       "      <td>NaN</td>\n",
       "      <td>24.48</td>\n",
       "      <td>32.96</td>\n",
       "      <td>NaN</td>\n",
       "      <td>0</td>\n",
       "      <td>1</td>\n",
       "      <td>0</td>\n",
       "      <td>1 days 07:00:00</td>\n",
       "    </tr>\n",
       "    <tr>\n",
       "      <th>120</th>\n",
       "      <td>24035</td>\n",
       "      <td>2024-02-29 00:30:00</td>\n",
       "      <td>2024-03-01 07:00:00</td>\n",
       "      <td>5.440</td>\n",
       "      <td>5.448</td>\n",
       "      <td>5.512</td>\n",
       "      <td>26.88</td>\n",
       "      <td>31.12</td>\n",
       "      <td>28.8</td>\n",
       "      <td>0</td>\n",
       "      <td>1</td>\n",
       "      <td>0</td>\n",
       "      <td>1 days 06:30:00</td>\n",
       "    </tr>\n",
       "    <tr>\n",
       "      <th>121</th>\n",
       "      <td>24036</td>\n",
       "      <td>2024-02-29 00:30:00</td>\n",
       "      <td>2024-03-01 07:00:00</td>\n",
       "      <td>5.440</td>\n",
       "      <td>5.448</td>\n",
       "      <td>5.512</td>\n",
       "      <td>26.88</td>\n",
       "      <td>31.12</td>\n",
       "      <td>28.8</td>\n",
       "      <td>0</td>\n",
       "      <td>1</td>\n",
       "      <td>0</td>\n",
       "      <td>1 days 06:30:00</td>\n",
       "    </tr>\n",
       "    <tr>\n",
       "      <th>140</th>\n",
       "      <td>24071</td>\n",
       "      <td>2024-04-28 00:30:00</td>\n",
       "      <td>2024-04-29 07:45:00</td>\n",
       "      <td>6.280</td>\n",
       "      <td>5.488</td>\n",
       "      <td>NaN</td>\n",
       "      <td>27.36</td>\n",
       "      <td>24.88</td>\n",
       "      <td>NaN</td>\n",
       "      <td>0</td>\n",
       "      <td>1</td>\n",
       "      <td>0</td>\n",
       "      <td>1 days 07:15:00</td>\n",
       "    </tr>\n",
       "    <tr>\n",
       "      <th>141</th>\n",
       "      <td>24072</td>\n",
       "      <td>2024-05-12 00:30:00</td>\n",
       "      <td>2024-05-13 08:16:00</td>\n",
       "      <td>5.424</td>\n",
       "      <td>5.424</td>\n",
       "      <td>NaN</td>\n",
       "      <td>25.36</td>\n",
       "      <td>30.96</td>\n",
       "      <td>NaN</td>\n",
       "      <td>0</td>\n",
       "      <td>1</td>\n",
       "      <td>0</td>\n",
       "      <td>1 days 07:46:00</td>\n",
       "    </tr>\n",
       "  </tbody>\n",
       "</table>\n",
       "</div>"
      ],
      "text/plain": [
       "       Lote          f_h_inicio             f_h_fin   ph_1   ph_2   ph_3  \\\n",
       "19    23042 2023-05-29 05:00:00 2023-05-30 07:30:00  5.512  5.472    NaN   \n",
       "78    23104 2023-10-29 00:30:00 2023-10-30 09:45:00  5.376  5.336    NaN   \n",
       "86   P23462 2023-11-12 00:30:00 2023-11-13 07:25:00  5.432  5.352    NaN   \n",
       "114   24019 2024-02-01 00:30:00 2024-02-02 07:20:00  5.520  5.360    NaN   \n",
       "119   24031 2024-02-15 00:30:00 2024-02-16 07:30:00  5.768  5.488    NaN   \n",
       "120   24035 2024-02-29 00:30:00 2024-03-01 07:00:00  5.440  5.448  5.512   \n",
       "121   24036 2024-02-29 00:30:00 2024-03-01 07:00:00  5.440  5.448  5.512   \n",
       "140   24071 2024-04-28 00:30:00 2024-04-29 07:45:00  6.280  5.488    NaN   \n",
       "141   24072 2024-05-12 00:30:00 2024-05-13 08:16:00  5.424  5.424    NaN   \n",
       "\n",
       "     turb_1  turb_2  turb_3  usada_1  usada_2  usada_3        duracion  \n",
       "19    24.80   27.12     NaN        0        1        0 1 days 02:30:00  \n",
       "78    32.16   36.08     NaN        0        1        0 1 days 09:15:00  \n",
       "86    28.64   26.80     NaN        0        1        0 1 days 06:55:00  \n",
       "114   35.20   37.04     NaN        0        1        0 1 days 06:50:00  \n",
       "119   24.48   32.96     NaN        0        1        0 1 days 07:00:00  \n",
       "120   26.88   31.12    28.8        0        1        0 1 days 06:30:00  \n",
       "121   26.88   31.12    28.8        0        1        0 1 days 06:30:00  \n",
       "140   27.36   24.88     NaN        0        1        0 1 days 07:15:00  \n",
       "141   25.36   30.96     NaN        0        1        0 1 days 07:46:00  "
      ]
     },
     "execution_count": 42,
     "metadata": {},
     "output_type": "execute_result"
    }
   ],
   "source": [
    "# Are there rows with only 1 value?\n",
    "pino[(pino['usada_1'] == 0) & (pino['usada_2'] == 1) & (pino['usada_3'] == 0)]  "
   ]
  },
  {
   "cell_type": "code",
   "execution_count": 43,
   "metadata": {},
   "outputs": [
    {
     "data": {
      "text/html": [
       "<div>\n",
       "<style scoped>\n",
       "    .dataframe tbody tr th:only-of-type {\n",
       "        vertical-align: middle;\n",
       "    }\n",
       "\n",
       "    .dataframe tbody tr th {\n",
       "        vertical-align: top;\n",
       "    }\n",
       "\n",
       "    .dataframe thead th {\n",
       "        text-align: right;\n",
       "    }\n",
       "</style>\n",
       "<table border=\"1\" class=\"dataframe\">\n",
       "  <thead>\n",
       "    <tr style=\"text-align: right;\">\n",
       "      <th></th>\n",
       "      <th>Lote</th>\n",
       "      <th>f_h_inicio</th>\n",
       "      <th>f_h_fin</th>\n",
       "      <th>ph_1</th>\n",
       "      <th>ph_2</th>\n",
       "      <th>ph_3</th>\n",
       "      <th>turb_1</th>\n",
       "      <th>turb_2</th>\n",
       "      <th>turb_3</th>\n",
       "      <th>usada_1</th>\n",
       "      <th>usada_2</th>\n",
       "      <th>usada_3</th>\n",
       "      <th>duracion</th>\n",
       "    </tr>\n",
       "  </thead>\n",
       "  <tbody>\n",
       "  </tbody>\n",
       "</table>\n",
       "</div>"
      ],
      "text/plain": [
       "Empty DataFrame\n",
       "Columns: [Lote, f_h_inicio, f_h_fin, ph_1, ph_2, ph_3, turb_1, turb_2, turb_3, usada_1, usada_2, usada_3, duracion]\n",
       "Index: []"
      ]
     },
     "execution_count": 43,
     "metadata": {},
     "output_type": "execute_result"
    }
   ],
   "source": [
    "# Are there rows with only 1 value?\n",
    "pino[(pino['usada_1'] == 0) & (pino['usada_2'] == 0) & (pino['usada_3'] == 1)]"
   ]
  },
  {
   "cell_type": "markdown",
   "metadata": {},
   "source": [
    "## Inóculo"
   ]
  },
  {
   "cell_type": "markdown",
   "metadata": {},
   "source": [
    "### Load and anomalies check"
   ]
  },
  {
   "cell_type": "code",
   "execution_count": 44,
   "metadata": {},
   "outputs": [],
   "source": [
    "ino = pd.read_excel('../../data/raw/Fases producción v02.xlsx', sheet_name='Inóculo')"
   ]
  },
  {
   "cell_type": "code",
   "execution_count": 45,
   "metadata": {},
   "outputs": [
    {
     "name": "stdout",
     "output_type": "stream",
     "text": [
      "<class 'pandas.core.frame.DataFrame'>\n",
      "RangeIndex: 168 entries, 0 to 167\n",
      "Data columns (total 8 columns):\n",
      " #   Column                    Non-Null Count  Dtype         \n",
      "---  ------                    --------------  -----         \n",
      " 0   LOTE                      168 non-null    object        \n",
      " 1   ID bioreactor             168 non-null    int64         \n",
      " 2   Fecha/hora inicio         164 non-null    datetime64[ns]\n",
      " 3   Fecha/hora fin            164 non-null    datetime64[ns]\n",
      " 4   Volumen de cultivo        164 non-null    float64       \n",
      " 5   Turbidez inicio cultivo   162 non-null    float64       \n",
      " 6   Turbidez final culttivo   168 non-null    float64       \n",
      " 7   Viabilidad final cultivo  168 non-null    object        \n",
      "dtypes: datetime64[ns](2), float64(3), int64(1), object(2)\n",
      "memory usage: 10.6+ KB\n"
     ]
    }
   ],
   "source": [
    "ino.info()"
   ]
  },
  {
   "cell_type": "code",
   "execution_count": 46,
   "metadata": {},
   "outputs": [],
   "source": [
    "#  Rename Turbidez final culttivo to Turbidez final cultivo\n",
    "ino = ino.rename(columns={'Turbidez final culttivo': 'Turbidez final cultivo'})"
   ]
  },
  {
   "cell_type": "code",
   "execution_count": 47,
   "metadata": {},
   "outputs": [
    {
     "data": {
      "text/html": [
       "<div>\n",
       "<style scoped>\n",
       "    .dataframe tbody tr th:only-of-type {\n",
       "        vertical-align: middle;\n",
       "    }\n",
       "\n",
       "    .dataframe tbody tr th {\n",
       "        vertical-align: top;\n",
       "    }\n",
       "\n",
       "    .dataframe thead th {\n",
       "        text-align: right;\n",
       "    }\n",
       "</style>\n",
       "<table border=\"1\" class=\"dataframe\">\n",
       "  <thead>\n",
       "    <tr style=\"text-align: right;\">\n",
       "      <th></th>\n",
       "      <th>LOTE</th>\n",
       "      <th>ID bioreactor</th>\n",
       "      <th>Fecha/hora inicio</th>\n",
       "      <th>Fecha/hora fin</th>\n",
       "      <th>Volumen de cultivo</th>\n",
       "      <th>Turbidez inicio cultivo</th>\n",
       "      <th>Turbidez final cultivo</th>\n",
       "      <th>Viabilidad final cultivo</th>\n",
       "    </tr>\n",
       "  </thead>\n",
       "  <tbody>\n",
       "    <tr>\n",
       "      <th>0</th>\n",
       "      <td>23019</td>\n",
       "      <td>13171</td>\n",
       "      <td>NaT</td>\n",
       "      <td>NaT</td>\n",
       "      <td>NaN</td>\n",
       "      <td>NaN</td>\n",
       "      <td>32.80</td>\n",
       "      <td>134400000</td>\n",
       "    </tr>\n",
       "    <tr>\n",
       "      <th>1</th>\n",
       "      <td>23020</td>\n",
       "      <td>13171</td>\n",
       "      <td>NaT</td>\n",
       "      <td>NaT</td>\n",
       "      <td>NaN</td>\n",
       "      <td>NaN</td>\n",
       "      <td>32.80</td>\n",
       "      <td>134400000</td>\n",
       "    </tr>\n",
       "    <tr>\n",
       "      <th>2</th>\n",
       "      <td>23021</td>\n",
       "      <td>14618</td>\n",
       "      <td>NaT</td>\n",
       "      <td>NaT</td>\n",
       "      <td>NaN</td>\n",
       "      <td>NaN</td>\n",
       "      <td>27.84</td>\n",
       "      <td>115200000</td>\n",
       "    </tr>\n",
       "    <tr>\n",
       "      <th>3</th>\n",
       "      <td>23022</td>\n",
       "      <td>14618</td>\n",
       "      <td>NaT</td>\n",
       "      <td>NaT</td>\n",
       "      <td>NaN</td>\n",
       "      <td>NaN</td>\n",
       "      <td>27.84</td>\n",
       "      <td>115200000</td>\n",
       "    </tr>\n",
       "    <tr>\n",
       "      <th>4</th>\n",
       "      <td>23023</td>\n",
       "      <td>14618</td>\n",
       "      <td>2023-03-27 07:22:00</td>\n",
       "      <td>2023-03-28 07:29:00</td>\n",
       "      <td>155.2</td>\n",
       "      <td>18.24</td>\n",
       "      <td>31.68</td>\n",
       "      <td>106400000</td>\n",
       "    </tr>\n",
       "  </tbody>\n",
       "</table>\n",
       "</div>"
      ],
      "text/plain": [
       "    LOTE  ID bioreactor   Fecha/hora inicio      Fecha/hora fin  \\\n",
       "0  23019          13171                 NaT                 NaT   \n",
       "1  23020          13171                 NaT                 NaT   \n",
       "2  23021          14618                 NaT                 NaT   \n",
       "3  23022          14618                 NaT                 NaT   \n",
       "4  23023          14618 2023-03-27 07:22:00 2023-03-28 07:29:00   \n",
       "\n",
       "   Volumen de cultivo  Turbidez inicio cultivo  Turbidez final cultivo  \\\n",
       "0                 NaN                      NaN                   32.80   \n",
       "1                 NaN                      NaN                   32.80   \n",
       "2                 NaN                      NaN                   27.84   \n",
       "3                 NaN                      NaN                   27.84   \n",
       "4               155.2                    18.24                   31.68   \n",
       "\n",
       "  Viabilidad final cultivo  \n",
       "0                134400000  \n",
       "1                134400000  \n",
       "2                115200000  \n",
       "3                115200000  \n",
       "4                106400000  "
      ]
     },
     "execution_count": 47,
     "metadata": {},
     "output_type": "execute_result"
    }
   ],
   "source": [
    "ino.head()"
   ]
  },
  {
   "cell_type": "markdown",
   "metadata": {},
   "source": [
    "### Duplicated rows"
   ]
  },
  {
   "cell_type": "code",
   "execution_count": 48,
   "metadata": {},
   "outputs": [
    {
     "name": "stdout",
     "output_type": "stream",
     "text": [
      "1\n"
     ]
    }
   ],
   "source": [
    "# Number of dupe rows\n",
    "print(ino.duplicated().sum())"
   ]
  },
  {
   "cell_type": "code",
   "execution_count": 49,
   "metadata": {},
   "outputs": [
    {
     "name": "stdout",
     "output_type": "stream",
     "text": [
      "      LOTE  ID bioreactor   Fecha/hora inicio      Fecha/hora fin  \\\n",
      "119  24020          13171 2024-01-26 07:00:00 2024-01-27 07:10:00   \n",
      "\n",
      "     Volumen de cultivo  Turbidez inicio cultivo  Turbidez final cultivo  \\\n",
      "119               160.0                    15.52                   30.64   \n",
      "\n",
      "    Viabilidad final cultivo  \n",
      "119                 95200000  \n"
     ]
    }
   ],
   "source": [
    "print(ino[ino.duplicated()])"
   ]
  },
  {
   "cell_type": "code",
   "execution_count": 50,
   "metadata": {},
   "outputs": [],
   "source": [
    "# Drop dupe row\n",
    "ino = ino.drop_duplicates()"
   ]
  },
  {
   "cell_type": "markdown",
   "metadata": {},
   "source": [
    "### Lote"
   ]
  },
  {
   "cell_type": "code",
   "execution_count": 51,
   "metadata": {},
   "outputs": [
    {
     "data": {
      "text/html": [
       "<div>\n",
       "<style scoped>\n",
       "    .dataframe tbody tr th:only-of-type {\n",
       "        vertical-align: middle;\n",
       "    }\n",
       "\n",
       "    .dataframe tbody tr th {\n",
       "        vertical-align: top;\n",
       "    }\n",
       "\n",
       "    .dataframe thead th {\n",
       "        text-align: right;\n",
       "    }\n",
       "</style>\n",
       "<table border=\"1\" class=\"dataframe\">\n",
       "  <thead>\n",
       "    <tr style=\"text-align: right;\">\n",
       "      <th></th>\n",
       "      <th>LOTE</th>\n",
       "      <th>ID bioreactor</th>\n",
       "      <th>Fecha/hora inicio</th>\n",
       "      <th>Fecha/hora fin</th>\n",
       "      <th>Volumen de cultivo</th>\n",
       "      <th>Turbidez inicio cultivo</th>\n",
       "      <th>Turbidez final cultivo</th>\n",
       "      <th>Viabilidad final cultivo</th>\n",
       "    </tr>\n",
       "  </thead>\n",
       "  <tbody>\n",
       "    <tr>\n",
       "      <th>90</th>\n",
       "      <td>P23462</td>\n",
       "      <td>13171</td>\n",
       "      <td>2023-11-13 07:25:00</td>\n",
       "      <td>2023-11-14 07:20:00</td>\n",
       "      <td>80.0</td>\n",
       "      <td>12.96</td>\n",
       "      <td>25.52</td>\n",
       "      <td>142400000</td>\n",
       "    </tr>\n",
       "  </tbody>\n",
       "</table>\n",
       "</div>"
      ],
      "text/plain": [
       "      LOTE  ID bioreactor   Fecha/hora inicio      Fecha/hora fin  \\\n",
       "90  P23462          13171 2023-11-13 07:25:00 2023-11-14 07:20:00   \n",
       "\n",
       "    Volumen de cultivo  Turbidez inicio cultivo  Turbidez final cultivo  \\\n",
       "90                80.0                    12.96                   25.52   \n",
       "\n",
       "   Viabilidad final cultivo  \n",
       "90                142400000  "
      ]
     },
     "execution_count": 51,
     "metadata": {},
     "output_type": "execute_result"
    }
   ],
   "source": [
    "# Lote is an object. Which values are non-digits?\n",
    "# First to str\n",
    "ino['LOTE'] = ino['LOTE'].astype(str)\n",
    "# Then find non-digit values\n",
    "ino[ino['LOTE'].str.contains('[\\D]')]"
   ]
  },
  {
   "cell_type": "markdown",
   "metadata": {},
   "source": [
    "#### This LOTE has already been located at other datapoints"
   ]
  },
  {
   "cell_type": "code",
   "execution_count": 52,
   "metadata": {},
   "outputs": [
    {
     "data": {
      "text/plain": [
       "LOTE\n",
       "23019    1\n",
       "23020    1\n",
       "23021    1\n",
       "23022    1\n",
       "23023    1\n",
       "        ..\n",
       "24101    1\n",
       "24103    1\n",
       "24104    1\n",
       "24105    1\n",
       "24108    1\n",
       "Name: count, Length: 167, dtype: int64"
      ]
     },
     "execution_count": 52,
     "metadata": {},
     "output_type": "execute_result"
    }
   ],
   "source": [
    "ino['LOTE'].value_counts()"
   ]
  },
  {
   "cell_type": "markdown",
   "metadata": {},
   "source": [
    "#### Remember to cross the LOTE with other datasets."
   ]
  },
  {
   "cell_type": "markdown",
   "metadata": {},
   "source": [
    "### ID bioreactor"
   ]
  },
  {
   "cell_type": "code",
   "execution_count": 53,
   "metadata": {},
   "outputs": [
    {
     "data": {
      "text/plain": [
       "np.int64(0)"
      ]
     },
     "execution_count": 53,
     "metadata": {},
     "output_type": "execute_result"
    }
   ],
   "source": [
    "# Looks like ID is loaded as int, which should mean no non-digit values\n",
    "ino['ID bioreactor'].astype(str).str.contains('[\\D]').sum()"
   ]
  },
  {
   "cell_type": "code",
   "execution_count": 54,
   "metadata": {},
   "outputs": [],
   "source": [
    "# There are also no null values but we should have this as str\n",
    "ino['ID bioreactor'] = ino['ID bioreactor'].astype(str)"
   ]
  },
  {
   "cell_type": "code",
   "execution_count": 55,
   "metadata": {},
   "outputs": [
    {
     "data": {
      "text/plain": [
       "ID bioreactor\n",
       "13171    60\n",
       "14618    55\n",
       "13172    52\n",
       "Name: count, dtype: int64"
      ]
     },
     "execution_count": 55,
     "metadata": {},
     "output_type": "execute_result"
    }
   ],
   "source": [
    "# Unique values\n",
    "ino['ID bioreactor'].value_counts()"
   ]
  },
  {
   "cell_type": "markdown",
   "metadata": {},
   "source": [
    "#### We should check unique values to cross with other data"
   ]
  },
  {
   "cell_type": "markdown",
   "metadata": {},
   "source": [
    "### Viabilidad final cultivo"
   ]
  },
  {
   "cell_type": "code",
   "execution_count": 56,
   "metadata": {},
   "outputs": [
    {
     "data": {
      "text/plain": [
       "Viabilidad final cultivo\n",
       "104000000    8\n",
       "86400000     8\n",
       "91200000     8\n",
       "83200000     7\n",
       "88000000     6\n",
       "            ..\n",
       "167200000    1\n",
       "66640000     1\n",
       "1,27+e08     1\n",
       "79760000     1\n",
       "54240000     1\n",
       "Name: count, Length: 64, dtype: int64"
      ]
     },
     "execution_count": 56,
     "metadata": {},
     "output_type": "execute_result"
    }
   ],
   "source": [
    "# Show viabilidad values\n",
    "ino['Viabilidad final cultivo'].value_counts()"
   ]
  },
  {
   "cell_type": "code",
   "execution_count": 57,
   "metadata": {},
   "outputs": [
    {
     "data": {
      "text/html": [
       "<div>\n",
       "<style scoped>\n",
       "    .dataframe tbody tr th:only-of-type {\n",
       "        vertical-align: middle;\n",
       "    }\n",
       "\n",
       "    .dataframe tbody tr th {\n",
       "        vertical-align: top;\n",
       "    }\n",
       "\n",
       "    .dataframe thead th {\n",
       "        text-align: right;\n",
       "    }\n",
       "</style>\n",
       "<table border=\"1\" class=\"dataframe\">\n",
       "  <thead>\n",
       "    <tr style=\"text-align: right;\">\n",
       "      <th></th>\n",
       "      <th>LOTE</th>\n",
       "      <th>ID bioreactor</th>\n",
       "      <th>Fecha/hora inicio</th>\n",
       "      <th>Fecha/hora fin</th>\n",
       "      <th>Volumen de cultivo</th>\n",
       "      <th>Turbidez inicio cultivo</th>\n",
       "      <th>Turbidez final cultivo</th>\n",
       "      <th>Viabilidad final cultivo</th>\n",
       "    </tr>\n",
       "  </thead>\n",
       "  <tbody>\n",
       "    <tr>\n",
       "      <th>118</th>\n",
       "      <td>24019</td>\n",
       "      <td>13171</td>\n",
       "      <td>2024-02-02 07:20:00</td>\n",
       "      <td>2024-02-03 07:00:00</td>\n",
       "      <td>80.0</td>\n",
       "      <td>14.32</td>\n",
       "      <td>26.48</td>\n",
       "      <td>1,27+e08</td>\n",
       "    </tr>\n",
       "  </tbody>\n",
       "</table>\n",
       "</div>"
      ],
      "text/plain": [
       "      LOTE ID bioreactor   Fecha/hora inicio      Fecha/hora fin  \\\n",
       "118  24019         13171 2024-02-02 07:20:00 2024-02-03 07:00:00   \n",
       "\n",
       "     Volumen de cultivo  Turbidez inicio cultivo  Turbidez final cultivo  \\\n",
       "118                80.0                    14.32                   26.48   \n",
       "\n",
       "    Viabilidad final cultivo  \n",
       "118                 1,27+e08  "
      ]
     },
     "execution_count": 57,
     "metadata": {},
     "output_type": "execute_result"
    }
   ],
   "source": [
    "# Viabilidad final cultivo is an object. Which values are non-digits?\n",
    "# First to str\n",
    "ino['Viabilidad final cultivo'] = ino['Viabilidad final cultivo'].astype(str)\n",
    "# Then find non-digit values\n",
    "ino[ino['Viabilidad final cultivo'].str.contains('[\\D]')]"
   ]
  },
  {
   "cell_type": "markdown",
   "metadata": {},
   "source": [
    "#### It looks like there is only one wrong entry"
   ]
  },
  {
   "cell_type": "code",
   "execution_count": 58,
   "metadata": {},
   "outputs": [],
   "source": [
    "# Fix the entry with LOTE == 24019 to be 1.27E+08\n",
    "ino.loc[ino['LOTE'] == '24019', 'Viabilidad final cultivo'] = '1.27E+08'\n",
    "# To float\n",
    "ino['Viabilidad final cultivo'] = ino['Viabilidad final cultivo'].astype(float)\n",
    "\n"
   ]
  },
  {
   "cell_type": "code",
   "execution_count": 59,
   "metadata": {},
   "outputs": [
    {
     "data": {
      "text/plain": [
       "118    127000000.0\n",
       "Name: Viabilidad final cultivo, dtype: float64"
      ]
     },
     "execution_count": 59,
     "metadata": {},
     "output_type": "execute_result"
    }
   ],
   "source": [
    "# Get LOTE 24019\n",
    "ino[ino['LOTE'] == '24019']['Viabilidad final cultivo']"
   ]
  },
  {
   "cell_type": "code",
   "execution_count": 60,
   "metadata": {},
   "outputs": [
    {
     "data": {
      "text/html": [
       "<div>\n",
       "<style scoped>\n",
       "    .dataframe tbody tr th:only-of-type {\n",
       "        vertical-align: middle;\n",
       "    }\n",
       "\n",
       "    .dataframe tbody tr th {\n",
       "        vertical-align: top;\n",
       "    }\n",
       "\n",
       "    .dataframe thead th {\n",
       "        text-align: right;\n",
       "    }\n",
       "</style>\n",
       "<table border=\"1\" class=\"dataframe\">\n",
       "  <thead>\n",
       "    <tr style=\"text-align: right;\">\n",
       "      <th></th>\n",
       "      <th>LOTE</th>\n",
       "      <th>ID bioreactor</th>\n",
       "      <th>Fecha/hora inicio</th>\n",
       "      <th>Fecha/hora fin</th>\n",
       "      <th>Volumen de cultivo</th>\n",
       "      <th>Turbidez inicio cultivo</th>\n",
       "      <th>Turbidez final cultivo</th>\n",
       "      <th>Viabilidad final cultivo</th>\n",
       "    </tr>\n",
       "  </thead>\n",
       "  <tbody>\n",
       "  </tbody>\n",
       "</table>\n",
       "</div>"
      ],
      "text/plain": [
       "Empty DataFrame\n",
       "Columns: [LOTE, ID bioreactor, Fecha/hora inicio, Fecha/hora fin, Volumen de cultivo, Turbidez inicio cultivo, Turbidez final cultivo, Viabilidad final cultivo]\n",
       "Index: []"
      ]
     },
     "execution_count": 60,
     "metadata": {},
     "output_type": "execute_result"
    }
   ],
   "source": [
    "# Null values for Viabilidad final cultivo\n",
    "ino[ino['Viabilidad final cultivo'].isnull()]"
   ]
  },
  {
   "cell_type": "markdown",
   "metadata": {},
   "source": [
    "### Volumen cultivo"
   ]
  },
  {
   "cell_type": "code",
   "execution_count": 61,
   "metadata": {},
   "outputs": [
    {
     "data": {
      "text/html": [
       "<div>\n",
       "<style scoped>\n",
       "    .dataframe tbody tr th:only-of-type {\n",
       "        vertical-align: middle;\n",
       "    }\n",
       "\n",
       "    .dataframe tbody tr th {\n",
       "        vertical-align: top;\n",
       "    }\n",
       "\n",
       "    .dataframe thead th {\n",
       "        text-align: right;\n",
       "    }\n",
       "</style>\n",
       "<table border=\"1\" class=\"dataframe\">\n",
       "  <thead>\n",
       "    <tr style=\"text-align: right;\">\n",
       "      <th></th>\n",
       "      <th>LOTE</th>\n",
       "      <th>ID bioreactor</th>\n",
       "      <th>Fecha/hora inicio</th>\n",
       "      <th>Fecha/hora fin</th>\n",
       "      <th>Volumen de cultivo</th>\n",
       "      <th>Turbidez inicio cultivo</th>\n",
       "      <th>Turbidez final cultivo</th>\n",
       "      <th>Viabilidad final cultivo</th>\n",
       "    </tr>\n",
       "  </thead>\n",
       "  <tbody>\n",
       "    <tr>\n",
       "      <th>0</th>\n",
       "      <td>23019</td>\n",
       "      <td>13171</td>\n",
       "      <td>NaT</td>\n",
       "      <td>NaT</td>\n",
       "      <td>NaN</td>\n",
       "      <td>NaN</td>\n",
       "      <td>32.80</td>\n",
       "      <td>134400000.0</td>\n",
       "    </tr>\n",
       "    <tr>\n",
       "      <th>1</th>\n",
       "      <td>23020</td>\n",
       "      <td>13171</td>\n",
       "      <td>NaT</td>\n",
       "      <td>NaT</td>\n",
       "      <td>NaN</td>\n",
       "      <td>NaN</td>\n",
       "      <td>32.80</td>\n",
       "      <td>134400000.0</td>\n",
       "    </tr>\n",
       "    <tr>\n",
       "      <th>2</th>\n",
       "      <td>23021</td>\n",
       "      <td>14618</td>\n",
       "      <td>NaT</td>\n",
       "      <td>NaT</td>\n",
       "      <td>NaN</td>\n",
       "      <td>NaN</td>\n",
       "      <td>27.84</td>\n",
       "      <td>115200000.0</td>\n",
       "    </tr>\n",
       "    <tr>\n",
       "      <th>3</th>\n",
       "      <td>23022</td>\n",
       "      <td>14618</td>\n",
       "      <td>NaT</td>\n",
       "      <td>NaT</td>\n",
       "      <td>NaN</td>\n",
       "      <td>NaN</td>\n",
       "      <td>27.84</td>\n",
       "      <td>115200000.0</td>\n",
       "    </tr>\n",
       "  </tbody>\n",
       "</table>\n",
       "</div>"
      ],
      "text/plain": [
       "    LOTE ID bioreactor Fecha/hora inicio Fecha/hora fin  Volumen de cultivo  \\\n",
       "0  23019         13171               NaT            NaT                 NaN   \n",
       "1  23020         13171               NaT            NaT                 NaN   \n",
       "2  23021         14618               NaT            NaT                 NaN   \n",
       "3  23022         14618               NaT            NaT                 NaN   \n",
       "\n",
       "   Turbidez inicio cultivo  Turbidez final cultivo  Viabilidad final cultivo  \n",
       "0                      NaN                   32.80               134400000.0  \n",
       "1                      NaN                   32.80               134400000.0  \n",
       "2                      NaN                   27.84               115200000.0  \n",
       "3                      NaN                   27.84               115200000.0  "
      ]
     },
     "execution_count": 61,
     "metadata": {},
     "output_type": "execute_result"
    }
   ],
   "source": [
    "# Null values for Volumen cultivo\n",
    "ino[ino['Volumen de cultivo'].isnull()]"
   ]
  },
  {
   "cell_type": "markdown",
   "metadata": {},
   "source": [
    "#### We should check if those LOTEs are in another dataset if these features end up being important"
   ]
  },
  {
   "cell_type": "code",
   "execution_count": 62,
   "metadata": {},
   "outputs": [
    {
     "data": {
      "text/plain": [
       "(np.float64(79.2), np.float64(176.0))"
      ]
     },
     "execution_count": 62,
     "metadata": {},
     "output_type": "execute_result"
    }
   ],
   "source": [
    "# Range of Volumen cultivo\n",
    "ino['Volumen de cultivo'].min(), ino['Volumen de cultivo'].max()"
   ]
  },
  {
   "cell_type": "markdown",
   "metadata": {},
   "source": [
    "### Turbidez final cultivo"
   ]
  },
  {
   "cell_type": "code",
   "execution_count": 63,
   "metadata": {},
   "outputs": [
    {
     "data": {
      "text/plain": [
       "(np.float64(17.680000000000003), np.float64(32.88))"
      ]
     },
     "execution_count": 63,
     "metadata": {},
     "output_type": "execute_result"
    }
   ],
   "source": [
    "# Range of Turbidez final cultivo\n",
    "ino['Turbidez final cultivo'].min(), ino['Turbidez final cultivo'].max()"
   ]
  },
  {
   "cell_type": "markdown",
   "metadata": {},
   "source": [
    "### Turbidez inicio cultivo"
   ]
  },
  {
   "cell_type": "code",
   "execution_count": 64,
   "metadata": {},
   "outputs": [
    {
     "data": {
      "text/html": [
       "<div>\n",
       "<style scoped>\n",
       "    .dataframe tbody tr th:only-of-type {\n",
       "        vertical-align: middle;\n",
       "    }\n",
       "\n",
       "    .dataframe tbody tr th {\n",
       "        vertical-align: top;\n",
       "    }\n",
       "\n",
       "    .dataframe thead th {\n",
       "        text-align: right;\n",
       "    }\n",
       "</style>\n",
       "<table border=\"1\" class=\"dataframe\">\n",
       "  <thead>\n",
       "    <tr style=\"text-align: right;\">\n",
       "      <th></th>\n",
       "      <th>LOTE</th>\n",
       "      <th>ID bioreactor</th>\n",
       "      <th>Fecha/hora inicio</th>\n",
       "      <th>Fecha/hora fin</th>\n",
       "      <th>Volumen de cultivo</th>\n",
       "      <th>Turbidez inicio cultivo</th>\n",
       "      <th>Turbidez final cultivo</th>\n",
       "      <th>Viabilidad final cultivo</th>\n",
       "    </tr>\n",
       "  </thead>\n",
       "  <tbody>\n",
       "    <tr>\n",
       "      <th>0</th>\n",
       "      <td>23019</td>\n",
       "      <td>13171</td>\n",
       "      <td>NaT</td>\n",
       "      <td>NaT</td>\n",
       "      <td>NaN</td>\n",
       "      <td>NaN</td>\n",
       "      <td>32.80</td>\n",
       "      <td>134400000.0</td>\n",
       "    </tr>\n",
       "    <tr>\n",
       "      <th>1</th>\n",
       "      <td>23020</td>\n",
       "      <td>13171</td>\n",
       "      <td>NaT</td>\n",
       "      <td>NaT</td>\n",
       "      <td>NaN</td>\n",
       "      <td>NaN</td>\n",
       "      <td>32.80</td>\n",
       "      <td>134400000.0</td>\n",
       "    </tr>\n",
       "    <tr>\n",
       "      <th>2</th>\n",
       "      <td>23021</td>\n",
       "      <td>14618</td>\n",
       "      <td>NaT</td>\n",
       "      <td>NaT</td>\n",
       "      <td>NaN</td>\n",
       "      <td>NaN</td>\n",
       "      <td>27.84</td>\n",
       "      <td>115200000.0</td>\n",
       "    </tr>\n",
       "    <tr>\n",
       "      <th>3</th>\n",
       "      <td>23022</td>\n",
       "      <td>14618</td>\n",
       "      <td>NaT</td>\n",
       "      <td>NaT</td>\n",
       "      <td>NaN</td>\n",
       "      <td>NaN</td>\n",
       "      <td>27.84</td>\n",
       "      <td>115200000.0</td>\n",
       "    </tr>\n",
       "    <tr>\n",
       "      <th>37</th>\n",
       "      <td>23056</td>\n",
       "      <td>13171</td>\n",
       "      <td>2023-07-02 08:35:00</td>\n",
       "      <td>2023-07-03 08:35:00</td>\n",
       "      <td>168.8</td>\n",
       "      <td>NaN</td>\n",
       "      <td>27.04</td>\n",
       "      <td>112000000.0</td>\n",
       "    </tr>\n",
       "    <tr>\n",
       "      <th>38</th>\n",
       "      <td>23057</td>\n",
       "      <td>13171</td>\n",
       "      <td>2023-07-02 08:35:00</td>\n",
       "      <td>2023-07-03 08:35:00</td>\n",
       "      <td>168.8</td>\n",
       "      <td>NaN</td>\n",
       "      <td>27.04</td>\n",
       "      <td>112000000.0</td>\n",
       "    </tr>\n",
       "  </tbody>\n",
       "</table>\n",
       "</div>"
      ],
      "text/plain": [
       "     LOTE ID bioreactor   Fecha/hora inicio      Fecha/hora fin  \\\n",
       "0   23019         13171                 NaT                 NaT   \n",
       "1   23020         13171                 NaT                 NaT   \n",
       "2   23021         14618                 NaT                 NaT   \n",
       "3   23022         14618                 NaT                 NaT   \n",
       "37  23056         13171 2023-07-02 08:35:00 2023-07-03 08:35:00   \n",
       "38  23057         13171 2023-07-02 08:35:00 2023-07-03 08:35:00   \n",
       "\n",
       "    Volumen de cultivo  Turbidez inicio cultivo  Turbidez final cultivo  \\\n",
       "0                  NaN                      NaN                   32.80   \n",
       "1                  NaN                      NaN                   32.80   \n",
       "2                  NaN                      NaN                   27.84   \n",
       "3                  NaN                      NaN                   27.84   \n",
       "37               168.8                      NaN                   27.04   \n",
       "38               168.8                      NaN                   27.04   \n",
       "\n",
       "    Viabilidad final cultivo  \n",
       "0                134400000.0  \n",
       "1                134400000.0  \n",
       "2                115200000.0  \n",
       "3                115200000.0  \n",
       "37               112000000.0  \n",
       "38               112000000.0  "
      ]
     },
     "execution_count": 64,
     "metadata": {},
     "output_type": "execute_result"
    }
   ],
   "source": [
    "# Null values for Turbidez final cultivo\n",
    "ino[ino['Turbidez inicio cultivo'].isnull()]"
   ]
  },
  {
   "cell_type": "code",
   "execution_count": 65,
   "metadata": {},
   "outputs": [
    {
     "data": {
      "text/plain": [
       "(np.float64(11.2), np.float64(21.52))"
      ]
     },
     "execution_count": 65,
     "metadata": {},
     "output_type": "execute_result"
    }
   ],
   "source": [
    "# Range of Turbidez inicio cultivo\n",
    "ino['Turbidez inicio cultivo'].min(), ino['Turbidez inicio cultivo'].max()"
   ]
  },
  {
   "cell_type": "markdown",
   "metadata": {},
   "source": [
    "### Diff turbidez"
   ]
  },
  {
   "cell_type": "code",
   "execution_count": 66,
   "metadata": {},
   "outputs": [],
   "source": [
    "# Compute the difference between Turbidez final cultivo and Turbidez inicio cultivo\n",
    "ino['Turbidez_diff'] = ino['Turbidez final cultivo'] - ino['Turbidez inicio cultivo']"
   ]
  },
  {
   "cell_type": "markdown",
   "metadata": {},
   "source": [
    "### Fechas"
   ]
  },
  {
   "cell_type": "code",
   "execution_count": 67,
   "metadata": {},
   "outputs": [
    {
     "data": {
      "text/html": [
       "<div>\n",
       "<style scoped>\n",
       "    .dataframe tbody tr th:only-of-type {\n",
       "        vertical-align: middle;\n",
       "    }\n",
       "\n",
       "    .dataframe tbody tr th {\n",
       "        vertical-align: top;\n",
       "    }\n",
       "\n",
       "    .dataframe thead th {\n",
       "        text-align: right;\n",
       "    }\n",
       "</style>\n",
       "<table border=\"1\" class=\"dataframe\">\n",
       "  <thead>\n",
       "    <tr style=\"text-align: right;\">\n",
       "      <th></th>\n",
       "      <th>LOTE</th>\n",
       "      <th>ID bioreactor</th>\n",
       "      <th>Fecha/hora inicio</th>\n",
       "      <th>Fecha/hora fin</th>\n",
       "      <th>Volumen de cultivo</th>\n",
       "      <th>Turbidez inicio cultivo</th>\n",
       "      <th>Turbidez final cultivo</th>\n",
       "      <th>Viabilidad final cultivo</th>\n",
       "      <th>Turbidez_diff</th>\n",
       "    </tr>\n",
       "  </thead>\n",
       "  <tbody>\n",
       "    <tr>\n",
       "      <th>0</th>\n",
       "      <td>23019</td>\n",
       "      <td>13171</td>\n",
       "      <td>NaT</td>\n",
       "      <td>NaT</td>\n",
       "      <td>NaN</td>\n",
       "      <td>NaN</td>\n",
       "      <td>32.80</td>\n",
       "      <td>134400000.0</td>\n",
       "      <td>NaN</td>\n",
       "    </tr>\n",
       "    <tr>\n",
       "      <th>1</th>\n",
       "      <td>23020</td>\n",
       "      <td>13171</td>\n",
       "      <td>NaT</td>\n",
       "      <td>NaT</td>\n",
       "      <td>NaN</td>\n",
       "      <td>NaN</td>\n",
       "      <td>32.80</td>\n",
       "      <td>134400000.0</td>\n",
       "      <td>NaN</td>\n",
       "    </tr>\n",
       "    <tr>\n",
       "      <th>2</th>\n",
       "      <td>23021</td>\n",
       "      <td>14618</td>\n",
       "      <td>NaT</td>\n",
       "      <td>NaT</td>\n",
       "      <td>NaN</td>\n",
       "      <td>NaN</td>\n",
       "      <td>27.84</td>\n",
       "      <td>115200000.0</td>\n",
       "      <td>NaN</td>\n",
       "    </tr>\n",
       "    <tr>\n",
       "      <th>3</th>\n",
       "      <td>23022</td>\n",
       "      <td>14618</td>\n",
       "      <td>NaT</td>\n",
       "      <td>NaT</td>\n",
       "      <td>NaN</td>\n",
       "      <td>NaN</td>\n",
       "      <td>27.84</td>\n",
       "      <td>115200000.0</td>\n",
       "      <td>NaN</td>\n",
       "    </tr>\n",
       "  </tbody>\n",
       "</table>\n",
       "</div>"
      ],
      "text/plain": [
       "    LOTE ID bioreactor Fecha/hora inicio Fecha/hora fin  Volumen de cultivo  \\\n",
       "0  23019         13171               NaT            NaT                 NaN   \n",
       "1  23020         13171               NaT            NaT                 NaN   \n",
       "2  23021         14618               NaT            NaT                 NaN   \n",
       "3  23022         14618               NaT            NaT                 NaN   \n",
       "\n",
       "   Turbidez inicio cultivo  Turbidez final cultivo  Viabilidad final cultivo  \\\n",
       "0                      NaN                   32.80               134400000.0   \n",
       "1                      NaN                   32.80               134400000.0   \n",
       "2                      NaN                   27.84               115200000.0   \n",
       "3                      NaN                   27.84               115200000.0   \n",
       "\n",
       "   Turbidez_diff  \n",
       "0            NaN  \n",
       "1            NaN  \n",
       "2            NaN  \n",
       "3            NaN  "
      ]
     },
     "execution_count": 67,
     "metadata": {},
     "output_type": "execute_result"
    }
   ],
   "source": [
    "## There are 4 null values for Fecha/hora inicio cultivo and they are the same for Fecha/hora fin cultivo\n",
    "ino[ino['Fecha/hora inicio'].isnull()]"
   ]
  },
  {
   "cell_type": "code",
   "execution_count": 68,
   "metadata": {},
   "outputs": [
    {
     "data": {
      "image/png": "[encoded data removed]",
      "text/plain": [
       "<Figure size 1000x500 with 1 Axes>"
      ]
     },
     "metadata": {},
     "output_type": "display_data"
    }
   ],
   "source": [
    "# Scatter plot of Fecha/hora inicio and Fecha/hora fin\n",
    "plt.figure(figsize=(10, 5))\n",
    "plt.scatter(ino['Fecha/hora inicio'], ino['Fecha/hora fin'])\n",
    "plt.xlabel('Fecha de inicio')\n",
    "plt.ylabel('Fecha de fin')\n",
    "plt.show()"
   ]
  },
  {
   "cell_type": "code",
   "execution_count": 69,
   "metadata": {},
   "outputs": [
    {
     "data": {
      "image/png": "[encoded data removed]",
      "text/plain": [
       "<Figure size 1000x500 with 1 Axes>"
      ]
     },
     "metadata": {},
     "output_type": "display_data"
    }
   ],
   "source": [
    "def plot_fechas(df, col1, col2):\n",
    "    # Scatter plot of col1 vs fecha de fin real\n",
    "    # Whenever the col1 is greater than fecha de fin real, the point will be red\n",
    "    # Whenever the col1 is less than fecha de fin real, the point will be blue\n",
    "    # If it is equal, it will be yellow\n",
    "    plt.figure(figsize=(10, 5))\n",
    "    for index, row in df.iterrows():\n",
    "        if row[col1] > row[col2]:\n",
    "            plt.scatter(row[col1], row[col2], color='red')\n",
    "        elif row[col1] < row[col2]:\n",
    "            plt.scatter(row[col1], row[col2], color='blue')\n",
    "        else:\n",
    "            plt.scatter(row[col1], row[col2], color='yellow')\n",
    "    plt.xlabel(col1)\n",
    "    plt.ylabel(col2)\n",
    "    plt.show()\n",
    "\n",
    "plot_fechas(ino, 'Fecha/hora inicio', 'Fecha/hora fin')"
   ]
  },
  {
   "cell_type": "code",
   "execution_count": 70,
   "metadata": {},
   "outputs": [
    {
     "data": {
      "text/html": [
       "<div>\n",
       "<style scoped>\n",
       "    .dataframe tbody tr th:only-of-type {\n",
       "        vertical-align: middle;\n",
       "    }\n",
       "\n",
       "    .dataframe tbody tr th {\n",
       "        vertical-align: top;\n",
       "    }\n",
       "\n",
       "    .dataframe thead th {\n",
       "        text-align: right;\n",
       "    }\n",
       "</style>\n",
       "<table border=\"1\" class=\"dataframe\">\n",
       "  <thead>\n",
       "    <tr style=\"text-align: right;\">\n",
       "      <th></th>\n",
       "      <th>LOTE</th>\n",
       "      <th>ID bioreactor</th>\n",
       "      <th>Fecha/hora inicio</th>\n",
       "      <th>Fecha/hora fin</th>\n",
       "      <th>Volumen de cultivo</th>\n",
       "      <th>Turbidez inicio cultivo</th>\n",
       "      <th>Turbidez final cultivo</th>\n",
       "      <th>Viabilidad final cultivo</th>\n",
       "      <th>Turbidez_diff</th>\n",
       "    </tr>\n",
       "  </thead>\n",
       "  <tbody>\n",
       "  </tbody>\n",
       "</table>\n",
       "</div>"
      ],
      "text/plain": [
       "Empty DataFrame\n",
       "Columns: [LOTE, ID bioreactor, Fecha/hora inicio, Fecha/hora fin, Volumen de cultivo, Turbidez inicio cultivo, Turbidez final cultivo, Viabilidad final cultivo, Turbidez_diff]\n",
       "Index: []"
      ]
     },
     "execution_count": 70,
     "metadata": {},
     "output_type": "execute_result"
    }
   ],
   "source": [
    "## Is there any date that is wrong?\n",
    "ino[ino['Fecha/hora inicio'] > ino['Fecha/hora fin']]"
   ]
  },
  {
   "cell_type": "markdown",
   "metadata": {},
   "source": [
    "### Duracion"
   ]
  },
  {
   "cell_type": "code",
   "execution_count": 71,
   "metadata": {},
   "outputs": [],
   "source": [
    "# Make new column for duration\n",
    "ino['Duracion'] = ino['Fecha/hora fin'] - ino['Fecha/hora inicio']"
   ]
  },
  {
   "cell_type": "code",
   "execution_count": 72,
   "metadata": {},
   "outputs": [
    {
     "data": {
      "text/plain": [
       "count                          163\n",
       "mean     1 days 00:27:03.680981595\n",
       "std      0 days 01:18:54.383419911\n",
       "min                0 days 22:05:00\n",
       "25%                0 days 23:50:00\n",
       "50%                1 days 00:05:00\n",
       "75%                1 days 00:51:00\n",
       "max                1 days 06:10:00\n",
       "Name: Duracion, dtype: object"
      ]
     },
     "execution_count": 72,
     "metadata": {},
     "output_type": "execute_result"
    }
   ],
   "source": [
    "ino['Duracion'].describe()"
   ]
  },
  {
   "cell_type": "markdown",
   "metadata": {},
   "source": [
    "## Cultivo final"
   ]
  },
  {
   "cell_type": "code",
   "execution_count": 73,
   "metadata": {},
   "outputs": [],
   "source": [
    "cultivo = pd.read_excel('../../data/raw/Fases producción v02.xlsx', sheet_name='Cultivo final') "
   ]
  },
  {
   "cell_type": "code",
   "execution_count": 74,
   "metadata": {},
   "outputs": [
    {
     "name": "stdout",
     "output_type": "stream",
     "text": [
      "<class 'pandas.core.frame.DataFrame'>\n",
      "RangeIndex: 152 entries, 0 to 151\n",
      "Data columns (total 15 columns):\n",
      " #   Column                        Non-Null Count  Dtype         \n",
      "---  ------                        --------------  -----         \n",
      " 0   LOTE                          152 non-null    int64         \n",
      " 1   Orden en el encadenado        152 non-null    int64         \n",
      " 2   LOTE parental                 22 non-null     float64       \n",
      " 3   ID Bioreactor                 152 non-null    int64         \n",
      " 4   Fecha/hora inicio             152 non-null    datetime64[ns]\n",
      " 5   Fecha/hora fin                152 non-null    datetime64[ns]\n",
      " 6   Volumen de inóculo utilizado  147 non-null    float64       \n",
      " 7   Turbidez inicio cultivo       152 non-null    float64       \n",
      " 8   Turbidez fin cultivo          152 non-null    float64       \n",
      " 9   Viabilidad final cultivo      152 non-null    object        \n",
      " 10  ID Centrífuga                 152 non-null    int64         \n",
      " 11  Centrifugación 1 turbidez     148 non-null    float64       \n",
      " 12  Centrifugación 2 turbidez     143 non-null    float64       \n",
      " 13  Producto 1                    152 non-null    float64       \n",
      " 14  Producto 2                    152 non-null    float64       \n",
      "dtypes: datetime64[ns](2), float64(8), int64(4), object(1)\n",
      "memory usage: 17.9+ KB\n"
     ]
    }
   ],
   "source": [
    "cultivo.info()"
   ]
  },
  {
   "cell_type": "markdown",
   "metadata": {},
   "source": [
    "### Duplicated rows"
   ]
  },
  {
   "cell_type": "code",
   "execution_count": 75,
   "metadata": {},
   "outputs": [
    {
     "name": "stdout",
     "output_type": "stream",
     "text": [
      "0\n"
     ]
    }
   ],
   "source": [
    "# Number of dupe rows\n",
    "print(cultivo.duplicated().sum())"
   ]
  },
  {
   "cell_type": "markdown",
   "metadata": {},
   "source": [
    "### LOTE"
   ]
  },
  {
   "cell_type": "code",
   "execution_count": 76,
   "metadata": {},
   "outputs": [
    {
     "data": {
      "text/plain": [
       "np.int64(0)"
      ]
     },
     "execution_count": 76,
     "metadata": {},
     "output_type": "execute_result"
    }
   ],
   "source": [
    "# LOTE is loaded as int, which likely means no non-digit values\n",
    "cultivo['LOTE'].astype(str).str.contains('[\\D]').sum()"
   ]
  },
  {
   "cell_type": "code",
   "execution_count": 77,
   "metadata": {},
   "outputs": [
    {
     "data": {
      "text/plain": [
       "LOTE\n",
       "23019    1\n",
       "23020    1\n",
       "23021    1\n",
       "23022    1\n",
       "23023    1\n",
       "        ..\n",
       "24049    1\n",
       "24050    1\n",
       "24051    1\n",
       "24052    1\n",
       "24053    1\n",
       "Name: count, Length: 152, dtype: int64"
      ]
     },
     "execution_count": 77,
     "metadata": {},
     "output_type": "execute_result"
    }
   ],
   "source": [
    "# LOTE value counts\n",
    "cultivo['LOTE'].value_counts()"
   ]
  },
  {
   "cell_type": "code",
   "execution_count": 78,
   "metadata": {},
   "outputs": [],
   "source": [
    "# LOTE should be str\n",
    "cultivo['LOTE'] = cultivo['LOTE'].astype(str)\n"
   ]
  },
  {
   "cell_type": "markdown",
   "metadata": {},
   "source": [
    "### Orden en el encadenado"
   ]
  },
  {
   "cell_type": "code",
   "execution_count": 79,
   "metadata": {},
   "outputs": [
    {
     "data": {
      "text/plain": [
       "np.int64(0)"
      ]
     },
     "execution_count": 79,
     "metadata": {},
     "output_type": "execute_result"
    }
   ],
   "source": [
    "# Orden is int, which likely means no non-digit values\n",
    "cultivo['Orden en el encadenado'].astype(str).str.contains('[\\D]').sum()"
   ]
  },
  {
   "cell_type": "code",
   "execution_count": 80,
   "metadata": {},
   "outputs": [
    {
     "data": {
      "text/plain": [
       "Orden en el encadenado\n",
       "1    127\n",
       "2     23\n",
       "3      2\n",
       "Name: count, dtype: int64"
      ]
     },
     "execution_count": 80,
     "metadata": {},
     "output_type": "execute_result"
    }
   ],
   "source": [
    "# Orden value counts\n",
    "cultivo['Orden en el encadenado'].value_counts()"
   ]
  },
  {
   "cell_type": "code",
   "execution_count": 81,
   "metadata": {},
   "outputs": [],
   "source": [
    "# To str\n",
    "cultivo['Orden en el encadenado'] = cultivo['Orden en el encadenado'].astype(str)  "
   ]
  },
  {
   "cell_type": "markdown",
   "metadata": {},
   "source": [
    "### LOTE parental"
   ]
  },
  {
   "cell_type": "code",
   "execution_count": 82,
   "metadata": {},
   "outputs": [
    {
     "data": {
      "text/plain": [
       "0 \n",
       ".0    22\n",
       "Name: count, dtype: int64"
      ]
     },
     "execution_count": 82,
     "metadata": {},
     "output_type": "execute_result"
    }
   ],
   "source": [
    "# LOTE parental is float? Find the decimals and extract them\n",
    "cultivo['LOTE parental'].astype(str).str.extract(r'(\\.\\d+)').dropna().value_counts()"
   ]
  },
  {
   "cell_type": "code",
   "execution_count": 83,
   "metadata": {},
   "outputs": [],
   "source": [
    "# It is float because int cannot be NaN. Change to str\n",
    "cultivo['LOTE parental'] = cultivo['LOTE parental'].astype(str)\n",
    "# Remove the decimals\n",
    "cultivo['LOTE parental'] = cultivo['LOTE parental'].str.extract(r'(\\d+)')\n"
   ]
  },
  {
   "cell_type": "code",
   "execution_count": 84,
   "metadata": {},
   "outputs": [
    {
     "data": {
      "text/plain": [
       "0        NaN\n",
       "1        NaN\n",
       "2        NaN\n",
       "3        NaN\n",
       "4        NaN\n",
       "       ...  \n",
       "147      NaN\n",
       "148      NaN\n",
       "149      NaN\n",
       "150    24050\n",
       "151    24051\n",
       "Name: LOTE parental, Length: 152, dtype: object"
      ]
     },
     "execution_count": 84,
     "metadata": {},
     "output_type": "execute_result"
    }
   ],
   "source": [
    "# How many null values for LOTE parental?\n",
    "cultivo['LOTE parental']"
   ]
  },
  {
   "cell_type": "code",
   "execution_count": 85,
   "metadata": {},
   "outputs": [
    {
     "name": "stdout",
     "output_type": "stream",
     "text": [
      "Null values:130 out of 152\n"
     ]
    }
   ],
   "source": [
    "# How many null values for LOTE parental?\n",
    "print('Null values:' + str(cultivo['LOTE parental'].isnull().sum()) + ' out of ' + str(len(cultivo)))"
   ]
  },
  {
   "cell_type": "markdown",
   "metadata": {},
   "source": [
    "#### This number is weird. This means 22 have a LOTE parental, but there are 25 values which have a parent?"
   ]
  },
  {
   "cell_type": "code",
   "execution_count": 86,
   "metadata": {},
   "outputs": [
    {
     "data": {
      "text/html": [
       "<div>\n",
       "<style scoped>\n",
       "    .dataframe tbody tr th:only-of-type {\n",
       "        vertical-align: middle;\n",
       "    }\n",
       "\n",
       "    .dataframe tbody tr th {\n",
       "        vertical-align: top;\n",
       "    }\n",
       "\n",
       "    .dataframe thead th {\n",
       "        text-align: right;\n",
       "    }\n",
       "</style>\n",
       "<table border=\"1\" class=\"dataframe\">\n",
       "  <thead>\n",
       "    <tr style=\"text-align: right;\">\n",
       "      <th></th>\n",
       "      <th>LOTE</th>\n",
       "      <th>Orden en el encadenado</th>\n",
       "      <th>LOTE parental</th>\n",
       "      <th>ID Bioreactor</th>\n",
       "      <th>Fecha/hora inicio</th>\n",
       "      <th>Fecha/hora fin</th>\n",
       "      <th>Volumen de inóculo utilizado</th>\n",
       "      <th>Turbidez inicio cultivo</th>\n",
       "      <th>Turbidez fin cultivo</th>\n",
       "      <th>Viabilidad final cultivo</th>\n",
       "      <th>ID Centrífuga</th>\n",
       "      <th>Centrifugación 1 turbidez</th>\n",
       "      <th>Centrifugación 2 turbidez</th>\n",
       "      <th>Producto 1</th>\n",
       "      <th>Producto 2</th>\n",
       "    </tr>\n",
       "  </thead>\n",
       "  <tbody>\n",
       "  </tbody>\n",
       "</table>\n",
       "</div>"
      ],
      "text/plain": [
       "Empty DataFrame\n",
       "Columns: [LOTE, Orden en el encadenado, LOTE parental, ID Bioreactor, Fecha/hora inicio, Fecha/hora fin, Volumen de inóculo utilizado, Turbidez inicio cultivo, Turbidez fin cultivo, Viabilidad final cultivo, ID Centrífuga, Centrifugación 1 turbidez, Centrifugación 2 turbidez, Producto 1, Producto 2]\n",
       "Index: []"
      ]
     },
     "execution_count": 86,
     "metadata": {},
     "output_type": "execute_result"
    }
   ],
   "source": [
    "# Which values for Orden en el encadenado are == 2 or == 3?\n",
    "parents = cultivo[cultivo['Orden en el encadenado'].isin([2, 3])]\n",
    "# Out of the parents, which have a null value for LOTE parental?\n",
    "parents[parents['LOTE parental'].isnull()]"
   ]
  },
  {
   "cell_type": "markdown",
   "metadata": {},
   "source": [
    "#### Could we identify which LOTE parental are they from? Probably not"
   ]
  },
  {
   "cell_type": "markdown",
   "metadata": {},
   "source": [
    "### ID Bioreactor"
   ]
  },
  {
   "cell_type": "code",
   "execution_count": 87,
   "metadata": {},
   "outputs": [
    {
     "data": {
      "text/plain": [
       "ID Bioreactor\n",
       "14616    34\n",
       "14615    30\n",
       "13170    29\n",
       "14614    27\n",
       "13169    22\n",
       "14617     9\n",
       "13189     1\n",
       "Name: count, dtype: int64"
      ]
     },
     "execution_count": 87,
     "metadata": {},
     "output_type": "execute_result"
    }
   ],
   "source": [
    "# Unique values of ID bioreactor\n",
    "cultivo['ID Bioreactor'].value_counts()"
   ]
  },
  {
   "cell_type": "markdown",
   "metadata": {},
   "source": [
    "#### Way more bioreactors used in this than the previous one."
   ]
  },
  {
   "cell_type": "code",
   "execution_count": 88,
   "metadata": {},
   "outputs": [],
   "source": [
    "# To str\n",
    "cultivo['ID Bioreactor'] = cultivo['ID Bioreactor'].astype(str)"
   ]
  },
  {
   "cell_type": "markdown",
   "metadata": {},
   "source": [
    "### Fechas\n"
   ]
  },
  {
   "cell_type": "code",
   "execution_count": 89,
   "metadata": {},
   "outputs": [
    {
     "data": {
      "text/plain": [
       "(count                              152\n",
       " mean     2023-10-07 01:19:58.421052672\n",
       " min                2023-03-21 07:30:00\n",
       " 25%                2023-07-04 07:30:00\n",
       " 50%                2023-10-24 07:00:00\n",
       " 75%                2024-01-16 16:53:45\n",
       " max                2024-03-25 13:28:00\n",
       " Name: Fecha/hora inicio, dtype: object,\n",
       " count                              152\n",
       " mean     2023-10-09 01:27:14.605263360\n",
       " min                2023-03-23 06:30:00\n",
       " 25%                2023-07-06 08:30:00\n",
       " 50%                2023-10-26 08:15:00\n",
       " 75%                2024-01-18 15:06:15\n",
       " max                2024-03-27 08:51:00\n",
       " Name: Fecha/hora fin, dtype: object)"
      ]
     },
     "execution_count": 89,
     "metadata": {},
     "output_type": "execute_result"
    }
   ],
   "source": [
    "# Fechas de inicio y fin\n",
    "cultivo['Fecha/hora inicio'].describe(), cultivo['Fecha/hora fin'].describe()"
   ]
  },
  {
   "cell_type": "code",
   "execution_count": 90,
   "metadata": {},
   "outputs": [
    {
     "data": {
      "text/html": [
       "<div>\n",
       "<style scoped>\n",
       "    .dataframe tbody tr th:only-of-type {\n",
       "        vertical-align: middle;\n",
       "    }\n",
       "\n",
       "    .dataframe tbody tr th {\n",
       "        vertical-align: top;\n",
       "    }\n",
       "\n",
       "    .dataframe thead th {\n",
       "        text-align: right;\n",
       "    }\n",
       "</style>\n",
       "<table border=\"1\" class=\"dataframe\">\n",
       "  <thead>\n",
       "    <tr style=\"text-align: right;\">\n",
       "      <th></th>\n",
       "      <th>LOTE</th>\n",
       "      <th>Orden en el encadenado</th>\n",
       "      <th>LOTE parental</th>\n",
       "      <th>ID Bioreactor</th>\n",
       "      <th>Fecha/hora inicio</th>\n",
       "      <th>Fecha/hora fin</th>\n",
       "      <th>Volumen de inóculo utilizado</th>\n",
       "      <th>Turbidez inicio cultivo</th>\n",
       "      <th>Turbidez fin cultivo</th>\n",
       "      <th>Viabilidad final cultivo</th>\n",
       "      <th>ID Centrífuga</th>\n",
       "      <th>Centrifugación 1 turbidez</th>\n",
       "      <th>Centrifugación 2 turbidez</th>\n",
       "      <th>Producto 1</th>\n",
       "      <th>Producto 2</th>\n",
       "    </tr>\n",
       "  </thead>\n",
       "  <tbody>\n",
       "  </tbody>\n",
       "</table>\n",
       "</div>"
      ],
      "text/plain": [
       "Empty DataFrame\n",
       "Columns: [LOTE, Orden en el encadenado, LOTE parental, ID Bioreactor, Fecha/hora inicio, Fecha/hora fin, Volumen de inóculo utilizado, Turbidez inicio cultivo, Turbidez fin cultivo, Viabilidad final cultivo, ID Centrífuga, Centrifugación 1 turbidez, Centrifugación 2 turbidez, Producto 1, Producto 2]\n",
       "Index: []"
      ]
     },
     "execution_count": 90,
     "metadata": {},
     "output_type": "execute_result"
    }
   ],
   "source": [
    "# Fecha de inicio > Fecha de fin\n",
    "cultivo[cultivo['Fecha/hora inicio'] > cultivo['Fecha/hora fin']]"
   ]
  },
  {
   "cell_type": "code",
   "execution_count": null,
   "metadata": {},
   "outputs": [],
   "source": []
  },
  {
   "cell_type": "markdown",
   "metadata": {},
   "source": [
    "### Duracion"
   ]
  },
  {
   "cell_type": "code",
   "execution_count": 91,
   "metadata": {},
   "outputs": [],
   "source": [
    "# Make new column for duration\n",
    "cultivo['Duracion'] = cultivo['Fecha/hora fin'] - cultivo['Fecha/hora inicio']"
   ]
  },
  {
   "cell_type": "code",
   "execution_count": 92,
   "metadata": {},
   "outputs": [
    {
     "data": {
      "text/plain": [
       "count                          152\n",
       "mean     2 days 00:07:16.184210526\n",
       "std      0 days 01:57:01.105263287\n",
       "min                1 days 18:00:00\n",
       "25%                1 days 23:30:45\n",
       "50%                2 days 00:22:30\n",
       "75%                2 days 01:15:00\n",
       "max                2 days 05:45:00\n",
       "Name: Duracion, dtype: object"
      ]
     },
     "execution_count": 92,
     "metadata": {},
     "output_type": "execute_result"
    }
   ],
   "source": [
    "cultivo['Duracion'].describe()"
   ]
  },
  {
   "cell_type": "markdown",
   "metadata": {},
   "source": []
  },
  {
   "cell_type": "markdown",
   "metadata": {},
   "source": [
    "### Volumen de inoculo utilizado"
   ]
  },
  {
   "cell_type": "code",
   "execution_count": 93,
   "metadata": {},
   "outputs": [
    {
     "data": {
      "text/plain": [
       "0    82.4\n",
       "1    80.4\n",
       "2    66.4\n",
       "3    85.6\n",
       "4    77.6\n",
       "Name: Volumen de inóculo utilizado, dtype: float64"
      ]
     },
     "execution_count": 93,
     "metadata": {},
     "output_type": "execute_result"
    }
   ],
   "source": [
    "# Volumen de inóculo utilizado\n",
    "cultivo.head()['Volumen de inóculo utilizado']"
   ]
  },
  {
   "cell_type": "code",
   "execution_count": 94,
   "metadata": {},
   "outputs": [
    {
     "data": {
      "text/plain": [
       "count    152.000000\n",
       "mean      74.416316\n",
       "std        8.940899\n",
       "min       42.800000\n",
       "25%       69.100000\n",
       "50%       74.320000\n",
       "75%       81.080000\n",
       "max       91.200000\n",
       "Name: Turbidez fin cultivo, dtype: float64"
      ]
     },
     "execution_count": 94,
     "metadata": {},
     "output_type": "execute_result"
    }
   ],
   "source": [
    "# Describe\n",
    "cultivo['Turbidez fin cultivo'].describe()"
   ]
  },
  {
   "cell_type": "code",
   "execution_count": 95,
   "metadata": {},
   "outputs": [
    {
     "data": {
      "text/html": [
       "<div>\n",
       "<style scoped>\n",
       "    .dataframe tbody tr th:only-of-type {\n",
       "        vertical-align: middle;\n",
       "    }\n",
       "\n",
       "    .dataframe tbody tr th {\n",
       "        vertical-align: top;\n",
       "    }\n",
       "\n",
       "    .dataframe thead th {\n",
       "        text-align: right;\n",
       "    }\n",
       "</style>\n",
       "<table border=\"1\" class=\"dataframe\">\n",
       "  <thead>\n",
       "    <tr style=\"text-align: right;\">\n",
       "      <th></th>\n",
       "      <th>LOTE</th>\n",
       "      <th>Orden en el encadenado</th>\n",
       "      <th>LOTE parental</th>\n",
       "      <th>ID Bioreactor</th>\n",
       "      <th>Fecha/hora inicio</th>\n",
       "      <th>Fecha/hora fin</th>\n",
       "      <th>Volumen de inóculo utilizado</th>\n",
       "      <th>Turbidez inicio cultivo</th>\n",
       "      <th>Turbidez fin cultivo</th>\n",
       "      <th>Viabilidad final cultivo</th>\n",
       "      <th>ID Centrífuga</th>\n",
       "      <th>Centrifugación 1 turbidez</th>\n",
       "      <th>Centrifugación 2 turbidez</th>\n",
       "      <th>Producto 1</th>\n",
       "      <th>Producto 2</th>\n",
       "      <th>Duracion</th>\n",
       "    </tr>\n",
       "  </thead>\n",
       "  <tbody>\n",
       "    <tr>\n",
       "      <th>32</th>\n",
       "      <td>23053</td>\n",
       "      <td>1</td>\n",
       "      <td>NaN</td>\n",
       "      <td>14616</td>\n",
       "      <td>2023-06-26 08:00:00</td>\n",
       "      <td>2023-06-28 07:30:00</td>\n",
       "      <td>NaN</td>\n",
       "      <td>16.64</td>\n",
       "      <td>72.64</td>\n",
       "      <td>167733333.333334</td>\n",
       "      <td>17825</td>\n",
       "      <td>24.48</td>\n",
       "      <td>14.56</td>\n",
       "      <td>1681.424</td>\n",
       "      <td>6.48</td>\n",
       "      <td>1 days 23:30:00</td>\n",
       "    </tr>\n",
       "    <tr>\n",
       "      <th>33</th>\n",
       "      <td>23054</td>\n",
       "      <td>1</td>\n",
       "      <td>NaN</td>\n",
       "      <td>13170</td>\n",
       "      <td>2023-06-27 08:15:00</td>\n",
       "      <td>2023-06-29 08:15:00</td>\n",
       "      <td>NaN</td>\n",
       "      <td>17.04</td>\n",
       "      <td>65.28</td>\n",
       "      <td>192800000</td>\n",
       "      <td>14246</td>\n",
       "      <td>24.16</td>\n",
       "      <td>28.88</td>\n",
       "      <td>1683.056</td>\n",
       "      <td>7.76</td>\n",
       "      <td>2 days 00:00:00</td>\n",
       "    </tr>\n",
       "    <tr>\n",
       "      <th>34</th>\n",
       "      <td>23055</td>\n",
       "      <td>1</td>\n",
       "      <td>NaN</td>\n",
       "      <td>14615</td>\n",
       "      <td>2023-06-27 08:15:00</td>\n",
       "      <td>2023-06-29 08:15:00</td>\n",
       "      <td>NaN</td>\n",
       "      <td>17.12</td>\n",
       "      <td>81.60</td>\n",
       "      <td>169066666.666666</td>\n",
       "      <td>17825</td>\n",
       "      <td>26.64</td>\n",
       "      <td>23.84</td>\n",
       "      <td>1563.008</td>\n",
       "      <td>8.08</td>\n",
       "      <td>2 days 00:00:00</td>\n",
       "    </tr>\n",
       "    <tr>\n",
       "      <th>80</th>\n",
       "      <td>23106</td>\n",
       "      <td>2</td>\n",
       "      <td>23099</td>\n",
       "      <td>13169</td>\n",
       "      <td>2023-10-25 12:30:00</td>\n",
       "      <td>2023-10-27 09:30:00</td>\n",
       "      <td>NaN</td>\n",
       "      <td>20.80</td>\n",
       "      <td>70.24</td>\n",
       "      <td>184000000</td>\n",
       "      <td>14246</td>\n",
       "      <td>27.68</td>\n",
       "      <td>26.32</td>\n",
       "      <td>1351.592</td>\n",
       "      <td>6.72</td>\n",
       "      <td>1 days 21:00:00</td>\n",
       "    </tr>\n",
       "    <tr>\n",
       "      <th>81</th>\n",
       "      <td>23107</td>\n",
       "      <td>2</td>\n",
       "      <td>23100</td>\n",
       "      <td>14614</td>\n",
       "      <td>2023-10-25 13:30:00</td>\n",
       "      <td>2023-10-27 11:30:00</td>\n",
       "      <td>NaN</td>\n",
       "      <td>23.20</td>\n",
       "      <td>71.28</td>\n",
       "      <td>163200000</td>\n",
       "      <td>17825</td>\n",
       "      <td>30.88</td>\n",
       "      <td>23.92</td>\n",
       "      <td>1965.896</td>\n",
       "      <td>7.76</td>\n",
       "      <td>1 days 22:00:00</td>\n",
       "    </tr>\n",
       "  </tbody>\n",
       "</table>\n",
       "</div>"
      ],
      "text/plain": [
       "     LOTE Orden en el encadenado LOTE parental ID Bioreactor  \\\n",
       "32  23053                      1           NaN         14616   \n",
       "33  23054                      1           NaN         13170   \n",
       "34  23055                      1           NaN         14615   \n",
       "80  23106                      2         23099         13169   \n",
       "81  23107                      2         23100         14614   \n",
       "\n",
       "     Fecha/hora inicio      Fecha/hora fin  Volumen de inóculo utilizado  \\\n",
       "32 2023-06-26 08:00:00 2023-06-28 07:30:00                           NaN   \n",
       "33 2023-06-27 08:15:00 2023-06-29 08:15:00                           NaN   \n",
       "34 2023-06-27 08:15:00 2023-06-29 08:15:00                           NaN   \n",
       "80 2023-10-25 12:30:00 2023-10-27 09:30:00                           NaN   \n",
       "81 2023-10-25 13:30:00 2023-10-27 11:30:00                           NaN   \n",
       "\n",
       "    Turbidez inicio cultivo  Turbidez fin cultivo Viabilidad final cultivo  \\\n",
       "32                    16.64                 72.64         167733333.333334   \n",
       "33                    17.04                 65.28                192800000   \n",
       "34                    17.12                 81.60         169066666.666666   \n",
       "80                    20.80                 70.24                184000000   \n",
       "81                    23.20                 71.28                163200000   \n",
       "\n",
       "    ID Centrífuga  Centrifugación 1 turbidez  Centrifugación 2 turbidez  \\\n",
       "32          17825                      24.48                      14.56   \n",
       "33          14246                      24.16                      28.88   \n",
       "34          17825                      26.64                      23.84   \n",
       "80          14246                      27.68                      26.32   \n",
       "81          17825                      30.88                      23.92   \n",
       "\n",
       "    Producto 1  Producto 2        Duracion  \n",
       "32    1681.424        6.48 1 days 23:30:00  \n",
       "33    1683.056        7.76 2 days 00:00:00  \n",
       "34    1563.008        8.08 2 days 00:00:00  \n",
       "80    1351.592        6.72 1 days 21:00:00  \n",
       "81    1965.896        7.76 1 days 22:00:00  "
      ]
     },
     "execution_count": 95,
     "metadata": {},
     "output_type": "execute_result"
    }
   ],
   "source": [
    "# Null values\n",
    "cultivo[cultivo['Volumen de inóculo utilizado'].isnull()]"
   ]
  },
  {
   "cell_type": "markdown",
   "metadata": {},
   "source": [
    "This is kinda weird that there is no value for this column but all the rest are okay\n"
   ]
  },
  {
   "cell_type": "code",
   "execution_count": 96,
   "metadata": {},
   "outputs": [
    {
     "data": {
      "text/html": [
       "<div>\n",
       "<style scoped>\n",
       "    .dataframe tbody tr th:only-of-type {\n",
       "        vertical-align: middle;\n",
       "    }\n",
       "\n",
       "    .dataframe tbody tr th {\n",
       "        vertical-align: top;\n",
       "    }\n",
       "\n",
       "    .dataframe thead th {\n",
       "        text-align: right;\n",
       "    }\n",
       "</style>\n",
       "<table border=\"1\" class=\"dataframe\">\n",
       "  <thead>\n",
       "    <tr style=\"text-align: right;\">\n",
       "      <th></th>\n",
       "      <th>LOTE</th>\n",
       "      <th>ID bioreactor</th>\n",
       "      <th>Fecha/hora inicio</th>\n",
       "      <th>Fecha/hora fin</th>\n",
       "      <th>Volumen de cultivo</th>\n",
       "      <th>Turbidez inicio cultivo</th>\n",
       "      <th>Turbidez final cultivo</th>\n",
       "      <th>Viabilidad final cultivo</th>\n",
       "      <th>Turbidez_diff</th>\n",
       "      <th>Duracion</th>\n",
       "    </tr>\n",
       "  </thead>\n",
       "  <tbody>\n",
       "    <tr>\n",
       "      <th>34</th>\n",
       "      <td>23053</td>\n",
       "      <td>13172</td>\n",
       "      <td>2023-06-25 07:30:00</td>\n",
       "      <td>2023-06-26 07:45:00</td>\n",
       "      <td>165.6</td>\n",
       "      <td>15.20</td>\n",
       "      <td>28.88</td>\n",
       "      <td>88000000.0</td>\n",
       "      <td>13.68</td>\n",
       "      <td>1 days 00:15:00</td>\n",
       "    </tr>\n",
       "    <tr>\n",
       "      <th>35</th>\n",
       "      <td>23054</td>\n",
       "      <td>14618</td>\n",
       "      <td>2023-06-26 07:45:00</td>\n",
       "      <td>2023-06-27 07:50:00</td>\n",
       "      <td>163.2</td>\n",
       "      <td>14.56</td>\n",
       "      <td>26.00</td>\n",
       "      <td>85600000.0</td>\n",
       "      <td>11.44</td>\n",
       "      <td>1 days 00:05:00</td>\n",
       "    </tr>\n",
       "    <tr>\n",
       "      <th>36</th>\n",
       "      <td>23055</td>\n",
       "      <td>14618</td>\n",
       "      <td>2023-06-26 07:45:00</td>\n",
       "      <td>2023-06-27 07:50:00</td>\n",
       "      <td>163.2</td>\n",
       "      <td>14.56</td>\n",
       "      <td>26.00</td>\n",
       "      <td>85600000.0</td>\n",
       "      <td>11.44</td>\n",
       "      <td>1 days 00:05:00</td>\n",
       "    </tr>\n",
       "  </tbody>\n",
       "</table>\n",
       "</div>"
      ],
      "text/plain": [
       "     LOTE ID bioreactor   Fecha/hora inicio      Fecha/hora fin  \\\n",
       "34  23053         13172 2023-06-25 07:30:00 2023-06-26 07:45:00   \n",
       "35  23054         14618 2023-06-26 07:45:00 2023-06-27 07:50:00   \n",
       "36  23055         14618 2023-06-26 07:45:00 2023-06-27 07:50:00   \n",
       "\n",
       "    Volumen de cultivo  Turbidez inicio cultivo  Turbidez final cultivo  \\\n",
       "34               165.6                    15.20                   28.88   \n",
       "35               163.2                    14.56                   26.00   \n",
       "36               163.2                    14.56                   26.00   \n",
       "\n",
       "    Viabilidad final cultivo  Turbidez_diff        Duracion  \n",
       "34                88000000.0          13.68 1 days 00:15:00  \n",
       "35                85600000.0          11.44 1 days 00:05:00  \n",
       "36                85600000.0          11.44 1 days 00:05:00  "
      ]
     },
     "execution_count": 96,
     "metadata": {},
     "output_type": "execute_result"
    }
   ],
   "source": [
    "v_i_u_null = cultivo[cultivo['Volumen de inóculo utilizado'].isnull()]\n",
    "# Check the lote of v_i_u_null in the ino dataframe\n",
    "ino[ino['LOTE'].isin(v_i_u_null['LOTE'])]"
   ]
  },
  {
   "cell_type": "markdown",
   "metadata": {},
   "source": [
    "We don't know the volumen but we know those variables, can we estimate it somehow?"
   ]
  },
  {
   "cell_type": "markdown",
   "metadata": {},
   "source": [
    "### Viabilidad final cultivo"
   ]
  },
  {
   "cell_type": "code",
   "execution_count": 97,
   "metadata": {},
   "outputs": [
    {
     "data": {
      "text/html": [
       "<div>\n",
       "<style scoped>\n",
       "    .dataframe tbody tr th:only-of-type {\n",
       "        vertical-align: middle;\n",
       "    }\n",
       "\n",
       "    .dataframe tbody tr th {\n",
       "        vertical-align: top;\n",
       "    }\n",
       "\n",
       "    .dataframe thead th {\n",
       "        text-align: right;\n",
       "    }\n",
       "</style>\n",
       "<table border=\"1\" class=\"dataframe\">\n",
       "  <thead>\n",
       "    <tr style=\"text-align: right;\">\n",
       "      <th></th>\n",
       "      <th>LOTE</th>\n",
       "      <th>Orden en el encadenado</th>\n",
       "      <th>LOTE parental</th>\n",
       "      <th>ID Bioreactor</th>\n",
       "      <th>Fecha/hora inicio</th>\n",
       "      <th>Fecha/hora fin</th>\n",
       "      <th>Volumen de inóculo utilizado</th>\n",
       "      <th>Turbidez inicio cultivo</th>\n",
       "      <th>Turbidez fin cultivo</th>\n",
       "      <th>Viabilidad final cultivo</th>\n",
       "      <th>ID Centrífuga</th>\n",
       "      <th>Centrifugación 1 turbidez</th>\n",
       "      <th>Centrifugación 2 turbidez</th>\n",
       "      <th>Producto 1</th>\n",
       "      <th>Producto 2</th>\n",
       "      <th>Duracion</th>\n",
       "    </tr>\n",
       "  </thead>\n",
       "  <tbody>\n",
       "    <tr>\n",
       "      <th>67</th>\n",
       "      <td>23093</td>\n",
       "      <td>2</td>\n",
       "      <td>23085</td>\n",
       "      <td>13170</td>\n",
       "      <td>2023-09-27 13:00:00</td>\n",
       "      <td>2023-09-29 13:00:00</td>\n",
       "      <td>80.0</td>\n",
       "      <td>21.84</td>\n",
       "      <td>71.36</td>\n",
       "      <td>1,82+e08</td>\n",
       "      <td>14246</td>\n",
       "      <td>28.8</td>\n",
       "      <td>20.0</td>\n",
       "      <td>1792.072</td>\n",
       "      <td>6.4</td>\n",
       "      <td>2 days</td>\n",
       "    </tr>\n",
       "  </tbody>\n",
       "</table>\n",
       "</div>"
      ],
      "text/plain": [
       "     LOTE Orden en el encadenado LOTE parental ID Bioreactor  \\\n",
       "67  23093                      2         23085         13170   \n",
       "\n",
       "     Fecha/hora inicio      Fecha/hora fin  Volumen de inóculo utilizado  \\\n",
       "67 2023-09-27 13:00:00 2023-09-29 13:00:00                          80.0   \n",
       "\n",
       "    Turbidez inicio cultivo  Turbidez fin cultivo Viabilidad final cultivo  \\\n",
       "67                    21.84                 71.36                 1,82+e08   \n",
       "\n",
       "    ID Centrífuga  Centrifugación 1 turbidez  Centrifugación 2 turbidez  \\\n",
       "67          14246                       28.8                       20.0   \n",
       "\n",
       "    Producto 1  Producto 2 Duracion  \n",
       "67    1792.072         6.4   2 days  "
      ]
     },
     "execution_count": 97,
     "metadata": {},
     "output_type": "execute_result"
    }
   ],
   "source": [
    "# viabilidad final cultivo is float get those incorrect values\n",
    "cultivo[cultivo['Viabilidad final cultivo'].astype(str).str.contains('[^\\d\\.\\,]')]"
   ]
  },
  {
   "cell_type": "code",
   "execution_count": 98,
   "metadata": {},
   "outputs": [
    {
     "data": {
      "text/html": [
       "<div>\n",
       "<style scoped>\n",
       "    .dataframe tbody tr th:only-of-type {\n",
       "        vertical-align: middle;\n",
       "    }\n",
       "\n",
       "    .dataframe tbody tr th {\n",
       "        vertical-align: top;\n",
       "    }\n",
       "\n",
       "    .dataframe thead th {\n",
       "        text-align: right;\n",
       "    }\n",
       "</style>\n",
       "<table border=\"1\" class=\"dataframe\">\n",
       "  <thead>\n",
       "    <tr style=\"text-align: right;\">\n",
       "      <th></th>\n",
       "      <th>LOTE</th>\n",
       "      <th>Orden en el encadenado</th>\n",
       "      <th>LOTE parental</th>\n",
       "      <th>ID Bioreactor</th>\n",
       "      <th>Fecha/hora inicio</th>\n",
       "      <th>Fecha/hora fin</th>\n",
       "      <th>Volumen de inóculo utilizado</th>\n",
       "      <th>Turbidez inicio cultivo</th>\n",
       "      <th>Turbidez fin cultivo</th>\n",
       "      <th>Viabilidad final cultivo</th>\n",
       "      <th>ID Centrífuga</th>\n",
       "      <th>Centrifugación 1 turbidez</th>\n",
       "      <th>Centrifugación 2 turbidez</th>\n",
       "      <th>Producto 1</th>\n",
       "      <th>Producto 2</th>\n",
       "      <th>Duracion</th>\n",
       "    </tr>\n",
       "  </thead>\n",
       "  <tbody>\n",
       "    <tr>\n",
       "      <th>20</th>\n",
       "      <td>23040</td>\n",
       "      <td>1</td>\n",
       "      <td>NaN</td>\n",
       "      <td>13169</td>\n",
       "      <td>2023-05-30 12:00:00</td>\n",
       "      <td>2023-06-01 12:00:00</td>\n",
       "      <td>77.6</td>\n",
       "      <td>15.92</td>\n",
       "      <td>83.20</td>\n",
       "      <td>189866666.666666</td>\n",
       "      <td>14246</td>\n",
       "      <td>27.44</td>\n",
       "      <td>NaN</td>\n",
       "      <td>2129.9200</td>\n",
       "      <td>8.16</td>\n",
       "      <td>2 days 00:00:00</td>\n",
       "    </tr>\n",
       "    <tr>\n",
       "      <th>27</th>\n",
       "      <td>23047</td>\n",
       "      <td>1</td>\n",
       "      <td>NaN</td>\n",
       "      <td>14616</td>\n",
       "      <td>2023-06-13 08:00:00</td>\n",
       "      <td>2023-06-15 08:15:00</td>\n",
       "      <td>83.2</td>\n",
       "      <td>18.72</td>\n",
       "      <td>72.08</td>\n",
       "      <td>162133333.333334</td>\n",
       "      <td>17825</td>\n",
       "      <td>26.64</td>\n",
       "      <td>19.28</td>\n",
       "      <td>1697.6008</td>\n",
       "      <td>6.88</td>\n",
       "      <td>2 days 00:15:00</td>\n",
       "    </tr>\n",
       "    <tr>\n",
       "      <th>32</th>\n",
       "      <td>23053</td>\n",
       "      <td>1</td>\n",
       "      <td>NaN</td>\n",
       "      <td>14616</td>\n",
       "      <td>2023-06-26 08:00:00</td>\n",
       "      <td>2023-06-28 07:30:00</td>\n",
       "      <td>NaN</td>\n",
       "      <td>16.64</td>\n",
       "      <td>72.64</td>\n",
       "      <td>167733333.333334</td>\n",
       "      <td>17825</td>\n",
       "      <td>24.48</td>\n",
       "      <td>14.56</td>\n",
       "      <td>1681.4240</td>\n",
       "      <td>6.48</td>\n",
       "      <td>1 days 23:30:00</td>\n",
       "    </tr>\n",
       "    <tr>\n",
       "      <th>34</th>\n",
       "      <td>23055</td>\n",
       "      <td>1</td>\n",
       "      <td>NaN</td>\n",
       "      <td>14615</td>\n",
       "      <td>2023-06-27 08:15:00</td>\n",
       "      <td>2023-06-29 08:15:00</td>\n",
       "      <td>NaN</td>\n",
       "      <td>17.12</td>\n",
       "      <td>81.60</td>\n",
       "      <td>169066666.666666</td>\n",
       "      <td>17825</td>\n",
       "      <td>26.64</td>\n",
       "      <td>23.84</td>\n",
       "      <td>1563.0080</td>\n",
       "      <td>8.08</td>\n",
       "      <td>2 days 00:00:00</td>\n",
       "    </tr>\n",
       "    <tr>\n",
       "      <th>67</th>\n",
       "      <td>23093</td>\n",
       "      <td>2</td>\n",
       "      <td>23085</td>\n",
       "      <td>13170</td>\n",
       "      <td>2023-09-27 13:00:00</td>\n",
       "      <td>2023-09-29 13:00:00</td>\n",
       "      <td>80.0</td>\n",
       "      <td>21.84</td>\n",
       "      <td>71.36</td>\n",
       "      <td>1,82+e08</td>\n",
       "      <td>14246</td>\n",
       "      <td>28.80</td>\n",
       "      <td>20.00</td>\n",
       "      <td>1792.0720</td>\n",
       "      <td>6.40</td>\n",
       "      <td>2 days 00:00:00</td>\n",
       "    </tr>\n",
       "  </tbody>\n",
       "</table>\n",
       "</div>"
      ],
      "text/plain": [
       "     LOTE Orden en el encadenado LOTE parental ID Bioreactor  \\\n",
       "20  23040                      1           NaN         13169   \n",
       "27  23047                      1           NaN         14616   \n",
       "32  23053                      1           NaN         14616   \n",
       "34  23055                      1           NaN         14615   \n",
       "67  23093                      2         23085         13170   \n",
       "\n",
       "     Fecha/hora inicio      Fecha/hora fin  Volumen de inóculo utilizado  \\\n",
       "20 2023-05-30 12:00:00 2023-06-01 12:00:00                          77.6   \n",
       "27 2023-06-13 08:00:00 2023-06-15 08:15:00                          83.2   \n",
       "32 2023-06-26 08:00:00 2023-06-28 07:30:00                           NaN   \n",
       "34 2023-06-27 08:15:00 2023-06-29 08:15:00                           NaN   \n",
       "67 2023-09-27 13:00:00 2023-09-29 13:00:00                          80.0   \n",
       "\n",
       "    Turbidez inicio cultivo  Turbidez fin cultivo Viabilidad final cultivo  \\\n",
       "20                    15.92                 83.20         189866666.666666   \n",
       "27                    18.72                 72.08         162133333.333334   \n",
       "32                    16.64                 72.64         167733333.333334   \n",
       "34                    17.12                 81.60         169066666.666666   \n",
       "67                    21.84                 71.36                 1,82+e08   \n",
       "\n",
       "    ID Centrífuga  Centrifugación 1 turbidez  Centrifugación 2 turbidez  \\\n",
       "20          14246                      27.44                        NaN   \n",
       "27          17825                      26.64                      19.28   \n",
       "32          17825                      24.48                      14.56   \n",
       "34          17825                      26.64                      23.84   \n",
       "67          14246                      28.80                      20.00   \n",
       "\n",
       "    Producto 1  Producto 2        Duracion  \n",
       "20   2129.9200        8.16 2 days 00:00:00  \n",
       "27   1697.6008        6.88 2 days 00:15:00  \n",
       "32   1681.4240        6.48 1 days 23:30:00  \n",
       "34   1563.0080        8.08 2 days 00:00:00  \n",
       "67   1792.0720        6.40 2 days 00:00:00  "
      ]
     },
     "execution_count": 98,
     "metadata": {},
     "output_type": "execute_result"
    }
   ],
   "source": [
    "cultivo[cultivo['Viabilidad final cultivo'].astype(str).str.contains('[^\\d\\,]')]"
   ]
  },
  {
   "cell_type": "code",
   "execution_count": 99,
   "metadata": {},
   "outputs": [],
   "source": [
    "# Fix the entry with LOTE == 23093 to be 1,82E+08\n",
    "cultivo.loc[cultivo['LOTE'] == '23093', 'Viabilidad final cultivo'] = '1.82E+08'\n",
    "# To float\n",
    "cultivo['Viabilidad final cultivo'] = cultivo['Viabilidad final cultivo'].astype(float)"
   ]
  },
  {
   "cell_type": "code",
   "execution_count": 100,
   "metadata": {},
   "outputs": [
    {
     "data": {
      "text/html": [
       "<div>\n",
       "<style scoped>\n",
       "    .dataframe tbody tr th:only-of-type {\n",
       "        vertical-align: middle;\n",
       "    }\n",
       "\n",
       "    .dataframe tbody tr th {\n",
       "        vertical-align: top;\n",
       "    }\n",
       "\n",
       "    .dataframe thead th {\n",
       "        text-align: right;\n",
       "    }\n",
       "</style>\n",
       "<table border=\"1\" class=\"dataframe\">\n",
       "  <thead>\n",
       "    <tr style=\"text-align: right;\">\n",
       "      <th></th>\n",
       "      <th>LOTE</th>\n",
       "      <th>Orden en el encadenado</th>\n",
       "      <th>LOTE parental</th>\n",
       "      <th>ID Bioreactor</th>\n",
       "      <th>Fecha/hora inicio</th>\n",
       "      <th>Fecha/hora fin</th>\n",
       "      <th>Volumen de inóculo utilizado</th>\n",
       "      <th>Turbidez inicio cultivo</th>\n",
       "      <th>Turbidez fin cultivo</th>\n",
       "      <th>Viabilidad final cultivo</th>\n",
       "      <th>ID Centrífuga</th>\n",
       "      <th>Centrifugación 1 turbidez</th>\n",
       "      <th>Centrifugación 2 turbidez</th>\n",
       "      <th>Producto 1</th>\n",
       "      <th>Producto 2</th>\n",
       "      <th>Duracion</th>\n",
       "    </tr>\n",
       "  </thead>\n",
       "  <tbody>\n",
       "    <tr>\n",
       "      <th>20</th>\n",
       "      <td>23040</td>\n",
       "      <td>1</td>\n",
       "      <td>NaN</td>\n",
       "      <td>13169</td>\n",
       "      <td>2023-05-30 12:00:00</td>\n",
       "      <td>2023-06-01 12:00:00</td>\n",
       "      <td>77.6</td>\n",
       "      <td>15.92</td>\n",
       "      <td>83.2</td>\n",
       "      <td>1.898667e+08</td>\n",
       "      <td>14246</td>\n",
       "      <td>27.44</td>\n",
       "      <td>NaN</td>\n",
       "      <td>2129.92</td>\n",
       "      <td>8.16</td>\n",
       "      <td>2 days</td>\n",
       "    </tr>\n",
       "  </tbody>\n",
       "</table>\n",
       "</div>"
      ],
      "text/plain": [
       "     LOTE Orden en el encadenado LOTE parental ID Bioreactor  \\\n",
       "20  23040                      1           NaN         13169   \n",
       "\n",
       "     Fecha/hora inicio      Fecha/hora fin  Volumen de inóculo utilizado  \\\n",
       "20 2023-05-30 12:00:00 2023-06-01 12:00:00                          77.6   \n",
       "\n",
       "    Turbidez inicio cultivo  Turbidez fin cultivo  Viabilidad final cultivo  \\\n",
       "20                    15.92                  83.2              1.898667e+08   \n",
       "\n",
       "    ID Centrífuga  Centrifugación 1 turbidez  Centrifugación 2 turbidez  \\\n",
       "20          14246                      27.44                        NaN   \n",
       "\n",
       "    Producto 1  Producto 2 Duracion  \n",
       "20     2129.92        8.16   2 days  "
      ]
     },
     "execution_count": 100,
     "metadata": {},
     "output_type": "execute_result"
    }
   ],
   "source": [
    "# Cultivo lote 23040\t\n",
    "cultivo[cultivo['LOTE'] == '23040']"
   ]
  },
  {
   "cell_type": "code",
   "execution_count": 101,
   "metadata": {},
   "outputs": [
    {
     "name": "stdout",
     "output_type": "stream",
     "text": [
      "<class 'pandas.core.frame.DataFrame'>\n",
      "RangeIndex: 152 entries, 0 to 151\n",
      "Data columns (total 16 columns):\n",
      " #   Column                        Non-Null Count  Dtype          \n",
      "---  ------                        --------------  -----          \n",
      " 0   LOTE                          152 non-null    object         \n",
      " 1   Orden en el encadenado        152 non-null    object         \n",
      " 2   LOTE parental                 22 non-null     object         \n",
      " 3   ID Bioreactor                 152 non-null    object         \n",
      " 4   Fecha/hora inicio             152 non-null    datetime64[ns] \n",
      " 5   Fecha/hora fin                152 non-null    datetime64[ns] \n",
      " 6   Volumen de inóculo utilizado  147 non-null    float64        \n",
      " 7   Turbidez inicio cultivo       152 non-null    float64        \n",
      " 8   Turbidez fin cultivo          152 non-null    float64        \n",
      " 9   Viabilidad final cultivo      152 non-null    float64        \n",
      " 10  ID Centrífuga                 152 non-null    int64          \n",
      " 11  Centrifugación 1 turbidez     148 non-null    float64        \n",
      " 12  Centrifugación 2 turbidez     143 non-null    float64        \n",
      " 13  Producto 1                    152 non-null    float64        \n",
      " 14  Producto 2                    152 non-null    float64        \n",
      " 15  Duracion                      152 non-null    timedelta64[ns]\n",
      "dtypes: datetime64[ns](2), float64(8), int64(1), object(4), timedelta64[ns](1)\n",
      "memory usage: 19.1+ KB\n"
     ]
    }
   ],
   "source": [
    "cultivo.info()"
   ]
  },
  {
   "cell_type": "markdown",
   "metadata": {},
   "source": [
    "### Turbidez inicio y fin cultivo"
   ]
  },
  {
   "cell_type": "code",
   "execution_count": 102,
   "metadata": {},
   "outputs": [
    {
     "data": {
      "text/plain": [
       "0    17.28\n",
       "1    18.80\n",
       "2    16.16\n",
       "3    18.48\n",
       "4    17.12\n",
       "Name: Turbidez inicio cultivo, dtype: float64"
      ]
     },
     "execution_count": 102,
     "metadata": {},
     "output_type": "execute_result"
    }
   ],
   "source": [
    "# Turbidez inicio cultivo\n",
    "cultivo.head()['Turbidez inicio cultivo']\n"
   ]
  },
  {
   "cell_type": "code",
   "execution_count": 103,
   "metadata": {},
   "outputs": [
    {
     "data": {
      "text/plain": [
       "0    91.2\n",
       "1    91.2\n",
       "2    86.4\n",
       "3    83.2\n",
       "4    74.4\n",
       "Name: Turbidez fin cultivo, dtype: float64"
      ]
     },
     "execution_count": 103,
     "metadata": {},
     "output_type": "execute_result"
    }
   ],
   "source": [
    "cultivo.head()['Turbidez fin cultivo']"
   ]
  },
  {
   "cell_type": "code",
   "execution_count": 104,
   "metadata": {},
   "outputs": [
    {
     "data": {
      "text/html": [
       "<div>\n",
       "<style scoped>\n",
       "    .dataframe tbody tr th:only-of-type {\n",
       "        vertical-align: middle;\n",
       "    }\n",
       "\n",
       "    .dataframe tbody tr th {\n",
       "        vertical-align: top;\n",
       "    }\n",
       "\n",
       "    .dataframe thead th {\n",
       "        text-align: right;\n",
       "    }\n",
       "</style>\n",
       "<table border=\"1\" class=\"dataframe\">\n",
       "  <thead>\n",
       "    <tr style=\"text-align: right;\">\n",
       "      <th></th>\n",
       "      <th>LOTE</th>\n",
       "      <th>Orden en el encadenado</th>\n",
       "      <th>LOTE parental</th>\n",
       "      <th>ID Bioreactor</th>\n",
       "      <th>Fecha/hora inicio</th>\n",
       "      <th>Fecha/hora fin</th>\n",
       "      <th>Volumen de inóculo utilizado</th>\n",
       "      <th>Turbidez inicio cultivo</th>\n",
       "      <th>Turbidez fin cultivo</th>\n",
       "      <th>Viabilidad final cultivo</th>\n",
       "      <th>ID Centrífuga</th>\n",
       "      <th>Centrifugación 1 turbidez</th>\n",
       "      <th>Centrifugación 2 turbidez</th>\n",
       "      <th>Producto 1</th>\n",
       "      <th>Producto 2</th>\n",
       "      <th>Duracion</th>\n",
       "    </tr>\n",
       "  </thead>\n",
       "  <tbody>\n",
       "  </tbody>\n",
       "</table>\n",
       "</div>"
      ],
      "text/plain": [
       "Empty DataFrame\n",
       "Columns: [LOTE, Orden en el encadenado, LOTE parental, ID Bioreactor, Fecha/hora inicio, Fecha/hora fin, Volumen de inóculo utilizado, Turbidez inicio cultivo, Turbidez fin cultivo, Viabilidad final cultivo, ID Centrífuga, Centrifugación 1 turbidez, Centrifugación 2 turbidez, Producto 1, Producto 2, Duracion]\n",
       "Index: []"
      ]
     },
     "execution_count": 104,
     "metadata": {},
     "output_type": "execute_result"
    }
   ],
   "source": [
    "# Turbidez fin < Turbidez inicio\n",
    "cultivo[cultivo['Turbidez fin cultivo'] < cultivo['Turbidez inicio cultivo']]"
   ]
  },
  {
   "cell_type": "code",
   "execution_count": 105,
   "metadata": {},
   "outputs": [
    {
     "data": {
      "text/html": [
       "<div>\n",
       "<style scoped>\n",
       "    .dataframe tbody tr th:only-of-type {\n",
       "        vertical-align: middle;\n",
       "    }\n",
       "\n",
       "    .dataframe tbody tr th {\n",
       "        vertical-align: top;\n",
       "    }\n",
       "\n",
       "    .dataframe thead th {\n",
       "        text-align: right;\n",
       "    }\n",
       "</style>\n",
       "<table border=\"1\" class=\"dataframe\">\n",
       "  <thead>\n",
       "    <tr style=\"text-align: right;\">\n",
       "      <th></th>\n",
       "      <th>LOTE</th>\n",
       "      <th>Orden en el encadenado</th>\n",
       "      <th>LOTE parental</th>\n",
       "      <th>ID Bioreactor</th>\n",
       "      <th>Fecha/hora inicio</th>\n",
       "      <th>Fecha/hora fin</th>\n",
       "      <th>Volumen de inóculo utilizado</th>\n",
       "      <th>Turbidez inicio cultivo</th>\n",
       "      <th>Turbidez fin cultivo</th>\n",
       "      <th>Viabilidad final cultivo</th>\n",
       "      <th>ID Centrífuga</th>\n",
       "      <th>Centrifugación 1 turbidez</th>\n",
       "      <th>Centrifugación 2 turbidez</th>\n",
       "      <th>Producto 1</th>\n",
       "      <th>Producto 2</th>\n",
       "      <th>Duracion</th>\n",
       "    </tr>\n",
       "  </thead>\n",
       "  <tbody>\n",
       "  </tbody>\n",
       "</table>\n",
       "</div>"
      ],
      "text/plain": [
       "Empty DataFrame\n",
       "Columns: [LOTE, Orden en el encadenado, LOTE parental, ID Bioreactor, Fecha/hora inicio, Fecha/hora fin, Volumen de inóculo utilizado, Turbidez inicio cultivo, Turbidez fin cultivo, Viabilidad final cultivo, ID Centrífuga, Centrifugación 1 turbidez, Centrifugación 2 turbidez, Producto 1, Producto 2, Duracion]\n",
       "Index: []"
      ]
     },
     "execution_count": 105,
     "metadata": {},
     "output_type": "execute_result"
    }
   ],
   "source": [
    "# Turbidez fin == Turbidez inicio\n",
    "cultivo[cultivo['Turbidez fin cultivo'] == cultivo['Turbidez inicio cultivo']]"
   ]
  },
  {
   "cell_type": "code",
   "execution_count": 106,
   "metadata": {},
   "outputs": [
    {
     "name": "stdout",
     "output_type": "stream",
     "text": [
      "152 out of 152\n"
     ]
    }
   ],
   "source": [
    "# Turbidez fin > Turbidez inicio, get the number of rows\n",
    "print(str(cultivo[cultivo['Turbidez fin cultivo'] > cultivo['Turbidez inicio cultivo']].shape[0])\n",
    "       + ' out of ' + str(len(cultivo)))"
   ]
  },
  {
   "cell_type": "code",
   "execution_count": 107,
   "metadata": {},
   "outputs": [
    {
     "data": {
      "text/plain": [
       "count    152.000000\n",
       "mean      74.416316\n",
       "std        8.940899\n",
       "min       42.800000\n",
       "25%       69.100000\n",
       "50%       74.320000\n",
       "75%       81.080000\n",
       "max       91.200000\n",
       "Name: Turbidez fin cultivo, dtype: float64"
      ]
     },
     "execution_count": 107,
     "metadata": {},
     "output_type": "execute_result"
    }
   ],
   "source": [
    "# Describe\n",
    "cultivo['Turbidez fin cultivo'].describe()"
   ]
  },
  {
   "cell_type": "markdown",
   "metadata": {},
   "source": [
    "### Turbidez diff"
   ]
  },
  {
   "cell_type": "code",
   "execution_count": 108,
   "metadata": {},
   "outputs": [],
   "source": [
    "# Compute diference between Turbidez fin cultivo and Turbidez inicio cultivo\n",
    "cultivo['turbidez_diff'] = cultivo['Turbidez fin cultivo'] - cultivo['Turbidez inicio cultivo']"
   ]
  },
  {
   "cell_type": "code",
   "execution_count": 109,
   "metadata": {},
   "outputs": [
    {
     "data": {
      "text/plain": [
       "count    152.000000\n",
       "mean      56.380000\n",
       "std        9.164008\n",
       "min       24.720000\n",
       "25%       51.040000\n",
       "50%       56.320000\n",
       "75%       63.600000\n",
       "max       73.920000\n",
       "Name: turbidez_diff, dtype: float64"
      ]
     },
     "execution_count": 109,
     "metadata": {},
     "output_type": "execute_result"
    }
   ],
   "source": [
    "cultivo['turbidez_diff'].describe()"
   ]
  },
  {
   "cell_type": "markdown",
   "metadata": {},
   "source": [
    "### ID centrifuga"
   ]
  },
  {
   "cell_type": "code",
   "execution_count": 110,
   "metadata": {},
   "outputs": [
    {
     "data": {
      "text/plain": [
       "ID Centrífuga\n",
       "14246    60\n",
       "17825    54\n",
       "12912    36\n",
       "6379      2\n",
       "Name: count, dtype: int64"
      ]
     },
     "execution_count": 110,
     "metadata": {},
     "output_type": "execute_result"
    }
   ],
   "source": [
    "# ID centrifuga value counts\n",
    "cultivo['ID Centrífuga'].value_counts()"
   ]
  },
  {
   "cell_type": "code",
   "execution_count": 111,
   "metadata": {},
   "outputs": [],
   "source": [
    "# To str\n",
    "cultivo['ID Centrífuga'] = cultivo['ID Centrífuga'].astype(str)"
   ]
  },
  {
   "cell_type": "markdown",
   "metadata": {},
   "source": [
    "### Centrifugación 1 & 2 turbidez "
   ]
  },
  {
   "cell_type": "code",
   "execution_count": 112,
   "metadata": {},
   "outputs": [
    {
     "data": {
      "text/plain": [
       "count    148.000000\n",
       "mean      30.067703\n",
       "std       15.167552\n",
       "min       21.280000\n",
       "25%       26.440000\n",
       "50%       28.560000\n",
       "75%       30.500000\n",
       "max      168.800000\n",
       "Name: Centrifugación 1 turbidez, dtype: float64"
      ]
     },
     "execution_count": 112,
     "metadata": {},
     "output_type": "execute_result"
    }
   ],
   "source": [
    "# Centrifugación 1 turbidez describe\n",
    "cultivo['Centrifugación 1 turbidez'].describe()"
   ]
  },
  {
   "cell_type": "code",
   "execution_count": 113,
   "metadata": {},
   "outputs": [
    {
     "data": {
      "text/html": [
       "<div>\n",
       "<style scoped>\n",
       "    .dataframe tbody tr th:only-of-type {\n",
       "        vertical-align: middle;\n",
       "    }\n",
       "\n",
       "    .dataframe tbody tr th {\n",
       "        vertical-align: top;\n",
       "    }\n",
       "\n",
       "    .dataframe thead th {\n",
       "        text-align: right;\n",
       "    }\n",
       "</style>\n",
       "<table border=\"1\" class=\"dataframe\">\n",
       "  <thead>\n",
       "    <tr style=\"text-align: right;\">\n",
       "      <th></th>\n",
       "      <th>LOTE</th>\n",
       "      <th>Orden en el encadenado</th>\n",
       "      <th>LOTE parental</th>\n",
       "      <th>ID Bioreactor</th>\n",
       "      <th>Fecha/hora inicio</th>\n",
       "      <th>Fecha/hora fin</th>\n",
       "      <th>Volumen de inóculo utilizado</th>\n",
       "      <th>Turbidez inicio cultivo</th>\n",
       "      <th>Turbidez fin cultivo</th>\n",
       "      <th>Viabilidad final cultivo</th>\n",
       "      <th>ID Centrífuga</th>\n",
       "      <th>Centrifugación 1 turbidez</th>\n",
       "      <th>Centrifugación 2 turbidez</th>\n",
       "      <th>Producto 1</th>\n",
       "      <th>Producto 2</th>\n",
       "      <th>Duracion</th>\n",
       "      <th>turbidez_diff</th>\n",
       "    </tr>\n",
       "  </thead>\n",
       "  <tbody>\n",
       "    <tr>\n",
       "      <th>0</th>\n",
       "      <td>23019</td>\n",
       "      <td>1</td>\n",
       "      <td>NaN</td>\n",
       "      <td>14615</td>\n",
       "      <td>2023-03-21 07:30:00</td>\n",
       "      <td>2023-03-23 06:30:00</td>\n",
       "      <td>82.4</td>\n",
       "      <td>17.28</td>\n",
       "      <td>91.2</td>\n",
       "      <td>184000000.0</td>\n",
       "      <td>17825</td>\n",
       "      <td>NaN</td>\n",
       "      <td>NaN</td>\n",
       "      <td>1747.920</td>\n",
       "      <td>6.00</td>\n",
       "      <td>1 days 23:00:00</td>\n",
       "      <td>73.92</td>\n",
       "    </tr>\n",
       "    <tr>\n",
       "      <th>1</th>\n",
       "      <td>23020</td>\n",
       "      <td>1</td>\n",
       "      <td>NaN</td>\n",
       "      <td>14616</td>\n",
       "      <td>2023-03-21 07:30:00</td>\n",
       "      <td>2023-03-23 06:30:00</td>\n",
       "      <td>80.4</td>\n",
       "      <td>18.80</td>\n",
       "      <td>91.2</td>\n",
       "      <td>181600000.0</td>\n",
       "      <td>14246</td>\n",
       "      <td>NaN</td>\n",
       "      <td>NaN</td>\n",
       "      <td>1676.160</td>\n",
       "      <td>6.56</td>\n",
       "      <td>1 days 23:00:00</td>\n",
       "      <td>72.40</td>\n",
       "    </tr>\n",
       "    <tr>\n",
       "      <th>2</th>\n",
       "      <td>23021</td>\n",
       "      <td>1</td>\n",
       "      <td>NaN</td>\n",
       "      <td>13170</td>\n",
       "      <td>2023-03-22 07:30:00</td>\n",
       "      <td>2023-03-24 06:30:00</td>\n",
       "      <td>66.4</td>\n",
       "      <td>16.16</td>\n",
       "      <td>86.4</td>\n",
       "      <td>248000000.0</td>\n",
       "      <td>17825</td>\n",
       "      <td>NaN</td>\n",
       "      <td>NaN</td>\n",
       "      <td>1928.496</td>\n",
       "      <td>8.08</td>\n",
       "      <td>1 days 23:00:00</td>\n",
       "      <td>70.24</td>\n",
       "    </tr>\n",
       "    <tr>\n",
       "      <th>3</th>\n",
       "      <td>23022</td>\n",
       "      <td>1</td>\n",
       "      <td>NaN</td>\n",
       "      <td>14614</td>\n",
       "      <td>2023-03-22 07:30:00</td>\n",
       "      <td>2023-03-24 06:30:00</td>\n",
       "      <td>85.6</td>\n",
       "      <td>18.48</td>\n",
       "      <td>83.2</td>\n",
       "      <td>229600000.0</td>\n",
       "      <td>12912</td>\n",
       "      <td>NaN</td>\n",
       "      <td>NaN</td>\n",
       "      <td>1782.800</td>\n",
       "      <td>5.92</td>\n",
       "      <td>1 days 23:00:00</td>\n",
       "      <td>64.72</td>\n",
       "    </tr>\n",
       "  </tbody>\n",
       "</table>\n",
       "</div>"
      ],
      "text/plain": [
       "    LOTE Orden en el encadenado LOTE parental ID Bioreactor  \\\n",
       "0  23019                      1           NaN         14615   \n",
       "1  23020                      1           NaN         14616   \n",
       "2  23021                      1           NaN         13170   \n",
       "3  23022                      1           NaN         14614   \n",
       "\n",
       "    Fecha/hora inicio      Fecha/hora fin  Volumen de inóculo utilizado  \\\n",
       "0 2023-03-21 07:30:00 2023-03-23 06:30:00                          82.4   \n",
       "1 2023-03-21 07:30:00 2023-03-23 06:30:00                          80.4   \n",
       "2 2023-03-22 07:30:00 2023-03-24 06:30:00                          66.4   \n",
       "3 2023-03-22 07:30:00 2023-03-24 06:30:00                          85.6   \n",
       "\n",
       "   Turbidez inicio cultivo  Turbidez fin cultivo  Viabilidad final cultivo  \\\n",
       "0                    17.28                  91.2               184000000.0   \n",
       "1                    18.80                  91.2               181600000.0   \n",
       "2                    16.16                  86.4               248000000.0   \n",
       "3                    18.48                  83.2               229600000.0   \n",
       "\n",
       "  ID Centrífuga  Centrifugación 1 turbidez  Centrifugación 2 turbidez  \\\n",
       "0         17825                        NaN                        NaN   \n",
       "1         14246                        NaN                        NaN   \n",
       "2         17825                        NaN                        NaN   \n",
       "3         12912                        NaN                        NaN   \n",
       "\n",
       "   Producto 1  Producto 2        Duracion  turbidez_diff  \n",
       "0    1747.920        6.00 1 days 23:00:00          73.92  \n",
       "1    1676.160        6.56 1 days 23:00:00          72.40  \n",
       "2    1928.496        8.08 1 days 23:00:00          70.24  \n",
       "3    1782.800        5.92 1 days 23:00:00          64.72  "
      ]
     },
     "execution_count": 113,
     "metadata": {},
     "output_type": "execute_result"
    }
   ],
   "source": [
    "# Centrifugación 1 turbidez null values\n",
    "cultivo[cultivo['Centrifugación 1 turbidez'].isnull()]"
   ]
  },
  {
   "cell_type": "code",
   "execution_count": 114,
   "metadata": {},
   "outputs": [
    {
     "data": {
      "text/plain": [
       "count    143.00000\n",
       "mean      23.56979\n",
       "std       17.21646\n",
       "min        9.84000\n",
       "25%       17.72000\n",
       "50%       20.72000\n",
       "75%       25.00000\n",
       "max      156.96000\n",
       "Name: Centrifugación 2 turbidez, dtype: float64"
      ]
     },
     "execution_count": 114,
     "metadata": {},
     "output_type": "execute_result"
    }
   ],
   "source": [
    "# Centrifugación 2 turbidez describe\n",
    "cultivo['Centrifugación 2 turbidez'].describe()"
   ]
  },
  {
   "cell_type": "code",
   "execution_count": 115,
   "metadata": {},
   "outputs": [
    {
     "data": {
      "text/html": [
       "<div>\n",
       "<style scoped>\n",
       "    .dataframe tbody tr th:only-of-type {\n",
       "        vertical-align: middle;\n",
       "    }\n",
       "\n",
       "    .dataframe tbody tr th {\n",
       "        vertical-align: top;\n",
       "    }\n",
       "\n",
       "    .dataframe thead th {\n",
       "        text-align: right;\n",
       "    }\n",
       "</style>\n",
       "<table border=\"1\" class=\"dataframe\">\n",
       "  <thead>\n",
       "    <tr style=\"text-align: right;\">\n",
       "      <th></th>\n",
       "      <th>LOTE</th>\n",
       "      <th>Orden en el encadenado</th>\n",
       "      <th>LOTE parental</th>\n",
       "      <th>ID Bioreactor</th>\n",
       "      <th>Fecha/hora inicio</th>\n",
       "      <th>Fecha/hora fin</th>\n",
       "      <th>Volumen de inóculo utilizado</th>\n",
       "      <th>Turbidez inicio cultivo</th>\n",
       "      <th>Turbidez fin cultivo</th>\n",
       "      <th>Viabilidad final cultivo</th>\n",
       "      <th>ID Centrífuga</th>\n",
       "      <th>Centrifugación 1 turbidez</th>\n",
       "      <th>Centrifugación 2 turbidez</th>\n",
       "      <th>Producto 1</th>\n",
       "      <th>Producto 2</th>\n",
       "      <th>Duracion</th>\n",
       "      <th>turbidez_diff</th>\n",
       "    </tr>\n",
       "  </thead>\n",
       "  <tbody>\n",
       "    <tr>\n",
       "      <th>0</th>\n",
       "      <td>23019</td>\n",
       "      <td>1</td>\n",
       "      <td>NaN</td>\n",
       "      <td>14615</td>\n",
       "      <td>2023-03-21 07:30:00</td>\n",
       "      <td>2023-03-23 06:30:00</td>\n",
       "      <td>82.40</td>\n",
       "      <td>17.28</td>\n",
       "      <td>91.20</td>\n",
       "      <td>1.840000e+08</td>\n",
       "      <td>17825</td>\n",
       "      <td>NaN</td>\n",
       "      <td>NaN</td>\n",
       "      <td>1747.920</td>\n",
       "      <td>6.00</td>\n",
       "      <td>1 days 23:00:00</td>\n",
       "      <td>73.92</td>\n",
       "    </tr>\n",
       "    <tr>\n",
       "      <th>1</th>\n",
       "      <td>23020</td>\n",
       "      <td>1</td>\n",
       "      <td>NaN</td>\n",
       "      <td>14616</td>\n",
       "      <td>2023-03-21 07:30:00</td>\n",
       "      <td>2023-03-23 06:30:00</td>\n",
       "      <td>80.40</td>\n",
       "      <td>18.80</td>\n",
       "      <td>91.20</td>\n",
       "      <td>1.816000e+08</td>\n",
       "      <td>14246</td>\n",
       "      <td>NaN</td>\n",
       "      <td>NaN</td>\n",
       "      <td>1676.160</td>\n",
       "      <td>6.56</td>\n",
       "      <td>1 days 23:00:00</td>\n",
       "      <td>72.40</td>\n",
       "    </tr>\n",
       "    <tr>\n",
       "      <th>2</th>\n",
       "      <td>23021</td>\n",
       "      <td>1</td>\n",
       "      <td>NaN</td>\n",
       "      <td>13170</td>\n",
       "      <td>2023-03-22 07:30:00</td>\n",
       "      <td>2023-03-24 06:30:00</td>\n",
       "      <td>66.40</td>\n",
       "      <td>16.16</td>\n",
       "      <td>86.40</td>\n",
       "      <td>2.480000e+08</td>\n",
       "      <td>17825</td>\n",
       "      <td>NaN</td>\n",
       "      <td>NaN</td>\n",
       "      <td>1928.496</td>\n",
       "      <td>8.08</td>\n",
       "      <td>1 days 23:00:00</td>\n",
       "      <td>70.24</td>\n",
       "    </tr>\n",
       "    <tr>\n",
       "      <th>3</th>\n",
       "      <td>23022</td>\n",
       "      <td>1</td>\n",
       "      <td>NaN</td>\n",
       "      <td>14614</td>\n",
       "      <td>2023-03-22 07:30:00</td>\n",
       "      <td>2023-03-24 06:30:00</td>\n",
       "      <td>85.60</td>\n",
       "      <td>18.48</td>\n",
       "      <td>83.20</td>\n",
       "      <td>2.296000e+08</td>\n",
       "      <td>12912</td>\n",
       "      <td>NaN</td>\n",
       "      <td>NaN</td>\n",
       "      <td>1782.800</td>\n",
       "      <td>5.92</td>\n",
       "      <td>1 days 23:00:00</td>\n",
       "      <td>64.72</td>\n",
       "    </tr>\n",
       "    <tr>\n",
       "      <th>12</th>\n",
       "      <td>23031</td>\n",
       "      <td>1</td>\n",
       "      <td>NaN</td>\n",
       "      <td>14615</td>\n",
       "      <td>2023-04-18 07:30:00</td>\n",
       "      <td>2023-04-20 07:30:00</td>\n",
       "      <td>82.24</td>\n",
       "      <td>18.64</td>\n",
       "      <td>84.00</td>\n",
       "      <td>9.760000e+07</td>\n",
       "      <td>14246</td>\n",
       "      <td>29.52</td>\n",
       "      <td>NaN</td>\n",
       "      <td>1816.080</td>\n",
       "      <td>6.16</td>\n",
       "      <td>2 days 00:00:00</td>\n",
       "      <td>65.36</td>\n",
       "    </tr>\n",
       "    <tr>\n",
       "      <th>13</th>\n",
       "      <td>23032</td>\n",
       "      <td>1</td>\n",
       "      <td>NaN</td>\n",
       "      <td>14616</td>\n",
       "      <td>2023-04-18 07:30:00</td>\n",
       "      <td>2023-04-20 08:40:00</td>\n",
       "      <td>83.04</td>\n",
       "      <td>18.88</td>\n",
       "      <td>76.00</td>\n",
       "      <td>1.960000e+08</td>\n",
       "      <td>17825</td>\n",
       "      <td>29.44</td>\n",
       "      <td>NaN</td>\n",
       "      <td>1865.360</td>\n",
       "      <td>6.56</td>\n",
       "      <td>2 days 01:10:00</td>\n",
       "      <td>57.12</td>\n",
       "    </tr>\n",
       "    <tr>\n",
       "      <th>20</th>\n",
       "      <td>23040</td>\n",
       "      <td>1</td>\n",
       "      <td>NaN</td>\n",
       "      <td>13169</td>\n",
       "      <td>2023-05-30 12:00:00</td>\n",
       "      <td>2023-06-01 12:00:00</td>\n",
       "      <td>77.60</td>\n",
       "      <td>15.92</td>\n",
       "      <td>83.20</td>\n",
       "      <td>1.898667e+08</td>\n",
       "      <td>14246</td>\n",
       "      <td>27.44</td>\n",
       "      <td>NaN</td>\n",
       "      <td>2129.920</td>\n",
       "      <td>8.16</td>\n",
       "      <td>2 days 00:00:00</td>\n",
       "      <td>67.28</td>\n",
       "    </tr>\n",
       "    <tr>\n",
       "      <th>118</th>\n",
       "      <td>24011</td>\n",
       "      <td>1</td>\n",
       "      <td>NaN</td>\n",
       "      <td>13189</td>\n",
       "      <td>2024-01-22 08:00:00</td>\n",
       "      <td>2024-01-24 08:20:00</td>\n",
       "      <td>80.00</td>\n",
       "      <td>18.32</td>\n",
       "      <td>72.48</td>\n",
       "      <td>1.608000e+08</td>\n",
       "      <td>12912</td>\n",
       "      <td>26.56</td>\n",
       "      <td>NaN</td>\n",
       "      <td>1571.280</td>\n",
       "      <td>6.64</td>\n",
       "      <td>2 days 00:20:00</td>\n",
       "      <td>54.16</td>\n",
       "    </tr>\n",
       "    <tr>\n",
       "      <th>119</th>\n",
       "      <td>24016</td>\n",
       "      <td>2</td>\n",
       "      <td>NaN</td>\n",
       "      <td>14616</td>\n",
       "      <td>2024-01-22 11:20:00</td>\n",
       "      <td>2024-01-24 09:00:00</td>\n",
       "      <td>80.00</td>\n",
       "      <td>21.44</td>\n",
       "      <td>89.60</td>\n",
       "      <td>1.576000e+08</td>\n",
       "      <td>17825</td>\n",
       "      <td>34.00</td>\n",
       "      <td>NaN</td>\n",
       "      <td>1671.840</td>\n",
       "      <td>8.16</td>\n",
       "      <td>1 days 21:40:00</td>\n",
       "      <td>68.16</td>\n",
       "    </tr>\n",
       "  </tbody>\n",
       "</table>\n",
       "</div>"
      ],
      "text/plain": [
       "      LOTE Orden en el encadenado LOTE parental ID Bioreactor  \\\n",
       "0    23019                      1           NaN         14615   \n",
       "1    23020                      1           NaN         14616   \n",
       "2    23021                      1           NaN         13170   \n",
       "3    23022                      1           NaN         14614   \n",
       "12   23031                      1           NaN         14615   \n",
       "13   23032                      1           NaN         14616   \n",
       "20   23040                      1           NaN         13169   \n",
       "118  24011                      1           NaN         13189   \n",
       "119  24016                      2           NaN         14616   \n",
       "\n",
       "      Fecha/hora inicio      Fecha/hora fin  Volumen de inóculo utilizado  \\\n",
       "0   2023-03-21 07:30:00 2023-03-23 06:30:00                         82.40   \n",
       "1   2023-03-21 07:30:00 2023-03-23 06:30:00                         80.40   \n",
       "2   2023-03-22 07:30:00 2023-03-24 06:30:00                         66.40   \n",
       "3   2023-03-22 07:30:00 2023-03-24 06:30:00                         85.60   \n",
       "12  2023-04-18 07:30:00 2023-04-20 07:30:00                         82.24   \n",
       "13  2023-04-18 07:30:00 2023-04-20 08:40:00                         83.04   \n",
       "20  2023-05-30 12:00:00 2023-06-01 12:00:00                         77.60   \n",
       "118 2024-01-22 08:00:00 2024-01-24 08:20:00                         80.00   \n",
       "119 2024-01-22 11:20:00 2024-01-24 09:00:00                         80.00   \n",
       "\n",
       "     Turbidez inicio cultivo  Turbidez fin cultivo  Viabilidad final cultivo  \\\n",
       "0                      17.28                 91.20              1.840000e+08   \n",
       "1                      18.80                 91.20              1.816000e+08   \n",
       "2                      16.16                 86.40              2.480000e+08   \n",
       "3                      18.48                 83.20              2.296000e+08   \n",
       "12                     18.64                 84.00              9.760000e+07   \n",
       "13                     18.88                 76.00              1.960000e+08   \n",
       "20                     15.92                 83.20              1.898667e+08   \n",
       "118                    18.32                 72.48              1.608000e+08   \n",
       "119                    21.44                 89.60              1.576000e+08   \n",
       "\n",
       "    ID Centrífuga  Centrifugación 1 turbidez  Centrifugación 2 turbidez  \\\n",
       "0           17825                        NaN                        NaN   \n",
       "1           14246                        NaN                        NaN   \n",
       "2           17825                        NaN                        NaN   \n",
       "3           12912                        NaN                        NaN   \n",
       "12          14246                      29.52                        NaN   \n",
       "13          17825                      29.44                        NaN   \n",
       "20          14246                      27.44                        NaN   \n",
       "118         12912                      26.56                        NaN   \n",
       "119         17825                      34.00                        NaN   \n",
       "\n",
       "     Producto 1  Producto 2        Duracion  turbidez_diff  \n",
       "0      1747.920        6.00 1 days 23:00:00          73.92  \n",
       "1      1676.160        6.56 1 days 23:00:00          72.40  \n",
       "2      1928.496        8.08 1 days 23:00:00          70.24  \n",
       "3      1782.800        5.92 1 days 23:00:00          64.72  \n",
       "12     1816.080        6.16 2 days 00:00:00          65.36  \n",
       "13     1865.360        6.56 2 days 01:10:00          57.12  \n",
       "20     2129.920        8.16 2 days 00:00:00          67.28  \n",
       "118    1571.280        6.64 2 days 00:20:00          54.16  \n",
       "119    1671.840        8.16 1 days 21:40:00          68.16  "
      ]
     },
     "execution_count": 115,
     "metadata": {},
     "output_type": "execute_result"
    }
   ],
   "source": [
    "# Centrifugación 2 turbidez null values\n",
    "cultivo[cultivo['Centrifugación 2 turbidez'].isnull()]"
   ]
  },
  {
   "cell_type": "markdown",
   "metadata": {},
   "source": [
    "### Producto 1 & 2"
   ]
  },
  {
   "cell_type": "code",
   "execution_count": 116,
   "metadata": {},
   "outputs": [
    {
     "data": {
      "text/plain": [
       "count     152.000000\n",
       "mean     1658.315726\n",
       "std       307.713060\n",
       "min       526.400000\n",
       "25%      1466.760000\n",
       "50%      1675.400000\n",
       "75%      1853.798000\n",
       "max      2395.360000\n",
       "Name: Producto 1, dtype: float64"
      ]
     },
     "execution_count": 116,
     "metadata": {},
     "output_type": "execute_result"
    }
   ],
   "source": [
    "# Producto 1 describe\n",
    "cultivo['Producto 1'].describe()"
   ]
  },
  {
   "cell_type": "code",
   "execution_count": 117,
   "metadata": {},
   "outputs": [
    {
     "data": {
      "text/plain": [
       "count    152.000000\n",
       "mean       6.120979\n",
       "std        1.407973\n",
       "min        2.800000\n",
       "25%        5.100000\n",
       "50%        6.080000\n",
       "75%        7.120000\n",
       "max        9.200000\n",
       "Name: Producto 2, dtype: float64"
      ]
     },
     "execution_count": 117,
     "metadata": {},
     "output_type": "execute_result"
    }
   ],
   "source": [
    "# Producto 2 describe\n",
    "cultivo['Producto 2'].describe()"
   ]
  },
  {
   "cell_type": "markdown",
   "metadata": {},
   "source": [
    "## Save"
   ]
  },
  {
   "cell_type": "code",
   "execution_count": 118,
   "metadata": {},
   "outputs": [
    {
     "name": "stdout",
     "output_type": "stream",
     "text": [
      "<class 'pandas.core.frame.DataFrame'>\n",
      "Index: 161 entries, 0 to 164\n",
      "Data columns (total 13 columns):\n",
      " #   Column      Non-Null Count  Dtype          \n",
      "---  ------      --------------  -----          \n",
      " 0   Lote        161 non-null    object         \n",
      " 1   f_h_inicio  161 non-null    datetime64[ns] \n",
      " 2   f_h_fin     161 non-null    datetime64[ns] \n",
      " 3   ph_1        159 non-null    float64        \n",
      " 4   ph_2        148 non-null    float64        \n",
      " 5   ph_3        130 non-null    float64        \n",
      " 6   turb_1      159 non-null    float64        \n",
      " 7   turb_2      148 non-null    float64        \n",
      " 8   turb_3      131 non-null    float64        \n",
      " 9   usada_1     161 non-null    int64          \n",
      " 10  usada_2     161 non-null    int64          \n",
      " 11  usada_3     161 non-null    int64          \n",
      " 12  duracion    161 non-null    timedelta64[ns]\n",
      "dtypes: datetime64[ns](2), float64(6), int64(3), object(1), timedelta64[ns](1)\n",
      "memory usage: 17.6+ KB\n"
     ]
    }
   ],
   "source": [
    "pino.info()"
   ]
  },
  {
   "cell_type": "code",
   "execution_count": 119,
   "metadata": {},
   "outputs": [
    {
     "name": "stdout",
     "output_type": "stream",
     "text": [
      "Lote                        24081\n",
      "f_h_inicio    2024-05-26 00:30:00\n",
      "f_h_fin       2024-05-27 08:05:00\n",
      "ph_1                         5.44\n",
      "ph_2                        5.504\n",
      "ph_3                        5.496\n",
      "turb_1                      29.68\n",
      "turb_2                       31.2\n",
      "turb_3                      28.96\n",
      "usada_1                         1\n",
      "usada_2                         1\n",
      "usada_3                         0\n",
      "duracion          1 days 07:35:00\n",
      "Name: 148, dtype: object\n"
     ]
    }
   ],
   "source": [
    "# pino to csv and replace the original\n",
    "print(pino.iloc[144])\n",
    "pino.to_csv('../../data/processed/preinoculo.csv', index=False)\n",
    "# ino\n",
    "ino.to_csv('../../data/processed/inoculo.csv', index=False)\n",
    "# cultivo\n",
    "cultivo.to_csv('../../data/processed/cf.csv', index=False)"
   ]
  }
 ],
 "metadata": {
  "kernelspec": {
   "display_name": "losca-RpR7jZx6-py3.11",
   "language": "python",
   "name": "python3"
  },
  "language_info": {
   "codemirror_mode": {
    "name": "ipython",
    "version": 3
   },
   "file_extension": ".py",
   "mimetype": "text/x-python",
   "name": "python",
   "nbconvert_exporter": "python",
   "pygments_lexer": "ipython3",
   "version": "3.11.5"
  }
 },
 "nbformat": 4,
 "nbformat_minor": 2
}
