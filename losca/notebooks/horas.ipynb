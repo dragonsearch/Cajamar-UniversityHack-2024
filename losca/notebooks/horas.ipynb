{
 "cells": [
  {
   "cell_type": "code",
   "execution_count": 30,
   "metadata": {},
   "outputs": [],
   "source": [
    "import pandas as pd\n",
    "import matplotlib.pyplot as plt\n"
   ]
  },
  {
   "cell_type": "code",
   "execution_count": 31,
   "metadata": {},
   "outputs": [
    {
     "name": "stdout",
     "output_type": "stream",
     "text": [
      "<class 'pandas.core.frame.DataFrame'>\n",
      "RangeIndex: 984 entries, 0 to 983\n",
      "Data columns (total 4 columns):\n",
      " #   Column     Non-Null Count  Dtype \n",
      "---  ------     --------------  ----- \n",
      " 0   EQUIPO     984 non-null    int64 \n",
      " 1   Operación  984 non-null    object\n",
      " 2   Orden      984 non-null    int64 \n",
      " 3   DATEVALUE  984 non-null    object\n",
      "dtypes: int64(2), object(2)\n",
      "memory usage: 30.9+ KB\n"
     ]
    }
   ],
   "source": [
    "# Load Horas inicio fin centrífugas.xlsx\n",
    "df = pd.read_excel('../../data/raw/Horas inicio fin centrífugas.xlsx')\n",
    "df.info()"
   ]
  },
  {
   "cell_type": "code",
   "execution_count": 32,
   "metadata": {},
   "outputs": [
    {
     "data": {
      "text/html": [
       "<div>\n",
       "<style scoped>\n",
       "    .dataframe tbody tr th:only-of-type {\n",
       "        vertical-align: middle;\n",
       "    }\n",
       "\n",
       "    .dataframe tbody tr th {\n",
       "        vertical-align: top;\n",
       "    }\n",
       "\n",
       "    .dataframe thead th {\n",
       "        text-align: right;\n",
       "    }\n",
       "</style>\n",
       "<table border=\"1\" class=\"dataframe\">\n",
       "  <thead>\n",
       "    <tr style=\"text-align: right;\">\n",
       "      <th></th>\n",
       "      <th>EQUIPO</th>\n",
       "      <th>Operación</th>\n",
       "      <th>Orden</th>\n",
       "      <th>DATEVALUE</th>\n",
       "    </tr>\n",
       "  </thead>\n",
       "  <tbody>\n",
       "    <tr>\n",
       "      <th>0</th>\n",
       "      <td>14246</td>\n",
       "      <td>Centrifugació 1 ini</td>\n",
       "      <td>10005144</td>\n",
       "      <td>05-26-2023 13:45:41</td>\n",
       "    </tr>\n",
       "    <tr>\n",
       "      <th>1</th>\n",
       "      <td>14246</td>\n",
       "      <td>Centrifugació 1 fi</td>\n",
       "      <td>10005144</td>\n",
       "      <td>05-26-2023 15:26:57</td>\n",
       "    </tr>\n",
       "    <tr>\n",
       "      <th>2</th>\n",
       "      <td>14246</td>\n",
       "      <td>Centrifugació 2 ini</td>\n",
       "      <td>10005144</td>\n",
       "      <td>05-26-2023 16:56:30</td>\n",
       "    </tr>\n",
       "    <tr>\n",
       "      <th>3</th>\n",
       "      <td>14246</td>\n",
       "      <td>Centrifugació 2 fi</td>\n",
       "      <td>10005144</td>\n",
       "      <td>05-26-2023 18:18:12</td>\n",
       "    </tr>\n",
       "    <tr>\n",
       "      <th>4</th>\n",
       "      <td>14246</td>\n",
       "      <td>Centrifugació 1 ini</td>\n",
       "      <td>10005176</td>\n",
       "      <td>07-07-2023 11:53:24</td>\n",
       "    </tr>\n",
       "  </tbody>\n",
       "</table>\n",
       "</div>"
      ],
      "text/plain": [
       "   EQUIPO            Operación     Orden            DATEVALUE\n",
       "0   14246  Centrifugació 1 ini  10005144  05-26-2023 13:45:41\n",
       "1   14246   Centrifugació 1 fi  10005144  05-26-2023 15:26:57\n",
       "2   14246  Centrifugació 2 ini  10005144  05-26-2023 16:56:30\n",
       "3   14246   Centrifugació 2 fi  10005144  05-26-2023 18:18:12\n",
       "4   14246  Centrifugació 1 ini  10005176  07-07-2023 11:53:24"
      ]
     },
     "execution_count": 32,
     "metadata": {},
     "output_type": "execute_result"
    }
   ],
   "source": [
    "df.head()"
   ]
  },
  {
   "cell_type": "code",
   "execution_count": 33,
   "metadata": {},
   "outputs": [
    {
     "data": {
      "text/plain": [
       "np.int64(0)"
      ]
     },
     "execution_count": 33,
     "metadata": {},
     "output_type": "execute_result"
    }
   ],
   "source": [
    "# Duplicated rows\n",
    "df.duplicated().sum()"
   ]
  },
  {
   "cell_type": "markdown",
   "metadata": {},
   "source": [
    "## Equipo"
   ]
  },
  {
   "cell_type": "code",
   "execution_count": 34,
   "metadata": {},
   "outputs": [
    {
     "data": {
      "text/plain": [
       "EQUIPO\n",
       "14246    385\n",
       "17825    306\n",
       "12912    293\n",
       "Name: count, dtype: int64"
      ]
     },
     "execution_count": 34,
     "metadata": {},
     "output_type": "execute_result"
    }
   ],
   "source": [
    "# EQUIPO value counts\n",
    "df['EQUIPO'].value_counts()"
   ]
  },
  {
   "cell_type": "code",
   "execution_count": 35,
   "metadata": {},
   "outputs": [],
   "source": [
    "# To str\n",
    "df['EQUIPO'] = df['EQUIPO'].astype(str)"
   ]
  },
  {
   "cell_type": "markdown",
   "metadata": {},
   "source": [
    "## Operación"
   ]
  },
  {
   "cell_type": "code",
   "execution_count": 36,
   "metadata": {},
   "outputs": [
    {
     "data": {
      "text/plain": [
       "Operación\n",
       "Centrifugació 1 ini    247\n",
       "Centrifugació 1 fi     247\n",
       "Centrifugació 2 fi     246\n",
       "Centrifugació 2 ini    244\n",
       "Name: count, dtype: int64"
      ]
     },
     "execution_count": 36,
     "metadata": {},
     "output_type": "execute_result"
    }
   ],
   "source": [
    "df['Operación'].value_counts()"
   ]
  },
  {
   "cell_type": "code",
   "execution_count": 37,
   "metadata": {},
   "outputs": [],
   "source": [
    "# To str\n",
    "df['Operación'] = df['Operación'].astype(str)\n",
    "# For each centrifuga [1,2] Make new columns ini_1, ini_2,fin_1,fin_2\n",
    "centrifugas = ['1', '2']\n",
    "operaciones = ['ini', 'fi']"
   ]
  },
  {
   "cell_type": "code",
   "execution_count": 38,
   "metadata": {},
   "outputs": [],
   "source": [
    "# Make column that matches centrifuga\n",
    "df['Centrifuga'] = str(0)\n",
    "for centrifuga in centrifugas:\n",
    "    df.loc[df['Operación'] == 'Centrifugació ' + centrifuga + ' ini', 'Centrifuga'] = centrifuga\n",
    "    df.loc[df['Operación'] == 'Centrifugació ' + centrifuga + ' fi', 'Centrifuga'] = centrifuga"
   ]
  },
  {
   "cell_type": "code",
   "execution_count": 39,
   "metadata": {},
   "outputs": [],
   "source": [
    "# Make column that matches op\n",
    "df['op'] = str(0)\n",
    "\n",
    "for operacion in operaciones:\n",
    "    df.loc[df['Operación'] == 'Centrifugació ' + '1 ' + operacion, 'op'] = operacion\n",
    "    df.loc[df['Operación'] == 'Centrifugació ' + '2 ' + operacion, 'op'] = operacion\n",
    "# Change ini and fi to 0 and 1\n",
    "df['op'] = df['op'].str.replace('ini', '0')\n",
    "df['op'] = df['op'].str.replace('fi', '1')"
   ]
  },
  {
   "cell_type": "markdown",
   "metadata": {},
   "source": [
    "## Orden"
   ]
  },
  {
   "cell_type": "code",
   "execution_count": 40,
   "metadata": {},
   "outputs": [
    {
     "data": {
      "text/plain": [
       "Orden\n",
       "200209981    5\n",
       "200200380    5\n",
       "10005176     4\n",
       "10005233     4\n",
       "10005271     4\n",
       "            ..\n",
       "200209968    4\n",
       "200209980    4\n",
       "200179220    2\n",
       "200182432    2\n",
       "200184609    2\n",
       "Name: count, Length: 247, dtype: int64"
      ]
     },
     "execution_count": 40,
     "metadata": {},
     "output_type": "execute_result"
    }
   ],
   "source": [
    "# Value counts\n",
    "df['Orden'].value_counts()"
   ]
  },
  {
   "cell_type": "markdown",
   "metadata": {},
   "source": [
    "They should be in multiples of 2. Why is there one with 5"
   ]
  },
  {
   "cell_type": "code",
   "execution_count": 41,
   "metadata": {},
   "outputs": [
    {
     "data": {
      "text/html": [
       "<div>\n",
       "<style scoped>\n",
       "    .dataframe tbody tr th:only-of-type {\n",
       "        vertical-align: middle;\n",
       "    }\n",
       "\n",
       "    .dataframe tbody tr th {\n",
       "        vertical-align: top;\n",
       "    }\n",
       "\n",
       "    .dataframe thead th {\n",
       "        text-align: right;\n",
       "    }\n",
       "</style>\n",
       "<table border=\"1\" class=\"dataframe\">\n",
       "  <thead>\n",
       "    <tr style=\"text-align: right;\">\n",
       "      <th></th>\n",
       "      <th>EQUIPO</th>\n",
       "      <th>Operación</th>\n",
       "      <th>Orden</th>\n",
       "      <th>DATEVALUE</th>\n",
       "      <th>Centrifuga</th>\n",
       "      <th>op</th>\n",
       "    </tr>\n",
       "  </thead>\n",
       "  <tbody>\n",
       "    <tr>\n",
       "      <th>372</th>\n",
       "      <td>14246</td>\n",
       "      <td>Centrifugació 1 ini</td>\n",
       "      <td>200209981</td>\n",
       "      <td>07-25-2024 07:27:48</td>\n",
       "      <td>1</td>\n",
       "      <td>0</td>\n",
       "    </tr>\n",
       "    <tr>\n",
       "      <th>373</th>\n",
       "      <td>14246</td>\n",
       "      <td>Centrifugació 1 fi</td>\n",
       "      <td>200209981</td>\n",
       "      <td>07-25-2024 07:43:45</td>\n",
       "      <td>1</td>\n",
       "      <td>1</td>\n",
       "    </tr>\n",
       "    <tr>\n",
       "      <th>374</th>\n",
       "      <td>14246</td>\n",
       "      <td>Centrifugació 2 ini</td>\n",
       "      <td>200209981</td>\n",
       "      <td>07-25-2024 11:17:35</td>\n",
       "      <td>2</td>\n",
       "      <td>0</td>\n",
       "    </tr>\n",
       "    <tr>\n",
       "      <th>375</th>\n",
       "      <td>14246</td>\n",
       "      <td>Centrifugació 2 fi</td>\n",
       "      <td>200209981</td>\n",
       "      <td>07-25-2024 12:04:23</td>\n",
       "      <td>2</td>\n",
       "      <td>1</td>\n",
       "    </tr>\n",
       "    <tr>\n",
       "      <th>376</th>\n",
       "      <td>14246</td>\n",
       "      <td>Centrifugació 2 fi</td>\n",
       "      <td>200209981</td>\n",
       "      <td>07-25-2024 13:46:48</td>\n",
       "      <td>2</td>\n",
       "      <td>1</td>\n",
       "    </tr>\n",
       "  </tbody>\n",
       "</table>\n",
       "</div>"
      ],
      "text/plain": [
       "    EQUIPO            Operación      Orden            DATEVALUE Centrifuga op\n",
       "372  14246  Centrifugació 1 ini  200209981  07-25-2024 07:27:48          1  0\n",
       "373  14246   Centrifugació 1 fi  200209981  07-25-2024 07:43:45          1  1\n",
       "374  14246  Centrifugació 2 ini  200209981  07-25-2024 11:17:35          2  0\n",
       "375  14246   Centrifugació 2 fi  200209981  07-25-2024 12:04:23          2  1\n",
       "376  14246   Centrifugació 2 fi  200209981  07-25-2024 13:46:48          2  1"
      ]
     },
     "execution_count": 41,
     "metadata": {},
     "output_type": "execute_result"
    }
   ],
   "source": [
    "# To str\n",
    "df['Orden'] = df['Orden'].astype(str)\n",
    "# Check Orden 200209981\n",
    "df[df['Orden'] == '200209981']"
   ]
  },
  {
   "cell_type": "markdown",
   "metadata": {},
   "source": [
    "We can probably assume its the later one. We should doublecheck anyways or drop this orden/value"
   ]
  },
  {
   "cell_type": "code",
   "execution_count": 42,
   "metadata": {},
   "outputs": [
    {
     "data": {
      "text/html": [
       "<div>\n",
       "<style scoped>\n",
       "    .dataframe tbody tr th:only-of-type {\n",
       "        vertical-align: middle;\n",
       "    }\n",
       "\n",
       "    .dataframe tbody tr th {\n",
       "        vertical-align: top;\n",
       "    }\n",
       "\n",
       "    .dataframe thead th {\n",
       "        text-align: right;\n",
       "    }\n",
       "</style>\n",
       "<table border=\"1\" class=\"dataframe\">\n",
       "  <thead>\n",
       "    <tr style=\"text-align: right;\">\n",
       "      <th></th>\n",
       "      <th>EQUIPO</th>\n",
       "      <th>Operación</th>\n",
       "      <th>Orden</th>\n",
       "      <th>DATEVALUE</th>\n",
       "      <th>Centrifuga</th>\n",
       "      <th>op</th>\n",
       "    </tr>\n",
       "  </thead>\n",
       "  <tbody>\n",
       "    <tr>\n",
       "      <th>855</th>\n",
       "      <td>12912</td>\n",
       "      <td>Centrifugació 1 ini</td>\n",
       "      <td>200200380</td>\n",
       "      <td>03-18-2024 08:40:15</td>\n",
       "      <td>1</td>\n",
       "      <td>0</td>\n",
       "    </tr>\n",
       "    <tr>\n",
       "      <th>856</th>\n",
       "      <td>12912</td>\n",
       "      <td>Centrifugació 1 fi</td>\n",
       "      <td>200200380</td>\n",
       "      <td>03-18-2024 12:12:21</td>\n",
       "      <td>1</td>\n",
       "      <td>1</td>\n",
       "    </tr>\n",
       "    <tr>\n",
       "      <th>857</th>\n",
       "      <td>12912</td>\n",
       "      <td>Centrifugació 2 ini</td>\n",
       "      <td>200200380</td>\n",
       "      <td>03-18-2024 12:44:51</td>\n",
       "      <td>2</td>\n",
       "      <td>0</td>\n",
       "    </tr>\n",
       "    <tr>\n",
       "      <th>858</th>\n",
       "      <td>12912</td>\n",
       "      <td>Centrifugació 2 fi</td>\n",
       "      <td>200200380</td>\n",
       "      <td>03-18-2024 12:59:37</td>\n",
       "      <td>2</td>\n",
       "      <td>1</td>\n",
       "    </tr>\n",
       "    <tr>\n",
       "      <th>859</th>\n",
       "      <td>12912</td>\n",
       "      <td>Centrifugació 2 fi</td>\n",
       "      <td>200200380</td>\n",
       "      <td>03-18-2024 14:44:06</td>\n",
       "      <td>2</td>\n",
       "      <td>1</td>\n",
       "    </tr>\n",
       "  </tbody>\n",
       "</table>\n",
       "</div>"
      ],
      "text/plain": [
       "    EQUIPO            Operación      Orden            DATEVALUE Centrifuga op\n",
       "855  12912  Centrifugació 1 ini  200200380  03-18-2024 08:40:15          1  0\n",
       "856  12912   Centrifugació 1 fi  200200380  03-18-2024 12:12:21          1  1\n",
       "857  12912  Centrifugació 2 ini  200200380  03-18-2024 12:44:51          2  0\n",
       "858  12912   Centrifugació 2 fi  200200380  03-18-2024 12:59:37          2  1\n",
       "859  12912   Centrifugació 2 fi  200200380  03-18-2024 14:44:06          2  1"
      ]
     },
     "execution_count": 42,
     "metadata": {},
     "output_type": "execute_result"
    }
   ],
   "source": [
    "# Check Orden 200200380\n",
    "df[df['Orden'] == '200200380']"
   ]
  },
  {
   "cell_type": "markdown",
   "metadata": {},
   "source": [
    "Again."
   ]
  },
  {
   "cell_type": "code",
   "execution_count": 43,
   "metadata": {},
   "outputs": [],
   "source": [
    "# We will drop them for now\n",
    "df = df[df['Orden'] != '200209981']\n",
    "df = df[df['Orden'] != '200200380']\n",
    "df['Orden'].value_counts()\n",
    "# Reset index\n",
    "df = df.reset_index(drop=True)"
   ]
  },
  {
   "cell_type": "code",
   "execution_count": 44,
   "metadata": {},
   "outputs": [
    {
     "name": "stdout",
     "output_type": "stream",
     "text": [
      "<class 'pandas.core.frame.DataFrame'>\n",
      "RangeIndex: 974 entries, 0 to 973\n",
      "Data columns (total 6 columns):\n",
      " #   Column      Non-Null Count  Dtype \n",
      "---  ------      --------------  ----- \n",
      " 0   EQUIPO      974 non-null    object\n",
      " 1   Operación   974 non-null    object\n",
      " 2   Orden       974 non-null    object\n",
      " 3   DATEVALUE   974 non-null    object\n",
      " 4   Centrifuga  974 non-null    object\n",
      " 5   op          974 non-null    object\n",
      "dtypes: object(6)\n",
      "memory usage: 45.8+ KB\n"
     ]
    }
   ],
   "source": [
    "df.info()"
   ]
  },
  {
   "cell_type": "code",
   "execution_count": 45,
   "metadata": {},
   "outputs": [
    {
     "data": {
      "text/plain": [
       "Centrifuga\n",
       "1    490\n",
       "2    484\n",
       "Name: count, dtype: int64"
      ]
     },
     "execution_count": 45,
     "metadata": {},
     "output_type": "execute_result"
    }
   ],
   "source": [
    "# Just to be sure\n",
    "# Is there any Orden with more than 2 centrifugas?\n",
    "df['Centrifuga'].value_counts()\n",
    "#0 NULLs, which means its ok"
   ]
  },
  {
   "cell_type": "code",
   "execution_count": 46,
   "metadata": {},
   "outputs": [
    {
     "data": {
      "text/plain": [
       "1    974\n",
       "Name: count, dtype: int64"
      ]
     },
     "execution_count": 46,
     "metadata": {},
     "output_type": "execute_result"
    }
   ],
   "source": [
    "# If we group by Orden, centrifuga and op we should have 1 row per group\n",
    "df.groupby(['Orden', 'Centrifuga', 'op']).size().value_counts()\n"
   ]
  },
  {
   "cell_type": "markdown",
   "metadata": {},
   "source": [
    "## Reconvert dataframe"
   ]
  },
  {
   "cell_type": "code",
   "execution_count": 47,
   "metadata": {},
   "outputs": [],
   "source": [
    "# We want to simplify the rows. We need 2 columns, one for inicio and one for end\n",
    "df['Inicio'] = str(0)\n",
    "df['Fin'] = str(0)\n",
    "# Whenever we have a 0 in op, we want to put the time in inicio\n",
    "df.loc[df['op'] == '0', 'Inicio'] = df['DATEVALUE']\n",
    "# Whenever we have a 1 in op, we want to put the time in fin\n",
    "df.loc[df['op'] == '1', 'Fin'] = df['DATEVALUE']\n",
    "# Now we merge the rows\n",
    "h = df.groupby(['EQUIPO', 'Orden', 'Centrifuga'], as_index=False).agg({'Inicio': 'first', 'Fin': 'last'})\n"
   ]
  },
  {
   "cell_type": "code",
   "execution_count": 48,
   "metadata": {},
   "outputs": [
    {
     "data": {
      "text/html": [
       "<div>\n",
       "<style scoped>\n",
       "    .dataframe tbody tr th:only-of-type {\n",
       "        vertical-align: middle;\n",
       "    }\n",
       "\n",
       "    .dataframe tbody tr th {\n",
       "        vertical-align: top;\n",
       "    }\n",
       "\n",
       "    .dataframe thead th {\n",
       "        text-align: right;\n",
       "    }\n",
       "</style>\n",
       "<table border=\"1\" class=\"dataframe\">\n",
       "  <thead>\n",
       "    <tr style=\"text-align: right;\">\n",
       "      <th></th>\n",
       "      <th>EQUIPO</th>\n",
       "      <th>Operación</th>\n",
       "      <th>Orden</th>\n",
       "      <th>DATEVALUE</th>\n",
       "      <th>Centrifuga</th>\n",
       "      <th>op</th>\n",
       "      <th>Inicio</th>\n",
       "      <th>Fin</th>\n",
       "    </tr>\n",
       "  </thead>\n",
       "  <tbody>\n",
       "    <tr>\n",
       "      <th>0</th>\n",
       "      <td>14246</td>\n",
       "      <td>Centrifugació 1 ini</td>\n",
       "      <td>10005144</td>\n",
       "      <td>05-26-2023 13:45:41</td>\n",
       "      <td>1</td>\n",
       "      <td>0</td>\n",
       "      <td>05-26-2023 13:45:41</td>\n",
       "      <td>0</td>\n",
       "    </tr>\n",
       "    <tr>\n",
       "      <th>1</th>\n",
       "      <td>14246</td>\n",
       "      <td>Centrifugació 1 fi</td>\n",
       "      <td>10005144</td>\n",
       "      <td>05-26-2023 15:26:57</td>\n",
       "      <td>1</td>\n",
       "      <td>1</td>\n",
       "      <td>0</td>\n",
       "      <td>05-26-2023 15:26:57</td>\n",
       "    </tr>\n",
       "    <tr>\n",
       "      <th>2</th>\n",
       "      <td>14246</td>\n",
       "      <td>Centrifugació 2 ini</td>\n",
       "      <td>10005144</td>\n",
       "      <td>05-26-2023 16:56:30</td>\n",
       "      <td>2</td>\n",
       "      <td>0</td>\n",
       "      <td>05-26-2023 16:56:30</td>\n",
       "      <td>0</td>\n",
       "    </tr>\n",
       "    <tr>\n",
       "      <th>3</th>\n",
       "      <td>14246</td>\n",
       "      <td>Centrifugació 2 fi</td>\n",
       "      <td>10005144</td>\n",
       "      <td>05-26-2023 18:18:12</td>\n",
       "      <td>2</td>\n",
       "      <td>1</td>\n",
       "      <td>0</td>\n",
       "      <td>05-26-2023 18:18:12</td>\n",
       "    </tr>\n",
       "    <tr>\n",
       "      <th>4</th>\n",
       "      <td>14246</td>\n",
       "      <td>Centrifugació 1 ini</td>\n",
       "      <td>10005176</td>\n",
       "      <td>07-07-2023 11:53:24</td>\n",
       "      <td>1</td>\n",
       "      <td>0</td>\n",
       "      <td>07-07-2023 11:53:24</td>\n",
       "      <td>0</td>\n",
       "    </tr>\n",
       "    <tr>\n",
       "      <th>5</th>\n",
       "      <td>14246</td>\n",
       "      <td>Centrifugació 1 fi</td>\n",
       "      <td>10005176</td>\n",
       "      <td>07-07-2023 15:06:24</td>\n",
       "      <td>1</td>\n",
       "      <td>1</td>\n",
       "      <td>0</td>\n",
       "      <td>07-07-2023 15:06:24</td>\n",
       "    </tr>\n",
       "    <tr>\n",
       "      <th>6</th>\n",
       "      <td>14246</td>\n",
       "      <td>Centrifugació 2 ini</td>\n",
       "      <td>10005176</td>\n",
       "      <td>07-07-2023 16:15:02</td>\n",
       "      <td>2</td>\n",
       "      <td>0</td>\n",
       "      <td>07-07-2023 16:15:02</td>\n",
       "      <td>0</td>\n",
       "    </tr>\n",
       "    <tr>\n",
       "      <th>7</th>\n",
       "      <td>14246</td>\n",
       "      <td>Centrifugació 2 fi</td>\n",
       "      <td>10005176</td>\n",
       "      <td>07-07-2023 17:58:02</td>\n",
       "      <td>2</td>\n",
       "      <td>1</td>\n",
       "      <td>0</td>\n",
       "      <td>07-07-2023 17:58:02</td>\n",
       "    </tr>\n",
       "    <tr>\n",
       "      <th>8</th>\n",
       "      <td>14246</td>\n",
       "      <td>Centrifugació 1 ini</td>\n",
       "      <td>10005183</td>\n",
       "      <td>09-08-2023 12:48:53</td>\n",
       "      <td>1</td>\n",
       "      <td>0</td>\n",
       "      <td>09-08-2023 12:48:53</td>\n",
       "      <td>0</td>\n",
       "    </tr>\n",
       "    <tr>\n",
       "      <th>9</th>\n",
       "      <td>14246</td>\n",
       "      <td>Centrifugació 1 fi</td>\n",
       "      <td>10005183</td>\n",
       "      <td>09-08-2023 16:18:56</td>\n",
       "      <td>1</td>\n",
       "      <td>1</td>\n",
       "      <td>0</td>\n",
       "      <td>09-08-2023 16:18:56</td>\n",
       "    </tr>\n",
       "    <tr>\n",
       "      <th>10</th>\n",
       "      <td>14246</td>\n",
       "      <td>Centrifugació 2 ini</td>\n",
       "      <td>10005183</td>\n",
       "      <td>09-08-2023 17:11:03</td>\n",
       "      <td>2</td>\n",
       "      <td>0</td>\n",
       "      <td>09-08-2023 17:11:03</td>\n",
       "      <td>0</td>\n",
       "    </tr>\n",
       "    <tr>\n",
       "      <th>11</th>\n",
       "      <td>14246</td>\n",
       "      <td>Centrifugació 2 fi</td>\n",
       "      <td>10005183</td>\n",
       "      <td>09-08-2023 18:47:19</td>\n",
       "      <td>2</td>\n",
       "      <td>1</td>\n",
       "      <td>0</td>\n",
       "      <td>09-08-2023 18:47:19</td>\n",
       "    </tr>\n",
       "    <tr>\n",
       "      <th>12</th>\n",
       "      <td>14246</td>\n",
       "      <td>Centrifugació 1 ini</td>\n",
       "      <td>10005233</td>\n",
       "      <td>11-23-2023 08:29:16</td>\n",
       "      <td>1</td>\n",
       "      <td>0</td>\n",
       "      <td>11-23-2023 08:29:16</td>\n",
       "      <td>0</td>\n",
       "    </tr>\n",
       "    <tr>\n",
       "      <th>13</th>\n",
       "      <td>14246</td>\n",
       "      <td>Centrifugació 1 fi</td>\n",
       "      <td>10005233</td>\n",
       "      <td>11-23-2023 12:01:12</td>\n",
       "      <td>1</td>\n",
       "      <td>1</td>\n",
       "      <td>0</td>\n",
       "      <td>11-23-2023 12:01:12</td>\n",
       "    </tr>\n",
       "    <tr>\n",
       "      <th>14</th>\n",
       "      <td>14246</td>\n",
       "      <td>Centrifugació 2 ini</td>\n",
       "      <td>10005233</td>\n",
       "      <td>11-23-2023 12:48:13</td>\n",
       "      <td>2</td>\n",
       "      <td>0</td>\n",
       "      <td>11-23-2023 12:48:13</td>\n",
       "      <td>0</td>\n",
       "    </tr>\n",
       "    <tr>\n",
       "      <th>15</th>\n",
       "      <td>14246</td>\n",
       "      <td>Centrifugació 2 fi</td>\n",
       "      <td>10005233</td>\n",
       "      <td>11-23-2023 14:24:31</td>\n",
       "      <td>2</td>\n",
       "      <td>1</td>\n",
       "      <td>0</td>\n",
       "      <td>11-23-2023 14:24:31</td>\n",
       "    </tr>\n",
       "    <tr>\n",
       "      <th>16</th>\n",
       "      <td>14246</td>\n",
       "      <td>Centrifugació 1 ini</td>\n",
       "      <td>10005271</td>\n",
       "      <td>02-23-2024 07:42:54</td>\n",
       "      <td>1</td>\n",
       "      <td>0</td>\n",
       "      <td>02-23-2024 07:42:54</td>\n",
       "      <td>0</td>\n",
       "    </tr>\n",
       "    <tr>\n",
       "      <th>17</th>\n",
       "      <td>14246</td>\n",
       "      <td>Centrifugació 1 fi</td>\n",
       "      <td>10005271</td>\n",
       "      <td>02-23-2024 11:18:07</td>\n",
       "      <td>1</td>\n",
       "      <td>1</td>\n",
       "      <td>0</td>\n",
       "      <td>02-23-2024 11:18:07</td>\n",
       "    </tr>\n",
       "    <tr>\n",
       "      <th>18</th>\n",
       "      <td>14246</td>\n",
       "      <td>Centrifugació 2 ini</td>\n",
       "      <td>10005271</td>\n",
       "      <td>02-23-2024 12:21:27</td>\n",
       "      <td>2</td>\n",
       "      <td>0</td>\n",
       "      <td>02-23-2024 12:21:27</td>\n",
       "      <td>0</td>\n",
       "    </tr>\n",
       "    <tr>\n",
       "      <th>19</th>\n",
       "      <td>14246</td>\n",
       "      <td>Centrifugació 2 fi</td>\n",
       "      <td>10005271</td>\n",
       "      <td>02-23-2024 13:59:37</td>\n",
       "      <td>2</td>\n",
       "      <td>1</td>\n",
       "      <td>0</td>\n",
       "      <td>02-23-2024 13:59:37</td>\n",
       "    </tr>\n",
       "  </tbody>\n",
       "</table>\n",
       "</div>"
      ],
      "text/plain": [
       "   EQUIPO            Operación     Orden            DATEVALUE Centrifuga op  \\\n",
       "0   14246  Centrifugació 1 ini  10005144  05-26-2023 13:45:41          1  0   \n",
       "1   14246   Centrifugació 1 fi  10005144  05-26-2023 15:26:57          1  1   \n",
       "2   14246  Centrifugació 2 ini  10005144  05-26-2023 16:56:30          2  0   \n",
       "3   14246   Centrifugació 2 fi  10005144  05-26-2023 18:18:12          2  1   \n",
       "4   14246  Centrifugació 1 ini  10005176  07-07-2023 11:53:24          1  0   \n",
       "5   14246   Centrifugació 1 fi  10005176  07-07-2023 15:06:24          1  1   \n",
       "6   14246  Centrifugació 2 ini  10005176  07-07-2023 16:15:02          2  0   \n",
       "7   14246   Centrifugació 2 fi  10005176  07-07-2023 17:58:02          2  1   \n",
       "8   14246  Centrifugació 1 ini  10005183  09-08-2023 12:48:53          1  0   \n",
       "9   14246   Centrifugació 1 fi  10005183  09-08-2023 16:18:56          1  1   \n",
       "10  14246  Centrifugació 2 ini  10005183  09-08-2023 17:11:03          2  0   \n",
       "11  14246   Centrifugació 2 fi  10005183  09-08-2023 18:47:19          2  1   \n",
       "12  14246  Centrifugació 1 ini  10005233  11-23-2023 08:29:16          1  0   \n",
       "13  14246   Centrifugació 1 fi  10005233  11-23-2023 12:01:12          1  1   \n",
       "14  14246  Centrifugació 2 ini  10005233  11-23-2023 12:48:13          2  0   \n",
       "15  14246   Centrifugació 2 fi  10005233  11-23-2023 14:24:31          2  1   \n",
       "16  14246  Centrifugació 1 ini  10005271  02-23-2024 07:42:54          1  0   \n",
       "17  14246   Centrifugació 1 fi  10005271  02-23-2024 11:18:07          1  1   \n",
       "18  14246  Centrifugació 2 ini  10005271  02-23-2024 12:21:27          2  0   \n",
       "19  14246   Centrifugació 2 fi  10005271  02-23-2024 13:59:37          2  1   \n",
       "\n",
       "                 Inicio                  Fin  \n",
       "0   05-26-2023 13:45:41                    0  \n",
       "1                     0  05-26-2023 15:26:57  \n",
       "2   05-26-2023 16:56:30                    0  \n",
       "3                     0  05-26-2023 18:18:12  \n",
       "4   07-07-2023 11:53:24                    0  \n",
       "5                     0  07-07-2023 15:06:24  \n",
       "6   07-07-2023 16:15:02                    0  \n",
       "7                     0  07-07-2023 17:58:02  \n",
       "8   09-08-2023 12:48:53                    0  \n",
       "9                     0  09-08-2023 16:18:56  \n",
       "10  09-08-2023 17:11:03                    0  \n",
       "11                    0  09-08-2023 18:47:19  \n",
       "12  11-23-2023 08:29:16                    0  \n",
       "13                    0  11-23-2023 12:01:12  \n",
       "14  11-23-2023 12:48:13                    0  \n",
       "15                    0  11-23-2023 14:24:31  \n",
       "16  02-23-2024 07:42:54                    0  \n",
       "17                    0  02-23-2024 11:18:07  \n",
       "18  02-23-2024 12:21:27                    0  \n",
       "19                    0  02-23-2024 13:59:37  "
      ]
     },
     "execution_count": 48,
     "metadata": {},
     "output_type": "execute_result"
    }
   ],
   "source": [
    "df.head(20)"
   ]
  },
  {
   "cell_type": "code",
   "execution_count": 49,
   "metadata": {},
   "outputs": [
    {
     "name": "stdout",
     "output_type": "stream",
     "text": [
      "Empty DataFrame\n",
      "Columns: [EQUIPO, Orden, Centrifuga, Inicio, Fin]\n",
      "Index: []\n"
     ]
    },
    {
     "data": {
      "text/html": [
       "<div>\n",
       "<style scoped>\n",
       "    .dataframe tbody tr th:only-of-type {\n",
       "        vertical-align: middle;\n",
       "    }\n",
       "\n",
       "    .dataframe tbody tr th {\n",
       "        vertical-align: top;\n",
       "    }\n",
       "\n",
       "    .dataframe thead th {\n",
       "        text-align: right;\n",
       "    }\n",
       "</style>\n",
       "<table border=\"1\" class=\"dataframe\">\n",
       "  <thead>\n",
       "    <tr style=\"text-align: right;\">\n",
       "      <th></th>\n",
       "      <th>EQUIPO</th>\n",
       "      <th>Orden</th>\n",
       "      <th>Centrifuga</th>\n",
       "      <th>Inicio</th>\n",
       "      <th>Fin</th>\n",
       "    </tr>\n",
       "  </thead>\n",
       "  <tbody>\n",
       "    <tr>\n",
       "      <th>0</th>\n",
       "      <td>12912</td>\n",
       "      <td>10005236</td>\n",
       "      <td>1</td>\n",
       "      <td>11-30-2023 08:38:34</td>\n",
       "      <td>11-30-2023 11:46:33</td>\n",
       "    </tr>\n",
       "    <tr>\n",
       "      <th>1</th>\n",
       "      <td>12912</td>\n",
       "      <td>10005236</td>\n",
       "      <td>2</td>\n",
       "      <td>11-30-2023 12:50:22</td>\n",
       "      <td>11-30-2023 14:27:29</td>\n",
       "    </tr>\n",
       "  </tbody>\n",
       "</table>\n",
       "</div>"
      ],
      "text/plain": [
       "  EQUIPO     Orden Centrifuga               Inicio                  Fin\n",
       "0  12912  10005236          1  11-30-2023 08:38:34  11-30-2023 11:46:33\n",
       "1  12912  10005236          2  11-30-2023 12:50:22  11-30-2023 14:27:29"
      ]
     },
     "execution_count": 49,
     "metadata": {},
     "output_type": "execute_result"
    }
   ],
   "source": [
    "# Print orden == 10005144\n",
    "print(h[h['Orden'] == 10005144])\n",
    "h.head(2)\n"
   ]
  },
  {
   "cell_type": "code",
   "execution_count": 50,
   "metadata": {},
   "outputs": [
    {
     "name": "stdout",
     "output_type": "stream",
     "text": [
      "<class 'pandas.core.frame.DataFrame'>\n",
      "RangeIndex: 487 entries, 0 to 486\n",
      "Data columns (total 5 columns):\n",
      " #   Column      Non-Null Count  Dtype \n",
      "---  ------      --------------  ----- \n",
      " 0   EQUIPO      487 non-null    object\n",
      " 1   Orden       487 non-null    object\n",
      " 2   Centrifuga  487 non-null    object\n",
      " 3   Inicio      487 non-null    object\n",
      " 4   Fin         487 non-null    object\n",
      "dtypes: object(5)\n",
      "memory usage: 19.2+ KB\n"
     ]
    }
   ],
   "source": [
    "h.info()"
   ]
  },
  {
   "cell_type": "code",
   "execution_count": 51,
   "metadata": {},
   "outputs": [],
   "source": [
    "h['EQUIPO'] = h['EQUIPO'].astype(str)\n",
    "h['Orden'] = h['Orden'].astype(str)\n",
    "h['Centrifuga'] = h['Centrifuga'].astype(str)\n",
    "h['Inicio'] = pd.to_datetime(h['Inicio'])\n",
    "h['Fin'] = pd.to_datetime(h['Fin'])"
   ]
  },
  {
   "cell_type": "code",
   "execution_count": 52,
   "metadata": {},
   "outputs": [],
   "source": [
    "# Rename EQUIPO to Equipo\n",
    "h = h.rename(columns={'EQUIPO': 'Equipo'})"
   ]
  },
  {
   "cell_type": "markdown",
   "metadata": {},
   "source": [
    "## DATEVALUE"
   ]
  },
  {
   "cell_type": "code",
   "execution_count": 53,
   "metadata": {},
   "outputs": [
    {
     "data": {
      "text/html": [
       "<div>\n",
       "<style scoped>\n",
       "    .dataframe tbody tr th:only-of-type {\n",
       "        vertical-align: middle;\n",
       "    }\n",
       "\n",
       "    .dataframe tbody tr th {\n",
       "        vertical-align: top;\n",
       "    }\n",
       "\n",
       "    .dataframe thead th {\n",
       "        text-align: right;\n",
       "    }\n",
       "</style>\n",
       "<table border=\"1\" class=\"dataframe\">\n",
       "  <thead>\n",
       "    <tr style=\"text-align: right;\">\n",
       "      <th></th>\n",
       "      <th>EQUIPO</th>\n",
       "      <th>Operación</th>\n",
       "      <th>Orden</th>\n",
       "      <th>DATEVALUE</th>\n",
       "      <th>Centrifuga</th>\n",
       "      <th>op</th>\n",
       "      <th>Inicio</th>\n",
       "      <th>Fin</th>\n",
       "    </tr>\n",
       "  </thead>\n",
       "  <tbody>\n",
       "    <tr>\n",
       "      <th>0</th>\n",
       "      <td>14246</td>\n",
       "      <td>Centrifugació 1 ini</td>\n",
       "      <td>10005144</td>\n",
       "      <td>2023-05-26 13:45:41</td>\n",
       "      <td>1</td>\n",
       "      <td>0</td>\n",
       "      <td>05-26-2023 13:45:41</td>\n",
       "      <td>0</td>\n",
       "    </tr>\n",
       "    <tr>\n",
       "      <th>1</th>\n",
       "      <td>14246</td>\n",
       "      <td>Centrifugació 1 fi</td>\n",
       "      <td>10005144</td>\n",
       "      <td>2023-05-26 15:26:57</td>\n",
       "      <td>1</td>\n",
       "      <td>1</td>\n",
       "      <td>0</td>\n",
       "      <td>05-26-2023 15:26:57</td>\n",
       "    </tr>\n",
       "    <tr>\n",
       "      <th>2</th>\n",
       "      <td>14246</td>\n",
       "      <td>Centrifugació 2 ini</td>\n",
       "      <td>10005144</td>\n",
       "      <td>2023-05-26 16:56:30</td>\n",
       "      <td>2</td>\n",
       "      <td>0</td>\n",
       "      <td>05-26-2023 16:56:30</td>\n",
       "      <td>0</td>\n",
       "    </tr>\n",
       "    <tr>\n",
       "      <th>3</th>\n",
       "      <td>14246</td>\n",
       "      <td>Centrifugació 2 fi</td>\n",
       "      <td>10005144</td>\n",
       "      <td>2023-05-26 18:18:12</td>\n",
       "      <td>2</td>\n",
       "      <td>1</td>\n",
       "      <td>0</td>\n",
       "      <td>05-26-2023 18:18:12</td>\n",
       "    </tr>\n",
       "    <tr>\n",
       "      <th>4</th>\n",
       "      <td>14246</td>\n",
       "      <td>Centrifugació 1 ini</td>\n",
       "      <td>10005176</td>\n",
       "      <td>2023-07-07 11:53:24</td>\n",
       "      <td>1</td>\n",
       "      <td>0</td>\n",
       "      <td>07-07-2023 11:53:24</td>\n",
       "      <td>0</td>\n",
       "    </tr>\n",
       "    <tr>\n",
       "      <th>...</th>\n",
       "      <td>...</td>\n",
       "      <td>...</td>\n",
       "      <td>...</td>\n",
       "      <td>...</td>\n",
       "      <td>...</td>\n",
       "      <td>...</td>\n",
       "      <td>...</td>\n",
       "      <td>...</td>\n",
       "    </tr>\n",
       "    <tr>\n",
       "      <th>969</th>\n",
       "      <td>12912</td>\n",
       "      <td>Centrifugació 2 fi</td>\n",
       "      <td>200209978</td>\n",
       "      <td>2024-07-24 12:43:33</td>\n",
       "      <td>2</td>\n",
       "      <td>1</td>\n",
       "      <td>0</td>\n",
       "      <td>07-24-2024 12:43:33</td>\n",
       "    </tr>\n",
       "    <tr>\n",
       "      <th>970</th>\n",
       "      <td>12912</td>\n",
       "      <td>Centrifugació 1 ini</td>\n",
       "      <td>200209980</td>\n",
       "      <td>2024-07-25 07:44:43</td>\n",
       "      <td>1</td>\n",
       "      <td>0</td>\n",
       "      <td>07-25-2024 07:44:43</td>\n",
       "      <td>0</td>\n",
       "    </tr>\n",
       "    <tr>\n",
       "      <th>971</th>\n",
       "      <td>12912</td>\n",
       "      <td>Centrifugació 1 fi</td>\n",
       "      <td>200209980</td>\n",
       "      <td>2024-07-25 11:18:25</td>\n",
       "      <td>1</td>\n",
       "      <td>1</td>\n",
       "      <td>0</td>\n",
       "      <td>07-25-2024 11:18:25</td>\n",
       "    </tr>\n",
       "    <tr>\n",
       "      <th>972</th>\n",
       "      <td>12912</td>\n",
       "      <td>Centrifugació 2 ini</td>\n",
       "      <td>200209980</td>\n",
       "      <td>2024-07-25 12:08:37</td>\n",
       "      <td>2</td>\n",
       "      <td>0</td>\n",
       "      <td>07-25-2024 12:08:37</td>\n",
       "      <td>0</td>\n",
       "    </tr>\n",
       "    <tr>\n",
       "      <th>973</th>\n",
       "      <td>12912</td>\n",
       "      <td>Centrifugació 2 fi</td>\n",
       "      <td>200209980</td>\n",
       "      <td>2024-07-25 13:47:25</td>\n",
       "      <td>2</td>\n",
       "      <td>1</td>\n",
       "      <td>0</td>\n",
       "      <td>07-25-2024 13:47:25</td>\n",
       "    </tr>\n",
       "  </tbody>\n",
       "</table>\n",
       "<p>974 rows × 8 columns</p>\n",
       "</div>"
      ],
      "text/plain": [
       "    EQUIPO            Operación      Orden           DATEVALUE Centrifuga op  \\\n",
       "0    14246  Centrifugació 1 ini   10005144 2023-05-26 13:45:41          1  0   \n",
       "1    14246   Centrifugació 1 fi   10005144 2023-05-26 15:26:57          1  1   \n",
       "2    14246  Centrifugació 2 ini   10005144 2023-05-26 16:56:30          2  0   \n",
       "3    14246   Centrifugació 2 fi   10005144 2023-05-26 18:18:12          2  1   \n",
       "4    14246  Centrifugació 1 ini   10005176 2023-07-07 11:53:24          1  0   \n",
       "..     ...                  ...        ...                 ...        ... ..   \n",
       "969  12912   Centrifugació 2 fi  200209978 2024-07-24 12:43:33          2  1   \n",
       "970  12912  Centrifugació 1 ini  200209980 2024-07-25 07:44:43          1  0   \n",
       "971  12912   Centrifugació 1 fi  200209980 2024-07-25 11:18:25          1  1   \n",
       "972  12912  Centrifugació 2 ini  200209980 2024-07-25 12:08:37          2  0   \n",
       "973  12912   Centrifugació 2 fi  200209980 2024-07-25 13:47:25          2  1   \n",
       "\n",
       "                  Inicio                  Fin  \n",
       "0    05-26-2023 13:45:41                    0  \n",
       "1                      0  05-26-2023 15:26:57  \n",
       "2    05-26-2023 16:56:30                    0  \n",
       "3                      0  05-26-2023 18:18:12  \n",
       "4    07-07-2023 11:53:24                    0  \n",
       "..                   ...                  ...  \n",
       "969                    0  07-24-2024 12:43:33  \n",
       "970  07-25-2024 07:44:43                    0  \n",
       "971                    0  07-25-2024 11:18:25  \n",
       "972  07-25-2024 12:08:37                    0  \n",
       "973                    0  07-25-2024 13:47:25  \n",
       "\n",
       "[974 rows x 8 columns]"
      ]
     },
     "execution_count": 53,
     "metadata": {},
     "output_type": "execute_result"
    }
   ],
   "source": [
    "# DATEVALUE TO DATETIME\n",
    "df['DATEVALUE'] = pd.to_datetime(df['DATEVALUE'])\n",
    "df"
   ]
  },
  {
   "cell_type": "markdown",
   "metadata": {},
   "source": [
    "NEW POSSIBLE FEATURE: How many days between each centrifugation?"
   ]
  },
  {
   "cell_type": "code",
   "execution_count": 54,
   "metadata": {},
   "outputs": [
    {
     "data": {
      "text/html": [
       "<div>\n",
       "<style scoped>\n",
       "    .dataframe tbody tr th:only-of-type {\n",
       "        vertical-align: middle;\n",
       "    }\n",
       "\n",
       "    .dataframe tbody tr th {\n",
       "        vertical-align: top;\n",
       "    }\n",
       "\n",
       "    .dataframe thead th {\n",
       "        text-align: right;\n",
       "    }\n",
       "</style>\n",
       "<table border=\"1\" class=\"dataframe\">\n",
       "  <thead>\n",
       "    <tr style=\"text-align: right;\">\n",
       "      <th></th>\n",
       "      <th>Equipo</th>\n",
       "      <th>Orden</th>\n",
       "      <th>Centrifuga</th>\n",
       "      <th>Inicio</th>\n",
       "      <th>Fin</th>\n",
       "    </tr>\n",
       "  </thead>\n",
       "  <tbody>\n",
       "  </tbody>\n",
       "</table>\n",
       "</div>"
      ],
      "text/plain": [
       "Empty DataFrame\n",
       "Columns: [Equipo, Orden, Centrifuga, Inicio, Fin]\n",
       "Index: []"
      ]
     },
     "execution_count": 54,
     "metadata": {},
     "output_type": "execute_result"
    }
   ],
   "source": [
    "# is there any Inicio > Fin?\n",
    "h[h['Inicio'] > h['Fin']]\n"
   ]
  },
  {
   "cell_type": "code",
   "execution_count": 55,
   "metadata": {},
   "outputs": [
    {
     "data": {
      "text/html": [
       "<div>\n",
       "<style scoped>\n",
       "    .dataframe tbody tr th:only-of-type {\n",
       "        vertical-align: middle;\n",
       "    }\n",
       "\n",
       "    .dataframe tbody tr th {\n",
       "        vertical-align: top;\n",
       "    }\n",
       "\n",
       "    .dataframe thead th {\n",
       "        text-align: right;\n",
       "    }\n",
       "</style>\n",
       "<table border=\"1\" class=\"dataframe\">\n",
       "  <thead>\n",
       "    <tr style=\"text-align: right;\">\n",
       "      <th></th>\n",
       "      <th>Equipo</th>\n",
       "      <th>Orden</th>\n",
       "      <th>Centrifuga</th>\n",
       "      <th>Inicio</th>\n",
       "      <th>Fin</th>\n",
       "    </tr>\n",
       "  </thead>\n",
       "  <tbody>\n",
       "  </tbody>\n",
       "</table>\n",
       "</div>"
      ],
      "text/plain": [
       "Empty DataFrame\n",
       "Columns: [Equipo, Orden, Centrifuga, Inicio, Fin]\n",
       "Index: []"
      ]
     },
     "execution_count": 55,
     "metadata": {},
     "output_type": "execute_result"
    }
   ],
   "source": [
    "# Is there any Inicio == Fin?\n",
    "h[h['Inicio'] == h['Fin']]"
   ]
  },
  {
   "cell_type": "markdown",
   "metadata": {},
   "source": [
    "## We should save h dataframe. NOT df as it is more useful."
   ]
  },
  {
   "cell_type": "code",
   "execution_count": 56,
   "metadata": {},
   "outputs": [
    {
     "name": "stdout",
     "output_type": "stream",
     "text": [
      "<class 'pandas.core.frame.DataFrame'>\n",
      "RangeIndex: 487 entries, 0 to 486\n",
      "Data columns (total 5 columns):\n",
      " #   Column      Non-Null Count  Dtype         \n",
      "---  ------      --------------  -----         \n",
      " 0   Equipo      487 non-null    object        \n",
      " 1   Orden       487 non-null    object        \n",
      " 2   Centrifuga  487 non-null    object        \n",
      " 3   Inicio      487 non-null    datetime64[ns]\n",
      " 4   Fin         487 non-null    datetime64[ns]\n",
      "dtypes: datetime64[ns](2), object(3)\n",
      "memory usage: 19.2+ KB\n"
     ]
    }
   ],
   "source": [
    "h.info()"
   ]
  },
  {
   "cell_type": "code",
   "execution_count": 57,
   "metadata": {},
   "outputs": [],
   "source": [
    "# Save to csv\n",
    "h.to_csv('../../data/processed/horas.csv', index=False)"
   ]
  }
 ],
 "metadata": {
  "kernelspec": {
   "display_name": "losca-RpR7jZx6-py3.11",
   "language": "python",
   "name": "python3"
  },
  "language_info": {
   "codemirror_mode": {
    "name": "ipython",
    "version": 3
   },
   "file_extension": ".py",
   "mimetype": "text/x-python",
   "name": "python",
   "nbconvert_exporter": "python",
   "pygments_lexer": "ipython3",
   "version": "3.11.5"
  }
 },
 "nbformat": 4,
 "nbformat_minor": 2
}
