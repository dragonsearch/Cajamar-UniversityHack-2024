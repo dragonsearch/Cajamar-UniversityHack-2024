{
 "cells": [
  {
   "cell_type": "markdown",
   "metadata": {},
   "source": [
    "# Possible errors (outliers)"
   ]
  },
  {
   "cell_type": "code",
   "execution_count": 121,
   "metadata": {},
   "outputs": [],
   "source": [
    "import matplotlib.pyplot as plt\n",
    "import pandas as pd\n",
    "import numpy as np"
   ]
  },
  {
   "cell_type": "code",
   "execution_count": 122,
   "metadata": {},
   "outputs": [],
   "source": [
    "train_df = pd.read_pickle('../../data/processed/cf_mc_ino_pino_of_bt_ct.pkl')"
   ]
  },
  {
   "cell_type": "code",
   "execution_count": 123,
   "metadata": {},
   "outputs": [],
   "source": [
    "test_df = pd.read_pickle('../../data/processed/test_mc_ino_pino_of.pkl')"
   ]
  },
  {
   "cell_type": "code",
   "execution_count": 124,
   "metadata": {},
   "outputs": [],
   "source": [
    "cols_to_check = ['turbidez_diff_cf', 'turb_fin_cultivo_cf', 'pres_par_O2_1_bt_min_cf',\n",
    "                'h_bio_th_cf', 'pres_par_O2_1_bt_cf', 'dur_ino', 'presion_agua_ct_min_cf',\n",
    "                'total_sol_base_bt_cf', 'total_sol_base_bt_last_cf', 'contrapresion_ct_max_cf']"
   ]
  },
  {
   "cell_type": "code",
   "execution_count": 125,
   "metadata": {},
   "outputs": [],
   "source": [
    "to_check_df_train = train_df[cols_to_check].copy()"
   ]
  },
  {
   "cell_type": "code",
   "execution_count": 126,
   "metadata": {},
   "outputs": [],
   "source": [
    "to_check_df_test = test_df[cols_to_check].copy()"
   ]
  },
  {
   "cell_type": "markdown",
   "metadata": {},
   "source": [
    "## pres_par_O2_1_bt_min_cf"
   ]
  },
  {
   "cell_type": "code",
   "execution_count": 128,
   "metadata": {},
   "outputs": [
    {
     "data": {
      "text/plain": [
       "np.float64(527.8008416030727)"
      ]
     },
     "execution_count": 128,
     "metadata": {},
     "output_type": "execute_result"
    }
   ],
   "source": [
    "upper_limit = to_check_df_train['pres_par_O2_1_bt_min_cf'].mean() + 3*to_check_df_train['pres_par_O2_1_bt_min_cf'].std()\n",
    "upper_limit"
   ]
  },
  {
   "cell_type": "code",
   "execution_count": 129,
   "metadata": {},
   "outputs": [],
   "source": [
    "# Impute with median to_check_df_train[to_check_df_train['pres_par_O2_1_bt_min_cf'] > upper_limit]\n",
    "to_check_df_train['pres_par_O2_1_bt_min_cf'] = to_check_df_train['pres_par_O2_1_bt_min_cf'].apply(lambda x: to_check_df_train['pres_par_O2_1_bt_min_cf'].median() if x > upper_limit else x)\n"
   ]
  },
  {
   "cell_type": "code",
   "execution_count": 130,
   "metadata": {},
   "outputs": [],
   "source": [
    "#to_check_df_train.drop(index = to_check_df_train[to_check_df_train['pres_par_O2_1_bt_min_cf'] > upper_limit].index.to_list(), inplace=True)"
   ]
  },
  {
   "cell_type": "markdown",
   "metadata": {},
   "source": [
    "## pres_par_O2_1_bt_cf"
   ]
  },
  {
   "cell_type": "code",
   "execution_count": 131,
   "metadata": {},
   "outputs": [
    {
     "data": {
      "text/plain": [
       "np.float64(3805.8929330769906)"
      ]
     },
     "execution_count": 131,
     "metadata": {},
     "output_type": "execute_result"
    }
   ],
   "source": [
    "upper_limit = to_check_df_train['pres_par_O2_1_bt_cf'].mean() + 3*to_check_df_train['pres_par_O2_1_bt_cf'].std()\n",
    "upper_limit"
   ]
  },
  {
   "cell_type": "code",
   "execution_count": 132,
   "metadata": {},
   "outputs": [],
   "source": [
    "# Impute with median to_check_df_train[to_check_df_train['pres_par_O2_1_bt_cf'] > upper_limit]\n",
    "to_check_df_train['pres_par_O2_1_bt_cf'] = to_check_df_train['pres_par_O2_1_bt_cf'].apply(lambda x: to_check_df_train['pres_par_O2_1_bt_cf'].median() if x > upper_limit else x)"
   ]
  },
  {
   "cell_type": "code",
   "execution_count": 133,
   "metadata": {},
   "outputs": [],
   "source": [
    "#to_check_df_train.drop(index = to_check_df_train[to_check_df_train['pres_par_O2_1_bt_cf'] > upper_limit].index.to_list(), inplace=True)"
   ]
  },
  {
   "cell_type": "markdown",
   "metadata": {},
   "source": [
    "## dur_ino"
   ]
  },
  {
   "cell_type": "code",
   "execution_count": 134,
   "metadata": {},
   "outputs": [
    {
     "data": {
      "text/plain": [
       "np.float64(101871.83289837406)"
      ]
     },
     "execution_count": 134,
     "metadata": {},
     "output_type": "execute_result"
    }
   ],
   "source": [
    "upper_limit = to_check_df_train['dur_ino'].mean() + 3*to_check_df_train['dur_ino'].std()\n",
    "upper_limit"
   ]
  },
  {
   "cell_type": "code",
   "execution_count": 135,
   "metadata": {},
   "outputs": [],
   "source": [
    "# Impute with median to_check_df_train[to_check_df_train['dur_ino'] > upper_limit]\n",
    "to_check_df_train['dur_ino'] = to_check_df_train['dur_ino'].apply(lambda x: to_check_df_train['dur_ino'].median() if x > upper_limit else x)"
   ]
  },
  {
   "cell_type": "code",
   "execution_count": 136,
   "metadata": {},
   "outputs": [],
   "source": [
    "#to_check_df_train.drop(index = to_check_df_train[to_check_df_train['dur_ino'] > upper_limit].index.to_list(), inplace=True)"
   ]
  },
  {
   "cell_type": "markdown",
   "metadata": {},
   "source": [
    "## total_sol_base_bt_last_cf"
   ]
  },
  {
   "cell_type": "code",
   "execution_count": 137,
   "metadata": {},
   "outputs": [
    {
     "data": {
      "text/plain": [
       "np.float64(15342.787501072358)"
      ]
     },
     "execution_count": 137,
     "metadata": {},
     "output_type": "execute_result"
    }
   ],
   "source": [
    "upper_limit = to_check_df_train['total_sol_base_bt_last_cf'].mean() + 3*to_check_df_train['total_sol_base_bt_last_cf'].std()\n",
    "upper_limit"
   ]
  },
  {
   "cell_type": "code",
   "execution_count": 138,
   "metadata": {},
   "outputs": [],
   "source": [
    "# Impute with median to_check_df_train[to_check_df_train['total_sol_base_bt_last_cf'] > upper_limit]\n",
    "to_check_df_train['total_sol_base_bt_last_cf'] = to_check_df_train['total_sol_base_bt_last_cf'].apply(lambda x: to_check_df_train['total_sol_base_bt_last_cf'].median() if x > upper_limit else x)"
   ]
  },
  {
   "cell_type": "code",
   "execution_count": 139,
   "metadata": {},
   "outputs": [],
   "source": [
    "#to_check_df_train.drop(index = to_check_df_train[to_check_df_train['total_sol_base_bt_last_cf'] > upper_limit].index.to_list(), inplace=True)"
   ]
  },
  {
   "cell_type": "markdown",
   "metadata": {},
   "source": [
    "## Save changes"
   ]
  },
  {
   "cell_type": "code",
   "execution_count": 140,
   "metadata": {},
   "outputs": [],
   "source": [
    "train_df.update(to_check_df_train)"
   ]
  },
  {
   "cell_type": "code",
   "execution_count": 141,
   "metadata": {},
   "outputs": [],
   "source": [
    "train_df = train_df.iloc[to_check_df_train.index.to_list(), :]"
   ]
  },
  {
   "cell_type": "code",
   "execution_count": 142,
   "metadata": {},
   "outputs": [],
   "source": [
    "path = '../../data/processed/'\n",
    "train_df.to_pickle(path + 'train_no_outliers.pkl')"
   ]
  }
 ],
 "metadata": {
  "kernelspec": {
   "display_name": "losca-RpR7jZx6-py3.11",
   "language": "python",
   "name": "python3"
  },
  "language_info": {
   "codemirror_mode": {
    "name": "ipython",
    "version": 3
   },
   "file_extension": ".py",
   "mimetype": "text/x-python",
   "name": "python",
   "nbconvert_exporter": "python",
   "pygments_lexer": "ipython3",
   "version": "3.11.5"
  }
 },
 "nbformat": 4,
 "nbformat_minor": 2
}
