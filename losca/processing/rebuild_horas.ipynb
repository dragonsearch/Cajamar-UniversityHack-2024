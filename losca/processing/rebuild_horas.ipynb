{
 "cells": [
  {
   "cell_type": "code",
   "execution_count": 19,
   "metadata": {},
   "outputs": [],
   "source": [
    "import pandas as pd"
   ]
  },
  {
   "cell_type": "code",
   "execution_count": 20,
   "metadata": {},
   "outputs": [
    {
     "name": "stdout",
     "output_type": "stream",
     "text": [
      "<class 'pandas.core.frame.DataFrame'>\n",
      "RangeIndex: 487 entries, 0 to 486\n",
      "Data columns (total 5 columns):\n",
      " #   Column      Non-Null Count  Dtype \n",
      "---  ------      --------------  ----- \n",
      " 0   Equipo      487 non-null    int64 \n",
      " 1   Orden       487 non-null    int64 \n",
      " 2   Centrifuga  487 non-null    int64 \n",
      " 3   Inicio      487 non-null    object\n",
      " 4   Fin         487 non-null    object\n",
      "dtypes: int64(3), object(2)\n",
      "memory usage: 19.2+ KB\n"
     ]
    }
   ],
   "source": [
    "# load horas centrifugas\n",
    "hc = pd.read_csv('../../data/processed/horas.csv')\n",
    "hc.info()"
   ]
  },
  {
   "cell_type": "code",
   "execution_count": 21,
   "metadata": {},
   "outputs": [
    {
     "name": "stdout",
     "output_type": "stream",
     "text": [
      "<class 'pandas.core.frame.DataFrame'>\n",
      "RangeIndex: 487 entries, 0 to 486\n",
      "Data columns (total 5 columns):\n",
      " #   Column               Non-Null Count  Dtype \n",
      "---  ------               --------------  ----- \n",
      " 0   equipo               487 non-null    int64 \n",
      " 1   orden                487 non-null    int64 \n",
      " 2   n_centrifugacion_hc  487 non-null    int64 \n",
      " 3   f_inicio_hc          487 non-null    object\n",
      " 4   f_fin_hc             487 non-null    object\n",
      "dtypes: int64(3), object(2)\n",
      "memory usage: 19.2+ KB\n"
     ]
    }
   ],
   "source": [
    "# Rename columns\n",
    "hc.columns = ['equipo', 'orden', 'n_centrifugacion_hc', 'f_inicio_hc', 'f_fin_hc']\n",
    "hc.info()"
   ]
  },
  {
   "cell_type": "code",
   "execution_count": 22,
   "metadata": {},
   "outputs": [
    {
     "name": "stdout",
     "output_type": "stream",
     "text": [
      "<class 'pandas.core.frame.DataFrame'>\n",
      "RangeIndex: 487 entries, 0 to 486\n",
      "Data columns (total 5 columns):\n",
      " #   Column               Non-Null Count  Dtype         \n",
      "---  ------               --------------  -----         \n",
      " 0   equipo               487 non-null    object        \n",
      " 1   orden                487 non-null    object        \n",
      " 2   n_centrifugacion_hc  487 non-null    object        \n",
      " 3   f_inicio_hc          487 non-null    datetime64[ns]\n",
      " 4   f_fin_hc             487 non-null    datetime64[ns]\n",
      "dtypes: datetime64[ns](2), object(3)\n",
      "memory usage: 19.2+ KB\n"
     ]
    }
   ],
   "source": [
    "# equipo should be string\n",
    "hc['equipo'] = hc['equipo'].astype(str)\n",
    "# orden should be string\n",
    "hc['orden'] = hc['orden'].astype(str)\n",
    "# centr_hc string\n",
    "hc['n_centrifugacion_hc'] = hc['n_centrifugacion_hc'].astype(str)\n",
    "# f_inicio_hc should be datetime\n",
    "hc['f_inicio_hc'] = pd.to_datetime(hc['f_inicio_hc'])\n",
    "# f_fin_hc should be datetime\n",
    "hc['f_fin_hc'] = pd.to_datetime(hc['f_fin_hc'])\n",
    "\n",
    "hc.info()"
   ]
  },
  {
   "cell_type": "code",
   "execution_count": 23,
   "metadata": {},
   "outputs": [
    {
     "data": {
      "text/plain": [
       "0   2023-11-30 08:38:34\n",
       "1   2023-11-30 12:50:22\n",
       "2   2024-02-02 08:39:16\n",
       "3   2024-02-02 11:50:13\n",
       "4   2023-03-24 08:11:53\n",
       "Name: f_inicio_hc, dtype: datetime64[ns]"
      ]
     },
     "execution_count": 23,
     "metadata": {},
     "output_type": "execute_result"
    }
   ],
   "source": [
    "# f_inicio_hc head\n",
    "hc['f_inicio_hc'].head()"
   ]
  },
  {
   "cell_type": "code",
   "execution_count": 24,
   "metadata": {},
   "outputs": [],
   "source": [
    "# It is a Madrid time zone. Convert to UTC\n",
    "hc['f_inicio_hc'] = hc['f_inicio_hc'].dt.tz_localize('Europe/Madrid').dt.tz_convert('UTC')\n",
    "hc['f_fin_hc'] = hc['f_fin_hc'].dt.tz_localize('Europe/Madrid').dt.tz_convert('UTC')"
   ]
  },
  {
   "cell_type": "code",
   "execution_count": 25,
   "metadata": {},
   "outputs": [],
   "source": [
    "# save as pkl\n",
    "hc.to_pickle('../../data/processed/horas.pkl')"
   ]
  }
 ],
 "metadata": {
  "kernelspec": {
   "display_name": "losca-RpR7jZx6-py3.11",
   "language": "python",
   "name": "python3"
  },
  "language_info": {
   "codemirror_mode": {
    "name": "ipython",
    "version": 3
   },
   "file_extension": ".py",
   "mimetype": "text/x-python",
   "name": "python",
   "nbconvert_exporter": "python",
   "pygments_lexer": "ipython3",
   "version": "3.11.5"
  }
 },
 "nbformat": 4,
 "nbformat_minor": 2
}
