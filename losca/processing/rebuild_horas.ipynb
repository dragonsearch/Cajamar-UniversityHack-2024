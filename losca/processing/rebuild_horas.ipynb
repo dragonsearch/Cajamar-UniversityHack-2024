{
 "cells": [
  {
   "cell_type": "code",
   "execution_count": 6,
   "metadata": {},
   "outputs": [],
   "source": [
    "import pandas as pd"
   ]
  },
  {
   "cell_type": "code",
   "execution_count": 7,
   "metadata": {},
   "outputs": [
    {
     "name": "stdout",
     "output_type": "stream",
     "text": [
      "<class 'pandas.core.frame.DataFrame'>\n",
      "RangeIndex: 487 entries, 0 to 486\n",
      "Data columns (total 5 columns):\n",
      " #   Column      Non-Null Count  Dtype \n",
      "---  ------      --------------  ----- \n",
      " 0   Equipo      487 non-null    int64 \n",
      " 1   Orden       487 non-null    int64 \n",
      " 2   Centrifuga  487 non-null    int64 \n",
      " 3   Inicio      487 non-null    object\n",
      " 4   Fin         487 non-null    object\n",
      "dtypes: int64(3), object(2)\n",
      "memory usage: 19.2+ KB\n"
     ]
    }
   ],
   "source": [
    "# load horas centrifugas\n",
    "hc = pd.read_csv('../../data/processed/horas.csv')\n",
    "hc.info()"
   ]
  },
  {
   "cell_type": "code",
   "execution_count": 9,
   "metadata": {},
   "outputs": [
    {
     "name": "stdout",
     "output_type": "stream",
     "text": [
      "<class 'pandas.core.frame.DataFrame'>\n",
      "RangeIndex: 487 entries, 0 to 486\n",
      "Data columns (total 5 columns):\n",
      " #   Column       Non-Null Count  Dtype \n",
      "---  ------       --------------  ----- \n",
      " 0   equipo       487 non-null    int64 \n",
      " 1   orden        487 non-null    int64 \n",
      " 2   centr_hc     487 non-null    int64 \n",
      " 3   f_inicio_hc  487 non-null    object\n",
      " 4   f_fin_hc     487 non-null    object\n",
      "dtypes: int64(3), object(2)\n",
      "memory usage: 19.2+ KB\n"
     ]
    }
   ],
   "source": [
    "# Rename columns\n",
    "hc.columns = ['equipo', 'orden', 'centr_hc', 'f_inicio_hc', 'f_fin_hc']\n",
    "hc.info()"
   ]
  },
  {
   "cell_type": "code",
   "execution_count": 14,
   "metadata": {},
   "outputs": [
    {
     "name": "stdout",
     "output_type": "stream",
     "text": [
      "<class 'pandas.core.frame.DataFrame'>\n",
      "RangeIndex: 487 entries, 0 to 486\n",
      "Data columns (total 5 columns):\n",
      " #   Column       Non-Null Count  Dtype         \n",
      "---  ------       --------------  -----         \n",
      " 0   equipo       487 non-null    object        \n",
      " 1   orden        487 non-null    object        \n",
      " 2   centr_hc     487 non-null    object        \n",
      " 3   f_inicio_hc  487 non-null    datetime64[ns]\n",
      " 4   f_fin_hc     487 non-null    datetime64[ns]\n",
      "dtypes: datetime64[ns](2), object(3)\n",
      "memory usage: 19.2+ KB\n"
     ]
    }
   ],
   "source": [
    "# equipo should be string\n",
    "hc['equipo'] = hc['equipo'].astype(str)\n",
    "# orden should be string\n",
    "hc['orden'] = hc['orden'].astype(str)\n",
    "# centr_hc string\n",
    "hc['centr_hc'] = hc['centr_hc'].astype(str)\n",
    "# f_inicio_hc should be datetime\n",
    "hc['f_inicio_hc'] = pd.to_datetime(hc['f_inicio_hc'])\n",
    "# f_fin_hc should be datetime\n",
    "hc['f_fin_hc'] = pd.to_datetime(hc['f_fin_hc'])\n",
    "\n",
    "hc.info()"
   ]
  },
  {
   "cell_type": "code",
   "execution_count": 13,
   "metadata": {},
   "outputs": [],
   "source": [
    "# save as pkl\n",
    "hc.to_pickle('../../data/processed/horas.pkl')"
   ]
  }
 ],
 "metadata": {
  "kernelspec": {
   "display_name": "losca-RpR7jZx6-py3.11",
   "language": "python",
   "name": "python3"
  },
  "language_info": {
   "codemirror_mode": {
    "name": "ipython",
    "version": 3
   },
   "file_extension": ".py",
   "mimetype": "text/x-python",
   "name": "python",
   "nbconvert_exporter": "python",
   "pygments_lexer": "ipython3",
   "version": "3.11.5"
  }
 },
 "nbformat": 4,
 "nbformat_minor": 2
}
