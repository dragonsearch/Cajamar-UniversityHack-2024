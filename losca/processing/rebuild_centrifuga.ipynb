{
 "cells": [
  {
   "cell_type": "code",
   "execution_count": 22,
   "metadata": {},
   "outputs": [],
   "source": [
    "import pandas as pd"
   ]
  },
  {
   "cell_type": "code",
   "execution_count": 23,
   "metadata": {},
   "outputs": [
    {
     "name": "stdout",
     "output_type": "stream",
     "text": [
      "<class 'pandas.core.frame.DataFrame'>\n",
      "RangeIndex: 157239 entries, 0 to 157238\n",
      "Data columns (total 9 columns):\n",
      " #   Column                 Non-Null Count   Dtype  \n",
      "---  ------                 --------------   -----  \n",
      " 0   DateTime               157239 non-null  object \n",
      " 1   EN_parcial             154983 non-null  float64\n",
      " 2   EN_total               155199 non-null  float64\n",
      " 3   Apertura valvula agua  156224 non-null  float64\n",
      " 4   Caudal                 156223 non-null  float64\n",
      " 5   Contrapresion          156223 non-null  float64\n",
      " 6   Presion agua           111674 non-null  float64\n",
      " 7   Velocidad separacion   156224 non-null  float64\n",
      " 8   Num_centrifuga         157239 non-null  int64  \n",
      "dtypes: float64(7), int64(1), object(1)\n",
      "memory usage: 10.8+ MB\n"
     ]
    }
   ],
   "source": [
    "# Read the data from the CSV file\n",
    "ct = pd.read_csv('../../data/processed/Centrifuga_Total.csv')\n",
    "ct.info()"
   ]
  },
  {
   "cell_type": "code",
   "execution_count": 24,
   "metadata": {},
   "outputs": [],
   "source": [
    "# Rename columns\n",
    "ct = ct.rename(columns={\n",
    "    'DateTime': 'f_h_ct',\n",
    "    'EN_parcial': 'desc_parcial_ct',\n",
    "    'EN_total': 'desc_total_ct',\n",
    "    'Apertura valvula agua': 'apertura_valvula_agua_ct',\n",
    "    'Caudal': 'caudal_ct',\n",
    "    'Contrapresion': 'contrapresion_ct',\n",
    "    'Presion agua': 'presion_agua_ct',\n",
    "    'Velocidad separacion': 'vel_separacion_ct',\n",
    "    'Num_centrifuga': 'id_centr'\n",
    "})"
   ]
  },
  {
   "cell_type": "code",
   "execution_count": 25,
   "metadata": {},
   "outputs": [],
   "source": [
    "# Types\n",
    "ct['f_h_ct'] = pd.to_datetime(ct['f_h_ct'])\n",
    "ct['id_centr'] = ct['id_centr'].astype(str)\n"
   ]
  },
  {
   "cell_type": "code",
   "execution_count": 26,
   "metadata": {},
   "outputs": [],
   "source": [
    "# We should then fix the datetimes.\n",
    "# We can standardize the time to UTC.\n",
    "ct['f_h_ct'] = ct['f_h_ct'].dt.tz_localize('Europe/Madrid', ambiguous='infer').dt.tz_convert('UTC')"
   ]
  },
  {
   "cell_type": "code",
   "execution_count": 27,
   "metadata": {},
   "outputs": [],
   "source": [
    "# Save as pkl\n",
    "ct.to_pickle('../../data/processed/centrifuga_total.pkl')"
   ]
  }
 ],
 "metadata": {
  "kernelspec": {
   "display_name": "losca-RpR7jZx6-py3.11",
   "language": "python",
   "name": "python3"
  },
  "language_info": {
   "codemirror_mode": {
    "name": "ipython",
    "version": 3
   },
   "file_extension": ".py",
   "mimetype": "text/x-python",
   "name": "python",
   "nbconvert_exporter": "python",
   "pygments_lexer": "ipython3",
   "version": "3.11.5"
  }
 },
 "nbformat": 4,
 "nbformat_minor": 2
}
