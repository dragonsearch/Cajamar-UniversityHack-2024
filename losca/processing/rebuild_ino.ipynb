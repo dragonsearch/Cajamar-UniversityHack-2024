{
 "cells": [
  {
   "cell_type": "code",
   "execution_count": 10,
   "metadata": {},
   "outputs": [],
   "source": [
    "import pandas as pd"
   ]
  },
  {
   "cell_type": "code",
   "execution_count": 11,
   "metadata": {},
   "outputs": [],
   "source": [
    "# Load inoculo\n",
    "inoculo = pd.read_csv('../../data/processed/inoculo.csv')"
   ]
  },
  {
   "cell_type": "code",
   "execution_count": 12,
   "metadata": {},
   "outputs": [
    {
     "name": "stdout",
     "output_type": "stream",
     "text": [
      "<class 'pandas.core.frame.DataFrame'>\n",
      "RangeIndex: 167 entries, 0 to 166\n",
      "Data columns (total 10 columns):\n",
      " #   Column                    Non-Null Count  Dtype  \n",
      "---  ------                    --------------  -----  \n",
      " 0   LOTE                      167 non-null    object \n",
      " 1   ID bioreactor             167 non-null    int64  \n",
      " 2   Fecha/hora inicio         163 non-null    object \n",
      " 3   Fecha/hora fin            163 non-null    object \n",
      " 4   Volumen de cultivo        163 non-null    float64\n",
      " 5   Turbidez inicio cultivo   161 non-null    float64\n",
      " 6   Turbidez final cultivo    167 non-null    float64\n",
      " 7   Viabilidad final cultivo  167 non-null    float64\n",
      " 8   Turbidez_diff             161 non-null    float64\n",
      " 9   Duracion                  163 non-null    object \n",
      "dtypes: float64(5), int64(1), object(4)\n",
      "memory usage: 13.2+ KB\n"
     ]
    }
   ],
   "source": [
    "inoculo.info()"
   ]
  },
  {
   "cell_type": "markdown",
   "metadata": {},
   "source": [
    "# Harsh method. Drop all NA"
   ]
  },
  {
   "cell_type": "code",
   "execution_count": 13,
   "metadata": {},
   "outputs": [],
   "source": [
    "# Drop NA values\n",
    "inoculo = inoculo.dropna()"
   ]
  },
  {
   "cell_type": "code",
   "execution_count": 14,
   "metadata": {},
   "outputs": [
    {
     "name": "stdout",
     "output_type": "stream",
     "text": [
      "<class 'pandas.core.frame.DataFrame'>\n",
      "Index: 161 entries, 4 to 166\n",
      "Data columns (total 10 columns):\n",
      " #   Column                    Non-Null Count  Dtype  \n",
      "---  ------                    --------------  -----  \n",
      " 0   LOTE                      161 non-null    object \n",
      " 1   ID bioreactor             161 non-null    int64  \n",
      " 2   Fecha/hora inicio         161 non-null    object \n",
      " 3   Fecha/hora fin            161 non-null    object \n",
      " 4   Volumen de cultivo        161 non-null    float64\n",
      " 5   Turbidez inicio cultivo   161 non-null    float64\n",
      " 6   Turbidez final cultivo    161 non-null    float64\n",
      " 7   Viabilidad final cultivo  161 non-null    float64\n",
      " 8   Turbidez_diff             161 non-null    float64\n",
      " 9   Duracion                  161 non-null    object \n",
      "dtypes: float64(5), int64(1), object(4)\n",
      "memory usage: 13.8+ KB\n"
     ]
    }
   ],
   "source": [
    "inoculo.info()"
   ]
  },
  {
   "cell_type": "code",
   "execution_count": 15,
   "metadata": {},
   "outputs": [],
   "source": [
    "# Rename columns\n",
    "columns = ['lote', 'id_bio', 'f_h_inicio_ino', 'f_h_fin_ino', 'vol_cultivo_ino', 'turb_inicio_cultivo',\n",
    "            'turb_fin_cultivo', 'viab_fin_cultivo_ino', 'turb_diff_ino', 'dur_ino',]\n",
    "inoculo.columns = columns"
   ]
  },
  {
   "cell_type": "code",
   "execution_count": 16,
   "metadata": {},
   "outputs": [
    {
     "data": {
      "text/html": [
       "<div>\n",
       "<style scoped>\n",
       "    .dataframe tbody tr th:only-of-type {\n",
       "        vertical-align: middle;\n",
       "    }\n",
       "\n",
       "    .dataframe tbody tr th {\n",
       "        vertical-align: top;\n",
       "    }\n",
       "\n",
       "    .dataframe thead th {\n",
       "        text-align: right;\n",
       "    }\n",
       "</style>\n",
       "<table border=\"1\" class=\"dataframe\">\n",
       "  <thead>\n",
       "    <tr style=\"text-align: right;\">\n",
       "      <th></th>\n",
       "      <th>lote</th>\n",
       "      <th>id_bio</th>\n",
       "      <th>f_h_inicio_ino</th>\n",
       "      <th>f_h_fin_ino</th>\n",
       "      <th>vol_cultivo_ino</th>\n",
       "      <th>turb_inicio_cultivo</th>\n",
       "      <th>turb_fin_cultivo</th>\n",
       "      <th>viab_fin_cultivo_ino</th>\n",
       "      <th>turb_diff_ino</th>\n",
       "      <th>dur_ino</th>\n",
       "    </tr>\n",
       "  </thead>\n",
       "  <tbody>\n",
       "    <tr>\n",
       "      <th>4</th>\n",
       "      <td>23023</td>\n",
       "      <td>14618</td>\n",
       "      <td>2023-03-27 07:22:00</td>\n",
       "      <td>2023-03-28 07:29:00</td>\n",
       "      <td>155.2</td>\n",
       "      <td>18.24</td>\n",
       "      <td>31.68</td>\n",
       "      <td>106400000.0</td>\n",
       "      <td>13.44</td>\n",
       "      <td>1 days 00:07:00</td>\n",
       "    </tr>\n",
       "    <tr>\n",
       "      <th>5</th>\n",
       "      <td>23024</td>\n",
       "      <td>14618</td>\n",
       "      <td>2023-03-27 07:22:00</td>\n",
       "      <td>2023-03-28 07:29:00</td>\n",
       "      <td>155.2</td>\n",
       "      <td>18.24</td>\n",
       "      <td>31.68</td>\n",
       "      <td>106400000.0</td>\n",
       "      <td>13.44</td>\n",
       "      <td>1 days 00:07:00</td>\n",
       "    </tr>\n",
       "    <tr>\n",
       "      <th>6</th>\n",
       "      <td>23025</td>\n",
       "      <td>13172</td>\n",
       "      <td>2023-03-28 07:42:00</td>\n",
       "      <td>2023-03-29 06:43:00</td>\n",
       "      <td>157.6</td>\n",
       "      <td>16.96</td>\n",
       "      <td>27.60</td>\n",
       "      <td>84800000.0</td>\n",
       "      <td>10.64</td>\n",
       "      <td>0 days 23:01:00</td>\n",
       "    </tr>\n",
       "    <tr>\n",
       "      <th>7</th>\n",
       "      <td>23026</td>\n",
       "      <td>13172</td>\n",
       "      <td>2023-03-28 07:42:00</td>\n",
       "      <td>2023-03-29 06:43:00</td>\n",
       "      <td>157.6</td>\n",
       "      <td>16.96</td>\n",
       "      <td>27.60</td>\n",
       "      <td>84800000.0</td>\n",
       "      <td>10.64</td>\n",
       "      <td>0 days 23:01:00</td>\n",
       "    </tr>\n",
       "    <tr>\n",
       "      <th>8</th>\n",
       "      <td>23027</td>\n",
       "      <td>13172</td>\n",
       "      <td>2023-04-03 13:30:00</td>\n",
       "      <td>2023-04-04 11:35:00</td>\n",
       "      <td>168.0</td>\n",
       "      <td>18.88</td>\n",
       "      <td>23.52</td>\n",
       "      <td>104800000.0</td>\n",
       "      <td>4.64</td>\n",
       "      <td>0 days 22:05:00</td>\n",
       "    </tr>\n",
       "  </tbody>\n",
       "</table>\n",
       "</div>"
      ],
      "text/plain": [
       "    lote  id_bio       f_h_inicio_ino          f_h_fin_ino  vol_cultivo_ino  \\\n",
       "4  23023   14618  2023-03-27 07:22:00  2023-03-28 07:29:00            155.2   \n",
       "5  23024   14618  2023-03-27 07:22:00  2023-03-28 07:29:00            155.2   \n",
       "6  23025   13172  2023-03-28 07:42:00  2023-03-29 06:43:00            157.6   \n",
       "7  23026   13172  2023-03-28 07:42:00  2023-03-29 06:43:00            157.6   \n",
       "8  23027   13172  2023-04-03 13:30:00  2023-04-04 11:35:00            168.0   \n",
       "\n",
       "   turb_inicio_cultivo  turb_fin_cultivo  viab_fin_cultivo_ino  turb_diff_ino  \\\n",
       "4                18.24             31.68           106400000.0          13.44   \n",
       "5                18.24             31.68           106400000.0          13.44   \n",
       "6                16.96             27.60            84800000.0          10.64   \n",
       "7                16.96             27.60            84800000.0          10.64   \n",
       "8                18.88             23.52           104800000.0           4.64   \n",
       "\n",
       "           dur_ino  \n",
       "4  1 days 00:07:00  \n",
       "5  1 days 00:07:00  \n",
       "6  0 days 23:01:00  \n",
       "7  0 days 23:01:00  \n",
       "8  0 days 22:05:00  "
      ]
     },
     "execution_count": 16,
     "metadata": {},
     "output_type": "execute_result"
    }
   ],
   "source": [
    "inoculo.head()"
   ]
  },
  {
   "cell_type": "code",
   "execution_count": 17,
   "metadata": {},
   "outputs": [],
   "source": [
    "# Save with pandas (to a pandas type)\n",
    "inoculo.to_pickle('../../data/processed/inoculo.pkl')"
   ]
  }
 ],
 "metadata": {
  "kernelspec": {
   "display_name": "losca-RpR7jZx6-py3.11",
   "language": "python",
   "name": "python3"
  },
  "language_info": {
   "codemirror_mode": {
    "name": "ipython",
    "version": 3
   },
   "file_extension": ".py",
   "mimetype": "text/x-python",
   "name": "python",
   "nbconvert_exporter": "python",
   "pygments_lexer": "ipython3",
   "version": "3.11.5"
  }
 },
 "nbformat": 4,
 "nbformat_minor": 2
}
