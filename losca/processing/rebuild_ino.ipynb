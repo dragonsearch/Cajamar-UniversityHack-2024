{
 "cells": [
  {
   "cell_type": "code",
   "execution_count": 1,
   "metadata": {},
   "outputs": [],
   "source": [
    "import pandas as pd"
   ]
  },
  {
   "cell_type": "code",
   "execution_count": 2,
   "metadata": {},
   "outputs": [],
   "source": [
    "# Load inoculo\n",
    "inoculo = pd.read_csv('../../data/processed/inoculo.csv')"
   ]
  },
  {
   "cell_type": "code",
   "execution_count": 3,
   "metadata": {},
   "outputs": [
    {
     "name": "stdout",
     "output_type": "stream",
     "text": [
      "<class 'pandas.core.frame.DataFrame'>\n",
      "RangeIndex: 167 entries, 0 to 166\n",
      "Data columns (total 10 columns):\n",
      " #   Column                    Non-Null Count  Dtype  \n",
      "---  ------                    --------------  -----  \n",
      " 0   LOTE                      167 non-null    object \n",
      " 1   ID bioreactor             167 non-null    int64  \n",
      " 2   Fecha/hora inicio         163 non-null    object \n",
      " 3   Fecha/hora fin            163 non-null    object \n",
      " 4   Volumen de cultivo        163 non-null    float64\n",
      " 5   Turbidez inicio cultivo   161 non-null    float64\n",
      " 6   Turbidez final cultivo    167 non-null    float64\n",
      " 7   Viabilidad final cultivo  167 non-null    float64\n",
      " 8   Turbidez_diff             161 non-null    float64\n",
      " 9   Duracion                  163 non-null    object \n",
      "dtypes: float64(5), int64(1), object(4)\n",
      "memory usage: 13.2+ KB\n"
     ]
    }
   ],
   "source": [
    "inoculo.info()"
   ]
  },
  {
   "cell_type": "code",
   "execution_count": 4,
   "metadata": {},
   "outputs": [],
   "source": [
    "# Rename columns\n",
    "columns = ['lote', 'id_bio_ino', 'f_h_inicio_ino', 'f_h_fin_ino', 'vol_cultivo_ino', 'turb_inicio_cultivo_ino',\n",
    "            'turb_fin_cultivo_ino', 'viab_fin_cultivo_ino', 'turb_diff_ino', 'dur_ino',]\n",
    "inoculo.columns = columns"
   ]
  },
  {
   "cell_type": "code",
   "execution_count": 5,
   "metadata": {},
   "outputs": [],
   "source": [
    "# f_h_inicio_ino to datetime from madrid AND CONVERT to UTC\n",
    "inoculo['f_h_inicio_ino'] = pd.to_datetime(inoculo['f_h_inicio_ino'])\n",
    "inoculo['f_h_inicio_ino'] = inoculo['f_h_inicio_ino'].dt.tz_localize('Europe/Madrid').dt.tz_convert('UTC')\n",
    "\n",
    "# f_h_fin_ino to datetime from madrid AND CONVERT to UTC\n",
    "inoculo['f_h_fin_ino'] = pd.to_datetime(inoculo['f_h_fin_ino']) \n",
    "inoculo['f_h_fin_ino'] = inoculo['f_h_fin_ino'].dt.tz_localize('Europe/Madrid').dt.tz_convert('UTC')\n",
    "\n",
    "\n",
    "# dur_ino to timedelta\n",
    "inoculo['dur_ino'] = pd.to_timedelta(inoculo['dur_ino'])\n",
    "# Now to seconds\n",
    "inoculo['dur_ino'] = inoculo['dur_ino'].dt.total_seconds().astype(float)"
   ]
  },
  {
   "cell_type": "code",
   "execution_count": 6,
   "metadata": {},
   "outputs": [],
   "source": [
    "#id_bio to str\n",
    "inoculo['id_bio_ino'] = inoculo['id_bio_ino'].astype(str)"
   ]
  },
  {
   "cell_type": "code",
   "execution_count": 7,
   "metadata": {},
   "outputs": [],
   "source": [
    "# Save with pandas (to a pandas type)\n",
    "inoculo.to_pickle('../../data/processed/inoculo.pkl')"
   ]
  }
 ],
 "metadata": {
  "kernelspec": {
   "display_name": "losca-RpR7jZx6-py3.11",
   "language": "python",
   "name": "python3"
  },
  "language_info": {
   "codemirror_mode": {
    "name": "ipython",
    "version": 3
   },
   "file_extension": ".py",
   "mimetype": "text/x-python",
   "name": "python",
   "nbconvert_exporter": "python",
   "pygments_lexer": "ipython3",
   "version": "3.11.5"
  }
 },
 "nbformat": 4,
 "nbformat_minor": 2
}
