{
 "cells": [
  {
   "cell_type": "code",
   "execution_count": 2,
   "metadata": {},
   "outputs": [],
   "source": [
    "import pandas as pd"
   ]
  },
  {
   "cell_type": "code",
   "execution_count": 3,
   "metadata": {},
   "outputs": [],
   "source": [
    "# Load inoculo\n",
    "inoculo = pd.read_csv('../../data/processed/inoculo.csv')"
   ]
  },
  {
   "cell_type": "code",
   "execution_count": 4,
   "metadata": {},
   "outputs": [
    {
     "name": "stdout",
     "output_type": "stream",
     "text": [
      "<class 'pandas.core.frame.DataFrame'>\n",
      "RangeIndex: 167 entries, 0 to 166\n",
      "Data columns (total 10 columns):\n",
      " #   Column                    Non-Null Count  Dtype  \n",
      "---  ------                    --------------  -----  \n",
      " 0   LOTE                      167 non-null    object \n",
      " 1   ID bioreactor             167 non-null    int64  \n",
      " 2   Fecha/hora inicio         163 non-null    object \n",
      " 3   Fecha/hora fin            163 non-null    object \n",
      " 4   Volumen de cultivo        163 non-null    float64\n",
      " 5   Turbidez inicio cultivo   161 non-null    float64\n",
      " 6   Turbidez final cultivo    167 non-null    float64\n",
      " 7   Viabilidad final cultivo  167 non-null    float64\n",
      " 8   Turbidez_diff             161 non-null    float64\n",
      " 9   Duracion                  163 non-null    object \n",
      "dtypes: float64(5), int64(1), object(4)\n",
      "memory usage: 13.2+ KB\n"
     ]
    }
   ],
   "source": [
    "inoculo.info()"
   ]
  },
  {
   "cell_type": "code",
   "execution_count": 5,
   "metadata": {},
   "outputs": [],
   "source": [
    "# Rename columns\n",
    "columns = ['lote', 'id_bio', 'f_h_inicio_ino', 'f_h_fin_ino', 'vol_cultivo_ino', 'turb_inicio_cultivo_ino',\n",
    "            'turb_fin_cultivo_ino', 'viab_fin_cultivo_ino', 'turb_diff_ino', 'dur_ino',]\n",
    "inoculo.columns = columns"
   ]
  },
  {
   "cell_type": "code",
   "execution_count": 6,
   "metadata": {},
   "outputs": [],
   "source": [
    "# f_h_inicio_ino to datetime from madrid AND CONVERT to UTC\n",
    "inoculo['f_h_inicio_ino'] = pd.to_datetime(inoculo['f_h_inicio_ino'])\n",
    "inoculo['f_h_inicio_ino'] = inoculo['f_h_inicio_ino'].dt.tz_localize('Europe/Madrid').dt.tz_convert('UTC')\n",
    "\n",
    "# f_h_fin_ino to datetime from madrid AND CONVERT to UTC\n",
    "inoculo['f_h_fin_ino'] = pd.to_datetime(inoculo['f_h_fin_ino']) \n",
    "inoculo['f_h_fin_ino'] = inoculo['f_h_fin_ino'].dt.tz_localize('Europe/Madrid').dt.tz_convert('UTC')\n",
    "\n",
    "\n",
    "# dur_ino to timedelta\n",
    "inoculo['dur_ino'] = pd.to_timedelta(inoculo['dur_ino'])\n",
    "# Now to seconds\n",
    "inoculo['dur_ino'] = inoculo['dur_ino'].dt.total_seconds().astype(float)"
   ]
  },
  {
   "cell_type": "code",
   "execution_count": 7,
   "metadata": {},
   "outputs": [],
   "source": [
    "#id_bio to str\n",
    "inoculo['id_bio'] = inoculo['id_bio'].astype(str)"
   ]
  },
  {
   "cell_type": "code",
   "execution_count": 8,
   "metadata": {},
   "outputs": [],
   "source": [
    "# Save with pandas (to a pandas type)\n",
    "inoculo.to_pickle('../../data/processed/inoculo.pkl')"
   ]
  },
  {
   "cell_type": "markdown",
   "metadata": {},
   "source": [
    "# Harsh method. Drop all NA"
   ]
  },
  {
   "cell_type": "code",
   "execution_count": 9,
   "metadata": {},
   "outputs": [],
   "source": [
    "# Drop NA values\n",
    "inoculo = inoculo.dropna()"
   ]
  },
  {
   "cell_type": "code",
   "execution_count": 10,
   "metadata": {},
   "outputs": [
    {
     "name": "stdout",
     "output_type": "stream",
     "text": [
      "<class 'pandas.core.frame.DataFrame'>\n",
      "Index: 161 entries, 4 to 166\n",
      "Data columns (total 10 columns):\n",
      " #   Column                   Non-Null Count  Dtype              \n",
      "---  ------                   --------------  -----              \n",
      " 0   lote                     161 non-null    object             \n",
      " 1   id_bio                   161 non-null    object             \n",
      " 2   f_h_inicio_ino           161 non-null    datetime64[ns, UTC]\n",
      " 3   f_h_fin_ino              161 non-null    datetime64[ns, UTC]\n",
      " 4   vol_cultivo_ino          161 non-null    float64            \n",
      " 5   turb_inicio_cultivo_ino  161 non-null    float64            \n",
      " 6   turb_fin_cultivo_ino     161 non-null    float64            \n",
      " 7   viab_fin_cultivo_ino     161 non-null    float64            \n",
      " 8   turb_diff_ino            161 non-null    float64            \n",
      " 9   dur_ino                  161 non-null    float64            \n",
      "dtypes: datetime64[ns, UTC](2), float64(6), object(2)\n",
      "memory usage: 13.8+ KB\n"
     ]
    }
   ],
   "source": [
    "inoculo.info()"
   ]
  },
  {
   "cell_type": "code",
   "execution_count": 11,
   "metadata": {},
   "outputs": [
    {
     "data": {
      "text/html": [
       "<div>\n",
       "<style scoped>\n",
       "    .dataframe tbody tr th:only-of-type {\n",
       "        vertical-align: middle;\n",
       "    }\n",
       "\n",
       "    .dataframe tbody tr th {\n",
       "        vertical-align: top;\n",
       "    }\n",
       "\n",
       "    .dataframe thead th {\n",
       "        text-align: right;\n",
       "    }\n",
       "</style>\n",
       "<table border=\"1\" class=\"dataframe\">\n",
       "  <thead>\n",
       "    <tr style=\"text-align: right;\">\n",
       "      <th></th>\n",
       "      <th>lote</th>\n",
       "      <th>id_bio</th>\n",
       "      <th>f_h_inicio_ino</th>\n",
       "      <th>f_h_fin_ino</th>\n",
       "      <th>vol_cultivo_ino</th>\n",
       "      <th>turb_inicio_cultivo_ino</th>\n",
       "      <th>turb_fin_cultivo_ino</th>\n",
       "      <th>viab_fin_cultivo_ino</th>\n",
       "      <th>turb_diff_ino</th>\n",
       "      <th>dur_ino</th>\n",
       "    </tr>\n",
       "  </thead>\n",
       "  <tbody>\n",
       "    <tr>\n",
       "      <th>4</th>\n",
       "      <td>23023</td>\n",
       "      <td>14618</td>\n",
       "      <td>2023-03-27 05:22:00+00:00</td>\n",
       "      <td>2023-03-28 05:29:00+00:00</td>\n",
       "      <td>155.2</td>\n",
       "      <td>18.24</td>\n",
       "      <td>31.68</td>\n",
       "      <td>106400000.0</td>\n",
       "      <td>13.44</td>\n",
       "      <td>86820.0</td>\n",
       "    </tr>\n",
       "    <tr>\n",
       "      <th>5</th>\n",
       "      <td>23024</td>\n",
       "      <td>14618</td>\n",
       "      <td>2023-03-27 05:22:00+00:00</td>\n",
       "      <td>2023-03-28 05:29:00+00:00</td>\n",
       "      <td>155.2</td>\n",
       "      <td>18.24</td>\n",
       "      <td>31.68</td>\n",
       "      <td>106400000.0</td>\n",
       "      <td>13.44</td>\n",
       "      <td>86820.0</td>\n",
       "    </tr>\n",
       "    <tr>\n",
       "      <th>6</th>\n",
       "      <td>23025</td>\n",
       "      <td>13172</td>\n",
       "      <td>2023-03-28 05:42:00+00:00</td>\n",
       "      <td>2023-03-29 04:43:00+00:00</td>\n",
       "      <td>157.6</td>\n",
       "      <td>16.96</td>\n",
       "      <td>27.60</td>\n",
       "      <td>84800000.0</td>\n",
       "      <td>10.64</td>\n",
       "      <td>82860.0</td>\n",
       "    </tr>\n",
       "    <tr>\n",
       "      <th>7</th>\n",
       "      <td>23026</td>\n",
       "      <td>13172</td>\n",
       "      <td>2023-03-28 05:42:00+00:00</td>\n",
       "      <td>2023-03-29 04:43:00+00:00</td>\n",
       "      <td>157.6</td>\n",
       "      <td>16.96</td>\n",
       "      <td>27.60</td>\n",
       "      <td>84800000.0</td>\n",
       "      <td>10.64</td>\n",
       "      <td>82860.0</td>\n",
       "    </tr>\n",
       "    <tr>\n",
       "      <th>8</th>\n",
       "      <td>23027</td>\n",
       "      <td>13172</td>\n",
       "      <td>2023-04-03 11:30:00+00:00</td>\n",
       "      <td>2023-04-04 09:35:00+00:00</td>\n",
       "      <td>168.0</td>\n",
       "      <td>18.88</td>\n",
       "      <td>23.52</td>\n",
       "      <td>104800000.0</td>\n",
       "      <td>4.64</td>\n",
       "      <td>79500.0</td>\n",
       "    </tr>\n",
       "  </tbody>\n",
       "</table>\n",
       "</div>"
      ],
      "text/plain": [
       "    lote id_bio            f_h_inicio_ino               f_h_fin_ino  \\\n",
       "4  23023  14618 2023-03-27 05:22:00+00:00 2023-03-28 05:29:00+00:00   \n",
       "5  23024  14618 2023-03-27 05:22:00+00:00 2023-03-28 05:29:00+00:00   \n",
       "6  23025  13172 2023-03-28 05:42:00+00:00 2023-03-29 04:43:00+00:00   \n",
       "7  23026  13172 2023-03-28 05:42:00+00:00 2023-03-29 04:43:00+00:00   \n",
       "8  23027  13172 2023-04-03 11:30:00+00:00 2023-04-04 09:35:00+00:00   \n",
       "\n",
       "   vol_cultivo_ino  turb_inicio_cultivo_ino  turb_fin_cultivo_ino  \\\n",
       "4            155.2                    18.24                 31.68   \n",
       "5            155.2                    18.24                 31.68   \n",
       "6            157.6                    16.96                 27.60   \n",
       "7            157.6                    16.96                 27.60   \n",
       "8            168.0                    18.88                 23.52   \n",
       "\n",
       "   viab_fin_cultivo_ino  turb_diff_ino  dur_ino  \n",
       "4           106400000.0          13.44  86820.0  \n",
       "5           106400000.0          13.44  86820.0  \n",
       "6            84800000.0          10.64  82860.0  \n",
       "7            84800000.0          10.64  82860.0  \n",
       "8           104800000.0           4.64  79500.0  "
      ]
     },
     "execution_count": 11,
     "metadata": {},
     "output_type": "execute_result"
    }
   ],
   "source": [
    "inoculo.head()"
   ]
  }
 ],
 "metadata": {
  "kernelspec": {
   "display_name": "losca-RpR7jZx6-py3.11",
   "language": "python",
   "name": "python3"
  },
  "language_info": {
   "codemirror_mode": {
    "name": "ipython",
    "version": 3
   },
   "file_extension": ".py",
   "mimetype": "text/x-python",
   "name": "python",
   "nbconvert_exporter": "python",
   "pygments_lexer": "ipython3",
   "version": "3.11.5"
  }
 },
 "nbformat": 4,
 "nbformat_minor": 2
}
