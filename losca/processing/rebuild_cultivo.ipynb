{
 "cells": [
  {
   "cell_type": "markdown",
   "metadata": {},
   "source": [
    "# Types and checks of cultivo final"
   ]
  },
  {
   "cell_type": "code",
   "execution_count": 9,
   "metadata": {},
   "outputs": [],
   "source": [
    "import pandas as pd"
   ]
  },
  {
   "cell_type": "code",
   "execution_count": 10,
   "metadata": {},
   "outputs": [],
   "source": [
    "# Read cultivo.csv\n",
    "cf = pd.read_csv('../../data/processed/cf.csv')"
   ]
  },
  {
   "cell_type": "code",
   "execution_count": 11,
   "metadata": {},
   "outputs": [
    {
     "name": "stdout",
     "output_type": "stream",
     "text": [
      "<class 'pandas.core.frame.DataFrame'>\n",
      "RangeIndex: 152 entries, 0 to 151\n",
      "Data columns (total 17 columns):\n",
      " #   Column                        Non-Null Count  Dtype  \n",
      "---  ------                        --------------  -----  \n",
      " 0   LOTE                          152 non-null    int64  \n",
      " 1   Orden en el encadenado        152 non-null    int64  \n",
      " 2   LOTE parental                 22 non-null     float64\n",
      " 3   ID Bioreactor                 152 non-null    int64  \n",
      " 4   Fecha/hora inicio             152 non-null    object \n",
      " 5   Fecha/hora fin                152 non-null    object \n",
      " 6   Volumen de inóculo utilizado  147 non-null    float64\n",
      " 7   Turbidez inicio cultivo       152 non-null    float64\n",
      " 8   Turbidez fin cultivo          152 non-null    float64\n",
      " 9   Viabilidad final cultivo      152 non-null    float64\n",
      " 10  ID Centrífuga                 152 non-null    int64  \n",
      " 11  Centrifugación 1 turbidez     148 non-null    float64\n",
      " 12  Centrifugación 2 turbidez     143 non-null    float64\n",
      " 13  Producto 1                    152 non-null    float64\n",
      " 14  Producto 2                    152 non-null    float64\n",
      " 15  Duracion                      152 non-null    object \n",
      " 16  turbidez_diff                 152 non-null    float64\n",
      "dtypes: float64(10), int64(4), object(3)\n",
      "memory usage: 20.3+ KB\n"
     ]
    }
   ],
   "source": [
    "cf.info()"
   ]
  },
  {
   "cell_type": "code",
   "execution_count": 12,
   "metadata": {},
   "outputs": [
    {
     "name": "stdout",
     "output_type": "stream",
     "text": [
      "<class 'pandas.core.frame.DataFrame'>\n",
      "RangeIndex: 152 entries, 0 to 151\n",
      "Data columns (total 17 columns):\n",
      " #   Column                  Non-Null Count  Dtype  \n",
      "---  ------                  --------------  -----  \n",
      " 0   lote                    152 non-null    int64  \n",
      " 1   orden_encadenado_cf     152 non-null    int64  \n",
      " 2   lote_parental_cf        22 non-null     float64\n",
      " 3   id_bio                  152 non-null    int64  \n",
      " 4   f_h_inicio_cf           152 non-null    object \n",
      " 5   f_h_fin_cf              152 non-null    object \n",
      " 6   vol_ino_util_cf         147 non-null    float64\n",
      " 7   turb_inicio_cultivo_cf  152 non-null    float64\n",
      " 8   turb_fin_cultivo_cf     152 non-null    float64\n",
      " 9   viab_final_cultivo_cf   152 non-null    float64\n",
      " 10  id_centr                152 non-null    int64  \n",
      " 11  centr_1_turb_cf         148 non-null    float64\n",
      " 12  centr_2_turb_cf         143 non-null    float64\n",
      " 13  producto_1_cf           152 non-null    float64\n",
      " 14  producto_2_cf           152 non-null    float64\n",
      " 15  dur_cf                  152 non-null    object \n",
      " 16  turbidez_diff_cf        152 non-null    float64\n",
      "dtypes: float64(10), int64(4), object(3)\n",
      "memory usage: 20.3+ KB\n"
     ]
    }
   ],
   "source": [
    "\n",
    "\n",
    "# Rename columns\n",
    "cf.columns = ['lote', 'orden_encadenado_cf', 'lote_parental_cf', 'id_bio',\n",
    "                    'f_h_inicio_cf', 'f_h_fin_cf', 'vol_ino_util_cf', \n",
    "                    'turb_inicio_cultivo_cf', 'turb_fin_cultivo_cf', 'viab_final_cultivo_cf',\n",
    "                      'id_centr', 'centr_1_turb_cf', 'centr_2_turb_cf',\n",
    "                        'producto_1_cf', 'producto_2_cf', 'dur_cf', 'turbidez_diff_cf']\n",
    "cf.info()"
   ]
  },
  {
   "cell_type": "code",
   "execution_count": 16,
   "metadata": {},
   "outputs": [
    {
     "name": "stdout",
     "output_type": "stream",
     "text": [
      "<class 'pandas.core.frame.DataFrame'>\n",
      "RangeIndex: 152 entries, 0 to 151\n",
      "Data columns (total 17 columns):\n",
      " #   Column                  Non-Null Count  Dtype              \n",
      "---  ------                  --------------  -----              \n",
      " 0   lote                    152 non-null    object             \n",
      " 1   orden_encadenado_cf     152 non-null    int64              \n",
      " 2   lote_parental_cf        152 non-null    object             \n",
      " 3   id_bio                  152 non-null    object             \n",
      " 4   f_h_inicio_cf           152 non-null    datetime64[ns, UTC]\n",
      " 5   f_h_fin_cf              152 non-null    datetime64[ns, UTC]\n",
      " 6   vol_ino_util_cf         147 non-null    float64            \n",
      " 7   turb_inicio_cultivo_cf  152 non-null    float64            \n",
      " 8   turb_fin_cultivo_cf     152 non-null    float64            \n",
      " 9   viab_final_cultivo_cf   152 non-null    float64            \n",
      " 10  id_centr                152 non-null    object             \n",
      " 11  centr_1_turb_cf         148 non-null    float64            \n",
      " 12  centr_2_turb_cf         143 non-null    float64            \n",
      " 13  producto_1_cf           152 non-null    float64            \n",
      " 14  producto_2_cf           152 non-null    float64            \n",
      " 15  dur_cf                  152 non-null    float64            \n",
      " 16  turbidez_diff_cf        152 non-null    float64            \n",
      "dtypes: datetime64[ns, UTC](2), float64(10), int64(1), object(4)\n",
      "memory usage: 20.3+ KB\n"
     ]
    }
   ],
   "source": [
    "# lote to string\n",
    "cf['lote'] = cf['lote'].astype(str)\n",
    "\n",
    "# Orden_encadenado_cf could be string or int\n",
    "\n",
    "# lote_parental_cf to string\n",
    "cf['lote_parental_cf'] = cf['lote_parental_cf'].astype(str)\n",
    "\n",
    "# id_bio to string\n",
    "cf['id_bio'] = cf['id_bio'].astype(str)\n",
    "\n",
    "# f_h_inicio_cf to datetime\n",
    "cf['f_h_inicio_cf'] = pd.to_datetime(cf['f_h_inicio_cf'])\n",
    "\n",
    "# f_h_fin_cf to datetime\n",
    "cf['f_h_fin_cf'] = pd.to_datetime(cf['f_h_fin_cf'])\n",
    "\n",
    "# id_centr to string\n",
    "cf['id_centr'] = cf['id_centr'].astype(str)\n",
    "\n",
    "# duracion_cf to timedelta\n",
    "cf['dur_cf'] = pd.to_timedelta(cf['dur_cf'])\n",
    "# dur_cf to int\n",
    "cf['dur_cf'] = cf['dur_cf'].dt.total_seconds().astype(float)\n",
    "\n",
    "cf.info()"
   ]
  },
  {
   "cell_type": "code",
   "execution_count": 14,
   "metadata": {},
   "outputs": [],
   "source": [
    "# Times to UTC\n",
    "cf['f_h_inicio_cf'] = cf['f_h_inicio_cf'].dt.tz_localize('Europe/Madrid').dt.tz_convert('UTC')\n",
    "cf['f_h_fin_cf'] = cf['f_h_fin_cf'].dt.tz_localize('Europe/Madrid').dt.tz_convert('UTC')"
   ]
  },
  {
   "cell_type": "code",
   "execution_count": 15,
   "metadata": {},
   "outputs": [],
   "source": [
    "# Save as pkl\n",
    "cf.to_pickle('../../data/processed/cf.pkl')"
   ]
  }
 ],
 "metadata": {
  "kernelspec": {
   "display_name": "losca-RpR7jZx6-py3.11",
   "language": "python",
   "name": "python3"
  },
  "language_info": {
   "codemirror_mode": {
    "name": "ipython",
    "version": 3
   },
   "file_extension": ".py",
   "mimetype": "text/x-python",
   "name": "python",
   "nbconvert_exporter": "python",
   "pygments_lexer": "ipython3",
   "version": "3.11.5"
  }
 },
 "nbformat": 4,
 "nbformat_minor": 2
}
