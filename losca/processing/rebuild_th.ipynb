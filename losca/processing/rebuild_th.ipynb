{
 "cells": [
  {
   "cell_type": "markdown",
   "metadata": {},
   "source": [
    "# Types and checks of temperatura y humedades"
   ]
  },
  {
   "cell_type": "code",
   "execution_count": 2,
   "metadata": {},
   "outputs": [],
   "source": [
    "import pandas as pd"
   ]
  },
  {
   "cell_type": "code",
   "execution_count": 3,
   "metadata": {},
   "outputs": [
    {
     "name": "stdout",
     "output_type": "stream",
     "text": [
      "<class 'pandas.core.frame.DataFrame'>\n",
      "RangeIndex: 13104 entries, 0 to 13103\n",
      "Data columns (total 9 columns):\n",
      " #   Column           Non-Null Count  Dtype  \n",
      "---  ------           --------------  -----  \n",
      " 0   DateTime         13104 non-null  object \n",
      " 1   06299_TI1302.PV  13101 non-null  float64\n",
      " 2   06299_MI1302.PV  13100 non-null  float64\n",
      " 3   06299_TI1402.PV  13101 non-null  float64\n",
      " 4   06299_MI1402.PV  13101 non-null  float64\n",
      " 5   07633_TI0601.PV  13103 non-null  float64\n",
      " 6   07633_HI0101.PV  13103 non-null  float64\n",
      " 7   07781_TI1501.PV  13099 non-null  float64\n",
      " 8   07781_MI1501.PV  13100 non-null  float64\n",
      "dtypes: float64(8), object(1)\n",
      "memory usage: 921.5+ KB\n"
     ]
    }
   ],
   "source": [
    "th = pd.read_csv('../../data/processed/th.csv')\n",
    "th.info()"
   ]
  },
  {
   "cell_type": "code",
   "execution_count": 4,
   "metadata": {},
   "outputs": [
    {
     "name": "stdout",
     "output_type": "stream",
     "text": [
      "<class 'pandas.core.frame.DataFrame'>\n",
      "RangeIndex: 13104 entries, 0 to 13103\n",
      "Data columns (total 9 columns):\n",
      " #   Column         Non-Null Count  Dtype  \n",
      "---  ------         --------------  -----  \n",
      " 0   datetime_th    13104 non-null  object \n",
      " 1   t_bio_th       13101 non-null  float64\n",
      " 2   h_bio_th       13100 non-null  float64\n",
      " 3   t_cent_th      13101 non-null  float64\n",
      " 4   h_cent_th      13101 non-null  float64\n",
      " 5   t_al_princ_th  13103 non-null  float64\n",
      " 6   h_al_princ_th  13103 non-null  float64\n",
      " 7   t_al_prod_th   13099 non-null  float64\n",
      " 8   h_al_prod_th   13100 non-null  float64\n",
      "dtypes: float64(8), object(1)\n",
      "memory usage: 921.5+ KB\n"
     ]
    }
   ],
   "source": [
    "# Rename the columns from this dict\n",
    "columns = {'DateTime': 'datetime_th',\n",
    "           '06299_TI1302.PV': 't_bio_th',\n",
    "              '06299_MI1302.PV': 'h_bio_th',\n",
    "                '06299_TI1402.PV': 't_cent_th',\n",
    "                    '06299_MI1402.PV': 'h_cent_th',\n",
    "                        '07633_TI0601.PV': 't_al_princ_th',\n",
    "                            '07633_HI0101.PV': 'h_al_princ_th',\n",
    "                                '07781_TI1501.PV': 't_al_prod_th',\n",
    "                                    '07781_MI1501.PV': 'h_al_prod_th'}\n",
    "th.rename(columns=columns, inplace=True)\n",
    "th.info()\n"
   ]
  },
  {
   "cell_type": "code",
   "execution_count": 5,
   "metadata": {},
   "outputs": [],
   "source": [
    "# datetime_th to datetime\n",
    "th['datetime_th'] = pd.to_datetime(th['datetime_th'])\n",
    "# To UTC from Madrid\n",
    "th['datetime_th'] = th['datetime_th'].dt.tz_localize('Europe/Madrid', ambiguous='infer').dt.tz_convert('UTC')"
   ]
  },
  {
   "cell_type": "code",
   "execution_count": 6,
   "metadata": {},
   "outputs": [],
   "source": [
    "# Save to pkl\n",
    "th.to_pickle('../../data/processed/th.pkl')"
   ]
  }
 ],
 "metadata": {
  "kernelspec": {
   "display_name": "losca-RpR7jZx6-py3.11",
   "language": "python",
   "name": "python3"
  },
  "language_info": {
   "codemirror_mode": {
    "name": "ipython",
    "version": 3
   },
   "file_extension": ".py",
   "mimetype": "text/x-python",
   "name": "python",
   "nbconvert_exporter": "python",
   "pygments_lexer": "ipython3",
   "version": "3.11.5"
  }
 },
 "nbformat": 4,
 "nbformat_minor": 2
}
