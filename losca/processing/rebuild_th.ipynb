{
 "cells": [
  {
   "cell_type": "code",
   "execution_count": 9,
   "metadata": {},
   "outputs": [],
   "source": [
    "import pandas as pd"
   ]
  },
  {
   "cell_type": "code",
   "execution_count": 10,
   "metadata": {},
   "outputs": [
    {
     "name": "stdout",
     "output_type": "stream",
     "text": [
      "<class 'pandas.core.frame.DataFrame'>\n",
      "RangeIndex: 13104 entries, 0 to 13103\n",
      "Data columns (total 9 columns):\n",
      " #   Column           Non-Null Count  Dtype  \n",
      "---  ------           --------------  -----  \n",
      " 0   DateTime         13104 non-null  object \n",
      " 1   06299_TI1302.PV  13101 non-null  float64\n",
      " 2   06299_MI1302.PV  13100 non-null  float64\n",
      " 3   06299_TI1402.PV  13101 non-null  float64\n",
      " 4   06299_MI1402.PV  13101 non-null  float64\n",
      " 5   07633_TI0601.PV  13103 non-null  float64\n",
      " 6   07633_HI0101.PV  13103 non-null  float64\n",
      " 7   07781_TI1501.PV  13099 non-null  float64\n",
      " 8   07781_MI1501.PV  13100 non-null  float64\n",
      "dtypes: float64(8), object(1)\n",
      "memory usage: 921.5+ KB\n"
     ]
    }
   ],
   "source": [
    "th = pd.read_csv('../../data/processed/th.csv')\n",
    "th.info()"
   ]
  },
  {
   "cell_type": "code",
   "execution_count": 11,
   "metadata": {},
   "outputs": [
    {
     "name": "stdout",
     "output_type": "stream",
     "text": [
      "<class 'pandas.core.frame.DataFrame'>\n",
      "RangeIndex: 13104 entries, 0 to 13103\n",
      "Data columns (total 9 columns):\n",
      " #   Column         Non-Null Count  Dtype  \n",
      "---  ------         --------------  -----  \n",
      " 0   Datetime_th    13104 non-null  object \n",
      " 1   T_bio_th       13101 non-null  float64\n",
      " 2   H_bio_th       13100 non-null  float64\n",
      " 3   T_cent_th      13101 non-null  float64\n",
      " 4   H_cent_th      13101 non-null  float64\n",
      " 5   T_al_princ_th  13103 non-null  float64\n",
      " 6   H_al_princ_th  13103 non-null  float64\n",
      " 7   T_al_prod_th   13099 non-null  float64\n",
      " 8   H_al_prod_th   13100 non-null  float64\n",
      "dtypes: float64(8), object(1)\n",
      "memory usage: 921.5+ KB\n"
     ]
    }
   ],
   "source": [
    "# Rename the columns from this dict\n",
    "columns = {'DateTime': 'Datetime_th',\n",
    "           '06299_TI1302.PV': 'T_bio_th',\n",
    "              '06299_MI1302.PV': 'H_bio_th',\n",
    "                '06299_TI1402.PV': 'T_cent_th',\n",
    "                    '06299_MI1402.PV': 'H_cent_th',\n",
    "                        '07633_TI0601.PV': 'T_al_princ_th',\n",
    "                            '07633_HI0101.PV': 'H_al_princ_th',\n",
    "                                '07781_TI1501.PV': 'T_al_prod_th',\n",
    "                                    '07781_MI1501.PV': 'H_al_prod_th'}\n",
    "th.rename(columns=columns, inplace=True)\n",
    "th.info()\n"
   ]
  },
  {
   "cell_type": "code",
   "execution_count": 12,
   "metadata": {},
   "outputs": [],
   "source": [
    "# Save to pkl\n",
    "th.to_pickle('../../data/processed/th.pkl')"
   ]
  }
 ],
 "metadata": {
  "kernelspec": {
   "display_name": "losca-RpR7jZx6-py3.11",
   "language": "python",
   "name": "python3"
  },
  "language_info": {
   "codemirror_mode": {
    "name": "ipython",
    "version": 3
   },
   "file_extension": ".py",
   "mimetype": "text/x-python",
   "name": "python",
   "nbconvert_exporter": "python",
   "pygments_lexer": "ipython3",
   "version": "3.11.5"
  }
 },
 "nbformat": 4,
 "nbformat_minor": 2
}
