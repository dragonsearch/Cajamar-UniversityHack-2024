{
 "cells": [
  {
   "cell_type": "markdown",
   "metadata": {},
   "source": [
    "# Join all files and tables for train into a single dataframe by lote, fecha and orden"
   ]
  },
  {
   "cell_type": "code",
   "execution_count": 587,
   "metadata": {},
   "outputs": [],
   "source": [
    "import pandas as pd"
   ]
  },
  {
   "cell_type": "code",
   "execution_count": 588,
   "metadata": {},
   "outputs": [],
   "source": [
    "# Load the pkl files\n",
    "path = '../../data/processed/'\n",
    "ct = pd.read_pickle(path + 'centrifuga_total.pkl')\n",
    "cf = pd.read_pickle(path + 'cf.pkl')\n",
    "h = pd.read_pickle(path + 'horas.pkl')\n",
    "mc = pd.read_pickle(path + 'mov_componentes.pkl')\n",
    "th = pd.read_pickle(path + 'th.pkl')\n",
    "ino = pd.read_pickle(path + 'inoculo.pkl')\n",
    "pino = pd.read_pickle(path + 'preinoculo.pkl')\n",
    "of = pd.read_pickle(path + 'of.pkl')\n",
    "bt = pd.read_pickle(path + 'biorreactor_total.pkl')\n"
   ]
  },
  {
   "cell_type": "markdown",
   "metadata": {},
   "source": [
    "## Indexed by Lote"
   ]
  },
  {
   "cell_type": "markdown",
   "metadata": {},
   "source": [
    "### cf + of"
   ]
  },
  {
   "cell_type": "code",
   "execution_count": 589,
   "metadata": {},
   "outputs": [],
   "source": [
    "# Merge cf and of on lote using left join\n",
    "cf_of = pd.merge(cf, of, on='lote', how='left')"
   ]
  },
  {
   "cell_type": "markdown",
   "metadata": {},
   "source": [
    "### cf_ino"
   ]
  },
  {
   "cell_type": "code",
   "execution_count": 590,
   "metadata": {},
   "outputs": [],
   "source": [
    "# Merge\n",
    "cf_ino = cf.merge(ino, on=['lote'], how='left')"
   ]
  },
  {
   "cell_type": "markdown",
   "metadata": {},
   "source": [
    "### cf_pino "
   ]
  },
  {
   "cell_type": "code",
   "execution_count": 591,
   "metadata": {},
   "outputs": [],
   "source": [
    "# Merge\n",
    "cf_pino = cf.merge(pino, on=['lote'], how='left')"
   ]
  },
  {
   "cell_type": "markdown",
   "metadata": {},
   "source": [
    "### MC"
   ]
  },
  {
   "cell_type": "code",
   "execution_count": 592,
   "metadata": {},
   "outputs": [
    {
     "data": {
      "text/plain": [
       "13"
      ]
     },
     "execution_count": 592,
     "metadata": {},
     "output_type": "execute_result"
    }
   ],
   "source": [
    "# Max material unique values\n",
    "mc['material_mc'].nunique()"
   ]
  },
  {
   "cell_type": "code",
   "execution_count": 593,
   "metadata": {},
   "outputs": [
    {
     "data": {
      "text/plain": [
       "np.int64(13)"
      ]
     },
     "execution_count": 593,
     "metadata": {},
     "output_type": "execute_result"
    }
   ],
   "source": [
    "# Do all lotes have the same material?\n",
    "mc.groupby('lote')['material_mc'].nunique().max()"
   ]
  },
  {
   "cell_type": "markdown",
   "metadata": {},
   "source": [
    "We could add 13 mc columns"
   ]
  },
  {
   "cell_type": "code",
   "execution_count": 594,
   "metadata": {},
   "outputs": [
    {
     "name": "stdout",
     "output_type": "stream",
     "text": [
      "<class 'pandas.core.frame.DataFrame'>\n",
      "RangeIndex: 4920 entries, 0 to 4919\n",
      "Data columns (total 19 columns):\n",
      " #   Column          Non-Null Count  Dtype              \n",
      "---  ------          --------------  -----              \n",
      " 0   lote            4920 non-null   object             \n",
      " 1   material_mc     4920 non-null   object             \n",
      " 2   qty_mc          4920 non-null   float64            \n",
      " 3   f_recepcion_mc  4920 non-null   datetime64[ns, UTC]\n",
      " 4   f_traslado_mc   4920 non-null   datetime64[ns, UTC]\n",
      " 5   duracion_mc     4920 non-null   float64            \n",
      " 6   100001_mc       4920 non-null   int64              \n",
      " 7   100002_mc       4920 non-null   int64              \n",
      " 8   100003_mc       4920 non-null   int64              \n",
      " 9   100004_mc       4920 non-null   int64              \n",
      " 10  100005_mc       4920 non-null   int64              \n",
      " 11  100006_mc       4920 non-null   int64              \n",
      " 12  100007_mc       4920 non-null   int64              \n",
      " 13  100008_mc       4920 non-null   int64              \n",
      " 14  100009_mc       4920 non-null   int64              \n",
      " 15  100010_mc       4920 non-null   int64              \n",
      " 16  100011_mc       4920 non-null   int64              \n",
      " 17  100012_mc       4920 non-null   int64              \n",
      " 18  100013_mc       4920 non-null   int64              \n",
      "dtypes: datetime64[ns, UTC](2), float64(2), int64(13), object(2)\n",
      "memory usage: 730.4+ KB\n"
     ]
    }
   ],
   "source": [
    "# For each material, we can add a column\n",
    "mc_copy = mc.copy()\n",
    "for m in mc['material_mc'].unique():\n",
    "    mc_copy[m + '_mc'] = 0\n",
    "mc_copy.info()"
   ]
  },
  {
   "cell_type": "code",
   "execution_count": 595,
   "metadata": {},
   "outputs": [],
   "source": [
    "# For each if the material is in the row, we set the value to dur_mc\n",
    "for i, row in mc.iterrows():\n",
    "    for m in mc['material_mc'].unique():\n",
    "        if row['material_mc'] == m:\n",
    "            mc_copy.at[i, m + '_mc'] = row['duracion_mc']"
   ]
  },
  {
   "cell_type": "code",
   "execution_count": 596,
   "metadata": {},
   "outputs": [
    {
     "data": {
      "text/html": [
       "<div>\n",
       "<style scoped>\n",
       "    .dataframe tbody tr th:only-of-type {\n",
       "        vertical-align: middle;\n",
       "    }\n",
       "\n",
       "    .dataframe tbody tr th {\n",
       "        vertical-align: top;\n",
       "    }\n",
       "\n",
       "    .dataframe thead th {\n",
       "        text-align: right;\n",
       "    }\n",
       "</style>\n",
       "<table border=\"1\" class=\"dataframe\">\n",
       "  <thead>\n",
       "    <tr style=\"text-align: right;\">\n",
       "      <th></th>\n",
       "      <th>lote</th>\n",
       "      <th>material_mc</th>\n",
       "      <th>qty_mc</th>\n",
       "      <th>f_recepcion_mc</th>\n",
       "      <th>f_traslado_mc</th>\n",
       "      <th>duracion_mc</th>\n",
       "      <th>100001_mc</th>\n",
       "      <th>100002_mc</th>\n",
       "      <th>100003_mc</th>\n",
       "      <th>100004_mc</th>\n",
       "      <th>100005_mc</th>\n",
       "      <th>100006_mc</th>\n",
       "      <th>100007_mc</th>\n",
       "      <th>100008_mc</th>\n",
       "      <th>100009_mc</th>\n",
       "      <th>100010_mc</th>\n",
       "      <th>100011_mc</th>\n",
       "      <th>100012_mc</th>\n",
       "      <th>100013_mc</th>\n",
       "    </tr>\n",
       "  </thead>\n",
       "  <tbody>\n",
       "    <tr>\n",
       "      <th>0</th>\n",
       "      <td>23019</td>\n",
       "      <td>100001</td>\n",
       "      <td>45.616</td>\n",
       "      <td>2023-01-11 23:00:00+00:00</td>\n",
       "      <td>2023-03-08 15:00:00+00:00</td>\n",
       "      <td>4809600.0</td>\n",
       "      <td>4809600.0</td>\n",
       "      <td>0.0</td>\n",
       "      <td>0.0</td>\n",
       "      <td>0.0</td>\n",
       "      <td>0.0</td>\n",
       "      <td>0.0</td>\n",
       "      <td>0.0</td>\n",
       "      <td>0.0</td>\n",
       "      <td>0.0</td>\n",
       "      <td>0.0</td>\n",
       "      <td>0.0</td>\n",
       "      <td>0.0</td>\n",
       "      <td>0.0</td>\n",
       "    </tr>\n",
       "    <tr>\n",
       "      <th>1</th>\n",
       "      <td>23019</td>\n",
       "      <td>100002</td>\n",
       "      <td>168.768</td>\n",
       "      <td>2022-03-06 23:00:00+00:00</td>\n",
       "      <td>2023-03-14 23:00:00+00:00</td>\n",
       "      <td>32227200.0</td>\n",
       "      <td>0.0</td>\n",
       "      <td>32227200.0</td>\n",
       "      <td>0.0</td>\n",
       "      <td>0.0</td>\n",
       "      <td>0.0</td>\n",
       "      <td>0.0</td>\n",
       "      <td>0.0</td>\n",
       "      <td>0.0</td>\n",
       "      <td>0.0</td>\n",
       "      <td>0.0</td>\n",
       "      <td>0.0</td>\n",
       "      <td>0.0</td>\n",
       "      <td>0.0</td>\n",
       "    </tr>\n",
       "  </tbody>\n",
       "</table>\n",
       "</div>"
      ],
      "text/plain": [
       "    lote material_mc   qty_mc            f_recepcion_mc  \\\n",
       "0  23019      100001   45.616 2023-01-11 23:00:00+00:00   \n",
       "1  23019      100002  168.768 2022-03-06 23:00:00+00:00   \n",
       "\n",
       "              f_traslado_mc  duracion_mc  100001_mc   100002_mc  100003_mc  \\\n",
       "0 2023-03-08 15:00:00+00:00    4809600.0  4809600.0         0.0        0.0   \n",
       "1 2023-03-14 23:00:00+00:00   32227200.0        0.0  32227200.0        0.0   \n",
       "\n",
       "   100004_mc  100005_mc  100006_mc  100007_mc  100008_mc  100009_mc  \\\n",
       "0        0.0        0.0        0.0        0.0        0.0        0.0   \n",
       "1        0.0        0.0        0.0        0.0        0.0        0.0   \n",
       "\n",
       "   100010_mc  100011_mc  100012_mc  100013_mc  \n",
       "0        0.0        0.0        0.0        0.0  \n",
       "1        0.0        0.0        0.0        0.0  "
      ]
     },
     "execution_count": 596,
     "metadata": {},
     "output_type": "execute_result"
    }
   ],
   "source": [
    "\n",
    "# Perform average for each material and lote combination on duracion_mc\n",
    "mc_copy = mc_copy.groupby(['lote', 'material_mc']).mean().reset_index()\n",
    "mc_copy.head(2)"
   ]
  },
  {
   "cell_type": "code",
   "execution_count": 597,
   "metadata": {},
   "outputs": [],
   "source": [
    "# Drop material_mc, duracion_mc, f_recepcion_mc, f_entrega_mc, qty_mc\n",
    "mc_copy.drop(columns=['material_mc', 'duracion_mc', 'f_recepcion_mc', 'f_traslado_mc', 'qty_mc'], inplace=True)"
   ]
  },
  {
   "cell_type": "code",
   "execution_count": 598,
   "metadata": {},
   "outputs": [
    {
     "data": {
      "text/html": [
       "<div>\n",
       "<style scoped>\n",
       "    .dataframe tbody tr th:only-of-type {\n",
       "        vertical-align: middle;\n",
       "    }\n",
       "\n",
       "    .dataframe tbody tr th {\n",
       "        vertical-align: top;\n",
       "    }\n",
       "\n",
       "    .dataframe thead th {\n",
       "        text-align: right;\n",
       "    }\n",
       "</style>\n",
       "<table border=\"1\" class=\"dataframe\">\n",
       "  <thead>\n",
       "    <tr style=\"text-align: right;\">\n",
       "      <th></th>\n",
       "      <th>lote</th>\n",
       "      <th>100001_mc</th>\n",
       "      <th>100002_mc</th>\n",
       "      <th>100003_mc</th>\n",
       "      <th>100004_mc</th>\n",
       "      <th>100005_mc</th>\n",
       "      <th>100006_mc</th>\n",
       "      <th>100007_mc</th>\n",
       "      <th>100008_mc</th>\n",
       "      <th>100009_mc</th>\n",
       "      <th>100010_mc</th>\n",
       "      <th>100011_mc</th>\n",
       "      <th>100012_mc</th>\n",
       "      <th>100013_mc</th>\n",
       "    </tr>\n",
       "  </thead>\n",
       "  <tbody>\n",
       "    <tr>\n",
       "      <th>0</th>\n",
       "      <td>23019</td>\n",
       "      <td>4809600.0</td>\n",
       "      <td>0.0</td>\n",
       "      <td>0.0</td>\n",
       "      <td>0.0</td>\n",
       "      <td>0.0</td>\n",
       "      <td>0.0</td>\n",
       "      <td>0.0</td>\n",
       "      <td>0.0</td>\n",
       "      <td>0.0</td>\n",
       "      <td>0.0</td>\n",
       "      <td>0.0</td>\n",
       "      <td>0.0</td>\n",
       "      <td>0.0</td>\n",
       "    </tr>\n",
       "    <tr>\n",
       "      <th>1</th>\n",
       "      <td>23019</td>\n",
       "      <td>0.0</td>\n",
       "      <td>32227200.0</td>\n",
       "      <td>0.0</td>\n",
       "      <td>0.0</td>\n",
       "      <td>0.0</td>\n",
       "      <td>0.0</td>\n",
       "      <td>0.0</td>\n",
       "      <td>0.0</td>\n",
       "      <td>0.0</td>\n",
       "      <td>0.0</td>\n",
       "      <td>0.0</td>\n",
       "      <td>0.0</td>\n",
       "      <td>0.0</td>\n",
       "    </tr>\n",
       "  </tbody>\n",
       "</table>\n",
       "</div>"
      ],
      "text/plain": [
       "    lote  100001_mc   100002_mc  100003_mc  100004_mc  100005_mc  100006_mc  \\\n",
       "0  23019  4809600.0         0.0        0.0        0.0        0.0        0.0   \n",
       "1  23019        0.0  32227200.0        0.0        0.0        0.0        0.0   \n",
       "\n",
       "   100007_mc  100008_mc  100009_mc  100010_mc  100011_mc  100012_mc  100013_mc  \n",
       "0        0.0        0.0        0.0        0.0        0.0        0.0        0.0  \n",
       "1        0.0        0.0        0.0        0.0        0.0        0.0        0.0  "
      ]
     },
     "execution_count": 598,
     "metadata": {},
     "output_type": "execute_result"
    }
   ],
   "source": [
    "mc_copy.head(2)\n"
   ]
  },
  {
   "cell_type": "code",
   "execution_count": 599,
   "metadata": {},
   "outputs": [],
   "source": [
    "# zeros to nan\n",
    "mc_copy.replace(0, pd.NA, inplace=True)"
   ]
  },
  {
   "cell_type": "code",
   "execution_count": 600,
   "metadata": {},
   "outputs": [
    {
     "data": {
      "text/html": [
       "<div>\n",
       "<style scoped>\n",
       "    .dataframe tbody tr th:only-of-type {\n",
       "        vertical-align: middle;\n",
       "    }\n",
       "\n",
       "    .dataframe tbody tr th {\n",
       "        vertical-align: top;\n",
       "    }\n",
       "\n",
       "    .dataframe thead th {\n",
       "        text-align: right;\n",
       "    }\n",
       "</style>\n",
       "<table border=\"1\" class=\"dataframe\">\n",
       "  <thead>\n",
       "    <tr style=\"text-align: right;\">\n",
       "      <th></th>\n",
       "      <th>lote</th>\n",
       "      <th>100001_mc</th>\n",
       "      <th>100002_mc</th>\n",
       "      <th>100003_mc</th>\n",
       "      <th>100004_mc</th>\n",
       "      <th>100005_mc</th>\n",
       "      <th>100006_mc</th>\n",
       "      <th>100007_mc</th>\n",
       "      <th>100008_mc</th>\n",
       "      <th>100009_mc</th>\n",
       "      <th>100010_mc</th>\n",
       "      <th>100011_mc</th>\n",
       "      <th>100012_mc</th>\n",
       "      <th>100013_mc</th>\n",
       "    </tr>\n",
       "  </thead>\n",
       "  <tbody>\n",
       "    <tr>\n",
       "      <th>0</th>\n",
       "      <td>23019</td>\n",
       "      <td>4809600.0</td>\n",
       "      <td>32227200.0</td>\n",
       "      <td>48643200.0</td>\n",
       "      <td>40608000.0</td>\n",
       "      <td>10281600.0</td>\n",
       "      <td>27302400.0</td>\n",
       "      <td>2937600.0</td>\n",
       "      <td>15379200.0</td>\n",
       "      <td>35035200.0</td>\n",
       "      <td>14947200.0</td>\n",
       "      <td>6134400.0</td>\n",
       "      <td>172800.0</td>\n",
       "      <td>0</td>\n",
       "    </tr>\n",
       "  </tbody>\n",
       "</table>\n",
       "</div>"
      ],
      "text/plain": [
       "    lote  100001_mc   100002_mc   100003_mc   100004_mc   100005_mc  \\\n",
       "0  23019  4809600.0  32227200.0  48643200.0  40608000.0  10281600.0   \n",
       "\n",
       "    100006_mc  100007_mc   100008_mc   100009_mc   100010_mc  100011_mc  \\\n",
       "0  27302400.0  2937600.0  15379200.0  35035200.0  14947200.0  6134400.0   \n",
       "\n",
       "  100012_mc 100013_mc  \n",
       "0  172800.0         0  "
      ]
     },
     "execution_count": 600,
     "metadata": {},
     "output_type": "execute_result"
    }
   ],
   "source": [
    "# Groupby lote and sum\n",
    "mc_copy = mc_copy.groupby(['lote']).sum().reset_index()\n",
    "mc_copy.head(1)"
   ]
  },
  {
   "cell_type": "code",
   "execution_count": 601,
   "metadata": {},
   "outputs": [],
   "source": [
    "# Merge with cf\n",
    "cf_mc = cf.merge(mc_copy, on='lote', how='left')"
   ]
  },
  {
   "cell_type": "code",
   "execution_count": 602,
   "metadata": {},
   "outputs": [],
   "source": [
    "# Merge everything\n",
    "cf_mc_ino = cf_mc.merge(ino, on=['lote'], how='left')"
   ]
  },
  {
   "cell_type": "code",
   "execution_count": 603,
   "metadata": {},
   "outputs": [],
   "source": [
    "# Merge everything\n",
    "cf_mc_ino_pino = cf_mc_ino.merge(pino, on=['lote'], how='left')"
   ]
  },
  {
   "cell_type": "code",
   "execution_count": 604,
   "metadata": {},
   "outputs": [],
   "source": [
    "# Convert materials to float\n",
    "for m in mc['material_mc'].unique():\n",
    "    cf_mc_ino_pino[m + '_mc'] = cf_mc_ino_pino[m + '_mc'].astype(float)"
   ]
  },
  {
   "cell_type": "code",
   "execution_count": 605,
   "metadata": {},
   "outputs": [],
   "source": [
    "# Merge of\n",
    "cf_mc_ino_pino_of = cf_mc_ino_pino.merge(of, on=['lote'], how='left')\n"
   ]
  },
  {
   "cell_type": "code",
   "execution_count": 606,
   "metadata": {},
   "outputs": [],
   "source": [
    "# to pkl\n",
    "cf_mc_ino_pino_of.to_pickle(path + 'cf_mc_ino_pino_of.pkl')"
   ]
  },
  {
   "cell_type": "markdown",
   "metadata": {},
   "source": [
    "## Add Bio"
   ]
  },
  {
   "cell_type": "code",
   "execution_count": 607,
   "metadata": {},
   "outputs": [
    {
     "name": "stdout",
     "output_type": "stream",
     "text": [
      "<class 'pandas.core.frame.DataFrame'>\n",
      "RangeIndex: 152 entries, 0 to 151\n",
      "Columns: 132 entries, lote to h_bio_th_ino\n",
      "dtypes: datetime64[ns, UTC](6), float64(119), int64(1), object(6)\n",
      "memory usage: 156.9+ KB\n"
     ]
    }
   ],
   "source": [
    "# Merge Bio with cf_mc_ino_pino_of\n",
    "from losca.tools.utils import mean_values_biorreactor\n",
    "\n",
    "# Iterrows\n",
    "cf_mc_ino_pino_of_bt = cf_mc_ino_pino_of.copy()\n",
    "cf_mc_ino_pino_of_bt.iloc[10]['f_h_inicio_ino']\n",
    "for i, row in cf_mc_ino_pino_of.iterrows():\n",
    "    # Mean_valus_biorreactor returns a row with 4 columns\n",
    "    bt_mean_row = mean_values_biorreactor(bt, th, row['f_h_inicio_ino'], row['f_h_fin_ino'], row['id_bio_ino'])\n",
    "    # For each column returned, we set the value in the row\n",
    "    # Print col 0 values\n",
    "    for col in bt_mean_row.columns:\n",
    "        cf_mc_ino_pino_of_bt.at[i, col + '_ino'] = bt_mean_row[col].values[0]\n",
    "\n",
    "cf_mc_ino_pino_of_bt.info()\n",
    "\n"
   ]
  },
  {
   "cell_type": "code",
   "execution_count": 608,
   "metadata": {},
   "outputs": [
    {
     "name": "stdout",
     "output_type": "stream",
     "text": [
      "<class 'pandas.core.frame.DataFrame'>\n",
      "RangeIndex: 152 entries, 0 to 151\n",
      "Columns: 132 entries, lote to h_bio_th_cf\n",
      "dtypes: datetime64[ns, UTC](6), float64(119), int64(1), object(6)\n",
      "memory usage: 156.9+ KB\n"
     ]
    }
   ],
   "source": [
    "# Merge Bio with cf_mc_ino_pino_of\n",
    "from losca.tools.utils import mean_values_biorreactor\n",
    "# Iterrows\n",
    "cf_mc_ino_pino_of_bt = cf_mc_ino_pino_of.copy()\n",
    "cf_mc_ino_pino_of_bt.iloc[10]['f_h_inicio_ino']\n",
    "for i, row in cf_mc_ino_pino_of.iterrows():\n",
    "    # Mean_valus_biorreactor returns a row with 4 columns\n",
    "    bt_mean_row = mean_values_biorreactor(bt, th, row['f_h_inicio_cf'], row['f_h_fin_cf'], row['id_bio'])\n",
    "    # For each column returned, we set the value in the row\n",
    "    for col in bt_mean_row.columns:\n",
    "        cf_mc_ino_pino_of_bt.at[i, col + '_cf'] = bt_mean_row[col].values[0]\n",
    "\n",
    "cf_mc_ino_pino_of_bt.info()"
   ]
  },
  {
   "cell_type": "code",
   "execution_count": 609,
   "metadata": {},
   "outputs": [],
   "source": [
    "# To pkl\n",
    "cf_mc_ino_pino_of_bt.to_pickle(path + 'cf_mc_ino_pino_of_bt.pkl')"
   ]
  },
  {
   "cell_type": "markdown",
   "metadata": {},
   "source": [
    "## Add Centr"
   ]
  },
  {
   "cell_type": "code",
   "execution_count": 610,
   "metadata": {},
   "outputs": [],
   "source": [
    "from losca.tools.utils import mean_values_centrifuga\n",
    "\n",
    "# Iterrows\n",
    "cf_mc_ino_pino_of_bt_ct = cf_mc_ino_pino_of_bt.copy()\n",
    "cf_mc_ino_pino_of_bt_ct.iloc[10]['f_h_inicio_ino']\n",
    "for i, row in cf_mc_ino_pino_of_bt.iterrows():\n",
    "    # Mean_valus_biorreactor returns a row with 4 columns\n",
    "    ct_mean_row = mean_values_centrifuga(ct, th, row['f_h_inicio_cf'], row['f_h_fin_cf'], row['id_centr'])\n",
    "    # For each column returned, we set the value in the row\n",
    "    for col in ct_mean_row.columns:\n",
    "        cf_mc_ino_pino_of_bt_ct.at[i, col + '_cf'] = ct_mean_row[col].values[0]\n",
    "\n"
   ]
  },
  {
   "cell_type": "code",
   "execution_count": 611,
   "metadata": {},
   "outputs": [],
   "source": [
    "# For those rows with orden_encadenado_cf == 2 or 3 we need to get the values from the 'lote_parental_cf'\n",
    "# We could do this with merge and being efficient etc but we are pressed on time\n",
    "# Get those rows with orden_encadenado_cf == 2 or 3\n",
    "cf_mc_ino_pino_of_bt_ct[(cf_mc_ino_pino_of_bt_ct['orden_encadenado_cf'] == 2) | (cf_mc_ino_pino_of_bt_ct['orden_encadenado_cf'] == 3)]\n",
    "\n",
    "# For each row with orden_encadenado_cf == 2 or 3, we get the values from the row with lote == lote_parental_cf\n",
    "for i, row in cf_mc_ino_pino_of_bt_ct[(cf_mc_ino_pino_of_bt_ct['orden_encadenado_cf'] == 2) | (cf_mc_ino_pino_of_bt_ct['orden_encadenado_cf'] == 3)].iterrows():\n",
    "    # Get the row with lote == lote_parental_cf\n",
    "    row_parental = cf_mc_ino_pino_of_bt_ct[cf_mc_ino_pino_of_bt_ct['lote'] == str(row['lote_parental_cf']).split('.')[0]]\n",
    "    # If lote_parental is null\n",
    "    if row_parental.empty:\n",
    "        continue\n",
    "    # Get the index of the row\n",
    "    ind = row_parental.index[0]\n",
    "    cols = list(cf_mc_ino_pino_of_bt_ct.filter(like='_ino').columns)\n",
    "    cols += list(cf_mc_ino_pino_of_bt_ct.filter(like='_pino').columns)\n",
    "    cols += list(cf_mc_ino_pino_of_bt_ct.filter(like='_mc').columns)\n",
    "    cols.pop(cols.index('vol_ino_util_cf'))\n",
    "    # Change the values of the row with the values of the row with lote == lote_parental_cf\n",
    "    for col in cols:\n",
    "        cf_mc_ino_pino_of_bt_ct.at[i, col] = row_parental.at[ind, col]\n",
    "\n"
   ]
  },
  {
   "cell_type": "code",
   "execution_count": 612,
   "metadata": {},
   "outputs": [],
   "source": [
    "# To pkl\n",
    "cf_mc_ino_pino_of_bt_ct.to_pickle(path + 'cf_mc_ino_pino_of_bt_ct.pkl')"
   ]
  }
 ],
 "metadata": {
  "kernelspec": {
   "display_name": "losca-RpR7jZx6-py3.11",
   "language": "python",
   "name": "python3"
  },
  "language_info": {
   "codemirror_mode": {
    "name": "ipython",
    "version": 3
   },
   "file_extension": ".py",
   "mimetype": "text/x-python",
   "name": "python",
   "nbconvert_exporter": "python",
   "pygments_lexer": "ipython3",
   "version": "3.11.5"
  }
 },
 "nbformat": 4,
 "nbformat_minor": 2
}
