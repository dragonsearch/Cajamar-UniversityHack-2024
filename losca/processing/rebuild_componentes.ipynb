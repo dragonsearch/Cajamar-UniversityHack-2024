{
 "cells": [
  {
   "cell_type": "code",
   "execution_count": 14,
   "metadata": {},
   "outputs": [],
   "source": [
    "import pandas as pd"
   ]
  },
  {
   "cell_type": "code",
   "execution_count": 15,
   "metadata": {},
   "outputs": [
    {
     "name": "stdout",
     "output_type": "stream",
     "text": [
      "<class 'pandas.core.frame.DataFrame'>\n",
      "RangeIndex: 4920 entries, 0 to 4919\n",
      "Data columns (total 8 columns):\n",
      " #   Column           Non-Null Count  Dtype  \n",
      "---  ------           --------------  -----  \n",
      " 0   Lote             4920 non-null   int64  \n",
      " 1   Material         4920 non-null   int64  \n",
      " 2   Lote interno     4920 non-null   int64  \n",
      " 3   Lote Proveedor   4920 non-null   object \n",
      " 4   Qty              4920 non-null   float64\n",
      " 5   Fecha recepción  4920 non-null   object \n",
      " 6   Fecha traslado   4920 non-null   object \n",
      " 7   Duration         4920 non-null   object \n",
      "dtypes: float64(1), int64(3), object(4)\n",
      "memory usage: 307.6+ KB\n"
     ]
    }
   ],
   "source": [
    "mc = pd.read_csv('../../data/processed/mov_componentes.csv')\n",
    "mc.info()"
   ]
  },
  {
   "cell_type": "code",
   "execution_count": 16,
   "metadata": {},
   "outputs": [],
   "source": [
    "# Drop Lote interno, Lote Proveedor\n",
    "mc.drop(['Lote interno', 'Lote Proveedor'], axis=1, inplace=True)"
   ]
  },
  {
   "cell_type": "markdown",
   "metadata": {},
   "source": [
    "Maybe we could use Lote interno and Lote Proveedor for some feature engineering but right now it is of no use\n"
   ]
  },
  {
   "cell_type": "code",
   "execution_count": 17,
   "metadata": {},
   "outputs": [
    {
     "name": "stdout",
     "output_type": "stream",
     "text": [
      "<class 'pandas.core.frame.DataFrame'>\n",
      "RangeIndex: 4920 entries, 0 to 4919\n",
      "Data columns (total 6 columns):\n",
      " #   Column          Non-Null Count  Dtype  \n",
      "---  ------          --------------  -----  \n",
      " 0   lote            4920 non-null   int64  \n",
      " 1   material_mc     4920 non-null   int64  \n",
      " 2   qty_mc          4920 non-null   float64\n",
      " 3   f_recepcion_mc  4920 non-null   object \n",
      " 4   f_traslado_mc   4920 non-null   object \n",
      " 5   duracion_mc     4920 non-null   object \n",
      "dtypes: float64(1), int64(2), object(3)\n",
      "memory usage: 230.8+ KB\n"
     ]
    }
   ],
   "source": [
    "mc.columns = ['lote', 'material_mc', 'qty_mc', 'f_recepcion_mc', 'f_traslado_mc', 'duracion_mc']\n",
    "mc.info()"
   ]
  },
  {
   "cell_type": "code",
   "execution_count": 18,
   "metadata": {},
   "outputs": [],
   "source": [
    "# lote to string\n",
    "mc['lote'] = mc['lote'].astype(str)\n",
    "# material_mc to string\n",
    "mc['material_mc'] = mc['material_mc'].astype(str)\n",
    "# f_recepcion_mc to datetime\n",
    "mc['f_recepcion_mc'] = pd.to_datetime(mc['f_recepcion_mc'])\n",
    "# f_traslado_mc to datetime\n",
    "mc['f_traslado_mc'] = pd.to_datetime(mc['f_traslado_mc'])\n",
    "# duracion_mc to timedelta\n",
    "mc['duracion_mc'] = pd.to_timedelta(mc['duracion_mc'])"
   ]
  },
  {
   "cell_type": "code",
   "execution_count": 19,
   "metadata": {},
   "outputs": [
    {
     "name": "stdout",
     "output_type": "stream",
     "text": [
      "<class 'pandas.core.frame.DataFrame'>\n",
      "RangeIndex: 4920 entries, 0 to 4919\n",
      "Data columns (total 6 columns):\n",
      " #   Column          Non-Null Count  Dtype          \n",
      "---  ------          --------------  -----          \n",
      " 0   lote            4920 non-null   object         \n",
      " 1   material_mc     4920 non-null   object         \n",
      " 2   qty_mc          4920 non-null   float64        \n",
      " 3   f_recepcion_mc  4920 non-null   datetime64[ns] \n",
      " 4   f_traslado_mc   4920 non-null   datetime64[ns] \n",
      " 5   duracion_mc     4920 non-null   timedelta64[ns]\n",
      "dtypes: datetime64[ns](2), float64(1), object(2), timedelta64[ns](1)\n",
      "memory usage: 230.8+ KB\n"
     ]
    }
   ],
   "source": [
    "mc.info()"
   ]
  },
  {
   "cell_type": "code",
   "execution_count": 20,
   "metadata": {},
   "outputs": [],
   "source": [
    "# pkl\n",
    "mc.to_pickle('../../data/processed/mov_componentes.pkl')"
   ]
  }
 ],
 "metadata": {
  "kernelspec": {
   "display_name": "losca-RpR7jZx6-py3.11",
   "language": "python",
   "name": "python3"
  },
  "language_info": {
   "codemirror_mode": {
    "name": "ipython",
    "version": 3
   },
   "file_extension": ".py",
   "mimetype": "text/x-python",
   "name": "python",
   "nbconvert_exporter": "python",
   "pygments_lexer": "ipython3",
   "version": "3.11.5"
  }
 },
 "nbformat": 4,
 "nbformat_minor": 2
}
