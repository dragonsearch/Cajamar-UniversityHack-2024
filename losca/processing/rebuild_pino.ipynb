{
 "cells": [
  {
   "cell_type": "code",
   "execution_count": 15,
   "metadata": {},
   "outputs": [],
   "source": [
    "import pandas as pd\n"
   ]
  },
  {
   "cell_type": "code",
   "execution_count": 16,
   "metadata": {},
   "outputs": [],
   "source": [
    "# Load pino\n",
    "pino = pd.read_csv('../../data/processed/preinoculo.csv')"
   ]
  },
  {
   "cell_type": "code",
   "execution_count": 17,
   "metadata": {},
   "outputs": [
    {
     "name": "stdout",
     "output_type": "stream",
     "text": [
      "<class 'pandas.core.frame.DataFrame'>\n",
      "RangeIndex: 161 entries, 0 to 160\n",
      "Data columns (total 13 columns):\n",
      " #   Column      Non-Null Count  Dtype  \n",
      "---  ------      --------------  -----  \n",
      " 0   Lote        161 non-null    object \n",
      " 1   f_h_inicio  161 non-null    object \n",
      " 2   f_h_fin     161 non-null    object \n",
      " 3   ph_1        159 non-null    float64\n",
      " 4   ph_2        148 non-null    float64\n",
      " 5   ph_3        130 non-null    float64\n",
      " 6   turb_1      159 non-null    float64\n",
      " 7   turb_2      148 non-null    float64\n",
      " 8   turb_3      131 non-null    float64\n",
      " 9   usada_1     161 non-null    int64  \n",
      " 10  usada_2     161 non-null    int64  \n",
      " 11  usada_3     161 non-null    int64  \n",
      " 12  duracion    161 non-null    object \n",
      "dtypes: float64(6), int64(3), object(4)\n",
      "memory usage: 16.5+ KB\n"
     ]
    }
   ],
   "source": [
    "pino.info()\n"
   ]
  },
  {
   "cell_type": "markdown",
   "metadata": {},
   "source": [
    "We do not need all these columns. Lets make remake pino so it has one value per row and drop not used values."
   ]
  },
  {
   "cell_type": "code",
   "execution_count": 18,
   "metadata": {},
   "outputs": [
    {
     "data": {
      "text/html": [
       "<div>\n",
       "<style scoped>\n",
       "    .dataframe tbody tr th:only-of-type {\n",
       "        vertical-align: middle;\n",
       "    }\n",
       "\n",
       "    .dataframe tbody tr th {\n",
       "        vertical-align: top;\n",
       "    }\n",
       "\n",
       "    .dataframe thead th {\n",
       "        text-align: right;\n",
       "    }\n",
       "</style>\n",
       "<table border=\"1\" class=\"dataframe\">\n",
       "  <thead>\n",
       "    <tr style=\"text-align: right;\">\n",
       "      <th></th>\n",
       "      <th>ph</th>\n",
       "      <th>turb</th>\n",
       "      <th>f_h_inicio</th>\n",
       "      <th>f_h_fin</th>\n",
       "      <th>duracion</th>\n",
       "      <th>Lote</th>\n",
       "    </tr>\n",
       "  </thead>\n",
       "  <tbody>\n",
       "    <tr>\n",
       "      <th>0</th>\n",
       "      <td>5.496</td>\n",
       "      <td>28.32</td>\n",
       "      <td>2023-03-26 05:00:00</td>\n",
       "      <td>2023-03-27 07:21:00</td>\n",
       "      <td>1 days 02:21:00</td>\n",
       "      <td>23023</td>\n",
       "    </tr>\n",
       "    <tr>\n",
       "      <th>1</th>\n",
       "      <td>5.496</td>\n",
       "      <td>28.32</td>\n",
       "      <td>2023-03-26 05:00:00</td>\n",
       "      <td>2023-03-27 07:21:00</td>\n",
       "      <td>1 days 02:21:00</td>\n",
       "      <td>23024</td>\n",
       "    </tr>\n",
       "    <tr>\n",
       "      <th>2</th>\n",
       "      <td>5.480</td>\n",
       "      <td>26.56</td>\n",
       "      <td>2023-03-17 06:00:00</td>\n",
       "      <td>2023-03-28 07:42:00</td>\n",
       "      <td>11 days 01:42:00</td>\n",
       "      <td>23025</td>\n",
       "    </tr>\n",
       "    <tr>\n",
       "      <th>3</th>\n",
       "      <td>5.480</td>\n",
       "      <td>26.56</td>\n",
       "      <td>2023-03-17 06:00:00</td>\n",
       "      <td>2023-03-28 07:42:00</td>\n",
       "      <td>11 days 01:42:00</td>\n",
       "      <td>23026</td>\n",
       "    </tr>\n",
       "    <tr>\n",
       "      <th>4</th>\n",
       "      <td>5.384</td>\n",
       "      <td>33.84</td>\n",
       "      <td>2023-04-02 05:00:00</td>\n",
       "      <td>2023-04-03 13:30:00</td>\n",
       "      <td>1 days 08:30:00</td>\n",
       "      <td>23027</td>\n",
       "    </tr>\n",
       "    <tr>\n",
       "      <th>...</th>\n",
       "      <td>...</td>\n",
       "      <td>...</td>\n",
       "      <td>...</td>\n",
       "      <td>...</td>\n",
       "      <td>...</td>\n",
       "      <td>...</td>\n",
       "    </tr>\n",
       "    <tr>\n",
       "      <th>299</th>\n",
       "      <td>5.480</td>\n",
       "      <td>29.68</td>\n",
       "      <td>2024-05-30 00:30:00</td>\n",
       "      <td>2024-05-31 07:46:00</td>\n",
       "      <td>1 days 07:16:00</td>\n",
       "      <td>24089</td>\n",
       "    </tr>\n",
       "    <tr>\n",
       "      <th>300</th>\n",
       "      <td>5.392</td>\n",
       "      <td>26.64</td>\n",
       "      <td>2024-06-30 00:30:00</td>\n",
       "      <td>2024-07-01 07:01:00</td>\n",
       "      <td>1 days 06:31:00</td>\n",
       "      <td>24104</td>\n",
       "    </tr>\n",
       "    <tr>\n",
       "      <th>301</th>\n",
       "      <td>5.392</td>\n",
       "      <td>26.64</td>\n",
       "      <td>2024-06-30 00:30:00</td>\n",
       "      <td>2024-07-01 07:01:00</td>\n",
       "      <td>1 days 06:31:00</td>\n",
       "      <td>24105</td>\n",
       "    </tr>\n",
       "    <tr>\n",
       "      <th>302</th>\n",
       "      <td>5.504</td>\n",
       "      <td>25.60</td>\n",
       "      <td>2024-07-04 00:30:00</td>\n",
       "      <td>2024-07-05 07:04:00</td>\n",
       "      <td>1 days 06:34:00</td>\n",
       "      <td>24108</td>\n",
       "    </tr>\n",
       "    <tr>\n",
       "      <th>303</th>\n",
       "      <td>5.504</td>\n",
       "      <td>25.60</td>\n",
       "      <td>2024-07-04 00:30:00</td>\n",
       "      <td>2024-07-05 07:04:00</td>\n",
       "      <td>1 days 06:34:00</td>\n",
       "      <td>24111</td>\n",
       "    </tr>\n",
       "  </tbody>\n",
       "</table>\n",
       "<p>304 rows × 6 columns</p>\n",
       "</div>"
      ],
      "text/plain": [
       "        ph   turb           f_h_inicio              f_h_fin          duracion  \\\n",
       "0    5.496  28.32  2023-03-26 05:00:00  2023-03-27 07:21:00   1 days 02:21:00   \n",
       "1    5.496  28.32  2023-03-26 05:00:00  2023-03-27 07:21:00   1 days 02:21:00   \n",
       "2    5.480  26.56  2023-03-17 06:00:00  2023-03-28 07:42:00  11 days 01:42:00   \n",
       "3    5.480  26.56  2023-03-17 06:00:00  2023-03-28 07:42:00  11 days 01:42:00   \n",
       "4    5.384  33.84  2023-04-02 05:00:00  2023-04-03 13:30:00   1 days 08:30:00   \n",
       "..     ...    ...                  ...                  ...               ...   \n",
       "299  5.480  29.68  2024-05-30 00:30:00  2024-05-31 07:46:00   1 days 07:16:00   \n",
       "300  5.392  26.64  2024-06-30 00:30:00  2024-07-01 07:01:00   1 days 06:31:00   \n",
       "301  5.392  26.64  2024-06-30 00:30:00  2024-07-01 07:01:00   1 days 06:31:00   \n",
       "302  5.504  25.60  2024-07-04 00:30:00  2024-07-05 07:04:00   1 days 06:34:00   \n",
       "303  5.504  25.60  2024-07-04 00:30:00  2024-07-05 07:04:00   1 days 06:34:00   \n",
       "\n",
       "      Lote  \n",
       "0    23023  \n",
       "1    23024  \n",
       "2    23025  \n",
       "3    23026  \n",
       "4    23027  \n",
       "..     ...  \n",
       "299  24089  \n",
       "300  24104  \n",
       "301  24105  \n",
       "302  24108  \n",
       "303  24111  \n",
       "\n",
       "[304 rows x 6 columns]"
      ]
     },
     "execution_count": 18,
     "metadata": {},
     "output_type": "execute_result"
    }
   ],
   "source": [
    "# We should repeat Lote, for each row, but also duracion and f_h_inicio and f_h_fin\n",
    "\n",
    "# We will create a new dataframe for each usada_1==1 value and from that we need \n",
    "# ['ph_1']['turb_1']['f_h_inicio']['f_h_fin']['duracion']['lote']\n",
    "\n",
    "# For each usada \n",
    "lineas = [1,2,3]\n",
    "new_pino = pd.DataFrame()\n",
    "for linea in lineas:\n",
    "    usada = pino[pino['usada_'+str(linea)]==1]\n",
    "    usada = usada[['ph_'+str(linea),'turb_'+str(linea),'f_h_inicio','f_h_fin','duracion','Lote']].reset_index(drop=True)\n",
    "    usada.rename(columns={'ph_'+str(linea):'ph','turb_'+str(linea):'turb'},inplace=True)\n",
    "    new_pino = pd.concat([new_pino,usada],ignore_index=True)\n",
    "new_pino"
   ]
  },
  {
   "cell_type": "code",
   "execution_count": 19,
   "metadata": {},
   "outputs": [],
   "source": [
    "# Rename Lote to lote\n",
    "new_pino.rename(columns={'Lote':'lote'},inplace=True)"
   ]
  },
  {
   "cell_type": "code",
   "execution_count": null,
   "metadata": {},
   "outputs": [],
   "source": []
  },
  {
   "cell_type": "code",
   "execution_count": 20,
   "metadata": {},
   "outputs": [
    {
     "name": "stdout",
     "output_type": "stream",
     "text": [
      "<class 'pandas.core.frame.DataFrame'>\n",
      "RangeIndex: 304 entries, 0 to 303\n",
      "Data columns (total 6 columns):\n",
      " #   Column      Non-Null Count  Dtype          \n",
      "---  ------      --------------  -----          \n",
      " 0   ph          303 non-null    float64        \n",
      " 1   turb        304 non-null    float64        \n",
      " 2   f_h_inicio  304 non-null    datetime64[ns] \n",
      " 3   f_h_fin     304 non-null    datetime64[ns] \n",
      " 4   duracion    304 non-null    timedelta64[ns]\n",
      " 5   lote        304 non-null    object         \n",
      "dtypes: datetime64[ns](2), float64(2), object(1), timedelta64[ns](1)\n",
      "memory usage: 14.4+ KB\n"
     ]
    }
   ],
   "source": [
    "# Lote to str\n",
    "new_pino['lote'] = new_pino['lote'].astype(str)\n",
    "# f_h_inicio and f_h_fin to datetime\n",
    "new_pino['f_h_inicio'] = pd.to_datetime(new_pino['f_h_inicio'])\n",
    "new_pino['f_h_fin'] = pd.to_datetime(new_pino['f_h_fin'])\n",
    "# duracion to timedelta\n",
    "new_pino['duracion'] = pd.to_timedelta(new_pino['duracion'])\n",
    "new_pino.info()"
   ]
  },
  {
   "cell_type": "code",
   "execution_count": 21,
   "metadata": {},
   "outputs": [
    {
     "data": {
      "text/html": [
       "<div>\n",
       "<style scoped>\n",
       "    .dataframe tbody tr th:only-of-type {\n",
       "        vertical-align: middle;\n",
       "    }\n",
       "\n",
       "    .dataframe tbody tr th {\n",
       "        vertical-align: top;\n",
       "    }\n",
       "\n",
       "    .dataframe thead th {\n",
       "        text-align: right;\n",
       "    }\n",
       "</style>\n",
       "<table border=\"1\" class=\"dataframe\">\n",
       "  <thead>\n",
       "    <tr style=\"text-align: right;\">\n",
       "      <th></th>\n",
       "      <th>ph</th>\n",
       "      <th>turb</th>\n",
       "      <th>f_h_inicio</th>\n",
       "      <th>f_h_fin</th>\n",
       "      <th>duracion</th>\n",
       "      <th>lote</th>\n",
       "    </tr>\n",
       "  </thead>\n",
       "  <tbody>\n",
       "    <tr>\n",
       "      <th>297</th>\n",
       "      <td>NaN</td>\n",
       "      <td>27.84</td>\n",
       "      <td>2024-05-12 00:30:00</td>\n",
       "      <td>2024-05-13 07:54:00</td>\n",
       "      <td>1 days 07:24:00</td>\n",
       "      <td>24075</td>\n",
       "    </tr>\n",
       "  </tbody>\n",
       "</table>\n",
       "</div>"
      ],
      "text/plain": [
       "     ph   turb          f_h_inicio             f_h_fin        duracion   lote\n",
       "297 NaN  27.84 2024-05-12 00:30:00 2024-05-13 07:54:00 1 days 07:24:00  24075"
      ]
     },
     "execution_count": 21,
     "metadata": {},
     "output_type": "execute_result"
    }
   ],
   "source": [
    "# Show the nan row\n",
    "new_pino[new_pino.isnull().any(axis=1)]"
   ]
  },
  {
   "cell_type": "code",
   "execution_count": 22,
   "metadata": {},
   "outputs": [
    {
     "data": {
      "text/html": [
       "<div>\n",
       "<style scoped>\n",
       "    .dataframe tbody tr th:only-of-type {\n",
       "        vertical-align: middle;\n",
       "    }\n",
       "\n",
       "    .dataframe tbody tr th {\n",
       "        vertical-align: top;\n",
       "    }\n",
       "\n",
       "    .dataframe thead th {\n",
       "        text-align: right;\n",
       "    }\n",
       "</style>\n",
       "<table border=\"1\" class=\"dataframe\">\n",
       "  <thead>\n",
       "    <tr style=\"text-align: right;\">\n",
       "      <th></th>\n",
       "      <th>ph</th>\n",
       "      <th>turb</th>\n",
       "      <th>f_h_inicio</th>\n",
       "      <th>f_h_fin</th>\n",
       "      <th>duracion</th>\n",
       "      <th>lote</th>\n",
       "    </tr>\n",
       "  </thead>\n",
       "  <tbody>\n",
       "    <tr>\n",
       "      <th>0</th>\n",
       "      <td>5.496</td>\n",
       "      <td>28.32</td>\n",
       "      <td>2023-03-26 05:00:00</td>\n",
       "      <td>2023-03-27 07:21:00</td>\n",
       "      <td>1 days 02:21:00</td>\n",
       "      <td>23023</td>\n",
       "    </tr>\n",
       "    <tr>\n",
       "      <th>1</th>\n",
       "      <td>5.496</td>\n",
       "      <td>28.32</td>\n",
       "      <td>2023-03-26 05:00:00</td>\n",
       "      <td>2023-03-27 07:21:00</td>\n",
       "      <td>1 days 02:21:00</td>\n",
       "      <td>23024</td>\n",
       "    </tr>\n",
       "    <tr>\n",
       "      <th>2</th>\n",
       "      <td>5.480</td>\n",
       "      <td>26.56</td>\n",
       "      <td>2023-03-17 06:00:00</td>\n",
       "      <td>2023-03-28 07:42:00</td>\n",
       "      <td>11 days 01:42:00</td>\n",
       "      <td>23025</td>\n",
       "    </tr>\n",
       "    <tr>\n",
       "      <th>3</th>\n",
       "      <td>5.480</td>\n",
       "      <td>26.56</td>\n",
       "      <td>2023-03-17 06:00:00</td>\n",
       "      <td>2023-03-28 07:42:00</td>\n",
       "      <td>11 days 01:42:00</td>\n",
       "      <td>23026</td>\n",
       "    </tr>\n",
       "    <tr>\n",
       "      <th>4</th>\n",
       "      <td>5.384</td>\n",
       "      <td>33.84</td>\n",
       "      <td>2023-04-02 05:00:00</td>\n",
       "      <td>2023-04-03 13:30:00</td>\n",
       "      <td>1 days 08:30:00</td>\n",
       "      <td>23027</td>\n",
       "    </tr>\n",
       "    <tr>\n",
       "      <th>...</th>\n",
       "      <td>...</td>\n",
       "      <td>...</td>\n",
       "      <td>...</td>\n",
       "      <td>...</td>\n",
       "      <td>...</td>\n",
       "      <td>...</td>\n",
       "    </tr>\n",
       "    <tr>\n",
       "      <th>299</th>\n",
       "      <td>5.480</td>\n",
       "      <td>29.68</td>\n",
       "      <td>2024-05-30 00:30:00</td>\n",
       "      <td>2024-05-31 07:46:00</td>\n",
       "      <td>1 days 07:16:00</td>\n",
       "      <td>24089</td>\n",
       "    </tr>\n",
       "    <tr>\n",
       "      <th>300</th>\n",
       "      <td>5.392</td>\n",
       "      <td>26.64</td>\n",
       "      <td>2024-06-30 00:30:00</td>\n",
       "      <td>2024-07-01 07:01:00</td>\n",
       "      <td>1 days 06:31:00</td>\n",
       "      <td>24104</td>\n",
       "    </tr>\n",
       "    <tr>\n",
       "      <th>301</th>\n",
       "      <td>5.392</td>\n",
       "      <td>26.64</td>\n",
       "      <td>2024-06-30 00:30:00</td>\n",
       "      <td>2024-07-01 07:01:00</td>\n",
       "      <td>1 days 06:31:00</td>\n",
       "      <td>24105</td>\n",
       "    </tr>\n",
       "    <tr>\n",
       "      <th>302</th>\n",
       "      <td>5.504</td>\n",
       "      <td>25.60</td>\n",
       "      <td>2024-07-04 00:30:00</td>\n",
       "      <td>2024-07-05 07:04:00</td>\n",
       "      <td>1 days 06:34:00</td>\n",
       "      <td>24108</td>\n",
       "    </tr>\n",
       "    <tr>\n",
       "      <th>303</th>\n",
       "      <td>5.504</td>\n",
       "      <td>25.60</td>\n",
       "      <td>2024-07-04 00:30:00</td>\n",
       "      <td>2024-07-05 07:04:00</td>\n",
       "      <td>1 days 06:34:00</td>\n",
       "      <td>24111</td>\n",
       "    </tr>\n",
       "  </tbody>\n",
       "</table>\n",
       "<p>304 rows × 6 columns</p>\n",
       "</div>"
      ],
      "text/plain": [
       "        ph   turb          f_h_inicio             f_h_fin         duracion  \\\n",
       "0    5.496  28.32 2023-03-26 05:00:00 2023-03-27 07:21:00  1 days 02:21:00   \n",
       "1    5.496  28.32 2023-03-26 05:00:00 2023-03-27 07:21:00  1 days 02:21:00   \n",
       "2    5.480  26.56 2023-03-17 06:00:00 2023-03-28 07:42:00 11 days 01:42:00   \n",
       "3    5.480  26.56 2023-03-17 06:00:00 2023-03-28 07:42:00 11 days 01:42:00   \n",
       "4    5.384  33.84 2023-04-02 05:00:00 2023-04-03 13:30:00  1 days 08:30:00   \n",
       "..     ...    ...                 ...                 ...              ...   \n",
       "299  5.480  29.68 2024-05-30 00:30:00 2024-05-31 07:46:00  1 days 07:16:00   \n",
       "300  5.392  26.64 2024-06-30 00:30:00 2024-07-01 07:01:00  1 days 06:31:00   \n",
       "301  5.392  26.64 2024-06-30 00:30:00 2024-07-01 07:01:00  1 days 06:31:00   \n",
       "302  5.504  25.60 2024-07-04 00:30:00 2024-07-05 07:04:00  1 days 06:34:00   \n",
       "303  5.504  25.60 2024-07-04 00:30:00 2024-07-05 07:04:00  1 days 06:34:00   \n",
       "\n",
       "      lote  \n",
       "0    23023  \n",
       "1    23024  \n",
       "2    23025  \n",
       "3    23026  \n",
       "4    23027  \n",
       "..     ...  \n",
       "299  24089  \n",
       "300  24104  \n",
       "301  24105  \n",
       "302  24108  \n",
       "303  24111  \n",
       "\n",
       "[304 rows x 6 columns]"
      ]
     },
     "execution_count": 22,
     "metadata": {},
     "output_type": "execute_result"
    }
   ],
   "source": [
    "new_pino"
   ]
  },
  {
   "cell_type": "markdown",
   "metadata": {},
   "source": [
    "# Original"
   ]
  },
  {
   "cell_type": "code",
   "execution_count": 23,
   "metadata": {},
   "outputs": [],
   "source": [
    "# as pkl\n",
    "new_pino.to_pickle('../../data/processed/preinoculo.pkl')"
   ]
  },
  {
   "cell_type": "markdown",
   "metadata": {},
   "source": [
    "# Harsh method"
   ]
  },
  {
   "cell_type": "code",
   "execution_count": 24,
   "metadata": {},
   "outputs": [
    {
     "name": "stdout",
     "output_type": "stream",
     "text": [
      "(304, 6)\n",
      "(304, 6)\n"
     ]
    }
   ],
   "source": [
    "# Drop duplicates\n",
    "print(new_pino.shape)\n",
    "new_pino.drop_duplicates(inplace=True)\n",
    "print(new_pino.shape)"
   ]
  },
  {
   "cell_type": "code",
   "execution_count": 25,
   "metadata": {},
   "outputs": [
    {
     "name": "stdout",
     "output_type": "stream",
     "text": [
      "(304, 6)\n",
      "(303, 6)\n"
     ]
    }
   ],
   "source": [
    "# Drop na\n",
    "print(new_pino.shape)\n",
    "new_pino.dropna(inplace=True)\n",
    "print(new_pino.shape)\n"
   ]
  },
  {
   "cell_type": "code",
   "execution_count": 26,
   "metadata": {},
   "outputs": [],
   "source": [
    "# as pkl\n",
    "#new_pino.to_pickle('../../data/processed/preinoculo.pkl')"
   ]
  },
  {
   "cell_type": "markdown",
   "metadata": {},
   "source": [
    "# Mega harsh method: drop all which only have 1 línea (value per lote)"
   ]
  },
  {
   "cell_type": "code",
   "execution_count": 27,
   "metadata": {},
   "outputs": [
    {
     "name": "stdout",
     "output_type": "stream",
     "text": [
      "(303, 6)\n",
      "(284, 6)\n"
     ]
    }
   ],
   "source": [
    "# Drop all which only have 1 value per lote\n",
    "print(new_pino.shape)\n",
    "new_pino = new_pino.groupby('lote').filter(lambda x: len(x)>1)\n",
    "print(new_pino.shape)\n"
   ]
  },
  {
   "cell_type": "code",
   "execution_count": 28,
   "metadata": {},
   "outputs": [],
   "source": [
    "# Save as pkl\n",
    "#new_pino.to_pickle('../../data/processed/preinoculo.pkl')"
   ]
  }
 ],
 "metadata": {
  "kernelspec": {
   "display_name": "losca-RpR7jZx6-py3.11",
   "language": "python",
   "name": "python3"
  },
  "language_info": {
   "codemirror_mode": {
    "name": "ipython",
    "version": 3
   },
   "file_extension": ".py",
   "mimetype": "text/x-python",
   "name": "python",
   "nbconvert_exporter": "python",
   "pygments_lexer": "ipython3",
   "version": "3.11.5"
  }
 },
 "nbformat": 4,
 "nbformat_minor": 2
}
