{
 "cells": [
  {
   "cell_type": "code",
   "execution_count": 12,
   "metadata": {},
   "outputs": [],
   "source": [
    "import pandas as pd\n"
   ]
  },
  {
   "cell_type": "code",
   "execution_count": 13,
   "metadata": {},
   "outputs": [
    {
     "name": "stdout",
     "output_type": "stream",
     "text": [
      "<class 'pandas.core.frame.DataFrame'>\n",
      "RangeIndex: 471717 entries, 0 to 471716\n",
      "Data columns (total 18 columns):\n",
      " #   Column                    Non-Null Count   Dtype  \n",
      "---  ------                    --------------   -----  \n",
      " 0   DateTime                  471717 non-null  object \n",
      " 1   Agitation_PV              431877 non-null  float64\n",
      " 2   Air_Sparge_PV             431877 non-null  float64\n",
      " 3   Biocontainer_Pressure_PV  431890 non-null  float64\n",
      " 4   DO_1_PV                   384002 non-null  float64\n",
      " 5   DO_2_PV                   245346 non-null  float64\n",
      " 6   Gas_Overlay_PV            431879 non-null  float64\n",
      " 7   Load_Cell_Net_PV          431888 non-null  float64\n",
      " 8   pH_1_PV                   426758 non-null  float64\n",
      " 9   pH_2_PV                   429724 non-null  float64\n",
      " 10  PUMP_1_PV                 431878 non-null  float64\n",
      " 11  PUMP_1_TOTAL              431885 non-null  float64\n",
      " 12  PUMP_2_PV                 431878 non-null  float64\n",
      " 13  PUMP_2_TOTAL              431884 non-null  float64\n",
      " 14  Single_Use_DO_PV          431880 non-null  float64\n",
      " 15  Single_Use_pH_PV          431877 non-null  float64\n",
      " 16  Temperatura_PV            431881 non-null  float64\n",
      " 17  Num_Biorreactor           471717 non-null  int64  \n",
      "dtypes: float64(16), int64(1), object(1)\n",
      "memory usage: 64.8+ MB\n"
     ]
    }
   ],
   "source": [
    "# Load Biorreactor_Total.csv\n",
    "bt = pd.read_csv('../../data/processed/Biorreactor_Total.csv')\n",
    "bt.info()"
   ]
  },
  {
   "cell_type": "code",
   "execution_count": 14,
   "metadata": {},
   "outputs": [],
   "source": [
    "#Change name of columns\n",
    "bt.columns = (\"f_h_bt\", \"vel_agitacion_bt\", \"aire_sparger_bt\", \"pres_bio_bt\", \"pres_par_O2_1_bt\", \"pres_par_O2_2_bt\", \"aire_cupula_bt\", \"peso_bt\", \"ph_1_bt\", \"ph_2_bt\", \"antiespumante_bt\", \"total_antiespumante_bt\", \"sol_base_bt\", \"total_sol_base_bt\", \"press_parcial_O2_bt\", \"ph_cultivo_bt\", \"temp_bt\", \"id_bio\")\n"
   ]
  },
  {
   "cell_type": "code",
   "execution_count": 15,
   "metadata": {},
   "outputs": [],
   "source": [
    "# To datetime format from Madrid and convert to UTC\n",
    "bt['f_h_bt'] = pd.to_datetime(bt['f_h_bt'])\n",
    "bt['f_h_bt'] = bt['f_h_bt'].dt.tz_localize('Europe/Madrid',ambiguous='infer').dt.tz_convert('UTC')\n",
    "\n",
    "# To UTC"
   ]
  },
  {
   "cell_type": "code",
   "execution_count": 17,
   "metadata": {},
   "outputs": [],
   "source": [
    "# id_bio to string\n",
    "bt['id_bio'] = bt['id_bio'].astype(str)"
   ]
  },
  {
   "cell_type": "code",
   "execution_count": 18,
   "metadata": {},
   "outputs": [],
   "source": [
    "# To pkl\n",
    "bt.to_pickle('../../data/processed/biorreactor_total.pkl')"
   ]
  }
 ],
 "metadata": {
  "kernelspec": {
   "display_name": "losca-RpR7jZx6-py3.11",
   "language": "python",
   "name": "python3"
  },
  "language_info": {
   "codemirror_mode": {
    "name": "ipython",
    "version": 3
   },
   "file_extension": ".py",
   "mimetype": "text/x-python",
   "name": "python",
   "nbconvert_exporter": "python",
   "pygments_lexer": "ipython3",
   "version": "3.11.5"
  }
 },
 "nbformat": 4,
 "nbformat_minor": 2
}
