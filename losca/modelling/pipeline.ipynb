{
 "cells": [
  {
   "cell_type": "code",
   "execution_count": 32,
   "metadata": {},
   "outputs": [],
   "source": [
    "import pandas as pd\n",
    "from sklearn.model_selection import train_test_split\n",
    "from sklearn.model_selection import cross_validate\n",
    "from sklearn.ensemble import RandomForestRegressor\n",
    "from sklearn.metrics import root_mean_squared_error\n",
    "# Import stratifiedKFold\n",
    "from sklearn.model_selection import KFold"
   ]
  },
  {
   "cell_type": "code",
   "execution_count": 23,
   "metadata": {},
   "outputs": [],
   "source": [
    "from sklearn.preprocessing import StandardScaler\n",
    "from pandas.api.types import is_numeric_dtype\n",
    "def scale_data(data):\n",
    "    scaler = StandardScaler()\n",
    "    for col in data.columns:\n",
    "        if is_numeric_dtype(data[col]):\n",
    "            data[col] = scaler.fit_transform(data[[col]])\n",
    "    return data"
   ]
  },
  {
   "cell_type": "code",
   "execution_count": 24,
   "metadata": {},
   "outputs": [
    {
     "data": {
      "text/html": [
       "<div>\n",
       "<style scoped>\n",
       "    .dataframe tbody tr th:only-of-type {\n",
       "        vertical-align: middle;\n",
       "    }\n",
       "\n",
       "    .dataframe tbody tr th {\n",
       "        vertical-align: top;\n",
       "    }\n",
       "\n",
       "    .dataframe thead th {\n",
       "        text-align: right;\n",
       "    }\n",
       "</style>\n",
       "<table border=\"1\" class=\"dataframe\">\n",
       "  <thead>\n",
       "    <tr style=\"text-align: right;\">\n",
       "      <th></th>\n",
       "      <th>a</th>\n",
       "      <th>b</th>\n",
       "      <th>c</th>\n",
       "      <th>d</th>\n",
       "    </tr>\n",
       "  </thead>\n",
       "  <tbody>\n",
       "    <tr>\n",
       "      <th>0</th>\n",
       "      <td>-1.566699</td>\n",
       "      <td>-1.518325</td>\n",
       "      <td>a</td>\n",
       "      <td>&lt;class 'object'&gt;</td>\n",
       "    </tr>\n",
       "    <tr>\n",
       "      <th>1</th>\n",
       "      <td>-1.218544</td>\n",
       "      <td>-1.187601</td>\n",
       "      <td>b</td>\n",
       "      <td>&lt;class 'object'&gt;</td>\n",
       "    </tr>\n",
       "    <tr>\n",
       "      <th>2</th>\n",
       "      <td>-0.870388</td>\n",
       "      <td>-0.856876</td>\n",
       "      <td>c</td>\n",
       "      <td>&lt;class 'object'&gt;</td>\n",
       "    </tr>\n",
       "    <tr>\n",
       "      <th>3</th>\n",
       "      <td>-0.522233</td>\n",
       "      <td>-0.526152</td>\n",
       "      <td>d</td>\n",
       "      <td>&lt;class 'object'&gt;</td>\n",
       "    </tr>\n",
       "    <tr>\n",
       "      <th>4</th>\n",
       "      <td>-0.174078</td>\n",
       "      <td>-0.195428</td>\n",
       "      <td>e</td>\n",
       "      <td>&lt;class 'object'&gt;</td>\n",
       "    </tr>\n",
       "    <tr>\n",
       "      <th>5</th>\n",
       "      <td>0.174078</td>\n",
       "      <td>0.135296</td>\n",
       "      <td>f</td>\n",
       "      <td>&lt;class 'object'&gt;</td>\n",
       "    </tr>\n",
       "    <tr>\n",
       "      <th>6</th>\n",
       "      <td>0.522233</td>\n",
       "      <td>0.466021</td>\n",
       "      <td>g</td>\n",
       "      <td>&lt;class 'object'&gt;</td>\n",
       "    </tr>\n",
       "    <tr>\n",
       "      <th>7</th>\n",
       "      <td>0.870388</td>\n",
       "      <td>0.796745</td>\n",
       "      <td>h</td>\n",
       "      <td>&lt;class 'object'&gt;</td>\n",
       "    </tr>\n",
       "    <tr>\n",
       "      <th>8</th>\n",
       "      <td>1.218544</td>\n",
       "      <td>1.127469</td>\n",
       "      <td>i</td>\n",
       "      <td>&lt;class 'object'&gt;</td>\n",
       "    </tr>\n",
       "    <tr>\n",
       "      <th>9</th>\n",
       "      <td>1.566699</td>\n",
       "      <td>1.758852</td>\n",
       "      <td>j</td>\n",
       "      <td>&lt;class 'object'&gt;</td>\n",
       "    </tr>\n",
       "  </tbody>\n",
       "</table>\n",
       "</div>"
      ],
      "text/plain": [
       "          a         b  c                 d\n",
       "0 -1.566699 -1.518325  a  <class 'object'>\n",
       "1 -1.218544 -1.187601  b  <class 'object'>\n",
       "2 -0.870388 -0.856876  c  <class 'object'>\n",
       "3 -0.522233 -0.526152  d  <class 'object'>\n",
       "4 -0.174078 -0.195428  e  <class 'object'>\n",
       "5  0.174078  0.135296  f  <class 'object'>\n",
       "6  0.522233  0.466021  g  <class 'object'>\n",
       "7  0.870388  0.796745  h  <class 'object'>\n",
       "8  1.218544  1.127469  i  <class 'object'>\n",
       "9  1.566699  1.758852  j  <class 'object'>"
      ]
     },
     "execution_count": 24,
     "metadata": {},
     "output_type": "execute_result"
    }
   ],
   "source": [
    "a = [1, 2, 3, 4, 5, 6, 7, 8, 9, 10]\n",
    "b = [1.1, 2.2, 3.3, 4.4, 5.5, 6.6, 7.7, 8.8, 9.9, 12.0]\n",
    "c = ['a', 'b', 'c', 'd', 'e', 'f', 'g', 'h', 'i', 'j']\n",
    "d = [object, object, object, object, object, object, object, object, object, object]\n",
    "data = {'a': a, 'b': b, 'c': c, 'd': d}\n",
    "df = pd.DataFrame(data)\n",
    "df = scale_data(df)\n",
    "df"
   ]
  },
  {
   "cell_type": "code",
   "execution_count": 25,
   "metadata": {},
   "outputs": [],
   "source": [
    "def cross_validate_model(model, X, y):\n",
    "    cv_strat = KFold(n_splits=10, shuffle=True, random_state=42)\n",
    "    cv_results = cross_validate(model, X, y, cv=cv_strat, scoring=['neg_root_mean_squared_error'], return_train_score=True)\n",
    "    return cv_results"
   ]
  },
  {
   "cell_type": "code",
   "execution_count": 26,
   "metadata": {},
   "outputs": [],
   "source": [
    "def average_cv_results(cv_results):\n",
    "    avg_results = {}\n",
    "    for key in cv_results.keys():\n",
    "        avg_results[key] = cv_results[key].mean()\n",
    "    return avg_results"
   ]
  },
  {
   "cell_type": "code",
   "execution_count": 34,
   "metadata": {},
   "outputs": [
    {
     "data": {
      "text/plain": [
       "((152, 10), (152,))"
      ]
     },
     "execution_count": 34,
     "metadata": {},
     "output_type": "execute_result"
    }
   ],
   "source": [
    "# Load the data from pkl\n",
    "cf = pd.read_pickle('../../data/processed/cf.pkl')\n",
    "# Target is producto_1_cf\n",
    "y = cf['producto_1_cf']\n",
    "# Features are all columns except producto_1_cf\n",
    "X = cf.drop(columns=['producto_1_cf'])\n",
    "# Drop all columns which are not numeric\n",
    "X = X.select_dtypes(include=['number'])\n",
    "X.shape, y.shape"
   ]
  },
  {
   "cell_type": "code",
   "execution_count": 51,
   "metadata": {},
   "outputs": [
    {
     "data": {
      "text/plain": [
       "{'fit_time': np.float64(0.018103981018066408),\n",
       " 'score_time': np.float64(0.001117396354675293),\n",
       " 'test_neg_root_mean_squared_error': np.float64(-251.98122802374883),\n",
       " 'train_neg_root_mean_squared_error': np.float64(-98.80611799546435)}"
      ]
     },
     "execution_count": 51,
     "metadata": {},
     "output_type": "execute_result"
    }
   ],
   "source": [
    "# Perform cross validation\n",
    "# Scale\n",
    "X = scale_data(X)\n",
    "model = RandomForestRegressor(n_estimators=30, random_state=42)\n",
    "cv_results = cross_validate_model(model, X, y)\n",
    "avg_results = average_cv_results(cv_results)\n",
    "avg_results"
   ]
  }
 ],
 "metadata": {
  "kernelspec": {
   "display_name": "losca-RpR7jZx6-py3.11",
   "language": "python",
   "name": "python3"
  },
  "language_info": {
   "codemirror_mode": {
    "name": "ipython",
    "version": 3
   },
   "file_extension": ".py",
   "mimetype": "text/x-python",
   "name": "python",
   "nbconvert_exporter": "python",
   "pygments_lexer": "ipython3",
   "version": "3.11.5"
  }
 },
 "nbformat": 4,
 "nbformat_minor": 2
}
